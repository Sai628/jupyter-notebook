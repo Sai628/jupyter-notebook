{
 "cells": [
  {
   "cell_type": "markdown",
   "metadata": {},
   "source": [
    "# 复杂网络分析库 NetworkX 使用教程"
   ]
  },
  {
   "cell_type": "markdown",
   "metadata": {},
   "source": [
    "NetworkX 是一个用 Python 语言开发的图论与复杂网络建模工具, 内置了常用的图与复杂网络分析算法, 可以方便的进行复杂网络数据分析、仿真建模等工作。NetworkX 支持创建简单无向图、有向图和多重图； 内置许多标准的图论算法，节点可为任意数据；支持任意的边值维度，功能丰富，简单易用。"
   ]
  },
  {
   "cell_type": "markdown",
   "metadata": {},
   "source": [
    "## 内容\n",
    "1. 创建图\n",
    "2. 节点\n",
    "3. 边\n",
    "4. 节点与边的可用值\n",
    "5. 访问边\n",
    "6. 对图、节点与边添加属性值\n",
    "  - 图属性\n",
    "  - 节点属性\n",
    "  - 边属性\n",
    "7. 有向图\n",
    "8. 多重图\n",
    "9. 图的生成与操作\n",
    "10. 分析图\n",
    "11. 图的绘制"
   ]
  },
  {
   "cell_type": "markdown",
   "metadata": {
    "collapsed": true
   },
   "source": [
    "让我们从这里开始学习使用 NetworkX."
   ]
  },
  {
   "cell_type": "markdown",
   "metadata": {},
   "source": [
    "<br/>"
   ]
  },
  {
   "cell_type": "markdown",
   "metadata": {},
   "source": [
    "先设置一下忽略一些可能的信息警告:"
   ]
  },
  {
   "cell_type": "code",
   "execution_count": 1,
   "metadata": {
    "collapsed": true
   },
   "outputs": [],
   "source": [
    "import warnings\n",
    "warnings.filterwarnings(\"ignore\", category=FutureWarning)  # ignore FutureWarnings\n",
    "warnings.filterwarnings(\"ignore\", category=DeprecationWarning)  # ignore DeprecationWarning"
   ]
  },
  {
   "cell_type": "markdown",
   "metadata": {
    "collapsed": true
   },
   "source": [
    "## 1. 创建图"
   ]
  },
  {
   "cell_type": "markdown",
   "metadata": {},
   "source": [
    "创建一个没有节点与边的空白图."
   ]
  },
  {
   "cell_type": "code",
   "execution_count": 2,
   "metadata": {
    "collapsed": true
   },
   "outputs": [],
   "source": [
    "import networkx as nx\n",
    "G = nx.Graph()"
   ]
  },
  {
   "cell_type": "markdown",
   "metadata": {},
   "source": [
    "根据定义, 图是由一堆节点(或称为顶点)以及由这些节点所确定的边(或称为链接)所构成的集合. 在 NetworkX 库中, 节点可以是任何可哈希化 (hashable) 的对象, 比如: 文本字符, 图像, XML 对象, 另一个图, 一个自定义的节点, 等等. \n",
    "\n",
    "(注意: Python 中的 None 对象不能用作图的节点. 因为在很多函数中, None 用于判断函数的可选参数是否赋值了.)"
   ]
  },
  {
   "cell_type": "markdown",
   "metadata": {},
   "source": [
    "## 2. 节点"
   ]
  },
  {
   "cell_type": "markdown",
   "metadata": {},
   "source": [
    "图 G 可以通过一些方法进行增长. NetworkX 中包含了很多的图生成方法与工具, 用于对图进行多种形式的读写.  \n",
    "我们通过一个简单的操作示例来开始学习. 你可以一次添加一个节点:"
   ]
  },
  {
   "cell_type": "code",
   "execution_count": 3,
   "metadata": {
    "collapsed": true
   },
   "outputs": [],
   "source": [
    "G.add_node(1)"
   ]
  },
  {
   "cell_type": "markdown",
   "metadata": {},
   "source": [
    "一次性添加一列的节点:"
   ]
  },
  {
   "cell_type": "code",
   "execution_count": 4,
   "metadata": {
    "collapsed": true
   },
   "outputs": [],
   "source": [
    "G.add_nodes_from([2, 3])"
   ]
  },
  {
   "cell_type": "markdown",
   "metadata": {},
   "source": [
    "或者添加任意的节点群(nbunch). 一个 nbunch 指的是任意可迭代的节点集合体, 其中它本身并非作为图中的一个节点. \n",
    "\n",
    "(比如可以是: 一个列表 list, 集合 set, 图 graph, 文件 file, 等等...)"
   ]
  },
  {
   "cell_type": "code",
   "execution_count": 5,
   "metadata": {
    "collapsed": true
   },
   "outputs": [],
   "source": [
    "H = nx.path_graph(10)\n",
    "G.add_nodes_from(H)"
   ]
  },
  {
   "cell_type": "markdown",
   "metadata": {},
   "source": [
    "注意: 现在图 G 中包含的节点, 是图 H 中的节点集合. 相反, 你可以通过下面的方法把图 H 作为图 G 的一个节点:"
   ]
  },
  {
   "cell_type": "code",
   "execution_count": 6,
   "metadata": {
    "collapsed": true
   },
   "outputs": [],
   "source": [
    "G.add_node(H)"
   ]
  },
  {
   "cell_type": "markdown",
   "metadata": {},
   "source": [
    "现在图 G 中包含了 H 作为它的一个节点. 这样的灵活性是非常强大的, 因为它允许了图中图(图的节点也是一个图), 文件图(图的节点为文件), 函数图(图的节点为函数)等等形式的图的存在."
   ]
  },
  {
   "cell_type": "markdown",
   "metadata": {},
   "source": [
    "关于如何构建你的应用, 以使得节点是有用的实体, 这是一个值得去思考的问题."
   ]
  },
  {
   "cell_type": "markdown",
   "metadata": {},
   "source": [
    "当然, 如果你喜欢的话, 你可以总是在 G 中使用唯一标识符(unique identifier), 通过标识符作为键以构建不同的字典, 去标识节点中的信息. (注意: 假如节点对象的哈希方法是依赖于节点中内容的话, 你不应该去修改节点的对象.)"
   ]
  },
  {
   "cell_type": "markdown",
   "metadata": {},
   "source": [
    "## 3. 边"
   ]
  },
  {
   "cell_type": "markdown",
   "metadata": {},
   "source": [
    "图 G 也可以通过一次添加一条边来进行增长:"
   ]
  },
  {
   "cell_type": "code",
   "execution_count": 7,
   "metadata": {
    "collapsed": true
   },
   "outputs": [],
   "source": [
    "G.add_edge(1, 2)\n",
    "e = (2, 3)\n",
    "G.add_edge(*e)  # 解包边的元组"
   ]
  },
  {
   "cell_type": "markdown",
   "metadata": {},
   "source": [
    "一次性添加一列的边:"
   ]
  },
  {
   "cell_type": "code",
   "execution_count": 8,
   "metadata": {
    "collapsed": true
   },
   "outputs": [],
   "source": [
    "G.add_edges_from([(1, 2), (1, 3)])"
   ]
  },
  {
   "cell_type": "markdown",
   "metadata": {},
   "source": [
    "或者添加任意的边群(ebunch). 一个 ebunch 指的是任意可迭代的边元组(edge-tuple)集合体. \n",
    "\n",
    "其中, 一个边元组(edge_tuple)可以是由两个节点组成的二元组. 比如: (1, 2) 表示一条边, 其中边的两个节点分别为 1 与 2;   \n",
    "或者是一个三元组, 其中元组的前两个元素表示节点, 第三个元素为边的属性字典(edge attribute dictionary). 比如: (2, 3, {'weight': 3.1415}) 表示一条包含节点2 与 3的边, 这条边有一个名为 weight 的属性, 它的值为 3.1415.\n",
    "\n",
    "我们将在后面, 再去讨论有关边的属性."
   ]
  },
  {
   "cell_type": "code",
   "execution_count": 9,
   "metadata": {
    "collapsed": true
   },
   "outputs": [],
   "source": [
    "G.add_edges_from(H.edges())  # 将图 H 中的所有边, 添加到图 G 中"
   ]
  },
  {
   "cell_type": "markdown",
   "metadata": {},
   "source": [
    "我们可以通过以下类似的方法, 去移除图中的节点或边:\n",
    "\n",
    "```\n",
    "Graph.remove_node(),\n",
    "Graph.remove_nodes_from(),\n",
    "Graph.remove_edge(),\n",
    "Graph.remove_edges_from(),\n",
    "等等...\n",
    "```"
   ]
  },
  {
   "cell_type": "code",
   "execution_count": 10,
   "metadata": {
    "collapsed": true
   },
   "outputs": [],
   "source": [
    "G.remove_node(H)"
   ]
  },
  {
   "cell_type": "markdown",
   "metadata": {},
   "source": [
    "当向图中添加之前已经存在的节点或边时, 将不会有任何的提示或反馈信息. 比如, 在清除了图 G 中全部的节点与边后:"
   ]
  },
  {
   "cell_type": "code",
   "execution_count": 11,
   "metadata": {
    "collapsed": true
   },
   "outputs": [],
   "source": [
    "G.clear()"
   ]
  },
  {
   "cell_type": "markdown",
   "metadata": {},
   "source": [
    "我们向图 G 中添加新的节点或边, NetworkX 库将对已经存在的节点/边静静地忽略掉:"
   ]
  },
  {
   "cell_type": "markdown",
   "metadata": {},
   "source": [
    " "
   ]
  },
  {
   "cell_type": "code",
   "execution_count": 12,
   "metadata": {
    "collapsed": true
   },
   "outputs": [],
   "source": [
    "G.add_edges_from([(1, 2), (1, 3)])  # 添加边1-2, 1-3\n",
    "G.add_node(1)  # 添加节点1 (因为节点1已经存在了, 这次的添加将被忽略)\n",
    "G.add_edge(1, 2)  # 添加边1-2 (因为这个边已经存在了, 这次的添加将被忽略)\n",
    "G.add_node(\"spam\")  # 添加节点 \"spam\"\n",
    "G.add_nodes_from(\"spam\")  # 添加4个节点: 's', 'p', 'a', 'm' "
   ]
  },
  {
   "cell_type": "markdown",
   "metadata": {},
   "source": [
    "此时, 图 G 中包含了8个节点以及2条边. 可以通过下面的方式查看一下:"
   ]
  },
  {
   "cell_type": "code",
   "execution_count": 13,
   "metadata": {},
   "outputs": [
    {
     "data": {
      "text/plain": [
       "8"
      ]
     },
     "execution_count": 13,
     "metadata": {},
     "output_type": "execute_result"
    }
   ],
   "source": [
    "G.number_of_nodes()"
   ]
  },
  {
   "cell_type": "code",
   "execution_count": 14,
   "metadata": {},
   "outputs": [
    {
     "data": {
      "text/plain": [
       "2"
      ]
     },
     "execution_count": 14,
     "metadata": {},
     "output_type": "execute_result"
    }
   ],
   "source": [
    "G.number_of_edges()"
   ]
  },
  {
   "cell_type": "markdown",
   "metadata": {},
   "source": [
    "我们也可以通过下面的方法, 检查一下图 G 中节点与边的具体信息:"
   ]
  },
  {
   "cell_type": "code",
   "execution_count": 15,
   "metadata": {},
   "outputs": [
    {
     "data": {
      "text/plain": [
       "['a', 1, 2, 3, 'spam', 'm', 'p', 's']"
      ]
     },
     "execution_count": 15,
     "metadata": {},
     "output_type": "execute_result"
    }
   ],
   "source": [
    "G.nodes()  # 获取图中的全部节点 (将返回一个包含全部节点标签名的数组)"
   ]
  },
  {
   "cell_type": "code",
   "execution_count": 16,
   "metadata": {},
   "outputs": [
    {
     "data": {
      "text/plain": [
       "[(1, 2), (1, 3)]"
      ]
     },
     "execution_count": 16,
     "metadata": {},
     "output_type": "execute_result"
    }
   ],
   "source": [
    "G.edges()  # 获取图中的全部边 (将返回一个数组, 其中每个元素为一个二元组, 表示一条边)"
   ]
  },
  {
   "cell_type": "code",
   "execution_count": 17,
   "metadata": {},
   "outputs": [
    {
     "data": {
      "text/plain": [
       "[2, 3]"
      ]
     },
     "execution_count": 17,
     "metadata": {},
     "output_type": "execute_result"
    }
   ],
   "source": [
    "G.neighbors(1)  # 获取节点1的邻接节点 (将返回一个数组, 包含节点1的全部邻接节点标签名)"
   ]
  },
  {
   "cell_type": "markdown",
   "metadata": {},
   "source": [
    "删除节点或边也可以使用类似的方式:"
   ]
  },
  {
   "cell_type": "code",
   "execution_count": 18,
   "metadata": {},
   "outputs": [
    {
     "data": {
      "text/plain": [
       "[1, 2, 3, 'spam']"
      ]
     },
     "execution_count": 18,
     "metadata": {},
     "output_type": "execute_result"
    }
   ],
   "source": [
    "G.remove_nodes_from(\"spam\")  # 一次性删除4个节点: 's', 'p', 'a', 'm'\n",
    "G.nodes()"
   ]
  },
  {
   "cell_type": "code",
   "execution_count": 19,
   "metadata": {},
   "outputs": [
    {
     "data": {
      "text/plain": [
       "[(1, 2)]"
      ]
     },
     "execution_count": 19,
     "metadata": {},
     "output_type": "execute_result"
    }
   ],
   "source": [
    "G.remove_edge(1, 3)  # 删除边1-3 (注意, 其中的节点1与3并不会被删除, 仅仅是删除节点间的边)\n",
    "G.edges()"
   ]
  },
  {
   "cell_type": "code",
   "execution_count": 20,
   "metadata": {},
   "outputs": [
    {
     "data": {
      "text/plain": [
       "[1, 2, 3, 'spam']"
      ]
     },
     "execution_count": 20,
     "metadata": {},
     "output_type": "execute_result"
    }
   ],
   "source": [
    "G.nodes()  # 检查一下现在图 G 中的节点情况"
   ]
  },
  {
   "cell_type": "markdown",
   "metadata": {},
   "source": [
    "当创建一个图结构, 在实例化图的类对象时, 你可以通过多种格式方式, 指定你初始化时的数据:"
   ]
  },
  {
   "cell_type": "code",
   "execution_count": 21,
   "metadata": {},
   "outputs": [
    {
     "data": {
      "text/plain": [
       "[(1, 2), (2, 1)]"
      ]
     },
     "execution_count": 21,
     "metadata": {},
     "output_type": "execute_result"
    }
   ],
   "source": [
    "H = nx.DiGraph(G)  # 创建一个有向图, 通过使用图 G 中的连接关系(包括节点与边的信息)\n",
    "H.edges()  # 获取图 H 中的边"
   ]
  },
  {
   "cell_type": "markdown",
   "metadata": {},
   "source": [
    "注意, 这里的 H 是一个有向图, 在输出边信息时, (1, 2) 与 (2, 1) 是两条不同的边.  \n",
    "(1, 2) 表示从节点1指向节点2的边; 而(2, 1) 表示从节点2指向节点1的边. 其中节点的顺序暗含了边的指向."
   ]
  },
  {
   "cell_type": "code",
   "execution_count": 22,
   "metadata": {},
   "outputs": [
    {
     "data": {
      "text/plain": [
       "[(0, 1), (1, 2), (2, 3)]"
      ]
     },
     "execution_count": 22,
     "metadata": {},
     "output_type": "execute_result"
    }
   ],
   "source": [
    "edge_list = [(0, 1), (1, 2), (2, 3)]\n",
    "H = nx.Graph(edge_list)\n",
    "H.edges()"
   ]
  },
  {
   "cell_type": "markdown",
   "metadata": {},
   "source": [
    "## 4. 节点与边的可用值"
   ]
  },
  {
   "cell_type": "markdown",
   "metadata": {},
   "source": [
    "你可能注意到了, 节点与边在 NetworkX 对象中是未指定类型的. 这可以让你自由地去使用有意义的条项作为节点与边.  \n",
    "最常用的选择是数字或字符串, 但其实, 节点可以是任意的可哈希化(hashable)对象(None除外).  \n",
    "而使用 G.add_edge(n1, n2, object=x) 方法, 边可以是与对象 x 相关的任意东西."
   ]
  },
  {
   "cell_type": "markdown",
   "metadata": {},
   "source": [
    "例如, 节点 n1 与 n2 可以为RCSB蛋白质数据银行(RCSB Protein Data Bank)中的蛋白质对象(protein objects),  \n",
    "而边 x 可以表示详述它们相互作用的实验观测记录中的一条 XML 记录."
   ]
  },
  {
   "cell_type": "markdown",
   "metadata": {},
   "source": [
    "我们可以发现, 能够随意的定义节点和边的对象类型是相当有用的. 但除非你对于 Python 非常熟悉, 否则随意的滥用这种自由性的话,  \n",
    "将很可能会导致不可意料的问题出现.  \n",
    "如果你有疑惑的话, 你应考虑使用 convert_node_labels_to_integers() 方法, 去得到一个带有数字标签的传统图."
   ]
  },
  {
   "cell_type": "markdown",
   "metadata": {},
   "source": [
    "## 5. 访问边"
   ]
  },
  {
   "cell_type": "markdown",
   "metadata": {},
   "source": [
    "除了方法 Graph.nodes(), Graph.edges() 与 Graph.neighbors(), 当你只是想遍历一个图时, 你可以使用迭代器的方式.  \n",
    "比如: Graph.edges_iter(), 这可以使得你免于创建大量的列表结构数据, 从而节省内存使用.\n",
    "\n",
    "通过下标符号, 也可以快速的访问图的数据结构."
   ]
  },
  {
   "cell_type": "markdown",
   "metadata": {},
   "source": [
    "__Warning: 不要去修改返回的字典值--它是图数据结构的一部分, 直接操纵它的话, 可能会让图处于一个数据不一致的状态.__"
   ]
  },
  {
   "cell_type": "code",
   "execution_count": 23,
   "metadata": {},
   "outputs": [
    {
     "data": {
      "text/plain": [
       "{2: {}}"
      ]
     },
     "execution_count": 23,
     "metadata": {},
     "output_type": "execute_result"
    }
   ],
   "source": [
    "G[1]  # 警告: 不要修改返回的结果字典值"
   ]
  },
  {
   "cell_type": "code",
   "execution_count": 24,
   "metadata": {},
   "outputs": [
    {
     "data": {
      "text/plain": [
       "{}"
      ]
     },
     "execution_count": 24,
     "metadata": {},
     "output_type": "execute_result"
    }
   ],
   "source": [
    "G[1][2]"
   ]
  },
  {
   "cell_type": "markdown",
   "metadata": {
    "collapsed": true
   },
   "source": [
    "假设边已经存在了, 你可以通过下标符号的方式安全的去设置边的属性值:"
   ]
  },
  {
   "cell_type": "code",
   "execution_count": 25,
   "metadata": {
    "collapsed": true
   },
   "outputs": [],
   "source": [
    "G.add_edge(1, 3)\n",
    "G[1][3]['color'] = 'blue'"
   ]
  },
  {
   "cell_type": "markdown",
   "metadata": {},
   "source": [
    "通过邻接迭代器, 可以实现全部边的快速访问. 需要注意的是, 对于无向图, 这种方式实际上会访问每条边两次."
   ]
  },
  {
   "cell_type": "code",
   "execution_count": 26,
   "metadata": {},
   "outputs": [
    {
     "name": "stdout",
     "output_type": "stream",
     "text": [
      "(1, 2, 0.125)\n",
      "(2, 1, 0.125)\n",
      "(3, 4, 0.375)\n",
      "(4, 3, 0.375)\n"
     ]
    }
   ],
   "source": [
    "FG = nx.Graph()\n",
    "FG.add_weighted_edges_from([(1, 2, 0.125), (1, 3, 0.75), (2, 4, 1.2), (3, 4, 0.375)])\n",
    "for n, nbrs in FG.adjacency_iter():\n",
    "    for nbr, eattr in nbrs.items():\n",
    "        data = eattr['weight']\n",
    "        if data < 0.5:\n",
    "            print('(%d, %d, %.3f)' % (n, nbr, data))"
   ]
  },
  {
   "cell_type": "markdown",
   "metadata": {},
   "source": [
    "## 6. 对图、节点与边添加属性值"
   ]
  },
  {
   "cell_type": "markdown",
   "metadata": {
    "collapsed": true
   },
   "source": [
    "权重、标签、颜色, 或者你喜欢的任意 Python 对象, 都可以作为图、节点与边的属性值.\n",
    "\n",
    "每一个图、节点与边, 都可以通过相关联的属性字典(键必须是可哈希化), 持有 键/值 属性对.  \n",
    "它们默认为空的, 但可以使用 add_edge, add_node 方法添加或修改属性. 或者直接操纵图 G 中的属性字典值, 像 G.graph, G.node 与 G.edge."
   ]
  },
  {
   "cell_type": "markdown",
   "metadata": {},
   "source": [
    "### 6.1 图属性"
   ]
  },
  {
   "cell_type": "markdown",
   "metadata": {
    "collapsed": true
   },
   "source": [
    "当创建一个新图时, 赋值图属性:"
   ]
  },
  {
   "cell_type": "code",
   "execution_count": 27,
   "metadata": {},
   "outputs": [
    {
     "data": {
      "text/plain": [
       "{'day': 'Friday'}"
      ]
     },
     "execution_count": 27,
     "metadata": {},
     "output_type": "execute_result"
    }
   ],
   "source": [
    "G = nx.Graph(day='Friday')\n",
    "G.graph"
   ]
  },
  {
   "cell_type": "markdown",
   "metadata": {
    "collapsed": true
   },
   "source": [
    "或者你可以晚点再修改属性:"
   ]
  },
  {
   "cell_type": "code",
   "execution_count": 28,
   "metadata": {},
   "outputs": [
    {
     "data": {
      "text/plain": [
       "{'day': 'Monday'}"
      ]
     },
     "execution_count": 28,
     "metadata": {},
     "output_type": "execute_result"
    }
   ],
   "source": [
    "G.graph['day'] = 'Monday'\n",
    "G.graph"
   ]
  },
  {
   "cell_type": "markdown",
   "metadata": {},
   "source": [
    "### 6.2 节点属性"
   ]
  },
  {
   "cell_type": "markdown",
   "metadata": {
    "collapsed": true
   },
   "source": [
    "通过 add_node(), add_nodes_from() 或者 G.node 添加节点属性:"
   ]
  },
  {
   "cell_type": "code",
   "execution_count": 29,
   "metadata": {},
   "outputs": [
    {
     "data": {
      "text/plain": [
       "{'time': '5pm'}"
      ]
     },
     "execution_count": 29,
     "metadata": {},
     "output_type": "execute_result"
    }
   ],
   "source": [
    "G.add_node(1, time='5pm')\n",
    "G.add_nodes_from([3], time='2pm')\n",
    "G.node[1]"
   ]
  },
  {
   "cell_type": "code",
   "execution_count": 30,
   "metadata": {},
   "outputs": [
    {
     "data": {
      "text/plain": [
       "[(1, {'room': 714, 'time': '5pm'}), (3, {'time': '2pm'})]"
      ]
     },
     "execution_count": 30,
     "metadata": {},
     "output_type": "execute_result"
    }
   ],
   "source": [
    "G.node[1]['room'] = 714\n",
    "G.nodes(data=True)"
   ]
  },
  {
   "cell_type": "markdown",
   "metadata": {},
   "source": [
    "### 6.3 边属性"
   ]
  },
  {
   "cell_type": "markdown",
   "metadata": {
    "collapsed": true
   },
   "source": [
    "通过 add_edge(), add_edges_from(), 下标符号, 或者 G.edge 添加节点属性:"
   ]
  },
  {
   "cell_type": "code",
   "execution_count": 31,
   "metadata": {
    "collapsed": true
   },
   "outputs": [],
   "source": [
    "G.add_edge(1, 2, weight=4.7)\n",
    "G.add_edges_from([(3, 4), (4, 5)], color='red')\n",
    "G.add_edges_from([(1, 2, {'color': 'blue'}), (2, 3, {'weight': 8})])\n",
    "G[1][2]['weight'] = 4.7\n",
    "G.edge[1][2]['weight'] = 4"
   ]
  },
  {
   "cell_type": "markdown",
   "metadata": {
    "collapsed": true
   },
   "source": [
    "特性属性\"weight\"应为数值型, 并持有需要加权边的算法使用的值."
   ]
  },
  {
   "cell_type": "markdown",
   "metadata": {},
   "source": [
    "## 7. 有向图"
   ]
  },
  {
   "cell_type": "markdown",
   "metadata": {
    "collapsed": true
   },
   "source": [
    "有向图类针对有向边, 提供了额外的方法.   \n",
    "比如:\n",
    "- 出边 DiGraph.out_edges(), \n",
    "- 入度 DiGraph.in_degree(), \n",
    "- 前驱节点 DiGraph.predecessors(), \n",
    "- 后继节点 DiGraph.successors(),\n",
    "\n",
    "等等.\n",
    "\n",
    "为使算法对于两个类(无向图与有向图)都可以简易地使用, 有向图版的邻接节点方法 neighbors(), 等效于后继节点 successors();  \n",
    "而度数 degree(), 则等效于入度 in_degree() 与出度 out_degree() 的值之和.  \n",
    "尽管它们有时看上去感觉是不同的."
   ]
  },
  {
   "cell_type": "code",
   "execution_count": 32,
   "metadata": {
    "collapsed": true
   },
   "outputs": [],
   "source": [
    "DG = nx.DiGraph()\n",
    "DG.add_weighted_edges_from([(1, 2, 0.5), (3, 1, 0.75)])"
   ]
  },
  {
   "cell_type": "code",
   "execution_count": 33,
   "metadata": {},
   "outputs": [
    {
     "data": {
      "text/plain": [
       "0.5"
      ]
     },
     "execution_count": 33,
     "metadata": {},
     "output_type": "execute_result"
    }
   ],
   "source": [
    "DG.out_degree(1, weight='weight')  # 出度"
   ]
  },
  {
   "cell_type": "code",
   "execution_count": 34,
   "metadata": {},
   "outputs": [
    {
     "data": {
      "text/plain": [
       "0.75"
      ]
     },
     "execution_count": 34,
     "metadata": {},
     "output_type": "execute_result"
    }
   ],
   "source": [
    "DG.in_degree(1, weight='weight')  # 入度"
   ]
  },
  {
   "cell_type": "code",
   "execution_count": 35,
   "metadata": {},
   "outputs": [
    {
     "data": {
      "text/plain": [
       "1.25"
      ]
     },
     "execution_count": 35,
     "metadata": {},
     "output_type": "execute_result"
    }
   ],
   "source": [
    "DG.degree(1, weight='weight')  # 度(出度+入度)"
   ]
  },
  {
   "cell_type": "code",
   "execution_count": 36,
   "metadata": {},
   "outputs": [
    {
     "data": {
      "text/plain": [
       "[2]"
      ]
     },
     "execution_count": 36,
     "metadata": {},
     "output_type": "execute_result"
    }
   ],
   "source": [
    "DG.successors(1)  # 后继节点"
   ]
  },
  {
   "cell_type": "code",
   "execution_count": 37,
   "metadata": {},
   "outputs": [
    {
     "data": {
      "text/plain": [
       "[3]"
      ]
     },
     "execution_count": 37,
     "metadata": {},
     "output_type": "execute_result"
    }
   ],
   "source": [
    "DG.predecessors(1)  # 前继节点"
   ]
  },
  {
   "cell_type": "code",
   "execution_count": 38,
   "metadata": {},
   "outputs": [
    {
     "data": {
      "text/plain": [
       "[2]"
      ]
     },
     "execution_count": 38,
     "metadata": {},
     "output_type": "execute_result"
    }
   ],
   "source": [
    "DG.neighbors(1)  #  邻接节点"
   ]
  },
  {
   "cell_type": "markdown",
   "metadata": {
    "collapsed": true
   },
   "source": [
    "有些算法只适用于有向图, 而有些则对于有向图没有很好地定义. 实际上, 将有向图与无向图混合在一起使用, 是一个危险的行为.   \n",
    "如果为了某些测量值, 你想把有向图当作无向图来对待, 这时你更应该是使用 Graph.to_undirected() 方法来转换它,\n",
    "\n",
    "或者使用:"
   ]
  },
  {
   "cell_type": "code",
   "execution_count": 39,
   "metadata": {
    "collapsed": true
   },
   "outputs": [],
   "source": [
    "H = nx.Graph(G)  # 转换图 G 为无向图"
   ]
  },
  {
   "cell_type": "markdown",
   "metadata": {},
   "source": [
    "## 8. 多重图"
   ]
  },
  {
   "cell_type": "markdown",
   "metadata": {
    "collapsed": true
   },
   "source": [
    "NetworkX 为图提供了允许在任意的一对节点之间添加多边条的类. 多重图 MultiGraph 与多重有向图 MultiDiGraph 允许你添加相同的边两次,   \n",
    "其中可能分别附带不同的边数据. 这对于某个应用来说是很强大的, 但许多算法在这些图上并没有很好的定义. \"最短路径\"就是一个例子. \n",
    "\n",
    "例如 MultiGraph.degree() 方法, 是定义良好的。否则，你应该转换成一个标准图，以使得度量是定义良好的。"
   ]
  },
  {
   "cell_type": "code",
   "execution_count": 40,
   "metadata": {},
   "outputs": [
    {
     "data": {
      "text/plain": [
       "{1: 1.25, 2: 1.75, 3: 0.5}"
      ]
     },
     "execution_count": 40,
     "metadata": {},
     "output_type": "execute_result"
    }
   ],
   "source": [
    "MG = nx.MultiGraph()\n",
    "MG.add_weighted_edges_from([(1, 2, 0.5), (1, 2, 0.75), (2, 3, 0.5)])\n",
    "MG.degree(weight='weight')"
   ]
  },
  {
   "cell_type": "code",
   "execution_count": 41,
   "metadata": {},
   "outputs": [
    {
     "name": "stdout",
     "output_type": "stream",
     "text": [
      "(1, '-->', {2: {0: {'weight': 0.5}, 1: {'weight': 0.75}}})\n",
      "(2, '-->', {1: {0: {'weight': 0.5}, 1: {'weight': 0.75}}, 3: {0: {'weight': 0.5}}})\n",
      "(3, '-->', {2: {0: {'weight': 0.5}}})\n"
     ]
    }
   ],
   "source": [
    "GG = nx.Graph()\n",
    "for n, nbrs in MG.adjacency_iter():\n",
    "    print(n, '-->', nbrs)\n",
    "    for nbr, edict in nbrs.items():\n",
    "        min_value = min([d['weight'] for d in edict.values()])\n",
    "        GG.add_edge(n, nbr, weight=min_value)"
   ]
  },
  {
   "cell_type": "code",
   "execution_count": 42,
   "metadata": {},
   "outputs": [
    {
     "data": {
      "text/plain": [
       "[1, 2, 3]"
      ]
     },
     "execution_count": 42,
     "metadata": {},
     "output_type": "execute_result"
    }
   ],
   "source": [
    "nx.shortest_path(GG, 1, 3)"
   ]
  },
  {
   "cell_type": "markdown",
   "metadata": {},
   "source": [
    "## 9. 图的生成与操作"
   ]
  },
  {
   "cell_type": "markdown",
   "metadata": {
    "collapsed": true
   },
   "source": [
    "在构建图结构时, 除了一个一个节点, 或者一边一边条的方式, 也可以通过下面的方式:"
   ]
  },
  {
   "cell_type": "markdown",
   "metadata": {},
   "source": [
    "#### 1. 经典的图操作, 例如:\n",
    "\n",
    "```\n",
    "subgraph(G, nbunch)        - 根据节点群nbunch, 获取图 G 的子图\n",
    "union(G1, G2)              - 连结多个图成为一个图\n",
    "disjoint_union(G1, G2)     - 将多个图中不同的节点集, 连结为一个新的图\n",
    "cartesian_product(G1, G2)  - 返回笛卡尔积图\n",
    "compose(G1, G2)            - 将多个图中的共同节点, 合成一个新的图\n",
    "complement(G)              - 实现图\n",
    "create_empty_copy(G)       - 根据图 G 的图类型, 返回一个空的拷贝\n",
    "convert_to_undirected(G)   - 获取图 G 对应的无向图\n",
    "convert_to_directed(G)     - 获取图 G 对应的有向图\n",
    "```"
   ]
  },
  {
   "cell_type": "markdown",
   "metadata": {},
   "source": [
    "#### 2. 创建经典的小众图, 例如:\n",
    "\n",
    "```\n",
    "petersen = nx.petersen_graph()    # 彼得森图\n",
    "tutte = nx.tutte_graph()          # 塔特图\n",
    "maze = nx.sedgewick_maze_graph()  # 塞奇威克迷宫图\n",
    "tet = nx.tetrahedral_graph()      # 四面体图\n",
    "```"
   ]
  },
  {
   "cell_type": "markdown",
   "metadata": {},
   "source": [
    "#### 3. 使用构造生成器创建经典图, 例如:\n",
    "\n",
    "```\n",
    "K_5 = nx.complete_graph(5)                   # 完全图\n",
    "K_3_5 = nx.complete_bipartite_graph(3, 5)    # 完全二分图\n",
    "barbell = nx.barbell_graph(10, 10)           # 杠铃图\n",
    "lollipop = nx.lollipop_graph(10, 20)         # 棒棒糖图\n",
    "```"
   ]
  },
  {
   "cell_type": "markdown",
   "metadata": {},
   "source": [
    "#### 4. 使用随机图生成器, 例如:\n",
    "\n",
    "```\n",
    "er = nx.erdos_renyi_graph(100, 0.15)      # ER随机图\n",
    "ws = nx.watts_strogatz_graph(30, 3, 0.1)  # WS小世界网络\n",
    "ba = nx.barabasi_albert_graph(100, 5)     # BA无标度网络\n",
    "red = nx.random_lobster(100, 0.9, 0.9)    # lobster随机图\n",
    "```"
   ]
  },
  {
   "cell_type": "markdown",
   "metadata": {},
   "source": [
    "#### 5. 以常用的图格式读取存储在文件中的图, 比如: 边列表, 邻接表, GML, GraphML, pickle, LEDA与其它等等.\n",
    "\n",
    "```\n",
    "nx.write_gml(red, \"path.to.file\")\n",
    "my_graph = nx.read_gml(\"path.to.file\")\n",
    "```"
   ]
  },
  {
   "cell_type": "markdown",
   "metadata": {},
   "source": [
    "## 10. 分析图"
   ]
  },
  {
   "cell_type": "markdown",
   "metadata": {},
   "source": [
    "可以使用多种的图理论方法, 对图的结构进行分析. 比如:"
   ]
  },
  {
   "cell_type": "code",
   "execution_count": 43,
   "metadata": {
    "collapsed": true
   },
   "outputs": [],
   "source": [
    "G = nx.Graph()\n",
    "G.add_edges_from([(1, 2), (1, 3)])\n",
    "G.add_node(\"spam\")  # 添加节点 \"spam\""
   ]
  },
  {
   "cell_type": "code",
   "execution_count": 44,
   "metadata": {},
   "outputs": [
    {
     "data": {
      "text/plain": [
       "[[1, 2, 3], ['spam']]"
      ]
     },
     "execution_count": 44,
     "metadata": {},
     "output_type": "execute_result"
    }
   ],
   "source": [
    "[list(c) for c in nx.connected_components(G)]"
   ]
  },
  {
   "cell_type": "code",
   "execution_count": 45,
   "metadata": {},
   "outputs": [
    {
     "data": {
      "text/plain": [
       "[0, 1, 1, 2]"
      ]
     },
     "execution_count": 45,
     "metadata": {},
     "output_type": "execute_result"
    }
   ],
   "source": [
    "sorted(nx.degree(G).values())"
   ]
  },
  {
   "cell_type": "code",
   "execution_count": 46,
   "metadata": {},
   "outputs": [
    {
     "data": {
      "text/plain": [
       "{1: 0.0, 2: 0.0, 3: 0.0, 'spam': 0.0}"
      ]
     },
     "execution_count": 46,
     "metadata": {},
     "output_type": "execute_result"
    }
   ],
   "source": [
    "nx.clustering(G)"
   ]
  },
  {
   "cell_type": "markdown",
   "metadata": {},
   "source": [
    "以下方法返回节点的属性, 其中字典的键名为节点的标签值:"
   ]
  },
  {
   "cell_type": "code",
   "execution_count": 47,
   "metadata": {},
   "outputs": [
    {
     "data": {
      "text/plain": [
       "{1: 2, 2: 1, 3: 1, 'spam': 0}"
      ]
     },
     "execution_count": 47,
     "metadata": {},
     "output_type": "execute_result"
    }
   ],
   "source": [
    "nx.degree(G)"
   ]
  },
  {
   "cell_type": "markdown",
   "metadata": {},
   "source": [
    "对于特定的节点值, 你可以通过传入单一的节点或者一个节点群(nbunch)作为参数.  \n",
    "如果指定的是单一节点, 将返回单一的值;  \n",
    "如果是节点群(nbunch)的话, 将返回一个字典. 其中字典中的键对应为节点群的中每一元素."
   ]
  },
  {
   "cell_type": "code",
   "execution_count": 48,
   "metadata": {},
   "outputs": [
    {
     "data": {
      "text/plain": [
       "2"
      ]
     },
     "execution_count": 48,
     "metadata": {},
     "output_type": "execute_result"
    }
   ],
   "source": [
    "nx.degree(G, 1)"
   ]
  },
  {
   "cell_type": "code",
   "execution_count": 49,
   "metadata": {},
   "outputs": [
    {
     "data": {
      "text/plain": [
       "2"
      ]
     },
     "execution_count": 49,
     "metadata": {},
     "output_type": "execute_result"
    }
   ],
   "source": [
    "G.degree(1)"
   ]
  },
  {
   "cell_type": "code",
   "execution_count": 50,
   "metadata": {},
   "outputs": [
    {
     "data": {
      "text/plain": [
       "{1: 2, 2: 1}"
      ]
     },
     "execution_count": 50,
     "metadata": {},
     "output_type": "execute_result"
    }
   ],
   "source": [
    "G.degree([1, 2])"
   ]
  },
  {
   "cell_type": "code",
   "execution_count": 51,
   "metadata": {},
   "outputs": [
    {
     "data": {
      "text/plain": [
       "[1, 2]"
      ]
     },
     "execution_count": 51,
     "metadata": {},
     "output_type": "execute_result"
    }
   ],
   "source": [
    "sorted(G.degree([1, 2]).values())"
   ]
  },
  {
   "cell_type": "code",
   "execution_count": 52,
   "metadata": {},
   "outputs": [
    {
     "data": {
      "text/plain": [
       "[0, 1, 1, 2]"
      ]
     },
     "execution_count": 52,
     "metadata": {},
     "output_type": "execute_result"
    }
   ],
   "source": [
    "sorted(G.degree().values())"
   ]
  },
  {
   "cell_type": "markdown",
   "metadata": {},
   "source": [
    "## 11. 绘制图"
   ]
  },
  {
   "cell_type": "markdown",
   "metadata": {},
   "source": [
    "NetworkX 主要并非是一个图的绘制库, 但它其中包含了开源的软件库 Graphviz, 底层通过使用 Matplotlib 的接口, 去实现图的绘制.  \n",
    "绘制功能作为软件包 networkx.drawing 的一部分, 你可以在有需要的时候导入它."
   ]
  },
  {
   "cell_type": "markdown",
   "metadata": {},
   "source": [
    "注意: NetworkX 中的绘制库, 现在还没兼容 Python3.0 及以上的版本."
   ]
  },
  {
   "cell_type": "markdown",
   "metadata": {},
   "source": [
    "首先, 导入 mathplotlib 中的 plot 接口(或者 pylab 也可以):"
   ]
  },
  {
   "cell_type": "code",
   "execution_count": 53,
   "metadata": {
    "collapsed": true
   },
   "outputs": [],
   "source": [
    "import matplotlib.pyplot as plt"
   ]
  },
  {
   "cell_type": "markdown",
   "metadata": {},
   "source": [
    "为了测试 networkx.drawing 是否已成功导入, 可以通过下面的方式绘制图 G 试下:"
   ]
  },
  {
   "cell_type": "code",
   "execution_count": 55,
   "metadata": {},
   "outputs": [],
   "source": [
    "nx.draw(G)\n",
    "# nx.draw_random(G)\n",
    "# nx.draw_circular(G)\n",
    "# nx.draw_spectral(G)"
   ]
  },
  {
   "cell_type": "code",
   "execution_count": 56,
   "metadata": {},
   "outputs": [
    {
     "data": {
      "image/png": "[encoded data removed]",
      "text/plain": [
       "<matplotlib.figure.Figure at 0x105761250>"
      ]
     },
     "metadata": {},
     "output_type": "display_data"
    }
   ],
   "source": [
    "plt.show()  # 需要调用 show() 方法, 才能显示出绘制的图"
   ]
  },
  {
   "cell_type": "markdown",
   "metadata": {},
   "source": [
    "保存绘制的图到文件中, 可以使用下面的方式:"
   ]
  },
  {
   "cell_type": "code",
   "execution_count": 57,
   "metadata": {
    "collapsed": true
   },
   "outputs": [],
   "source": [
    "nx.draw(G)\n",
    "plt.savefig(\"temp_file_g.png\")"
   ]
  },
  {
   "cell_type": "markdown",
   "metadata": {},
   "source": [
    "以上将写文件 \"temp_file_g.png\" 到本地目录下.  \n",
    "若 Graphviz 与 PyGraphviz, 或者 pydot 库在你的系统中是可用的话, 你也可以使用下面的方式保存图到文件中:"
   ]
  },
  {
   "cell_type": "code",
   "execution_count": 58,
   "metadata": {},
   "outputs": [
    {
     "name": "stdout",
     "output_type": "stream",
     "text": [
      "('AttributeError:', AttributeError(\"'module' object has no attribute 'graphviz_layout'\",))\n"
     ]
    }
   ],
   "source": [
    "try:\n",
    "    nx.draw_graphviz(G)\n",
    "    nx.write_dot(G, 'temp_file_g.dot')\n",
    "except AttributeError as e:\n",
    "    if \"graphviz_layout\" in str(e):\n",
    "        print('AttributeError:', e)\n",
    "except ImportError as e:\n",
    "    if \"pygraphviz\" in str(e):\n",
    "        print(\"ImportError:\", e)"
   ]
  }
 ],
 "metadata": {
  "kernelspec": {
   "display_name": "Python 2",
   "language": "python",
   "name": "python2"
  },
  "language_info": {
   "codemirror_mode": {
    "name": "ipython",
    "version": 2
   },
   "file_extension": ".py",
   "mimetype": "text/x-python",
   "name": "python",
   "nbconvert_exporter": "python",
   "pygments_lexer": "ipython2",
   "version": "2.7.13"
  }
 },
 "nbformat": 4,
 "nbformat_minor": 2
}
