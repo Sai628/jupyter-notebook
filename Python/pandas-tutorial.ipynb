{
 "cells": [
  {
   "cell_type": "code",
   "execution_count": 1,
   "metadata": {
    "collapsed": true
   },
   "outputs": [],
   "source": [
    "import pandas as pd\n",
    "import numpy as np\n",
    "import matplotlib.pyplot as plt"
   ]
  },
  {
   "cell_type": "markdown",
   "metadata": {},
   "source": [
    "# 创建对象"
   ]
  },
  {
   "cell_type": "markdown",
   "metadata": {},
   "source": [
    "###  使用传递的值列表序列来创建序列, 让 pandas 创建默认整数索引"
   ]
  },
  {
   "cell_type": "code",
   "execution_count": 2,
   "metadata": {
    "collapsed": true
   },
   "outputs": [],
   "source": [
    "s = pd.Series([1, 3, 5, np.nan, 6, 8])"
   ]
  },
  {
   "cell_type": "code",
   "execution_count": 3,
   "metadata": {},
   "outputs": [
    {
     "data": {
      "text/plain": [
       "0    1.0\n",
       "1    3.0\n",
       "2    5.0\n",
       "3    NaN\n",
       "4    6.0\n",
       "5    8.0\n",
       "dtype: float64"
      ]
     },
     "execution_count": 3,
     "metadata": {},
     "output_type": "execute_result"
    }
   ],
   "source": [
    "s"
   ]
  },
  {
   "cell_type": "markdown",
   "metadata": {},
   "source": [
    "### 使用传递的numpy数组创建数据帧,并使用日期索引和标记列:"
   ]
  },
  {
   "cell_type": "code",
   "execution_count": 4,
   "metadata": {
    "collapsed": true
   },
   "outputs": [],
   "source": [
    "dates = pd.date_range('20130101', periods=6)"
   ]
  },
  {
   "cell_type": "code",
   "execution_count": 5,
   "metadata": {},
   "outputs": [
    {
     "data": {
      "text/plain": [
       "DatetimeIndex(['2013-01-01', '2013-01-02', '2013-01-03', '2013-01-04',\n",
       "               '2013-01-05', '2013-01-06'],\n",
       "              dtype='datetime64[ns]', freq='D')"
      ]
     },
     "execution_count": 5,
     "metadata": {},
     "output_type": "execute_result"
    }
   ],
   "source": [
    "dates"
   ]
  },
  {
   "cell_type": "code",
   "execution_count": 6,
   "metadata": {
    "collapsed": true
   },
   "outputs": [],
   "source": [
    "df = pd.DataFrame(np.random.randn(6, 4), index=dates, columns=list('ABCD'))"
   ]
  },
  {
   "cell_type": "code",
   "execution_count": 7,
   "metadata": {},
   "outputs": [
    {
     "data": {
      "text/html": [
       "<div>\n",
       "<style>\n",
       "    .dataframe thead tr:only-child th {\n",
       "        text-align: right;\n",
       "    }\n",
       "\n",
       "    .dataframe thead th {\n",
       "        text-align: left;\n",
       "    }\n",
       "\n",
       "    .dataframe tbody tr th {\n",
       "        vertical-align: top;\n",
       "    }\n",
       "</style>\n",
       "<table border=\"1\" class=\"dataframe\">\n",
       "  <thead>\n",
       "    <tr style=\"text-align: right;\">\n",
       "      <th></th>\n",
       "      <th>A</th>\n",
       "      <th>B</th>\n",
       "      <th>C</th>\n",
       "      <th>D</th>\n",
       "    </tr>\n",
       "  </thead>\n",
       "  <tbody>\n",
       "    <tr>\n",
       "      <th>2013-01-01</th>\n",
       "      <td>0.830988</td>\n",
       "      <td>0.211301</td>\n",
       "      <td>-0.926818</td>\n",
       "      <td>-0.613411</td>\n",
       "    </tr>\n",
       "    <tr>\n",
       "      <th>2013-01-02</th>\n",
       "      <td>-1.314992</td>\n",
       "      <td>0.532977</td>\n",
       "      <td>1.192366</td>\n",
       "      <td>-1.106847</td>\n",
       "    </tr>\n",
       "    <tr>\n",
       "      <th>2013-01-03</th>\n",
       "      <td>0.890640</td>\n",
       "      <td>-1.036566</td>\n",
       "      <td>-2.189510</td>\n",
       "      <td>-0.397050</td>\n",
       "    </tr>\n",
       "    <tr>\n",
       "      <th>2013-01-04</th>\n",
       "      <td>1.565294</td>\n",
       "      <td>-0.901578</td>\n",
       "      <td>1.148267</td>\n",
       "      <td>0.287584</td>\n",
       "    </tr>\n",
       "    <tr>\n",
       "      <th>2013-01-05</th>\n",
       "      <td>0.180890</td>\n",
       "      <td>2.301889</td>\n",
       "      <td>-0.003075</td>\n",
       "      <td>0.478628</td>\n",
       "    </tr>\n",
       "    <tr>\n",
       "      <th>2013-01-06</th>\n",
       "      <td>-0.050440</td>\n",
       "      <td>-0.840614</td>\n",
       "      <td>-0.547810</td>\n",
       "      <td>-0.396750</td>\n",
       "    </tr>\n",
       "  </tbody>\n",
       "</table>\n",
       "</div>"
      ],
      "text/plain": [
       "                   A         B         C         D\n",
       "2013-01-01  0.830988  0.211301 -0.926818 -0.613411\n",
       "2013-01-02 -1.314992  0.532977  1.192366 -1.106847\n",
       "2013-01-03  0.890640 -1.036566 -2.189510 -0.397050\n",
       "2013-01-04  1.565294 -0.901578  1.148267  0.287584\n",
       "2013-01-05  0.180890  2.301889 -0.003075  0.478628\n",
       "2013-01-06 -0.050440 -0.840614 -0.547810 -0.396750"
      ]
     },
     "execution_count": 7,
     "metadata": {},
     "output_type": "execute_result"
    }
   ],
   "source": [
    "df"
   ]
  },
  {
   "cell_type": "markdown",
   "metadata": {},
   "source": [
    "### 使用传递的可转换序列的字典对象创建数据帧:"
   ]
  },
  {
   "cell_type": "code",
   "execution_count": 8,
   "metadata": {
    "collapsed": true
   },
   "outputs": [],
   "source": [
    "df2 = pd.DataFrame({\n",
    "    'A': 1.,\n",
    "    'B': pd.Timestamp('20130101'),\n",
    "    'C': pd.Series(1, index=list(range(4)), dtype='float32'),\n",
    "    'D': np.array([3] * 4, dtype='int32'),\n",
    "    'E': pd.Categorical(['test', 'train', 'test', 'train']),\n",
    "    'F': 'foo'\n",
    "})"
   ]
  },
  {
   "cell_type": "code",
   "execution_count": 9,
   "metadata": {},
   "outputs": [
    {
     "data": {
      "text/html": [
       "<div>\n",
       "<style>\n",
       "    .dataframe thead tr:only-child th {\n",
       "        text-align: right;\n",
       "    }\n",
       "\n",
       "    .dataframe thead th {\n",
       "        text-align: left;\n",
       "    }\n",
       "\n",
       "    .dataframe tbody tr th {\n",
       "        vertical-align: top;\n",
       "    }\n",
       "</style>\n",
       "<table border=\"1\" class=\"dataframe\">\n",
       "  <thead>\n",
       "    <tr style=\"text-align: right;\">\n",
       "      <th></th>\n",
       "      <th>A</th>\n",
       "      <th>B</th>\n",
       "      <th>C</th>\n",
       "      <th>D</th>\n",
       "      <th>E</th>\n",
       "      <th>F</th>\n",
       "    </tr>\n",
       "  </thead>\n",
       "  <tbody>\n",
       "    <tr>\n",
       "      <th>0</th>\n",
       "      <td>1.0</td>\n",
       "      <td>2013-01-01</td>\n",
       "      <td>1.0</td>\n",
       "      <td>3</td>\n",
       "      <td>test</td>\n",
       "      <td>foo</td>\n",
       "    </tr>\n",
       "    <tr>\n",
       "      <th>1</th>\n",
       "      <td>1.0</td>\n",
       "      <td>2013-01-01</td>\n",
       "      <td>1.0</td>\n",
       "      <td>3</td>\n",
       "      <td>train</td>\n",
       "      <td>foo</td>\n",
       "    </tr>\n",
       "    <tr>\n",
       "      <th>2</th>\n",
       "      <td>1.0</td>\n",
       "      <td>2013-01-01</td>\n",
       "      <td>1.0</td>\n",
       "      <td>3</td>\n",
       "      <td>test</td>\n",
       "      <td>foo</td>\n",
       "    </tr>\n",
       "    <tr>\n",
       "      <th>3</th>\n",
       "      <td>1.0</td>\n",
       "      <td>2013-01-01</td>\n",
       "      <td>1.0</td>\n",
       "      <td>3</td>\n",
       "      <td>train</td>\n",
       "      <td>foo</td>\n",
       "    </tr>\n",
       "  </tbody>\n",
       "</table>\n",
       "</div>"
      ],
      "text/plain": [
       "     A          B    C  D      E    F\n",
       "0  1.0 2013-01-01  1.0  3   test  foo\n",
       "1  1.0 2013-01-01  1.0  3  train  foo\n",
       "2  1.0 2013-01-01  1.0  3   test  foo\n",
       "3  1.0 2013-01-01  1.0  3  train  foo"
      ]
     },
     "execution_count": 9,
     "metadata": {},
     "output_type": "execute_result"
    }
   ],
   "source": [
    "df2"
   ]
  },
  {
   "cell_type": "markdown",
   "metadata": {},
   "source": [
    "### 所有明确类型:"
   ]
  },
  {
   "cell_type": "code",
   "execution_count": 10,
   "metadata": {},
   "outputs": [
    {
     "data": {
      "text/plain": [
       "A           float64\n",
       "B    datetime64[ns]\n",
       "C           float32\n",
       "D             int32\n",
       "E          category\n",
       "F            object\n",
       "dtype: object"
      ]
     },
     "execution_count": 10,
     "metadata": {},
     "output_type": "execute_result"
    }
   ],
   "source": [
    "df2.dtypes"
   ]
  },
  {
   "cell_type": "markdown",
   "metadata": {},
   "source": [
    "### 输出某个子集:"
   ]
  },
  {
   "cell_type": "code",
   "execution_count": 11,
   "metadata": {},
   "outputs": [
    {
     "data": {
      "text/plain": [
       "0     test\n",
       "1    train\n",
       "2     test\n",
       "3    train\n",
       "Name: E, dtype: category\n",
       "Categories (2, object): [test, train]"
      ]
     },
     "execution_count": 11,
     "metadata": {},
     "output_type": "execute_result"
    }
   ],
   "source": [
    "df2.E"
   ]
  },
  {
   "cell_type": "markdown",
   "metadata": {},
   "source": [
    "# 查看数据"
   ]
  },
  {
   "cell_type": "markdown",
   "metadata": {},
   "source": [
    "### 查看帧顶部和底部的行:"
   ]
  },
  {
   "cell_type": "code",
   "execution_count": 12,
   "metadata": {},
   "outputs": [
    {
     "data": {
      "text/html": [
       "<div>\n",
       "<style>\n",
       "    .dataframe thead tr:only-child th {\n",
       "        text-align: right;\n",
       "    }\n",
       "\n",
       "    .dataframe thead th {\n",
       "        text-align: left;\n",
       "    }\n",
       "\n",
       "    .dataframe tbody tr th {\n",
       "        vertical-align: top;\n",
       "    }\n",
       "</style>\n",
       "<table border=\"1\" class=\"dataframe\">\n",
       "  <thead>\n",
       "    <tr style=\"text-align: right;\">\n",
       "      <th></th>\n",
       "      <th>A</th>\n",
       "      <th>B</th>\n",
       "      <th>C</th>\n",
       "      <th>D</th>\n",
       "    </tr>\n",
       "  </thead>\n",
       "  <tbody>\n",
       "    <tr>\n",
       "      <th>2013-01-01</th>\n",
       "      <td>0.830988</td>\n",
       "      <td>0.211301</td>\n",
       "      <td>-0.926818</td>\n",
       "      <td>-0.613411</td>\n",
       "    </tr>\n",
       "    <tr>\n",
       "      <th>2013-01-02</th>\n",
       "      <td>-1.314992</td>\n",
       "      <td>0.532977</td>\n",
       "      <td>1.192366</td>\n",
       "      <td>-1.106847</td>\n",
       "    </tr>\n",
       "    <tr>\n",
       "      <th>2013-01-03</th>\n",
       "      <td>0.890640</td>\n",
       "      <td>-1.036566</td>\n",
       "      <td>-2.189510</td>\n",
       "      <td>-0.397050</td>\n",
       "    </tr>\n",
       "    <tr>\n",
       "      <th>2013-01-04</th>\n",
       "      <td>1.565294</td>\n",
       "      <td>-0.901578</td>\n",
       "      <td>1.148267</td>\n",
       "      <td>0.287584</td>\n",
       "    </tr>\n",
       "    <tr>\n",
       "      <th>2013-01-05</th>\n",
       "      <td>0.180890</td>\n",
       "      <td>2.301889</td>\n",
       "      <td>-0.003075</td>\n",
       "      <td>0.478628</td>\n",
       "    </tr>\n",
       "  </tbody>\n",
       "</table>\n",
       "</div>"
      ],
      "text/plain": [
       "                   A         B         C         D\n",
       "2013-01-01  0.830988  0.211301 -0.926818 -0.613411\n",
       "2013-01-02 -1.314992  0.532977  1.192366 -1.106847\n",
       "2013-01-03  0.890640 -1.036566 -2.189510 -0.397050\n",
       "2013-01-04  1.565294 -0.901578  1.148267  0.287584\n",
       "2013-01-05  0.180890  2.301889 -0.003075  0.478628"
      ]
     },
     "execution_count": 12,
     "metadata": {},
     "output_type": "execute_result"
    }
   ],
   "source": [
    "df.head()"
   ]
  },
  {
   "cell_type": "code",
   "execution_count": 13,
   "metadata": {},
   "outputs": [
    {
     "data": {
      "text/html": [
       "<div>\n",
       "<style>\n",
       "    .dataframe thead tr:only-child th {\n",
       "        text-align: right;\n",
       "    }\n",
       "\n",
       "    .dataframe thead th {\n",
       "        text-align: left;\n",
       "    }\n",
       "\n",
       "    .dataframe tbody tr th {\n",
       "        vertical-align: top;\n",
       "    }\n",
       "</style>\n",
       "<table border=\"1\" class=\"dataframe\">\n",
       "  <thead>\n",
       "    <tr style=\"text-align: right;\">\n",
       "      <th></th>\n",
       "      <th>A</th>\n",
       "      <th>B</th>\n",
       "      <th>C</th>\n",
       "      <th>D</th>\n",
       "    </tr>\n",
       "  </thead>\n",
       "  <tbody>\n",
       "    <tr>\n",
       "      <th>2013-01-04</th>\n",
       "      <td>1.565294</td>\n",
       "      <td>-0.901578</td>\n",
       "      <td>1.148267</td>\n",
       "      <td>0.287584</td>\n",
       "    </tr>\n",
       "    <tr>\n",
       "      <th>2013-01-05</th>\n",
       "      <td>0.180890</td>\n",
       "      <td>2.301889</td>\n",
       "      <td>-0.003075</td>\n",
       "      <td>0.478628</td>\n",
       "    </tr>\n",
       "    <tr>\n",
       "      <th>2013-01-06</th>\n",
       "      <td>-0.050440</td>\n",
       "      <td>-0.840614</td>\n",
       "      <td>-0.547810</td>\n",
       "      <td>-0.396750</td>\n",
       "    </tr>\n",
       "  </tbody>\n",
       "</table>\n",
       "</div>"
      ],
      "text/plain": [
       "                   A         B         C         D\n",
       "2013-01-04  1.565294 -0.901578  1.148267  0.287584\n",
       "2013-01-05  0.180890  2.301889 -0.003075  0.478628\n",
       "2013-01-06 -0.050440 -0.840614 -0.547810 -0.396750"
      ]
     },
     "execution_count": 13,
     "metadata": {},
     "output_type": "execute_result"
    }
   ],
   "source": [
    "df.tail(3)"
   ]
  },
  {
   "cell_type": "markdown",
   "metadata": {},
   "source": [
    "### 显示索引, 列, 和底层的 numpy 数据:"
   ]
  },
  {
   "cell_type": "code",
   "execution_count": 14,
   "metadata": {},
   "outputs": [
    {
     "data": {
      "text/plain": [
       "DatetimeIndex(['2013-01-01', '2013-01-02', '2013-01-03', '2013-01-04',\n",
       "               '2013-01-05', '2013-01-06'],\n",
       "              dtype='datetime64[ns]', freq='D')"
      ]
     },
     "execution_count": 14,
     "metadata": {},
     "output_type": "execute_result"
    }
   ],
   "source": [
    "df.index"
   ]
  },
  {
   "cell_type": "code",
   "execution_count": 15,
   "metadata": {},
   "outputs": [
    {
     "data": {
      "text/plain": [
       "Index([u'A', u'B', u'C', u'D'], dtype='object')"
      ]
     },
     "execution_count": 15,
     "metadata": {},
     "output_type": "execute_result"
    }
   ],
   "source": [
    "df.columns"
   ]
  },
  {
   "cell_type": "code",
   "execution_count": 16,
   "metadata": {},
   "outputs": [
    {
     "data": {
      "text/plain": [
       "array([[ 0.83098768,  0.21130117, -0.92681805, -0.61341131],\n",
       "       [-1.31499226,  0.53297706,  1.19236594, -1.10684677],\n",
       "       [ 0.89064029, -1.03656616, -2.18951045, -0.39705036],\n",
       "       [ 1.56529377, -0.90157838,  1.14826665,  0.28758407],\n",
       "       [ 0.18088986,  2.3018887 , -0.00307499,  0.47862784],\n",
       "       [-0.05043964, -0.84061391, -0.54780954, -0.39674995]])"
      ]
     },
     "execution_count": 16,
     "metadata": {},
     "output_type": "execute_result"
    }
   ],
   "source": [
    "df.values"
   ]
  },
  {
   "cell_type": "markdown",
   "metadata": {},
   "source": [
    "### 描述显示数据快速统计摘要:"
   ]
  },
  {
   "cell_type": "code",
   "execution_count": 17,
   "metadata": {},
   "outputs": [
    {
     "data": {
      "text/html": [
       "<div>\n",
       "<style>\n",
       "    .dataframe thead tr:only-child th {\n",
       "        text-align: right;\n",
       "    }\n",
       "\n",
       "    .dataframe thead th {\n",
       "        text-align: left;\n",
       "    }\n",
       "\n",
       "    .dataframe tbody tr th {\n",
       "        vertical-align: top;\n",
       "    }\n",
       "</style>\n",
       "<table border=\"1\" class=\"dataframe\">\n",
       "  <thead>\n",
       "    <tr style=\"text-align: right;\">\n",
       "      <th></th>\n",
       "      <th>A</th>\n",
       "      <th>B</th>\n",
       "      <th>C</th>\n",
       "      <th>D</th>\n",
       "    </tr>\n",
       "  </thead>\n",
       "  <tbody>\n",
       "    <tr>\n",
       "      <th>count</th>\n",
       "      <td>6.000000</td>\n",
       "      <td>6.000000</td>\n",
       "      <td>6.000000</td>\n",
       "      <td>6.000000</td>\n",
       "    </tr>\n",
       "    <tr>\n",
       "      <th>mean</th>\n",
       "      <td>0.350397</td>\n",
       "      <td>0.044568</td>\n",
       "      <td>-0.221097</td>\n",
       "      <td>-0.291308</td>\n",
       "    </tr>\n",
       "    <tr>\n",
       "      <th>std</th>\n",
       "      <td>0.996165</td>\n",
       "      <td>1.281361</td>\n",
       "      <td>1.296148</td>\n",
       "      <td>0.586357</td>\n",
       "    </tr>\n",
       "    <tr>\n",
       "      <th>min</th>\n",
       "      <td>-1.314992</td>\n",
       "      <td>-1.036566</td>\n",
       "      <td>-2.189510</td>\n",
       "      <td>-1.106847</td>\n",
       "    </tr>\n",
       "    <tr>\n",
       "      <th>25%</th>\n",
       "      <td>0.007393</td>\n",
       "      <td>-0.886337</td>\n",
       "      <td>-0.832066</td>\n",
       "      <td>-0.559321</td>\n",
       "    </tr>\n",
       "    <tr>\n",
       "      <th>50%</th>\n",
       "      <td>0.505939</td>\n",
       "      <td>-0.314656</td>\n",
       "      <td>-0.275442</td>\n",
       "      <td>-0.396900</td>\n",
       "    </tr>\n",
       "    <tr>\n",
       "      <th>75%</th>\n",
       "      <td>0.875727</td>\n",
       "      <td>0.452558</td>\n",
       "      <td>0.860431</td>\n",
       "      <td>0.116501</td>\n",
       "    </tr>\n",
       "    <tr>\n",
       "      <th>max</th>\n",
       "      <td>1.565294</td>\n",
       "      <td>2.301889</td>\n",
       "      <td>1.192366</td>\n",
       "      <td>0.478628</td>\n",
       "    </tr>\n",
       "  </tbody>\n",
       "</table>\n",
       "</div>"
      ],
      "text/plain": [
       "              A         B         C         D\n",
       "count  6.000000  6.000000  6.000000  6.000000\n",
       "mean   0.350397  0.044568 -0.221097 -0.291308\n",
       "std    0.996165  1.281361  1.296148  0.586357\n",
       "min   -1.314992 -1.036566 -2.189510 -1.106847\n",
       "25%    0.007393 -0.886337 -0.832066 -0.559321\n",
       "50%    0.505939 -0.314656 -0.275442 -0.396900\n",
       "75%    0.875727  0.452558  0.860431  0.116501\n",
       "max    1.565294  2.301889  1.192366  0.478628"
      ]
     },
     "execution_count": 17,
     "metadata": {},
     "output_type": "execute_result"
    }
   ],
   "source": [
    "df.describe()"
   ]
  },
  {
   "cell_type": "markdown",
   "metadata": {},
   "source": [
    "### 转置数据:"
   ]
  },
  {
   "cell_type": "code",
   "execution_count": 18,
   "metadata": {},
   "outputs": [
    {
     "data": {
      "text/html": [
       "<div>\n",
       "<style>\n",
       "    .dataframe thead tr:only-child th {\n",
       "        text-align: right;\n",
       "    }\n",
       "\n",
       "    .dataframe thead th {\n",
       "        text-align: left;\n",
       "    }\n",
       "\n",
       "    .dataframe tbody tr th {\n",
       "        vertical-align: top;\n",
       "    }\n",
       "</style>\n",
       "<table border=\"1\" class=\"dataframe\">\n",
       "  <thead>\n",
       "    <tr style=\"text-align: right;\">\n",
       "      <th></th>\n",
       "      <th>2013-01-01 00:00:00</th>\n",
       "      <th>2013-01-02 00:00:00</th>\n",
       "      <th>2013-01-03 00:00:00</th>\n",
       "      <th>2013-01-04 00:00:00</th>\n",
       "      <th>2013-01-05 00:00:00</th>\n",
       "      <th>2013-01-06 00:00:00</th>\n",
       "    </tr>\n",
       "  </thead>\n",
       "  <tbody>\n",
       "    <tr>\n",
       "      <th>A</th>\n",
       "      <td>0.830988</td>\n",
       "      <td>-1.314992</td>\n",
       "      <td>0.890640</td>\n",
       "      <td>1.565294</td>\n",
       "      <td>0.180890</td>\n",
       "      <td>-0.050440</td>\n",
       "    </tr>\n",
       "    <tr>\n",
       "      <th>B</th>\n",
       "      <td>0.211301</td>\n",
       "      <td>0.532977</td>\n",
       "      <td>-1.036566</td>\n",
       "      <td>-0.901578</td>\n",
       "      <td>2.301889</td>\n",
       "      <td>-0.840614</td>\n",
       "    </tr>\n",
       "    <tr>\n",
       "      <th>C</th>\n",
       "      <td>-0.926818</td>\n",
       "      <td>1.192366</td>\n",
       "      <td>-2.189510</td>\n",
       "      <td>1.148267</td>\n",
       "      <td>-0.003075</td>\n",
       "      <td>-0.547810</td>\n",
       "    </tr>\n",
       "    <tr>\n",
       "      <th>D</th>\n",
       "      <td>-0.613411</td>\n",
       "      <td>-1.106847</td>\n",
       "      <td>-0.397050</td>\n",
       "      <td>0.287584</td>\n",
       "      <td>0.478628</td>\n",
       "      <td>-0.396750</td>\n",
       "    </tr>\n",
       "  </tbody>\n",
       "</table>\n",
       "</div>"
      ],
      "text/plain": [
       "   2013-01-01  2013-01-02  2013-01-03  2013-01-04  2013-01-05  2013-01-06\n",
       "A    0.830988   -1.314992    0.890640    1.565294    0.180890   -0.050440\n",
       "B    0.211301    0.532977   -1.036566   -0.901578    2.301889   -0.840614\n",
       "C   -0.926818    1.192366   -2.189510    1.148267   -0.003075   -0.547810\n",
       "D   -0.613411   -1.106847   -0.397050    0.287584    0.478628   -0.396750"
      ]
     },
     "execution_count": 18,
     "metadata": {},
     "output_type": "execute_result"
    }
   ],
   "source": [
    "df.T"
   ]
  },
  {
   "cell_type": "markdown",
   "metadata": {},
   "source": [
    "### 按轴排序:"
   ]
  },
  {
   "cell_type": "code",
   "execution_count": 19,
   "metadata": {},
   "outputs": [
    {
     "data": {
      "text/html": [
       "<div>\n",
       "<style>\n",
       "    .dataframe thead tr:only-child th {\n",
       "        text-align: right;\n",
       "    }\n",
       "\n",
       "    .dataframe thead th {\n",
       "        text-align: left;\n",
       "    }\n",
       "\n",
       "    .dataframe tbody tr th {\n",
       "        vertical-align: top;\n",
       "    }\n",
       "</style>\n",
       "<table border=\"1\" class=\"dataframe\">\n",
       "  <thead>\n",
       "    <tr style=\"text-align: right;\">\n",
       "      <th></th>\n",
       "      <th>D</th>\n",
       "      <th>C</th>\n",
       "      <th>B</th>\n",
       "      <th>A</th>\n",
       "    </tr>\n",
       "  </thead>\n",
       "  <tbody>\n",
       "    <tr>\n",
       "      <th>2013-01-01</th>\n",
       "      <td>-0.613411</td>\n",
       "      <td>-0.926818</td>\n",
       "      <td>0.211301</td>\n",
       "      <td>0.830988</td>\n",
       "    </tr>\n",
       "    <tr>\n",
       "      <th>2013-01-02</th>\n",
       "      <td>-1.106847</td>\n",
       "      <td>1.192366</td>\n",
       "      <td>0.532977</td>\n",
       "      <td>-1.314992</td>\n",
       "    </tr>\n",
       "    <tr>\n",
       "      <th>2013-01-03</th>\n",
       "      <td>-0.397050</td>\n",
       "      <td>-2.189510</td>\n",
       "      <td>-1.036566</td>\n",
       "      <td>0.890640</td>\n",
       "    </tr>\n",
       "    <tr>\n",
       "      <th>2013-01-04</th>\n",
       "      <td>0.287584</td>\n",
       "      <td>1.148267</td>\n",
       "      <td>-0.901578</td>\n",
       "      <td>1.565294</td>\n",
       "    </tr>\n",
       "    <tr>\n",
       "      <th>2013-01-05</th>\n",
       "      <td>0.478628</td>\n",
       "      <td>-0.003075</td>\n",
       "      <td>2.301889</td>\n",
       "      <td>0.180890</td>\n",
       "    </tr>\n",
       "    <tr>\n",
       "      <th>2013-01-06</th>\n",
       "      <td>-0.396750</td>\n",
       "      <td>-0.547810</td>\n",
       "      <td>-0.840614</td>\n",
       "      <td>-0.050440</td>\n",
       "    </tr>\n",
       "  </tbody>\n",
       "</table>\n",
       "</div>"
      ],
      "text/plain": [
       "                   D         C         B         A\n",
       "2013-01-01 -0.613411 -0.926818  0.211301  0.830988\n",
       "2013-01-02 -1.106847  1.192366  0.532977 -1.314992\n",
       "2013-01-03 -0.397050 -2.189510 -1.036566  0.890640\n",
       "2013-01-04  0.287584  1.148267 -0.901578  1.565294\n",
       "2013-01-05  0.478628 -0.003075  2.301889  0.180890\n",
       "2013-01-06 -0.396750 -0.547810 -0.840614 -0.050440"
      ]
     },
     "execution_count": 19,
     "metadata": {},
     "output_type": "execute_result"
    }
   ],
   "source": [
    "df.sort_index(axis=1, ascending=False)"
   ]
  },
  {
   "cell_type": "markdown",
   "metadata": {},
   "source": [
    "### 按值排序:"
   ]
  },
  {
   "cell_type": "code",
   "execution_count": 20,
   "metadata": {},
   "outputs": [
    {
     "data": {
      "text/html": [
       "<div>\n",
       "<style>\n",
       "    .dataframe thead tr:only-child th {\n",
       "        text-align: right;\n",
       "    }\n",
       "\n",
       "    .dataframe thead th {\n",
       "        text-align: left;\n",
       "    }\n",
       "\n",
       "    .dataframe tbody tr th {\n",
       "        vertical-align: top;\n",
       "    }\n",
       "</style>\n",
       "<table border=\"1\" class=\"dataframe\">\n",
       "  <thead>\n",
       "    <tr style=\"text-align: right;\">\n",
       "      <th></th>\n",
       "      <th>A</th>\n",
       "      <th>B</th>\n",
       "      <th>C</th>\n",
       "      <th>D</th>\n",
       "    </tr>\n",
       "  </thead>\n",
       "  <tbody>\n",
       "    <tr>\n",
       "      <th>2013-01-03</th>\n",
       "      <td>0.890640</td>\n",
       "      <td>-1.036566</td>\n",
       "      <td>-2.189510</td>\n",
       "      <td>-0.397050</td>\n",
       "    </tr>\n",
       "    <tr>\n",
       "      <th>2013-01-04</th>\n",
       "      <td>1.565294</td>\n",
       "      <td>-0.901578</td>\n",
       "      <td>1.148267</td>\n",
       "      <td>0.287584</td>\n",
       "    </tr>\n",
       "    <tr>\n",
       "      <th>2013-01-06</th>\n",
       "      <td>-0.050440</td>\n",
       "      <td>-0.840614</td>\n",
       "      <td>-0.547810</td>\n",
       "      <td>-0.396750</td>\n",
       "    </tr>\n",
       "    <tr>\n",
       "      <th>2013-01-01</th>\n",
       "      <td>0.830988</td>\n",
       "      <td>0.211301</td>\n",
       "      <td>-0.926818</td>\n",
       "      <td>-0.613411</td>\n",
       "    </tr>\n",
       "    <tr>\n",
       "      <th>2013-01-02</th>\n",
       "      <td>-1.314992</td>\n",
       "      <td>0.532977</td>\n",
       "      <td>1.192366</td>\n",
       "      <td>-1.106847</td>\n",
       "    </tr>\n",
       "    <tr>\n",
       "      <th>2013-01-05</th>\n",
       "      <td>0.180890</td>\n",
       "      <td>2.301889</td>\n",
       "      <td>-0.003075</td>\n",
       "      <td>0.478628</td>\n",
       "    </tr>\n",
       "  </tbody>\n",
       "</table>\n",
       "</div>"
      ],
      "text/plain": [
       "                   A         B         C         D\n",
       "2013-01-03  0.890640 -1.036566 -2.189510 -0.397050\n",
       "2013-01-04  1.565294 -0.901578  1.148267  0.287584\n",
       "2013-01-06 -0.050440 -0.840614 -0.547810 -0.396750\n",
       "2013-01-01  0.830988  0.211301 -0.926818 -0.613411\n",
       "2013-01-02 -1.314992  0.532977  1.192366 -1.106847\n",
       "2013-01-05  0.180890  2.301889 -0.003075  0.478628"
      ]
     },
     "execution_count": 20,
     "metadata": {},
     "output_type": "execute_result"
    }
   ],
   "source": [
    "df.sort_values(by='B')"
   ]
  },
  {
   "cell_type": "code",
   "execution_count": 21,
   "metadata": {},
   "outputs": [
    {
     "data": {
      "text/html": [
       "<div>\n",
       "<style>\n",
       "    .dataframe thead tr:only-child th {\n",
       "        text-align: right;\n",
       "    }\n",
       "\n",
       "    .dataframe thead th {\n",
       "        text-align: left;\n",
       "    }\n",
       "\n",
       "    .dataframe tbody tr th {\n",
       "        vertical-align: top;\n",
       "    }\n",
       "</style>\n",
       "<table border=\"1\" class=\"dataframe\">\n",
       "  <thead>\n",
       "    <tr style=\"text-align: right;\">\n",
       "      <th></th>\n",
       "      <th>A</th>\n",
       "      <th>B</th>\n",
       "      <th>C</th>\n",
       "      <th>D</th>\n",
       "    </tr>\n",
       "  </thead>\n",
       "  <tbody>\n",
       "    <tr>\n",
       "      <th>2013-01-03</th>\n",
       "      <td>0.890640</td>\n",
       "      <td>-1.036566</td>\n",
       "      <td>-2.189510</td>\n",
       "      <td>-0.397050</td>\n",
       "    </tr>\n",
       "    <tr>\n",
       "      <th>2013-01-01</th>\n",
       "      <td>0.830988</td>\n",
       "      <td>0.211301</td>\n",
       "      <td>-0.926818</td>\n",
       "      <td>-0.613411</td>\n",
       "    </tr>\n",
       "    <tr>\n",
       "      <th>2013-01-06</th>\n",
       "      <td>-0.050440</td>\n",
       "      <td>-0.840614</td>\n",
       "      <td>-0.547810</td>\n",
       "      <td>-0.396750</td>\n",
       "    </tr>\n",
       "    <tr>\n",
       "      <th>2013-01-05</th>\n",
       "      <td>0.180890</td>\n",
       "      <td>2.301889</td>\n",
       "      <td>-0.003075</td>\n",
       "      <td>0.478628</td>\n",
       "    </tr>\n",
       "    <tr>\n",
       "      <th>2013-01-04</th>\n",
       "      <td>1.565294</td>\n",
       "      <td>-0.901578</td>\n",
       "      <td>1.148267</td>\n",
       "      <td>0.287584</td>\n",
       "    </tr>\n",
       "    <tr>\n",
       "      <th>2013-01-02</th>\n",
       "      <td>-1.314992</td>\n",
       "      <td>0.532977</td>\n",
       "      <td>1.192366</td>\n",
       "      <td>-1.106847</td>\n",
       "    </tr>\n",
       "  </tbody>\n",
       "</table>\n",
       "</div>"
      ],
      "text/plain": [
       "                   A         B         C         D\n",
       "2013-01-03  0.890640 -1.036566 -2.189510 -0.397050\n",
       "2013-01-01  0.830988  0.211301 -0.926818 -0.613411\n",
       "2013-01-06 -0.050440 -0.840614 -0.547810 -0.396750\n",
       "2013-01-05  0.180890  2.301889 -0.003075  0.478628\n",
       "2013-01-04  1.565294 -0.901578  1.148267  0.287584\n",
       "2013-01-02 -1.314992  0.532977  1.192366 -1.106847"
      ]
     },
     "execution_count": 21,
     "metadata": {},
     "output_type": "execute_result"
    }
   ],
   "source": [
    "df.sort_values(by=['C', 'B'])"
   ]
  },
  {
   "cell_type": "markdown",
   "metadata": {},
   "source": [
    "# 选择器"
   ]
  },
  {
   "cell_type": "markdown",
   "metadata": {},
   "source": [
    "## 读取"
   ]
  },
  {
   "cell_type": "markdown",
   "metadata": {},
   "source": [
    "### 选择单列, 这会产生一个序列, 等价于 df.A:"
   ]
  },
  {
   "cell_type": "code",
   "execution_count": 22,
   "metadata": {},
   "outputs": [
    {
     "data": {
      "text/plain": [
       "2013-01-01    0.830988\n",
       "2013-01-02   -1.314992\n",
       "2013-01-03    0.890640\n",
       "2013-01-04    1.565294\n",
       "2013-01-05    0.180890\n",
       "2013-01-06   -0.050440\n",
       "Freq: D, Name: A, dtype: float64"
      ]
     },
     "execution_count": 22,
     "metadata": {},
     "output_type": "execute_result"
    }
   ],
   "source": [
    "df['A']"
   ]
  },
  {
   "cell_type": "markdown",
   "metadata": {},
   "source": [
    "### 使用 [] 选择行的片断:"
   ]
  },
  {
   "cell_type": "code",
   "execution_count": 23,
   "metadata": {},
   "outputs": [
    {
     "data": {
      "text/html": [
       "<div>\n",
       "<style>\n",
       "    .dataframe thead tr:only-child th {\n",
       "        text-align: right;\n",
       "    }\n",
       "\n",
       "    .dataframe thead th {\n",
       "        text-align: left;\n",
       "    }\n",
       "\n",
       "    .dataframe tbody tr th {\n",
       "        vertical-align: top;\n",
       "    }\n",
       "</style>\n",
       "<table border=\"1\" class=\"dataframe\">\n",
       "  <thead>\n",
       "    <tr style=\"text-align: right;\">\n",
       "      <th></th>\n",
       "      <th>A</th>\n",
       "      <th>B</th>\n",
       "      <th>C</th>\n",
       "      <th>D</th>\n",
       "    </tr>\n",
       "  </thead>\n",
       "  <tbody>\n",
       "    <tr>\n",
       "      <th>2013-01-01</th>\n",
       "      <td>0.830988</td>\n",
       "      <td>0.211301</td>\n",
       "      <td>-0.926818</td>\n",
       "      <td>-0.613411</td>\n",
       "    </tr>\n",
       "    <tr>\n",
       "      <th>2013-01-02</th>\n",
       "      <td>-1.314992</td>\n",
       "      <td>0.532977</td>\n",
       "      <td>1.192366</td>\n",
       "      <td>-1.106847</td>\n",
       "    </tr>\n",
       "    <tr>\n",
       "      <th>2013-01-03</th>\n",
       "      <td>0.890640</td>\n",
       "      <td>-1.036566</td>\n",
       "      <td>-2.189510</td>\n",
       "      <td>-0.397050</td>\n",
       "    </tr>\n",
       "  </tbody>\n",
       "</table>\n",
       "</div>"
      ],
      "text/plain": [
       "                   A         B         C         D\n",
       "2013-01-01  0.830988  0.211301 -0.926818 -0.613411\n",
       "2013-01-02 -1.314992  0.532977  1.192366 -1.106847\n",
       "2013-01-03  0.890640 -1.036566 -2.189510 -0.397050"
      ]
     },
     "execution_count": 23,
     "metadata": {},
     "output_type": "execute_result"
    }
   ],
   "source": [
    "df[0:3]"
   ]
  },
  {
   "cell_type": "code",
   "execution_count": 24,
   "metadata": {},
   "outputs": [
    {
     "data": {
      "text/html": [
       "<div>\n",
       "<style>\n",
       "    .dataframe thead tr:only-child th {\n",
       "        text-align: right;\n",
       "    }\n",
       "\n",
       "    .dataframe thead th {\n",
       "        text-align: left;\n",
       "    }\n",
       "\n",
       "    .dataframe tbody tr th {\n",
       "        vertical-align: top;\n",
       "    }\n",
       "</style>\n",
       "<table border=\"1\" class=\"dataframe\">\n",
       "  <thead>\n",
       "    <tr style=\"text-align: right;\">\n",
       "      <th></th>\n",
       "      <th>A</th>\n",
       "      <th>B</th>\n",
       "      <th>C</th>\n",
       "      <th>D</th>\n",
       "    </tr>\n",
       "  </thead>\n",
       "  <tbody>\n",
       "    <tr>\n",
       "      <th>2013-01-02</th>\n",
       "      <td>-1.314992</td>\n",
       "      <td>0.532977</td>\n",
       "      <td>1.192366</td>\n",
       "      <td>-1.106847</td>\n",
       "    </tr>\n",
       "    <tr>\n",
       "      <th>2013-01-03</th>\n",
       "      <td>0.890640</td>\n",
       "      <td>-1.036566</td>\n",
       "      <td>-2.189510</td>\n",
       "      <td>-0.397050</td>\n",
       "    </tr>\n",
       "    <tr>\n",
       "      <th>2013-01-04</th>\n",
       "      <td>1.565294</td>\n",
       "      <td>-0.901578</td>\n",
       "      <td>1.148267</td>\n",
       "      <td>0.287584</td>\n",
       "    </tr>\n",
       "  </tbody>\n",
       "</table>\n",
       "</div>"
      ],
      "text/plain": [
       "                   A         B         C         D\n",
       "2013-01-02 -1.314992  0.532977  1.192366 -1.106847\n",
       "2013-01-03  0.890640 -1.036566 -2.189510 -0.397050\n",
       "2013-01-04  1.565294 -0.901578  1.148267  0.287584"
      ]
     },
     "execution_count": 24,
     "metadata": {},
     "output_type": "execute_result"
    }
   ],
   "source": [
    "df['20130102': '20130104']"
   ]
  },
  {
   "cell_type": "markdown",
   "metadata": {},
   "source": [
    "## 使用标签选择"
   ]
  },
  {
   "cell_type": "markdown",
   "metadata": {},
   "source": [
    "### 使用标签获取横截面:"
   ]
  },
  {
   "cell_type": "code",
   "execution_count": 25,
   "metadata": {},
   "outputs": [
    {
     "data": {
      "text/plain": [
       "A    0.830988\n",
       "B    0.211301\n",
       "C   -0.926818\n",
       "D   -0.613411\n",
       "Name: 2013-01-01 00:00:00, dtype: float64"
      ]
     },
     "execution_count": 25,
     "metadata": {},
     "output_type": "execute_result"
    }
   ],
   "source": [
    "df.loc[dates[0]]"
   ]
  },
  {
   "cell_type": "markdown",
   "metadata": {},
   "source": [
    "### 使用标签选择多轴:"
   ]
  },
  {
   "cell_type": "code",
   "execution_count": 26,
   "metadata": {},
   "outputs": [
    {
     "data": {
      "text/html": [
       "<div>\n",
       "<style>\n",
       "    .dataframe thead tr:only-child th {\n",
       "        text-align: right;\n",
       "    }\n",
       "\n",
       "    .dataframe thead th {\n",
       "        text-align: left;\n",
       "    }\n",
       "\n",
       "    .dataframe tbody tr th {\n",
       "        vertical-align: top;\n",
       "    }\n",
       "</style>\n",
       "<table border=\"1\" class=\"dataframe\">\n",
       "  <thead>\n",
       "    <tr style=\"text-align: right;\">\n",
       "      <th></th>\n",
       "      <th>A</th>\n",
       "      <th>B</th>\n",
       "    </tr>\n",
       "  </thead>\n",
       "  <tbody>\n",
       "    <tr>\n",
       "      <th>2013-01-01</th>\n",
       "      <td>0.830988</td>\n",
       "      <td>0.211301</td>\n",
       "    </tr>\n",
       "    <tr>\n",
       "      <th>2013-01-02</th>\n",
       "      <td>-1.314992</td>\n",
       "      <td>0.532977</td>\n",
       "    </tr>\n",
       "    <tr>\n",
       "      <th>2013-01-03</th>\n",
       "      <td>0.890640</td>\n",
       "      <td>-1.036566</td>\n",
       "    </tr>\n",
       "    <tr>\n",
       "      <th>2013-01-04</th>\n",
       "      <td>1.565294</td>\n",
       "      <td>-0.901578</td>\n",
       "    </tr>\n",
       "    <tr>\n",
       "      <th>2013-01-05</th>\n",
       "      <td>0.180890</td>\n",
       "      <td>2.301889</td>\n",
       "    </tr>\n",
       "    <tr>\n",
       "      <th>2013-01-06</th>\n",
       "      <td>-0.050440</td>\n",
       "      <td>-0.840614</td>\n",
       "    </tr>\n",
       "  </tbody>\n",
       "</table>\n",
       "</div>"
      ],
      "text/plain": [
       "                   A         B\n",
       "2013-01-01  0.830988  0.211301\n",
       "2013-01-02 -1.314992  0.532977\n",
       "2013-01-03  0.890640 -1.036566\n",
       "2013-01-04  1.565294 -0.901578\n",
       "2013-01-05  0.180890  2.301889\n",
       "2013-01-06 -0.050440 -0.840614"
      ]
     },
     "execution_count": 26,
     "metadata": {},
     "output_type": "execute_result"
    }
   ],
   "source": [
    "df.loc[:, ['A', 'B']]"
   ]
  },
  {
   "cell_type": "markdown",
   "metadata": {},
   "source": [
    "### 显示标签切片, 包含两个端点:"
   ]
  },
  {
   "cell_type": "code",
   "execution_count": 27,
   "metadata": {},
   "outputs": [
    {
     "data": {
      "text/html": [
       "<div>\n",
       "<style>\n",
       "    .dataframe thead tr:only-child th {\n",
       "        text-align: right;\n",
       "    }\n",
       "\n",
       "    .dataframe thead th {\n",
       "        text-align: left;\n",
       "    }\n",
       "\n",
       "    .dataframe tbody tr th {\n",
       "        vertical-align: top;\n",
       "    }\n",
       "</style>\n",
       "<table border=\"1\" class=\"dataframe\">\n",
       "  <thead>\n",
       "    <tr style=\"text-align: right;\">\n",
       "      <th></th>\n",
       "      <th>A</th>\n",
       "      <th>B</th>\n",
       "    </tr>\n",
       "  </thead>\n",
       "  <tbody>\n",
       "    <tr>\n",
       "      <th>2013-01-02</th>\n",
       "      <td>-1.314992</td>\n",
       "      <td>0.532977</td>\n",
       "    </tr>\n",
       "    <tr>\n",
       "      <th>2013-01-03</th>\n",
       "      <td>0.890640</td>\n",
       "      <td>-1.036566</td>\n",
       "    </tr>\n",
       "    <tr>\n",
       "      <th>2013-01-04</th>\n",
       "      <td>1.565294</td>\n",
       "      <td>-0.901578</td>\n",
       "    </tr>\n",
       "  </tbody>\n",
       "</table>\n",
       "</div>"
      ],
      "text/plain": [
       "                   A         B\n",
       "2013-01-02 -1.314992  0.532977\n",
       "2013-01-03  0.890640 -1.036566\n",
       "2013-01-04  1.565294 -0.901578"
      ]
     },
     "execution_count": 27,
     "metadata": {},
     "output_type": "execute_result"
    }
   ],
   "source": [
    "df.loc['20130102': '20130104', ['A', 'B']]"
   ]
  },
  {
   "cell_type": "markdown",
   "metadata": {},
   "source": [
    "### 降低返回对象维度:"
   ]
  },
  {
   "cell_type": "code",
   "execution_count": 28,
   "metadata": {},
   "outputs": [
    {
     "data": {
      "text/plain": [
       "A   -1.314992\n",
       "B    0.532977\n",
       "Name: 2013-01-02 00:00:00, dtype: float64"
      ]
     },
     "execution_count": 28,
     "metadata": {},
     "output_type": "execute_result"
    }
   ],
   "source": [
    "df.loc['20130102', ['A', 'B']]"
   ]
  },
  {
   "cell_type": "markdown",
   "metadata": {},
   "source": [
    "### 获取标量值:"
   ]
  },
  {
   "cell_type": "code",
   "execution_count": 29,
   "metadata": {},
   "outputs": [
    {
     "data": {
      "text/plain": [
       "0.83098767923609629"
      ]
     },
     "execution_count": 29,
     "metadata": {},
     "output_type": "execute_result"
    }
   ],
   "source": [
    "df.loc[dates[0], 'A']"
   ]
  },
  {
   "cell_type": "markdown",
   "metadata": {},
   "source": [
    "### 快速访问并获取标量数据(等价上面的方法):"
   ]
  },
  {
   "cell_type": "code",
   "execution_count": 30,
   "metadata": {},
   "outputs": [
    {
     "data": {
      "text/plain": [
       "0.83098767923609629"
      ]
     },
     "execution_count": 30,
     "metadata": {},
     "output_type": "execute_result"
    }
   ],
   "source": [
    "df.at[dates[0], 'A']"
   ]
  },
  {
   "cell_type": "markdown",
   "metadata": {},
   "source": [
    "## 按位置选择"
   ]
  },
  {
   "cell_type": "markdown",
   "metadata": {},
   "source": [
    "### 传递整数选择位置"
   ]
  },
  {
   "cell_type": "code",
   "execution_count": 31,
   "metadata": {},
   "outputs": [
    {
     "data": {
      "text/plain": [
       "A    1.565294\n",
       "B   -0.901578\n",
       "C    1.148267\n",
       "D    0.287584\n",
       "Name: 2013-01-04 00:00:00, dtype: float64"
      ]
     },
     "execution_count": 31,
     "metadata": {},
     "output_type": "execute_result"
    }
   ],
   "source": [
    "df.iloc[3]"
   ]
  },
  {
   "cell_type": "markdown",
   "metadata": {},
   "source": [
    "### 使用整数片断, 效果类似 numpy/python:"
   ]
  },
  {
   "cell_type": "code",
   "execution_count": 32,
   "metadata": {},
   "outputs": [
    {
     "data": {
      "text/html": [
       "<div>\n",
       "<style>\n",
       "    .dataframe thead tr:only-child th {\n",
       "        text-align: right;\n",
       "    }\n",
       "\n",
       "    .dataframe thead th {\n",
       "        text-align: left;\n",
       "    }\n",
       "\n",
       "    .dataframe tbody tr th {\n",
       "        vertical-align: top;\n",
       "    }\n",
       "</style>\n",
       "<table border=\"1\" class=\"dataframe\">\n",
       "  <thead>\n",
       "    <tr style=\"text-align: right;\">\n",
       "      <th></th>\n",
       "      <th>A</th>\n",
       "      <th>B</th>\n",
       "    </tr>\n",
       "  </thead>\n",
       "  <tbody>\n",
       "    <tr>\n",
       "      <th>2013-01-04</th>\n",
       "      <td>1.565294</td>\n",
       "      <td>-0.901578</td>\n",
       "    </tr>\n",
       "    <tr>\n",
       "      <th>2013-01-05</th>\n",
       "      <td>0.180890</td>\n",
       "      <td>2.301889</td>\n",
       "    </tr>\n",
       "  </tbody>\n",
       "</table>\n",
       "</div>"
      ],
      "text/plain": [
       "                   A         B\n",
       "2013-01-04  1.565294 -0.901578\n",
       "2013-01-05  0.180890  2.301889"
      ]
     },
     "execution_count": 32,
     "metadata": {},
     "output_type": "execute_result"
    }
   ],
   "source": [
    "df.iloc[3:5, 0:2]"
   ]
  },
  {
   "cell_type": "markdown",
   "metadata": {},
   "source": [
    "### 使用整数偏移定位列表, 效果类似 numpy/python 样式:"
   ]
  },
  {
   "cell_type": "code",
   "execution_count": 33,
   "metadata": {},
   "outputs": [
    {
     "data": {
      "text/html": [
       "<div>\n",
       "<style>\n",
       "    .dataframe thead tr:only-child th {\n",
       "        text-align: right;\n",
       "    }\n",
       "\n",
       "    .dataframe thead th {\n",
       "        text-align: left;\n",
       "    }\n",
       "\n",
       "    .dataframe tbody tr th {\n",
       "        vertical-align: top;\n",
       "    }\n",
       "</style>\n",
       "<table border=\"1\" class=\"dataframe\">\n",
       "  <thead>\n",
       "    <tr style=\"text-align: right;\">\n",
       "      <th></th>\n",
       "      <th>A</th>\n",
       "      <th>C</th>\n",
       "    </tr>\n",
       "  </thead>\n",
       "  <tbody>\n",
       "    <tr>\n",
       "      <th>2013-01-02</th>\n",
       "      <td>-1.314992</td>\n",
       "      <td>1.192366</td>\n",
       "    </tr>\n",
       "    <tr>\n",
       "      <th>2013-01-03</th>\n",
       "      <td>0.890640</td>\n",
       "      <td>-2.189510</td>\n",
       "    </tr>\n",
       "    <tr>\n",
       "      <th>2013-01-05</th>\n",
       "      <td>0.180890</td>\n",
       "      <td>-0.003075</td>\n",
       "    </tr>\n",
       "  </tbody>\n",
       "</table>\n",
       "</div>"
      ],
      "text/plain": [
       "                   A         C\n",
       "2013-01-02 -1.314992  1.192366\n",
       "2013-01-03  0.890640 -2.189510\n",
       "2013-01-05  0.180890 -0.003075"
      ]
     },
     "execution_count": 33,
     "metadata": {},
     "output_type": "execute_result"
    }
   ],
   "source": [
    "df.iloc[[1, 2, 4], [0, 2]]"
   ]
  },
  {
   "cell_type": "markdown",
   "metadata": {},
   "source": [
    "### 显示行切片:"
   ]
  },
  {
   "cell_type": "code",
   "execution_count": 34,
   "metadata": {},
   "outputs": [
    {
     "data": {
      "text/html": [
       "<div>\n",
       "<style>\n",
       "    .dataframe thead tr:only-child th {\n",
       "        text-align: right;\n",
       "    }\n",
       "\n",
       "    .dataframe thead th {\n",
       "        text-align: left;\n",
       "    }\n",
       "\n",
       "    .dataframe tbody tr th {\n",
       "        vertical-align: top;\n",
       "    }\n",
       "</style>\n",
       "<table border=\"1\" class=\"dataframe\">\n",
       "  <thead>\n",
       "    <tr style=\"text-align: right;\">\n",
       "      <th></th>\n",
       "      <th>A</th>\n",
       "      <th>B</th>\n",
       "      <th>C</th>\n",
       "      <th>D</th>\n",
       "    </tr>\n",
       "  </thead>\n",
       "  <tbody>\n",
       "    <tr>\n",
       "      <th>2013-01-02</th>\n",
       "      <td>-1.314992</td>\n",
       "      <td>0.532977</td>\n",
       "      <td>1.192366</td>\n",
       "      <td>-1.106847</td>\n",
       "    </tr>\n",
       "    <tr>\n",
       "      <th>2013-01-03</th>\n",
       "      <td>0.890640</td>\n",
       "      <td>-1.036566</td>\n",
       "      <td>-2.189510</td>\n",
       "      <td>-0.397050</td>\n",
       "    </tr>\n",
       "  </tbody>\n",
       "</table>\n",
       "</div>"
      ],
      "text/plain": [
       "                   A         B         C         D\n",
       "2013-01-02 -1.314992  0.532977  1.192366 -1.106847\n",
       "2013-01-03  0.890640 -1.036566 -2.189510 -0.397050"
      ]
     },
     "execution_count": 34,
     "metadata": {},
     "output_type": "execute_result"
    }
   ],
   "source": [
    "df.iloc[1:3, :]"
   ]
  },
  {
   "cell_type": "markdown",
   "metadata": {},
   "source": [
    "### 显示列切片:"
   ]
  },
  {
   "cell_type": "code",
   "execution_count": 35,
   "metadata": {},
   "outputs": [
    {
     "data": {
      "text/html": [
       "<div>\n",
       "<style>\n",
       "    .dataframe thead tr:only-child th {\n",
       "        text-align: right;\n",
       "    }\n",
       "\n",
       "    .dataframe thead th {\n",
       "        text-align: left;\n",
       "    }\n",
       "\n",
       "    .dataframe tbody tr th {\n",
       "        vertical-align: top;\n",
       "    }\n",
       "</style>\n",
       "<table border=\"1\" class=\"dataframe\">\n",
       "  <thead>\n",
       "    <tr style=\"text-align: right;\">\n",
       "      <th></th>\n",
       "      <th>B</th>\n",
       "      <th>C</th>\n",
       "    </tr>\n",
       "  </thead>\n",
       "  <tbody>\n",
       "    <tr>\n",
       "      <th>2013-01-01</th>\n",
       "      <td>0.211301</td>\n",
       "      <td>-0.926818</td>\n",
       "    </tr>\n",
       "    <tr>\n",
       "      <th>2013-01-02</th>\n",
       "      <td>0.532977</td>\n",
       "      <td>1.192366</td>\n",
       "    </tr>\n",
       "    <tr>\n",
       "      <th>2013-01-03</th>\n",
       "      <td>-1.036566</td>\n",
       "      <td>-2.189510</td>\n",
       "    </tr>\n",
       "    <tr>\n",
       "      <th>2013-01-04</th>\n",
       "      <td>-0.901578</td>\n",
       "      <td>1.148267</td>\n",
       "    </tr>\n",
       "    <tr>\n",
       "      <th>2013-01-05</th>\n",
       "      <td>2.301889</td>\n",
       "      <td>-0.003075</td>\n",
       "    </tr>\n",
       "    <tr>\n",
       "      <th>2013-01-06</th>\n",
       "      <td>-0.840614</td>\n",
       "      <td>-0.547810</td>\n",
       "    </tr>\n",
       "  </tbody>\n",
       "</table>\n",
       "</div>"
      ],
      "text/plain": [
       "                   B         C\n",
       "2013-01-01  0.211301 -0.926818\n",
       "2013-01-02  0.532977  1.192366\n",
       "2013-01-03 -1.036566 -2.189510\n",
       "2013-01-04 -0.901578  1.148267\n",
       "2013-01-05  2.301889 -0.003075\n",
       "2013-01-06 -0.840614 -0.547810"
      ]
     },
     "execution_count": 35,
     "metadata": {},
     "output_type": "execute_result"
    }
   ],
   "source": [
    "df.iloc[:, 1:3]"
   ]
  },
  {
   "cell_type": "markdown",
   "metadata": {},
   "source": [
    "### 显式获取一个值:"
   ]
  },
  {
   "cell_type": "code",
   "execution_count": 36,
   "metadata": {},
   "outputs": [
    {
     "data": {
      "text/plain": [
       "0.53297705530790285"
      ]
     },
     "execution_count": 36,
     "metadata": {},
     "output_type": "execute_result"
    }
   ],
   "source": [
    "df.iloc[1, 1]"
   ]
  },
  {
   "cell_type": "markdown",
   "metadata": {},
   "source": [
    "### 快速访问一个标量(等同上个方法):"
   ]
  },
  {
   "cell_type": "code",
   "execution_count": 37,
   "metadata": {},
   "outputs": [
    {
     "data": {
      "text/plain": [
       "0.53297705530790285"
      ]
     },
     "execution_count": 37,
     "metadata": {},
     "output_type": "execute_result"
    }
   ],
   "source": [
    "df.iat[1, 1]"
   ]
  },
  {
   "cell_type": "markdown",
   "metadata": {},
   "source": [
    "# 布尔索引"
   ]
  },
  {
   "cell_type": "markdown",
   "metadata": {},
   "source": [
    "### 使用单个列的值选择数据:"
   ]
  },
  {
   "cell_type": "code",
   "execution_count": 38,
   "metadata": {},
   "outputs": [
    {
     "data": {
      "text/html": [
       "<div>\n",
       "<style>\n",
       "    .dataframe thead tr:only-child th {\n",
       "        text-align: right;\n",
       "    }\n",
       "\n",
       "    .dataframe thead th {\n",
       "        text-align: left;\n",
       "    }\n",
       "\n",
       "    .dataframe tbody tr th {\n",
       "        vertical-align: top;\n",
       "    }\n",
       "</style>\n",
       "<table border=\"1\" class=\"dataframe\">\n",
       "  <thead>\n",
       "    <tr style=\"text-align: right;\">\n",
       "      <th></th>\n",
       "      <th>A</th>\n",
       "      <th>B</th>\n",
       "      <th>C</th>\n",
       "      <th>D</th>\n",
       "    </tr>\n",
       "  </thead>\n",
       "  <tbody>\n",
       "    <tr>\n",
       "      <th>2013-01-01</th>\n",
       "      <td>0.830988</td>\n",
       "      <td>0.211301</td>\n",
       "      <td>-0.926818</td>\n",
       "      <td>-0.613411</td>\n",
       "    </tr>\n",
       "    <tr>\n",
       "      <th>2013-01-03</th>\n",
       "      <td>0.890640</td>\n",
       "      <td>-1.036566</td>\n",
       "      <td>-2.189510</td>\n",
       "      <td>-0.397050</td>\n",
       "    </tr>\n",
       "    <tr>\n",
       "      <th>2013-01-04</th>\n",
       "      <td>1.565294</td>\n",
       "      <td>-0.901578</td>\n",
       "      <td>1.148267</td>\n",
       "      <td>0.287584</td>\n",
       "    </tr>\n",
       "    <tr>\n",
       "      <th>2013-01-05</th>\n",
       "      <td>0.180890</td>\n",
       "      <td>2.301889</td>\n",
       "      <td>-0.003075</td>\n",
       "      <td>0.478628</td>\n",
       "    </tr>\n",
       "  </tbody>\n",
       "</table>\n",
       "</div>"
      ],
      "text/plain": [
       "                   A         B         C         D\n",
       "2013-01-01  0.830988  0.211301 -0.926818 -0.613411\n",
       "2013-01-03  0.890640 -1.036566 -2.189510 -0.397050\n",
       "2013-01-04  1.565294 -0.901578  1.148267  0.287584\n",
       "2013-01-05  0.180890  2.301889 -0.003075  0.478628"
      ]
     },
     "execution_count": 38,
     "metadata": {},
     "output_type": "execute_result"
    }
   ],
   "source": [
    "df[df.A > 0]"
   ]
  },
  {
   "cell_type": "markdown",
   "metadata": {},
   "source": [
    "### where 操作:"
   ]
  },
  {
   "cell_type": "code",
   "execution_count": 39,
   "metadata": {},
   "outputs": [
    {
     "data": {
      "text/html": [
       "<div>\n",
       "<style>\n",
       "    .dataframe thead tr:only-child th {\n",
       "        text-align: right;\n",
       "    }\n",
       "\n",
       "    .dataframe thead th {\n",
       "        text-align: left;\n",
       "    }\n",
       "\n",
       "    .dataframe tbody tr th {\n",
       "        vertical-align: top;\n",
       "    }\n",
       "</style>\n",
       "<table border=\"1\" class=\"dataframe\">\n",
       "  <thead>\n",
       "    <tr style=\"text-align: right;\">\n",
       "      <th></th>\n",
       "      <th>A</th>\n",
       "      <th>B</th>\n",
       "      <th>C</th>\n",
       "      <th>D</th>\n",
       "    </tr>\n",
       "  </thead>\n",
       "  <tbody>\n",
       "    <tr>\n",
       "      <th>2013-01-01</th>\n",
       "      <td>0.830988</td>\n",
       "      <td>0.211301</td>\n",
       "      <td>NaN</td>\n",
       "      <td>NaN</td>\n",
       "    </tr>\n",
       "    <tr>\n",
       "      <th>2013-01-02</th>\n",
       "      <td>NaN</td>\n",
       "      <td>0.532977</td>\n",
       "      <td>1.192366</td>\n",
       "      <td>NaN</td>\n",
       "    </tr>\n",
       "    <tr>\n",
       "      <th>2013-01-03</th>\n",
       "      <td>0.890640</td>\n",
       "      <td>NaN</td>\n",
       "      <td>NaN</td>\n",
       "      <td>NaN</td>\n",
       "    </tr>\n",
       "    <tr>\n",
       "      <th>2013-01-04</th>\n",
       "      <td>1.565294</td>\n",
       "      <td>NaN</td>\n",
       "      <td>1.148267</td>\n",
       "      <td>0.287584</td>\n",
       "    </tr>\n",
       "    <tr>\n",
       "      <th>2013-01-05</th>\n",
       "      <td>0.180890</td>\n",
       "      <td>2.301889</td>\n",
       "      <td>NaN</td>\n",
       "      <td>0.478628</td>\n",
       "    </tr>\n",
       "    <tr>\n",
       "      <th>2013-01-06</th>\n",
       "      <td>NaN</td>\n",
       "      <td>NaN</td>\n",
       "      <td>NaN</td>\n",
       "      <td>NaN</td>\n",
       "    </tr>\n",
       "  </tbody>\n",
       "</table>\n",
       "</div>"
      ],
      "text/plain": [
       "                   A         B         C         D\n",
       "2013-01-01  0.830988  0.211301       NaN       NaN\n",
       "2013-01-02       NaN  0.532977  1.192366       NaN\n",
       "2013-01-03  0.890640       NaN       NaN       NaN\n",
       "2013-01-04  1.565294       NaN  1.148267  0.287584\n",
       "2013-01-05  0.180890  2.301889       NaN  0.478628\n",
       "2013-01-06       NaN       NaN       NaN       NaN"
      ]
     },
     "execution_count": 39,
     "metadata": {},
     "output_type": "execute_result"
    }
   ],
   "source": [
    "df[df > 0]"
   ]
  },
  {
   "cell_type": "markdown",
   "metadata": {},
   "source": [
    "### 使用 isin() 筛选:"
   ]
  },
  {
   "cell_type": "code",
   "execution_count": 40,
   "metadata": {},
   "outputs": [],
   "source": [
    "df2 = df.copy()"
   ]
  },
  {
   "cell_type": "code",
   "execution_count": 41,
   "metadata": {},
   "outputs": [],
   "source": [
    "df2['E'] = ['one', 'one', 'two', 'three', 'four', 'three']"
   ]
  },
  {
   "cell_type": "code",
   "execution_count": 42,
   "metadata": {},
   "outputs": [
    {
     "data": {
      "text/html": [
       "<div>\n",
       "<style>\n",
       "    .dataframe thead tr:only-child th {\n",
       "        text-align: right;\n",
       "    }\n",
       "\n",
       "    .dataframe thead th {\n",
       "        text-align: left;\n",
       "    }\n",
       "\n",
       "    .dataframe tbody tr th {\n",
       "        vertical-align: top;\n",
       "    }\n",
       "</style>\n",
       "<table border=\"1\" class=\"dataframe\">\n",
       "  <thead>\n",
       "    <tr style=\"text-align: right;\">\n",
       "      <th></th>\n",
       "      <th>A</th>\n",
       "      <th>B</th>\n",
       "      <th>C</th>\n",
       "      <th>D</th>\n",
       "      <th>E</th>\n",
       "    </tr>\n",
       "  </thead>\n",
       "  <tbody>\n",
       "    <tr>\n",
       "      <th>2013-01-01</th>\n",
       "      <td>0.830988</td>\n",
       "      <td>0.211301</td>\n",
       "      <td>-0.926818</td>\n",
       "      <td>-0.613411</td>\n",
       "      <td>one</td>\n",
       "    </tr>\n",
       "    <tr>\n",
       "      <th>2013-01-02</th>\n",
       "      <td>-1.314992</td>\n",
       "      <td>0.532977</td>\n",
       "      <td>1.192366</td>\n",
       "      <td>-1.106847</td>\n",
       "      <td>one</td>\n",
       "    </tr>\n",
       "    <tr>\n",
       "      <th>2013-01-03</th>\n",
       "      <td>0.890640</td>\n",
       "      <td>-1.036566</td>\n",
       "      <td>-2.189510</td>\n",
       "      <td>-0.397050</td>\n",
       "      <td>two</td>\n",
       "    </tr>\n",
       "    <tr>\n",
       "      <th>2013-01-04</th>\n",
       "      <td>1.565294</td>\n",
       "      <td>-0.901578</td>\n",
       "      <td>1.148267</td>\n",
       "      <td>0.287584</td>\n",
       "      <td>three</td>\n",
       "    </tr>\n",
       "    <tr>\n",
       "      <th>2013-01-05</th>\n",
       "      <td>0.180890</td>\n",
       "      <td>2.301889</td>\n",
       "      <td>-0.003075</td>\n",
       "      <td>0.478628</td>\n",
       "      <td>four</td>\n",
       "    </tr>\n",
       "    <tr>\n",
       "      <th>2013-01-06</th>\n",
       "      <td>-0.050440</td>\n",
       "      <td>-0.840614</td>\n",
       "      <td>-0.547810</td>\n",
       "      <td>-0.396750</td>\n",
       "      <td>three</td>\n",
       "    </tr>\n",
       "  </tbody>\n",
       "</table>\n",
       "</div>"
      ],
      "text/plain": [
       "                   A         B         C         D      E\n",
       "2013-01-01  0.830988  0.211301 -0.926818 -0.613411    one\n",
       "2013-01-02 -1.314992  0.532977  1.192366 -1.106847    one\n",
       "2013-01-03  0.890640 -1.036566 -2.189510 -0.397050    two\n",
       "2013-01-04  1.565294 -0.901578  1.148267  0.287584  three\n",
       "2013-01-05  0.180890  2.301889 -0.003075  0.478628   four\n",
       "2013-01-06 -0.050440 -0.840614 -0.547810 -0.396750  three"
      ]
     },
     "execution_count": 42,
     "metadata": {},
     "output_type": "execute_result"
    }
   ],
   "source": [
    "df2"
   ]
  },
  {
   "cell_type": "code",
   "execution_count": 43,
   "metadata": {},
   "outputs": [
    {
     "data": {
      "text/html": [
       "<div>\n",
       "<style>\n",
       "    .dataframe thead tr:only-child th {\n",
       "        text-align: right;\n",
       "    }\n",
       "\n",
       "    .dataframe thead th {\n",
       "        text-align: left;\n",
       "    }\n",
       "\n",
       "    .dataframe tbody tr th {\n",
       "        vertical-align: top;\n",
       "    }\n",
       "</style>\n",
       "<table border=\"1\" class=\"dataframe\">\n",
       "  <thead>\n",
       "    <tr style=\"text-align: right;\">\n",
       "      <th></th>\n",
       "      <th>A</th>\n",
       "      <th>B</th>\n",
       "      <th>C</th>\n",
       "      <th>D</th>\n",
       "      <th>E</th>\n",
       "    </tr>\n",
       "  </thead>\n",
       "  <tbody>\n",
       "    <tr>\n",
       "      <th>2013-01-03</th>\n",
       "      <td>0.89064</td>\n",
       "      <td>-1.036566</td>\n",
       "      <td>-2.189510</td>\n",
       "      <td>-0.397050</td>\n",
       "      <td>two</td>\n",
       "    </tr>\n",
       "    <tr>\n",
       "      <th>2013-01-05</th>\n",
       "      <td>0.18089</td>\n",
       "      <td>2.301889</td>\n",
       "      <td>-0.003075</td>\n",
       "      <td>0.478628</td>\n",
       "      <td>four</td>\n",
       "    </tr>\n",
       "  </tbody>\n",
       "</table>\n",
       "</div>"
      ],
      "text/plain": [
       "                  A         B         C         D     E\n",
       "2013-01-03  0.89064 -1.036566 -2.189510 -0.397050   two\n",
       "2013-01-05  0.18089  2.301889 -0.003075  0.478628  four"
      ]
     },
     "execution_count": 43,
     "metadata": {},
     "output_type": "execute_result"
    }
   ],
   "source": [
    "df2[df2['E'].isin(['two', 'four'])]"
   ]
  },
  {
   "cell_type": "markdown",
   "metadata": {},
   "source": [
    "# 赋值"
   ]
  },
  {
   "cell_type": "markdown",
   "metadata": {},
   "source": [
    "### 赋值一个新列, 通过索引自动对齐数据:"
   ]
  },
  {
   "cell_type": "code",
   "execution_count": 44,
   "metadata": {},
   "outputs": [],
   "source": [
    "s1 = pd.Series([1, 2, 3, 4, 5, 6], index=pd.date_range('20130102', periods=6))"
   ]
  },
  {
   "cell_type": "code",
   "execution_count": 45,
   "metadata": {},
   "outputs": [
    {
     "data": {
      "text/plain": [
       "2013-01-02    1\n",
       "2013-01-03    2\n",
       "2013-01-04    3\n",
       "2013-01-05    4\n",
       "2013-01-06    5\n",
       "2013-01-07    6\n",
       "Freq: D, dtype: int64"
      ]
     },
     "execution_count": 45,
     "metadata": {},
     "output_type": "execute_result"
    }
   ],
   "source": [
    "s1"
   ]
  },
  {
   "cell_type": "code",
   "execution_count": 46,
   "metadata": {},
   "outputs": [],
   "source": [
    "df['F'] = s1"
   ]
  },
  {
   "cell_type": "code",
   "execution_count": 47,
   "metadata": {},
   "outputs": [
    {
     "data": {
      "text/html": [
       "<div>\n",
       "<style>\n",
       "    .dataframe thead tr:only-child th {\n",
       "        text-align: right;\n",
       "    }\n",
       "\n",
       "    .dataframe thead th {\n",
       "        text-align: left;\n",
       "    }\n",
       "\n",
       "    .dataframe tbody tr th {\n",
       "        vertical-align: top;\n",
       "    }\n",
       "</style>\n",
       "<table border=\"1\" class=\"dataframe\">\n",
       "  <thead>\n",
       "    <tr style=\"text-align: right;\">\n",
       "      <th></th>\n",
       "      <th>A</th>\n",
       "      <th>B</th>\n",
       "      <th>C</th>\n",
       "      <th>D</th>\n",
       "      <th>F</th>\n",
       "    </tr>\n",
       "  </thead>\n",
       "  <tbody>\n",
       "    <tr>\n",
       "      <th>2013-01-01</th>\n",
       "      <td>0.830988</td>\n",
       "      <td>0.211301</td>\n",
       "      <td>-0.926818</td>\n",
       "      <td>-0.613411</td>\n",
       "      <td>NaN</td>\n",
       "    </tr>\n",
       "    <tr>\n",
       "      <th>2013-01-02</th>\n",
       "      <td>-1.314992</td>\n",
       "      <td>0.532977</td>\n",
       "      <td>1.192366</td>\n",
       "      <td>-1.106847</td>\n",
       "      <td>1.0</td>\n",
       "    </tr>\n",
       "    <tr>\n",
       "      <th>2013-01-03</th>\n",
       "      <td>0.890640</td>\n",
       "      <td>-1.036566</td>\n",
       "      <td>-2.189510</td>\n",
       "      <td>-0.397050</td>\n",
       "      <td>2.0</td>\n",
       "    </tr>\n",
       "    <tr>\n",
       "      <th>2013-01-04</th>\n",
       "      <td>1.565294</td>\n",
       "      <td>-0.901578</td>\n",
       "      <td>1.148267</td>\n",
       "      <td>0.287584</td>\n",
       "      <td>3.0</td>\n",
       "    </tr>\n",
       "    <tr>\n",
       "      <th>2013-01-05</th>\n",
       "      <td>0.180890</td>\n",
       "      <td>2.301889</td>\n",
       "      <td>-0.003075</td>\n",
       "      <td>0.478628</td>\n",
       "      <td>4.0</td>\n",
       "    </tr>\n",
       "    <tr>\n",
       "      <th>2013-01-06</th>\n",
       "      <td>-0.050440</td>\n",
       "      <td>-0.840614</td>\n",
       "      <td>-0.547810</td>\n",
       "      <td>-0.396750</td>\n",
       "      <td>5.0</td>\n",
       "    </tr>\n",
       "  </tbody>\n",
       "</table>\n",
       "</div>"
      ],
      "text/plain": [
       "                   A         B         C         D    F\n",
       "2013-01-01  0.830988  0.211301 -0.926818 -0.613411  NaN\n",
       "2013-01-02 -1.314992  0.532977  1.192366 -1.106847  1.0\n",
       "2013-01-03  0.890640 -1.036566 -2.189510 -0.397050  2.0\n",
       "2013-01-04  1.565294 -0.901578  1.148267  0.287584  3.0\n",
       "2013-01-05  0.180890  2.301889 -0.003075  0.478628  4.0\n",
       "2013-01-06 -0.050440 -0.840614 -0.547810 -0.396750  5.0"
      ]
     },
     "execution_count": 47,
     "metadata": {},
     "output_type": "execute_result"
    }
   ],
   "source": [
    "df"
   ]
  },
  {
   "cell_type": "markdown",
   "metadata": {},
   "source": [
    "### 按标签赋值:"
   ]
  },
  {
   "cell_type": "code",
   "execution_count": 48,
   "metadata": {},
   "outputs": [],
   "source": [
    "df.at[dates[0], 'A'] = 0"
   ]
  },
  {
   "cell_type": "code",
   "execution_count": 49,
   "metadata": {},
   "outputs": [
    {
     "data": {
      "text/html": [
       "<div>\n",
       "<style>\n",
       "    .dataframe thead tr:only-child th {\n",
       "        text-align: right;\n",
       "    }\n",
       "\n",
       "    .dataframe thead th {\n",
       "        text-align: left;\n",
       "    }\n",
       "\n",
       "    .dataframe tbody tr th {\n",
       "        vertical-align: top;\n",
       "    }\n",
       "</style>\n",
       "<table border=\"1\" class=\"dataframe\">\n",
       "  <thead>\n",
       "    <tr style=\"text-align: right;\">\n",
       "      <th></th>\n",
       "      <th>A</th>\n",
       "      <th>B</th>\n",
       "      <th>C</th>\n",
       "      <th>D</th>\n",
       "      <th>F</th>\n",
       "    </tr>\n",
       "  </thead>\n",
       "  <tbody>\n",
       "    <tr>\n",
       "      <th>2013-01-01</th>\n",
       "      <td>0.000000</td>\n",
       "      <td>0.211301</td>\n",
       "      <td>-0.926818</td>\n",
       "      <td>-0.613411</td>\n",
       "      <td>NaN</td>\n",
       "    </tr>\n",
       "    <tr>\n",
       "      <th>2013-01-02</th>\n",
       "      <td>-1.314992</td>\n",
       "      <td>0.532977</td>\n",
       "      <td>1.192366</td>\n",
       "      <td>-1.106847</td>\n",
       "      <td>1.0</td>\n",
       "    </tr>\n",
       "    <tr>\n",
       "      <th>2013-01-03</th>\n",
       "      <td>0.890640</td>\n",
       "      <td>-1.036566</td>\n",
       "      <td>-2.189510</td>\n",
       "      <td>-0.397050</td>\n",
       "      <td>2.0</td>\n",
       "    </tr>\n",
       "    <tr>\n",
       "      <th>2013-01-04</th>\n",
       "      <td>1.565294</td>\n",
       "      <td>-0.901578</td>\n",
       "      <td>1.148267</td>\n",
       "      <td>0.287584</td>\n",
       "      <td>3.0</td>\n",
       "    </tr>\n",
       "    <tr>\n",
       "      <th>2013-01-05</th>\n",
       "      <td>0.180890</td>\n",
       "      <td>2.301889</td>\n",
       "      <td>-0.003075</td>\n",
       "      <td>0.478628</td>\n",
       "      <td>4.0</td>\n",
       "    </tr>\n",
       "    <tr>\n",
       "      <th>2013-01-06</th>\n",
       "      <td>-0.050440</td>\n",
       "      <td>-0.840614</td>\n",
       "      <td>-0.547810</td>\n",
       "      <td>-0.396750</td>\n",
       "      <td>5.0</td>\n",
       "    </tr>\n",
       "  </tbody>\n",
       "</table>\n",
       "</div>"
      ],
      "text/plain": [
       "                   A         B         C         D    F\n",
       "2013-01-01  0.000000  0.211301 -0.926818 -0.613411  NaN\n",
       "2013-01-02 -1.314992  0.532977  1.192366 -1.106847  1.0\n",
       "2013-01-03  0.890640 -1.036566 -2.189510 -0.397050  2.0\n",
       "2013-01-04  1.565294 -0.901578  1.148267  0.287584  3.0\n",
       "2013-01-05  0.180890  2.301889 -0.003075  0.478628  4.0\n",
       "2013-01-06 -0.050440 -0.840614 -0.547810 -0.396750  5.0"
      ]
     },
     "execution_count": 49,
     "metadata": {},
     "output_type": "execute_result"
    }
   ],
   "source": [
    "df"
   ]
  },
  {
   "cell_type": "markdown",
   "metadata": {},
   "source": [
    "### 按位置赋值:"
   ]
  },
  {
   "cell_type": "code",
   "execution_count": 50,
   "metadata": {},
   "outputs": [],
   "source": [
    "df.iat[0, 1] = 0"
   ]
  },
  {
   "cell_type": "code",
   "execution_count": 51,
   "metadata": {},
   "outputs": [
    {
     "data": {
      "text/html": [
       "<div>\n",
       "<style>\n",
       "    .dataframe thead tr:only-child th {\n",
       "        text-align: right;\n",
       "    }\n",
       "\n",
       "    .dataframe thead th {\n",
       "        text-align: left;\n",
       "    }\n",
       "\n",
       "    .dataframe tbody tr th {\n",
       "        vertical-align: top;\n",
       "    }\n",
       "</style>\n",
       "<table border=\"1\" class=\"dataframe\">\n",
       "  <thead>\n",
       "    <tr style=\"text-align: right;\">\n",
       "      <th></th>\n",
       "      <th>A</th>\n",
       "      <th>B</th>\n",
       "      <th>C</th>\n",
       "      <th>D</th>\n",
       "      <th>F</th>\n",
       "    </tr>\n",
       "  </thead>\n",
       "  <tbody>\n",
       "    <tr>\n",
       "      <th>2013-01-01</th>\n",
       "      <td>0.000000</td>\n",
       "      <td>0.000000</td>\n",
       "      <td>-0.926818</td>\n",
       "      <td>-0.613411</td>\n",
       "      <td>NaN</td>\n",
       "    </tr>\n",
       "    <tr>\n",
       "      <th>2013-01-02</th>\n",
       "      <td>-1.314992</td>\n",
       "      <td>0.532977</td>\n",
       "      <td>1.192366</td>\n",
       "      <td>-1.106847</td>\n",
       "      <td>1.0</td>\n",
       "    </tr>\n",
       "    <tr>\n",
       "      <th>2013-01-03</th>\n",
       "      <td>0.890640</td>\n",
       "      <td>-1.036566</td>\n",
       "      <td>-2.189510</td>\n",
       "      <td>-0.397050</td>\n",
       "      <td>2.0</td>\n",
       "    </tr>\n",
       "    <tr>\n",
       "      <th>2013-01-04</th>\n",
       "      <td>1.565294</td>\n",
       "      <td>-0.901578</td>\n",
       "      <td>1.148267</td>\n",
       "      <td>0.287584</td>\n",
       "      <td>3.0</td>\n",
       "    </tr>\n",
       "    <tr>\n",
       "      <th>2013-01-05</th>\n",
       "      <td>0.180890</td>\n",
       "      <td>2.301889</td>\n",
       "      <td>-0.003075</td>\n",
       "      <td>0.478628</td>\n",
       "      <td>4.0</td>\n",
       "    </tr>\n",
       "    <tr>\n",
       "      <th>2013-01-06</th>\n",
       "      <td>-0.050440</td>\n",
       "      <td>-0.840614</td>\n",
       "      <td>-0.547810</td>\n",
       "      <td>-0.396750</td>\n",
       "      <td>5.0</td>\n",
       "    </tr>\n",
       "  </tbody>\n",
       "</table>\n",
       "</div>"
      ],
      "text/plain": [
       "                   A         B         C         D    F\n",
       "2013-01-01  0.000000  0.000000 -0.926818 -0.613411  NaN\n",
       "2013-01-02 -1.314992  0.532977  1.192366 -1.106847  1.0\n",
       "2013-01-03  0.890640 -1.036566 -2.189510 -0.397050  2.0\n",
       "2013-01-04  1.565294 -0.901578  1.148267  0.287584  3.0\n",
       "2013-01-05  0.180890  2.301889 -0.003075  0.478628  4.0\n",
       "2013-01-06 -0.050440 -0.840614 -0.547810 -0.396750  5.0"
      ]
     },
     "execution_count": 51,
     "metadata": {},
     "output_type": "execute_result"
    }
   ],
   "source": [
    "df"
   ]
  },
  {
   "cell_type": "markdown",
   "metadata": {},
   "source": [
    "### 通过 numpy 数组分配赋值:"
   ]
  },
  {
   "cell_type": "code",
   "execution_count": 52,
   "metadata": {},
   "outputs": [],
   "source": [
    "df.loc[:, 'D'] = np.array([5] * len(df))"
   ]
  },
  {
   "cell_type": "code",
   "execution_count": 53,
   "metadata": {},
   "outputs": [
    {
     "data": {
      "text/html": [
       "<div>\n",
       "<style>\n",
       "    .dataframe thead tr:only-child th {\n",
       "        text-align: right;\n",
       "    }\n",
       "\n",
       "    .dataframe thead th {\n",
       "        text-align: left;\n",
       "    }\n",
       "\n",
       "    .dataframe tbody tr th {\n",
       "        vertical-align: top;\n",
       "    }\n",
       "</style>\n",
       "<table border=\"1\" class=\"dataframe\">\n",
       "  <thead>\n",
       "    <tr style=\"text-align: right;\">\n",
       "      <th></th>\n",
       "      <th>A</th>\n",
       "      <th>B</th>\n",
       "      <th>C</th>\n",
       "      <th>D</th>\n",
       "      <th>F</th>\n",
       "    </tr>\n",
       "  </thead>\n",
       "  <tbody>\n",
       "    <tr>\n",
       "      <th>2013-01-01</th>\n",
       "      <td>0.000000</td>\n",
       "      <td>0.000000</td>\n",
       "      <td>-0.926818</td>\n",
       "      <td>5</td>\n",
       "      <td>NaN</td>\n",
       "    </tr>\n",
       "    <tr>\n",
       "      <th>2013-01-02</th>\n",
       "      <td>-1.314992</td>\n",
       "      <td>0.532977</td>\n",
       "      <td>1.192366</td>\n",
       "      <td>5</td>\n",
       "      <td>1.0</td>\n",
       "    </tr>\n",
       "    <tr>\n",
       "      <th>2013-01-03</th>\n",
       "      <td>0.890640</td>\n",
       "      <td>-1.036566</td>\n",
       "      <td>-2.189510</td>\n",
       "      <td>5</td>\n",
       "      <td>2.0</td>\n",
       "    </tr>\n",
       "    <tr>\n",
       "      <th>2013-01-04</th>\n",
       "      <td>1.565294</td>\n",
       "      <td>-0.901578</td>\n",
       "      <td>1.148267</td>\n",
       "      <td>5</td>\n",
       "      <td>3.0</td>\n",
       "    </tr>\n",
       "    <tr>\n",
       "      <th>2013-01-05</th>\n",
       "      <td>0.180890</td>\n",
       "      <td>2.301889</td>\n",
       "      <td>-0.003075</td>\n",
       "      <td>5</td>\n",
       "      <td>4.0</td>\n",
       "    </tr>\n",
       "    <tr>\n",
       "      <th>2013-01-06</th>\n",
       "      <td>-0.050440</td>\n",
       "      <td>-0.840614</td>\n",
       "      <td>-0.547810</td>\n",
       "      <td>5</td>\n",
       "      <td>5.0</td>\n",
       "    </tr>\n",
       "  </tbody>\n",
       "</table>\n",
       "</div>"
      ],
      "text/plain": [
       "                   A         B         C  D    F\n",
       "2013-01-01  0.000000  0.000000 -0.926818  5  NaN\n",
       "2013-01-02 -1.314992  0.532977  1.192366  5  1.0\n",
       "2013-01-03  0.890640 -1.036566 -2.189510  5  2.0\n",
       "2013-01-04  1.565294 -0.901578  1.148267  5  3.0\n",
       "2013-01-05  0.180890  2.301889 -0.003075  5  4.0\n",
       "2013-01-06 -0.050440 -0.840614 -0.547810  5  5.0"
      ]
     },
     "execution_count": 53,
     "metadata": {},
     "output_type": "execute_result"
    }
   ],
   "source": [
    "df"
   ]
  },
  {
   "cell_type": "markdown",
   "metadata": {},
   "source": [
    "### where 操作赋值:"
   ]
  },
  {
   "cell_type": "code",
   "execution_count": 54,
   "metadata": {},
   "outputs": [],
   "source": [
    "df2 = df.copy()"
   ]
  },
  {
   "cell_type": "code",
   "execution_count": 55,
   "metadata": {
    "collapsed": true
   },
   "outputs": [],
   "source": [
    "df2[df2 > 0] = -df2"
   ]
  },
  {
   "cell_type": "code",
   "execution_count": 56,
   "metadata": {},
   "outputs": [
    {
     "data": {
      "text/html": [
       "<div>\n",
       "<style>\n",
       "    .dataframe thead tr:only-child th {\n",
       "        text-align: right;\n",
       "    }\n",
       "\n",
       "    .dataframe thead th {\n",
       "        text-align: left;\n",
       "    }\n",
       "\n",
       "    .dataframe tbody tr th {\n",
       "        vertical-align: top;\n",
       "    }\n",
       "</style>\n",
       "<table border=\"1\" class=\"dataframe\">\n",
       "  <thead>\n",
       "    <tr style=\"text-align: right;\">\n",
       "      <th></th>\n",
       "      <th>A</th>\n",
       "      <th>B</th>\n",
       "      <th>C</th>\n",
       "      <th>D</th>\n",
       "      <th>F</th>\n",
       "    </tr>\n",
       "  </thead>\n",
       "  <tbody>\n",
       "    <tr>\n",
       "      <th>2013-01-01</th>\n",
       "      <td>0.000000</td>\n",
       "      <td>0.000000</td>\n",
       "      <td>-0.926818</td>\n",
       "      <td>-5</td>\n",
       "      <td>NaN</td>\n",
       "    </tr>\n",
       "    <tr>\n",
       "      <th>2013-01-02</th>\n",
       "      <td>-1.314992</td>\n",
       "      <td>-0.532977</td>\n",
       "      <td>-1.192366</td>\n",
       "      <td>-5</td>\n",
       "      <td>-1.0</td>\n",
       "    </tr>\n",
       "    <tr>\n",
       "      <th>2013-01-03</th>\n",
       "      <td>-0.890640</td>\n",
       "      <td>-1.036566</td>\n",
       "      <td>-2.189510</td>\n",
       "      <td>-5</td>\n",
       "      <td>-2.0</td>\n",
       "    </tr>\n",
       "    <tr>\n",
       "      <th>2013-01-04</th>\n",
       "      <td>-1.565294</td>\n",
       "      <td>-0.901578</td>\n",
       "      <td>-1.148267</td>\n",
       "      <td>-5</td>\n",
       "      <td>-3.0</td>\n",
       "    </tr>\n",
       "    <tr>\n",
       "      <th>2013-01-05</th>\n",
       "      <td>-0.180890</td>\n",
       "      <td>-2.301889</td>\n",
       "      <td>-0.003075</td>\n",
       "      <td>-5</td>\n",
       "      <td>-4.0</td>\n",
       "    </tr>\n",
       "    <tr>\n",
       "      <th>2013-01-06</th>\n",
       "      <td>-0.050440</td>\n",
       "      <td>-0.840614</td>\n",
       "      <td>-0.547810</td>\n",
       "      <td>-5</td>\n",
       "      <td>-5.0</td>\n",
       "    </tr>\n",
       "  </tbody>\n",
       "</table>\n",
       "</div>"
      ],
      "text/plain": [
       "                   A         B         C  D    F\n",
       "2013-01-01  0.000000  0.000000 -0.926818 -5  NaN\n",
       "2013-01-02 -1.314992 -0.532977 -1.192366 -5 -1.0\n",
       "2013-01-03 -0.890640 -1.036566 -2.189510 -5 -2.0\n",
       "2013-01-04 -1.565294 -0.901578 -1.148267 -5 -3.0\n",
       "2013-01-05 -0.180890 -2.301889 -0.003075 -5 -4.0\n",
       "2013-01-06 -0.050440 -0.840614 -0.547810 -5 -5.0"
      ]
     },
     "execution_count": 56,
     "metadata": {},
     "output_type": "execute_result"
    }
   ],
   "source": [
    "df2"
   ]
  },
  {
   "cell_type": "markdown",
   "metadata": {},
   "source": [
    "# 丢失的数据"
   ]
  },
  {
   "cell_type": "markdown",
   "metadata": {},
   "source": [
    "pandas 主要使用 np.nan 替换丢失的数据. 默认情况下它并不包含在计算中."
   ]
  },
  {
   "cell_type": "markdown",
   "metadata": {},
   "source": [
    "### 重建索引允许 更改/添加/删除 指定指定轴索引, 并返回数据副本:"
   ]
  },
  {
   "cell_type": "code",
   "execution_count": 57,
   "metadata": {},
   "outputs": [],
   "source": [
    "df1 = df.reindex(index=dates[0:4], columns=list(df.columns) + ['E'])"
   ]
  },
  {
   "cell_type": "code",
   "execution_count": 58,
   "metadata": {
    "collapsed": true
   },
   "outputs": [],
   "source": [
    "df1.loc[dates[0]: dates[1], 'E'] = 1"
   ]
  },
  {
   "cell_type": "code",
   "execution_count": 59,
   "metadata": {},
   "outputs": [
    {
     "data": {
      "text/html": [
       "<div>\n",
       "<style>\n",
       "    .dataframe thead tr:only-child th {\n",
       "        text-align: right;\n",
       "    }\n",
       "\n",
       "    .dataframe thead th {\n",
       "        text-align: left;\n",
       "    }\n",
       "\n",
       "    .dataframe tbody tr th {\n",
       "        vertical-align: top;\n",
       "    }\n",
       "</style>\n",
       "<table border=\"1\" class=\"dataframe\">\n",
       "  <thead>\n",
       "    <tr style=\"text-align: right;\">\n",
       "      <th></th>\n",
       "      <th>A</th>\n",
       "      <th>B</th>\n",
       "      <th>C</th>\n",
       "      <th>D</th>\n",
       "      <th>F</th>\n",
       "      <th>E</th>\n",
       "    </tr>\n",
       "  </thead>\n",
       "  <tbody>\n",
       "    <tr>\n",
       "      <th>2013-01-01</th>\n",
       "      <td>0.000000</td>\n",
       "      <td>0.000000</td>\n",
       "      <td>-0.926818</td>\n",
       "      <td>5</td>\n",
       "      <td>NaN</td>\n",
       "      <td>1.0</td>\n",
       "    </tr>\n",
       "    <tr>\n",
       "      <th>2013-01-02</th>\n",
       "      <td>-1.314992</td>\n",
       "      <td>0.532977</td>\n",
       "      <td>1.192366</td>\n",
       "      <td>5</td>\n",
       "      <td>1.0</td>\n",
       "      <td>1.0</td>\n",
       "    </tr>\n",
       "    <tr>\n",
       "      <th>2013-01-03</th>\n",
       "      <td>0.890640</td>\n",
       "      <td>-1.036566</td>\n",
       "      <td>-2.189510</td>\n",
       "      <td>5</td>\n",
       "      <td>2.0</td>\n",
       "      <td>NaN</td>\n",
       "    </tr>\n",
       "    <tr>\n",
       "      <th>2013-01-04</th>\n",
       "      <td>1.565294</td>\n",
       "      <td>-0.901578</td>\n",
       "      <td>1.148267</td>\n",
       "      <td>5</td>\n",
       "      <td>3.0</td>\n",
       "      <td>NaN</td>\n",
       "    </tr>\n",
       "  </tbody>\n",
       "</table>\n",
       "</div>"
      ],
      "text/plain": [
       "                   A         B         C  D    F    E\n",
       "2013-01-01  0.000000  0.000000 -0.926818  5  NaN  1.0\n",
       "2013-01-02 -1.314992  0.532977  1.192366  5  1.0  1.0\n",
       "2013-01-03  0.890640 -1.036566 -2.189510  5  2.0  NaN\n",
       "2013-01-04  1.565294 -0.901578  1.148267  5  3.0  NaN"
      ]
     },
     "execution_count": 59,
     "metadata": {},
     "output_type": "execute_result"
    }
   ],
   "source": [
    "df1"
   ]
  },
  {
   "cell_type": "markdown",
   "metadata": {},
   "source": [
    "### 删除任何有丢失数据的行:"
   ]
  },
  {
   "cell_type": "code",
   "execution_count": 60,
   "metadata": {},
   "outputs": [
    {
     "data": {
      "text/html": [
       "<div>\n",
       "<style>\n",
       "    .dataframe thead tr:only-child th {\n",
       "        text-align: right;\n",
       "    }\n",
       "\n",
       "    .dataframe thead th {\n",
       "        text-align: left;\n",
       "    }\n",
       "\n",
       "    .dataframe tbody tr th {\n",
       "        vertical-align: top;\n",
       "    }\n",
       "</style>\n",
       "<table border=\"1\" class=\"dataframe\">\n",
       "  <thead>\n",
       "    <tr style=\"text-align: right;\">\n",
       "      <th></th>\n",
       "      <th>A</th>\n",
       "      <th>B</th>\n",
       "      <th>C</th>\n",
       "      <th>D</th>\n",
       "      <th>F</th>\n",
       "      <th>E</th>\n",
       "    </tr>\n",
       "  </thead>\n",
       "  <tbody>\n",
       "    <tr>\n",
       "      <th>2013-01-02</th>\n",
       "      <td>-1.314992</td>\n",
       "      <td>0.532977</td>\n",
       "      <td>1.192366</td>\n",
       "      <td>5</td>\n",
       "      <td>1.0</td>\n",
       "      <td>1.0</td>\n",
       "    </tr>\n",
       "  </tbody>\n",
       "</table>\n",
       "</div>"
      ],
      "text/plain": [
       "                   A         B         C  D    F    E\n",
       "2013-01-02 -1.314992  0.532977  1.192366  5  1.0  1.0"
      ]
     },
     "execution_count": 60,
     "metadata": {},
     "output_type": "execute_result"
    }
   ],
   "source": [
    "df1.dropna(how='any')"
   ]
  },
  {
   "cell_type": "markdown",
   "metadata": {},
   "source": [
    "### 填充丢失数据:"
   ]
  },
  {
   "cell_type": "code",
   "execution_count": 61,
   "metadata": {},
   "outputs": [
    {
     "data": {
      "text/html": [
       "<div>\n",
       "<style>\n",
       "    .dataframe thead tr:only-child th {\n",
       "        text-align: right;\n",
       "    }\n",
       "\n",
       "    .dataframe thead th {\n",
       "        text-align: left;\n",
       "    }\n",
       "\n",
       "    .dataframe tbody tr th {\n",
       "        vertical-align: top;\n",
       "    }\n",
       "</style>\n",
       "<table border=\"1\" class=\"dataframe\">\n",
       "  <thead>\n",
       "    <tr style=\"text-align: right;\">\n",
       "      <th></th>\n",
       "      <th>A</th>\n",
       "      <th>B</th>\n",
       "      <th>C</th>\n",
       "      <th>D</th>\n",
       "      <th>F</th>\n",
       "      <th>E</th>\n",
       "    </tr>\n",
       "  </thead>\n",
       "  <tbody>\n",
       "    <tr>\n",
       "      <th>2013-01-01</th>\n",
       "      <td>0.000000</td>\n",
       "      <td>0.000000</td>\n",
       "      <td>-0.926818</td>\n",
       "      <td>5</td>\n",
       "      <td>5.0</td>\n",
       "      <td>1.0</td>\n",
       "    </tr>\n",
       "    <tr>\n",
       "      <th>2013-01-02</th>\n",
       "      <td>-1.314992</td>\n",
       "      <td>0.532977</td>\n",
       "      <td>1.192366</td>\n",
       "      <td>5</td>\n",
       "      <td>1.0</td>\n",
       "      <td>1.0</td>\n",
       "    </tr>\n",
       "    <tr>\n",
       "      <th>2013-01-03</th>\n",
       "      <td>0.890640</td>\n",
       "      <td>-1.036566</td>\n",
       "      <td>-2.189510</td>\n",
       "      <td>5</td>\n",
       "      <td>2.0</td>\n",
       "      <td>5.0</td>\n",
       "    </tr>\n",
       "    <tr>\n",
       "      <th>2013-01-04</th>\n",
       "      <td>1.565294</td>\n",
       "      <td>-0.901578</td>\n",
       "      <td>1.148267</td>\n",
       "      <td>5</td>\n",
       "      <td>3.0</td>\n",
       "      <td>5.0</td>\n",
       "    </tr>\n",
       "  </tbody>\n",
       "</table>\n",
       "</div>"
      ],
      "text/plain": [
       "                   A         B         C  D    F    E\n",
       "2013-01-01  0.000000  0.000000 -0.926818  5  5.0  1.0\n",
       "2013-01-02 -1.314992  0.532977  1.192366  5  1.0  1.0\n",
       "2013-01-03  0.890640 -1.036566 -2.189510  5  2.0  5.0\n",
       "2013-01-04  1.565294 -0.901578  1.148267  5  3.0  5.0"
      ]
     },
     "execution_count": 61,
     "metadata": {},
     "output_type": "execute_result"
    }
   ],
   "source": [
    "df1.fillna(value=5)"
   ]
  },
  {
   "cell_type": "markdown",
   "metadata": {},
   "source": [
    "### 获取值是否为 nana 的布尔标记:"
   ]
  },
  {
   "cell_type": "code",
   "execution_count": 62,
   "metadata": {},
   "outputs": [
    {
     "data": {
      "text/html": [
       "<div>\n",
       "<style>\n",
       "    .dataframe thead tr:only-child th {\n",
       "        text-align: right;\n",
       "    }\n",
       "\n",
       "    .dataframe thead th {\n",
       "        text-align: left;\n",
       "    }\n",
       "\n",
       "    .dataframe tbody tr th {\n",
       "        vertical-align: top;\n",
       "    }\n",
       "</style>\n",
       "<table border=\"1\" class=\"dataframe\">\n",
       "  <thead>\n",
       "    <tr style=\"text-align: right;\">\n",
       "      <th></th>\n",
       "      <th>A</th>\n",
       "      <th>B</th>\n",
       "      <th>C</th>\n",
       "      <th>D</th>\n",
       "      <th>F</th>\n",
       "      <th>E</th>\n",
       "    </tr>\n",
       "  </thead>\n",
       "  <tbody>\n",
       "    <tr>\n",
       "      <th>2013-01-01</th>\n",
       "      <td>False</td>\n",
       "      <td>False</td>\n",
       "      <td>False</td>\n",
       "      <td>False</td>\n",
       "      <td>True</td>\n",
       "      <td>False</td>\n",
       "    </tr>\n",
       "    <tr>\n",
       "      <th>2013-01-02</th>\n",
       "      <td>False</td>\n",
       "      <td>False</td>\n",
       "      <td>False</td>\n",
       "      <td>False</td>\n",
       "      <td>False</td>\n",
       "      <td>False</td>\n",
       "    </tr>\n",
       "    <tr>\n",
       "      <th>2013-01-03</th>\n",
       "      <td>False</td>\n",
       "      <td>False</td>\n",
       "      <td>False</td>\n",
       "      <td>False</td>\n",
       "      <td>False</td>\n",
       "      <td>True</td>\n",
       "    </tr>\n",
       "    <tr>\n",
       "      <th>2013-01-04</th>\n",
       "      <td>False</td>\n",
       "      <td>False</td>\n",
       "      <td>False</td>\n",
       "      <td>False</td>\n",
       "      <td>False</td>\n",
       "      <td>True</td>\n",
       "    </tr>\n",
       "  </tbody>\n",
       "</table>\n",
       "</div>"
      ],
      "text/plain": [
       "                A      B      C      D      F      E\n",
       "2013-01-01  False  False  False  False   True  False\n",
       "2013-01-02  False  False  False  False  False  False\n",
       "2013-01-03  False  False  False  False  False   True\n",
       "2013-01-04  False  False  False  False  False   True"
      ]
     },
     "execution_count": 62,
     "metadata": {},
     "output_type": "execute_result"
    }
   ],
   "source": [
    " pd.isnull(df1)"
   ]
  },
  {
   "cell_type": "markdown",
   "metadata": {},
   "source": [
    "# 运算"
   ]
  },
  {
   "cell_type": "markdown",
   "metadata": {},
   "source": [
    "## 统计\n",
    "计算时一般不包括丢失的数据"
   ]
  },
  {
   "cell_type": "markdown",
   "metadata": {},
   "source": [
    "### 在 index 轴上计算均值:"
   ]
  },
  {
   "cell_type": "code",
   "execution_count": 63,
   "metadata": {},
   "outputs": [
    {
     "data": {
      "text/plain": [
       "A    0.211899\n",
       "B    0.009351\n",
       "C   -0.221097\n",
       "D    5.000000\n",
       "F    3.000000\n",
       "dtype: float64"
      ]
     },
     "execution_count": 63,
     "metadata": {},
     "output_type": "execute_result"
    }
   ],
   "source": [
    "df.mean()  # axis参数默认为0, 表示 index 轴"
   ]
  },
  {
   "cell_type": "markdown",
   "metadata": {},
   "source": [
    "### 在 column 轴上计算均值:"
   ]
  },
  {
   "cell_type": "code",
   "execution_count": 64,
   "metadata": {},
   "outputs": [
    {
     "data": {
      "text/plain": [
       "2013-01-01    1.018295\n",
       "2013-01-02    1.282070\n",
       "2013-01-03    0.932913\n",
       "2013-01-04    1.962396\n",
       "2013-01-05    2.295941\n",
       "2013-01-06    1.712227\n",
       "Freq: D, dtype: float64"
      ]
     },
     "execution_count": 64,
     "metadata": {},
     "output_type": "execute_result"
    }
   ],
   "source": [
    "df.mean(axis=1)"
   ]
  },
  {
   "cell_type": "markdown",
   "metadata": {},
   "source": [
    "### 用于运算的对象有不同维度并需要对齐. 除此之外, pandas 会自动沿着指定维度计算:"
   ]
  },
  {
   "cell_type": "code",
   "execution_count": 65,
   "metadata": {},
   "outputs": [],
   "source": [
    "s = pd.Series([1, 3, 5, np.nan, 6, 8], index=dates).shift(2)"
   ]
  },
  {
   "cell_type": "code",
   "execution_count": 66,
   "metadata": {},
   "outputs": [
    {
     "data": {
      "text/plain": [
       "2013-01-01    NaN\n",
       "2013-01-02    NaN\n",
       "2013-01-03    1.0\n",
       "2013-01-04    3.0\n",
       "2013-01-05    5.0\n",
       "2013-01-06    NaN\n",
       "Freq: D, dtype: float64"
      ]
     },
     "execution_count": 66,
     "metadata": {},
     "output_type": "execute_result"
    }
   ],
   "source": [
    "s"
   ]
  },
  {
   "cell_type": "code",
   "execution_count": 67,
   "metadata": {},
   "outputs": [
    {
     "data": {
      "text/html": [
       "<div>\n",
       "<style>\n",
       "    .dataframe thead tr:only-child th {\n",
       "        text-align: right;\n",
       "    }\n",
       "\n",
       "    .dataframe thead th {\n",
       "        text-align: left;\n",
       "    }\n",
       "\n",
       "    .dataframe tbody tr th {\n",
       "        vertical-align: top;\n",
       "    }\n",
       "</style>\n",
       "<table border=\"1\" class=\"dataframe\">\n",
       "  <thead>\n",
       "    <tr style=\"text-align: right;\">\n",
       "      <th></th>\n",
       "      <th>A</th>\n",
       "      <th>B</th>\n",
       "      <th>C</th>\n",
       "      <th>D</th>\n",
       "      <th>F</th>\n",
       "    </tr>\n",
       "  </thead>\n",
       "  <tbody>\n",
       "    <tr>\n",
       "      <th>2013-01-01</th>\n",
       "      <td>0.000000</td>\n",
       "      <td>0.000000</td>\n",
       "      <td>-0.926818</td>\n",
       "      <td>5</td>\n",
       "      <td>NaN</td>\n",
       "    </tr>\n",
       "    <tr>\n",
       "      <th>2013-01-02</th>\n",
       "      <td>-1.314992</td>\n",
       "      <td>0.532977</td>\n",
       "      <td>1.192366</td>\n",
       "      <td>5</td>\n",
       "      <td>1.0</td>\n",
       "    </tr>\n",
       "    <tr>\n",
       "      <th>2013-01-03</th>\n",
       "      <td>0.890640</td>\n",
       "      <td>-1.036566</td>\n",
       "      <td>-2.189510</td>\n",
       "      <td>5</td>\n",
       "      <td>2.0</td>\n",
       "    </tr>\n",
       "    <tr>\n",
       "      <th>2013-01-04</th>\n",
       "      <td>1.565294</td>\n",
       "      <td>-0.901578</td>\n",
       "      <td>1.148267</td>\n",
       "      <td>5</td>\n",
       "      <td>3.0</td>\n",
       "    </tr>\n",
       "    <tr>\n",
       "      <th>2013-01-05</th>\n",
       "      <td>0.180890</td>\n",
       "      <td>2.301889</td>\n",
       "      <td>-0.003075</td>\n",
       "      <td>5</td>\n",
       "      <td>4.0</td>\n",
       "    </tr>\n",
       "    <tr>\n",
       "      <th>2013-01-06</th>\n",
       "      <td>-0.050440</td>\n",
       "      <td>-0.840614</td>\n",
       "      <td>-0.547810</td>\n",
       "      <td>5</td>\n",
       "      <td>5.0</td>\n",
       "    </tr>\n",
       "  </tbody>\n",
       "</table>\n",
       "</div>"
      ],
      "text/plain": [
       "                   A         B         C  D    F\n",
       "2013-01-01  0.000000  0.000000 -0.926818  5  NaN\n",
       "2013-01-02 -1.314992  0.532977  1.192366  5  1.0\n",
       "2013-01-03  0.890640 -1.036566 -2.189510  5  2.0\n",
       "2013-01-04  1.565294 -0.901578  1.148267  5  3.0\n",
       "2013-01-05  0.180890  2.301889 -0.003075  5  4.0\n",
       "2013-01-06 -0.050440 -0.840614 -0.547810  5  5.0"
      ]
     },
     "execution_count": 67,
     "metadata": {},
     "output_type": "execute_result"
    }
   ],
   "source": [
    "df"
   ]
  },
  {
   "cell_type": "code",
   "execution_count": 68,
   "metadata": {},
   "outputs": [
    {
     "data": {
      "text/html": [
       "<div>\n",
       "<style>\n",
       "    .dataframe thead tr:only-child th {\n",
       "        text-align: right;\n",
       "    }\n",
       "\n",
       "    .dataframe thead th {\n",
       "        text-align: left;\n",
       "    }\n",
       "\n",
       "    .dataframe tbody tr th {\n",
       "        vertical-align: top;\n",
       "    }\n",
       "</style>\n",
       "<table border=\"1\" class=\"dataframe\">\n",
       "  <thead>\n",
       "    <tr style=\"text-align: right;\">\n",
       "      <th></th>\n",
       "      <th>A</th>\n",
       "      <th>B</th>\n",
       "      <th>C</th>\n",
       "      <th>D</th>\n",
       "      <th>F</th>\n",
       "    </tr>\n",
       "  </thead>\n",
       "  <tbody>\n",
       "    <tr>\n",
       "      <th>2013-01-01</th>\n",
       "      <td>NaN</td>\n",
       "      <td>NaN</td>\n",
       "      <td>NaN</td>\n",
       "      <td>NaN</td>\n",
       "      <td>NaN</td>\n",
       "    </tr>\n",
       "    <tr>\n",
       "      <th>2013-01-02</th>\n",
       "      <td>NaN</td>\n",
       "      <td>NaN</td>\n",
       "      <td>NaN</td>\n",
       "      <td>NaN</td>\n",
       "      <td>NaN</td>\n",
       "    </tr>\n",
       "    <tr>\n",
       "      <th>2013-01-03</th>\n",
       "      <td>-0.109360</td>\n",
       "      <td>-2.036566</td>\n",
       "      <td>-3.189510</td>\n",
       "      <td>4.0</td>\n",
       "      <td>1.0</td>\n",
       "    </tr>\n",
       "    <tr>\n",
       "      <th>2013-01-04</th>\n",
       "      <td>-1.434706</td>\n",
       "      <td>-3.901578</td>\n",
       "      <td>-1.851733</td>\n",
       "      <td>2.0</td>\n",
       "      <td>0.0</td>\n",
       "    </tr>\n",
       "    <tr>\n",
       "      <th>2013-01-05</th>\n",
       "      <td>-4.819110</td>\n",
       "      <td>-2.698111</td>\n",
       "      <td>-5.003075</td>\n",
       "      <td>0.0</td>\n",
       "      <td>-1.0</td>\n",
       "    </tr>\n",
       "    <tr>\n",
       "      <th>2013-01-06</th>\n",
       "      <td>NaN</td>\n",
       "      <td>NaN</td>\n",
       "      <td>NaN</td>\n",
       "      <td>NaN</td>\n",
       "      <td>NaN</td>\n",
       "    </tr>\n",
       "  </tbody>\n",
       "</table>\n",
       "</div>"
      ],
      "text/plain": [
       "                   A         B         C    D    F\n",
       "2013-01-01       NaN       NaN       NaN  NaN  NaN\n",
       "2013-01-02       NaN       NaN       NaN  NaN  NaN\n",
       "2013-01-03 -0.109360 -2.036566 -3.189510  4.0  1.0\n",
       "2013-01-04 -1.434706 -3.901578 -1.851733  2.0  0.0\n",
       "2013-01-05 -4.819110 -2.698111 -5.003075  0.0 -1.0\n",
       "2013-01-06       NaN       NaN       NaN  NaN  NaN"
      ]
     },
     "execution_count": 68,
     "metadata": {},
     "output_type": "execute_result"
    }
   ],
   "source": [
    "df.sub(s, axis=0)"
   ]
  },
  {
   "cell_type": "markdown",
   "metadata": {},
   "source": [
    "## Apply"
   ]
  },
  {
   "cell_type": "markdown",
   "metadata": {},
   "source": [
    "### 在数据上使用函数:"
   ]
  },
  {
   "cell_type": "code",
   "execution_count": 69,
   "metadata": {},
   "outputs": [
    {
     "data": {
      "text/html": [
       "<div>\n",
       "<style>\n",
       "    .dataframe thead tr:only-child th {\n",
       "        text-align: right;\n",
       "    }\n",
       "\n",
       "    .dataframe thead th {\n",
       "        text-align: left;\n",
       "    }\n",
       "\n",
       "    .dataframe tbody tr th {\n",
       "        vertical-align: top;\n",
       "    }\n",
       "</style>\n",
       "<table border=\"1\" class=\"dataframe\">\n",
       "  <thead>\n",
       "    <tr style=\"text-align: right;\">\n",
       "      <th></th>\n",
       "      <th>A</th>\n",
       "      <th>B</th>\n",
       "      <th>C</th>\n",
       "      <th>D</th>\n",
       "      <th>F</th>\n",
       "    </tr>\n",
       "  </thead>\n",
       "  <tbody>\n",
       "    <tr>\n",
       "      <th>2013-01-01</th>\n",
       "      <td>0.000000</td>\n",
       "      <td>0.000000</td>\n",
       "      <td>-0.926818</td>\n",
       "      <td>5</td>\n",
       "      <td>NaN</td>\n",
       "    </tr>\n",
       "    <tr>\n",
       "      <th>2013-01-02</th>\n",
       "      <td>-1.314992</td>\n",
       "      <td>0.532977</td>\n",
       "      <td>0.265548</td>\n",
       "      <td>10</td>\n",
       "      <td>1.0</td>\n",
       "    </tr>\n",
       "    <tr>\n",
       "      <th>2013-01-03</th>\n",
       "      <td>-0.424352</td>\n",
       "      <td>-0.503589</td>\n",
       "      <td>-1.923963</td>\n",
       "      <td>15</td>\n",
       "      <td>3.0</td>\n",
       "    </tr>\n",
       "    <tr>\n",
       "      <th>2013-01-04</th>\n",
       "      <td>1.140942</td>\n",
       "      <td>-1.405167</td>\n",
       "      <td>-0.775696</td>\n",
       "      <td>20</td>\n",
       "      <td>6.0</td>\n",
       "    </tr>\n",
       "    <tr>\n",
       "      <th>2013-01-05</th>\n",
       "      <td>1.321832</td>\n",
       "      <td>0.896721</td>\n",
       "      <td>-0.778771</td>\n",
       "      <td>25</td>\n",
       "      <td>10.0</td>\n",
       "    </tr>\n",
       "    <tr>\n",
       "      <th>2013-01-06</th>\n",
       "      <td>1.271392</td>\n",
       "      <td>0.056107</td>\n",
       "      <td>-1.326580</td>\n",
       "      <td>30</td>\n",
       "      <td>15.0</td>\n",
       "    </tr>\n",
       "  </tbody>\n",
       "</table>\n",
       "</div>"
      ],
      "text/plain": [
       "                   A         B         C   D     F\n",
       "2013-01-01  0.000000  0.000000 -0.926818   5   NaN\n",
       "2013-01-02 -1.314992  0.532977  0.265548  10   1.0\n",
       "2013-01-03 -0.424352 -0.503589 -1.923963  15   3.0\n",
       "2013-01-04  1.140942 -1.405167 -0.775696  20   6.0\n",
       "2013-01-05  1.321832  0.896721 -0.778771  25  10.0\n",
       "2013-01-06  1.271392  0.056107 -1.326580  30  15.0"
      ]
     },
     "execution_count": 69,
     "metadata": {},
     "output_type": "execute_result"
    }
   ],
   "source": [
    "df.apply(np.cumsum)"
   ]
  },
  {
   "cell_type": "code",
   "execution_count": 70,
   "metadata": {},
   "outputs": [
    {
     "data": {
      "text/plain": [
       "A    2.880286\n",
       "B    3.338455\n",
       "C    3.381876\n",
       "D    0.000000\n",
       "F    4.000000\n",
       "dtype: float64"
      ]
     },
     "execution_count": 70,
     "metadata": {},
     "output_type": "execute_result"
    }
   ],
   "source": [
    "df.apply(lambda x: x.max() - x.min())"
   ]
  },
  {
   "cell_type": "markdown",
   "metadata": {},
   "source": [
    "## 直方图"
   ]
  },
  {
   "cell_type": "code",
   "execution_count": 71,
   "metadata": {},
   "outputs": [],
   "source": [
    "s = pd.Series(np.random.randint(0, 7, size=10))"
   ]
  },
  {
   "cell_type": "code",
   "execution_count": 72,
   "metadata": {},
   "outputs": [
    {
     "data": {
      "text/plain": [
       "0    3\n",
       "1    0\n",
       "2    6\n",
       "3    6\n",
       "4    1\n",
       "5    3\n",
       "6    4\n",
       "7    2\n",
       "8    5\n",
       "9    4\n",
       "dtype: int64"
      ]
     },
     "execution_count": 72,
     "metadata": {},
     "output_type": "execute_result"
    }
   ],
   "source": [
    "s"
   ]
  },
  {
   "cell_type": "code",
   "execution_count": 73,
   "metadata": {},
   "outputs": [
    {
     "data": {
      "text/plain": [
       "6    2\n",
       "4    2\n",
       "3    2\n",
       "5    1\n",
       "2    1\n",
       "1    1\n",
       "0    1\n",
       "dtype: int64"
      ]
     },
     "execution_count": 73,
     "metadata": {},
     "output_type": "execute_result"
    }
   ],
   "source": [
    "s.value_counts()"
   ]
  },
  {
   "cell_type": "markdown",
   "metadata": {},
   "source": [
    "## 字符串方法"
   ]
  },
  {
   "cell_type": "markdown",
   "metadata": {},
   "source": [
    "### 序列可以使用一些字符串处理方法, 很轻易操作数据组中的每个元素, 比如以下代码片断.\n",
    "### 注意: 字符匹配方法默认情况下, 通常使用正则表达式(并且大多数时候都如此)."
   ]
  },
  {
   "cell_type": "code",
   "execution_count": 74,
   "metadata": {},
   "outputs": [],
   "source": [
    "s = pd.Series(['A', 'B', 'C', 'Aaba', 'Baca', np.nan, 'CABA', 'dog', 'cat'])"
   ]
  },
  {
   "cell_type": "code",
   "execution_count": 75,
   "metadata": {},
   "outputs": [
    {
     "data": {
      "text/plain": [
       "0       a\n",
       "1       b\n",
       "2       c\n",
       "3    aaba\n",
       "4    baca\n",
       "5     NaN\n",
       "6    caba\n",
       "7     dog\n",
       "8     cat\n",
       "dtype: object"
      ]
     },
     "execution_count": 75,
     "metadata": {},
     "output_type": "execute_result"
    }
   ],
   "source": [
    "s.str.lower()"
   ]
  },
  {
   "cell_type": "markdown",
   "metadata": {},
   "source": [
    "# 合并"
   ]
  },
  {
   "cell_type": "markdown",
   "metadata": {},
   "source": [
    "pandas 提供各种工具以简便合并序列, 数据帧, 和组合对象. 在 连接/合并 类型操作中, 使用多种类型索引和相关数学函数."
   ]
  },
  {
   "cell_type": "markdown",
   "metadata": {},
   "source": [
    "### 把 pandas 对象连接到一起:"
   ]
  },
  {
   "cell_type": "code",
   "execution_count": 76,
   "metadata": {},
   "outputs": [],
   "source": [
    "df = pd.DataFrame(np.random.randn(10, 4))"
   ]
  },
  {
   "cell_type": "code",
   "execution_count": 77,
   "metadata": {},
   "outputs": [
    {
     "data": {
      "text/html": [
       "<div>\n",
       "<style>\n",
       "    .dataframe thead tr:only-child th {\n",
       "        text-align: right;\n",
       "    }\n",
       "\n",
       "    .dataframe thead th {\n",
       "        text-align: left;\n",
       "    }\n",
       "\n",
       "    .dataframe tbody tr th {\n",
       "        vertical-align: top;\n",
       "    }\n",
       "</style>\n",
       "<table border=\"1\" class=\"dataframe\">\n",
       "  <thead>\n",
       "    <tr style=\"text-align: right;\">\n",
       "      <th></th>\n",
       "      <th>0</th>\n",
       "      <th>1</th>\n",
       "      <th>2</th>\n",
       "      <th>3</th>\n",
       "    </tr>\n",
       "  </thead>\n",
       "  <tbody>\n",
       "    <tr>\n",
       "      <th>0</th>\n",
       "      <td>1.198139</td>\n",
       "      <td>0.255351</td>\n",
       "      <td>-2.163206</td>\n",
       "      <td>-0.546918</td>\n",
       "    </tr>\n",
       "    <tr>\n",
       "      <th>1</th>\n",
       "      <td>-0.757948</td>\n",
       "      <td>0.719486</td>\n",
       "      <td>0.944935</td>\n",
       "      <td>0.961493</td>\n",
       "    </tr>\n",
       "    <tr>\n",
       "      <th>2</th>\n",
       "      <td>-1.231672</td>\n",
       "      <td>-0.301289</td>\n",
       "      <td>0.015839</td>\n",
       "      <td>0.183131</td>\n",
       "    </tr>\n",
       "    <tr>\n",
       "      <th>3</th>\n",
       "      <td>1.005350</td>\n",
       "      <td>0.040537</td>\n",
       "      <td>1.347831</td>\n",
       "      <td>0.562388</td>\n",
       "    </tr>\n",
       "    <tr>\n",
       "      <th>4</th>\n",
       "      <td>-1.560731</td>\n",
       "      <td>0.127616</td>\n",
       "      <td>2.606517</td>\n",
       "      <td>0.994567</td>\n",
       "    </tr>\n",
       "    <tr>\n",
       "      <th>5</th>\n",
       "      <td>1.243707</td>\n",
       "      <td>-0.522960</td>\n",
       "      <td>0.073443</td>\n",
       "      <td>0.483926</td>\n",
       "    </tr>\n",
       "    <tr>\n",
       "      <th>6</th>\n",
       "      <td>1.651448</td>\n",
       "      <td>0.254195</td>\n",
       "      <td>0.295707</td>\n",
       "      <td>-2.312916</td>\n",
       "    </tr>\n",
       "    <tr>\n",
       "      <th>7</th>\n",
       "      <td>-0.208332</td>\n",
       "      <td>-1.197274</td>\n",
       "      <td>2.738847</td>\n",
       "      <td>0.038823</td>\n",
       "    </tr>\n",
       "    <tr>\n",
       "      <th>8</th>\n",
       "      <td>-0.295732</td>\n",
       "      <td>-0.211062</td>\n",
       "      <td>0.181727</td>\n",
       "      <td>0.827109</td>\n",
       "    </tr>\n",
       "    <tr>\n",
       "      <th>9</th>\n",
       "      <td>1.247613</td>\n",
       "      <td>0.318213</td>\n",
       "      <td>-0.525624</td>\n",
       "      <td>0.119192</td>\n",
       "    </tr>\n",
       "  </tbody>\n",
       "</table>\n",
       "</div>"
      ],
      "text/plain": [
       "          0         1         2         3\n",
       "0  1.198139  0.255351 -2.163206 -0.546918\n",
       "1 -0.757948  0.719486  0.944935  0.961493\n",
       "2 -1.231672 -0.301289  0.015839  0.183131\n",
       "3  1.005350  0.040537  1.347831  0.562388\n",
       "4 -1.560731  0.127616  2.606517  0.994567\n",
       "5  1.243707 -0.522960  0.073443  0.483926\n",
       "6  1.651448  0.254195  0.295707 -2.312916\n",
       "7 -0.208332 -1.197274  2.738847  0.038823\n",
       "8 -0.295732 -0.211062  0.181727  0.827109\n",
       "9  1.247613  0.318213 -0.525624  0.119192"
      ]
     },
     "execution_count": 77,
     "metadata": {},
     "output_type": "execute_result"
    }
   ],
   "source": [
    "df"
   ]
  },
  {
   "cell_type": "code",
   "execution_count": 78,
   "metadata": {},
   "outputs": [],
   "source": [
    "pieces = [df[:3], df[3:7], df[7:]]"
   ]
  },
  {
   "cell_type": "code",
   "execution_count": 79,
   "metadata": {},
   "outputs": [
    {
     "data": {
      "text/plain": [
       "[          0         1         2         3\n",
       " 0  1.198139  0.255351 -2.163206 -0.546918\n",
       " 1 -0.757948  0.719486  0.944935  0.961493\n",
       " 2 -1.231672 -0.301289  0.015839  0.183131,\n",
       "           0         1         2         3\n",
       " 3  1.005350  0.040537  1.347831  0.562388\n",
       " 4 -1.560731  0.127616  2.606517  0.994567\n",
       " 5  1.243707 -0.522960  0.073443  0.483926\n",
       " 6  1.651448  0.254195  0.295707 -2.312916,\n",
       "           0         1         2         3\n",
       " 7 -0.208332 -1.197274  2.738847  0.038823\n",
       " 8 -0.295732 -0.211062  0.181727  0.827109\n",
       " 9  1.247613  0.318213 -0.525624  0.119192]"
      ]
     },
     "execution_count": 79,
     "metadata": {},
     "output_type": "execute_result"
    }
   ],
   "source": [
    "pieces"
   ]
  },
  {
   "cell_type": "code",
   "execution_count": 80,
   "metadata": {},
   "outputs": [
    {
     "data": {
      "text/html": [
       "<div>\n",
       "<style>\n",
       "    .dataframe thead tr:only-child th {\n",
       "        text-align: right;\n",
       "    }\n",
       "\n",
       "    .dataframe thead th {\n",
       "        text-align: left;\n",
       "    }\n",
       "\n",
       "    .dataframe tbody tr th {\n",
       "        vertical-align: top;\n",
       "    }\n",
       "</style>\n",
       "<table border=\"1\" class=\"dataframe\">\n",
       "  <thead>\n",
       "    <tr style=\"text-align: right;\">\n",
       "      <th></th>\n",
       "      <th>0</th>\n",
       "      <th>1</th>\n",
       "      <th>2</th>\n",
       "      <th>3</th>\n",
       "    </tr>\n",
       "  </thead>\n",
       "  <tbody>\n",
       "    <tr>\n",
       "      <th>0</th>\n",
       "      <td>1.198139</td>\n",
       "      <td>0.255351</td>\n",
       "      <td>-2.163206</td>\n",
       "      <td>-0.546918</td>\n",
       "    </tr>\n",
       "    <tr>\n",
       "      <th>1</th>\n",
       "      <td>-0.757948</td>\n",
       "      <td>0.719486</td>\n",
       "      <td>0.944935</td>\n",
       "      <td>0.961493</td>\n",
       "    </tr>\n",
       "    <tr>\n",
       "      <th>2</th>\n",
       "      <td>-1.231672</td>\n",
       "      <td>-0.301289</td>\n",
       "      <td>0.015839</td>\n",
       "      <td>0.183131</td>\n",
       "    </tr>\n",
       "    <tr>\n",
       "      <th>3</th>\n",
       "      <td>1.005350</td>\n",
       "      <td>0.040537</td>\n",
       "      <td>1.347831</td>\n",
       "      <td>0.562388</td>\n",
       "    </tr>\n",
       "    <tr>\n",
       "      <th>4</th>\n",
       "      <td>-1.560731</td>\n",
       "      <td>0.127616</td>\n",
       "      <td>2.606517</td>\n",
       "      <td>0.994567</td>\n",
       "    </tr>\n",
       "    <tr>\n",
       "      <th>5</th>\n",
       "      <td>1.243707</td>\n",
       "      <td>-0.522960</td>\n",
       "      <td>0.073443</td>\n",
       "      <td>0.483926</td>\n",
       "    </tr>\n",
       "    <tr>\n",
       "      <th>6</th>\n",
       "      <td>1.651448</td>\n",
       "      <td>0.254195</td>\n",
       "      <td>0.295707</td>\n",
       "      <td>-2.312916</td>\n",
       "    </tr>\n",
       "    <tr>\n",
       "      <th>7</th>\n",
       "      <td>-0.208332</td>\n",
       "      <td>-1.197274</td>\n",
       "      <td>2.738847</td>\n",
       "      <td>0.038823</td>\n",
       "    </tr>\n",
       "    <tr>\n",
       "      <th>8</th>\n",
       "      <td>-0.295732</td>\n",
       "      <td>-0.211062</td>\n",
       "      <td>0.181727</td>\n",
       "      <td>0.827109</td>\n",
       "    </tr>\n",
       "    <tr>\n",
       "      <th>9</th>\n",
       "      <td>1.247613</td>\n",
       "      <td>0.318213</td>\n",
       "      <td>-0.525624</td>\n",
       "      <td>0.119192</td>\n",
       "    </tr>\n",
       "  </tbody>\n",
       "</table>\n",
       "</div>"
      ],
      "text/plain": [
       "          0         1         2         3\n",
       "0  1.198139  0.255351 -2.163206 -0.546918\n",
       "1 -0.757948  0.719486  0.944935  0.961493\n",
       "2 -1.231672 -0.301289  0.015839  0.183131\n",
       "3  1.005350  0.040537  1.347831  0.562388\n",
       "4 -1.560731  0.127616  2.606517  0.994567\n",
       "5  1.243707 -0.522960  0.073443  0.483926\n",
       "6  1.651448  0.254195  0.295707 -2.312916\n",
       "7 -0.208332 -1.197274  2.738847  0.038823\n",
       "8 -0.295732 -0.211062  0.181727  0.827109\n",
       "9  1.247613  0.318213 -0.525624  0.119192"
      ]
     },
     "execution_count": 80,
     "metadata": {},
     "output_type": "execute_result"
    }
   ],
   "source": [
    "pd.concat(pieces)"
   ]
  },
  {
   "cell_type": "markdown",
   "metadata": {},
   "source": [
    "## 连接"
   ]
  },
  {
   "cell_type": "markdown",
   "metadata": {},
   "source": [
    "### SQL 样式合并:"
   ]
  },
  {
   "cell_type": "code",
   "execution_count": 81,
   "metadata": {
    "collapsed": true
   },
   "outputs": [],
   "source": [
    "left = pd.DataFrame({'key': ['foo', 'foo'], 'lval': [1, 2]})"
   ]
  },
  {
   "cell_type": "code",
   "execution_count": 82,
   "metadata": {
    "collapsed": true
   },
   "outputs": [],
   "source": [
    "right = pd.DataFrame({'key': ['foo', 'foo'], 'rval': [4, 5]})"
   ]
  },
  {
   "cell_type": "code",
   "execution_count": 83,
   "metadata": {},
   "outputs": [
    {
     "data": {
      "text/html": [
       "<div>\n",
       "<style>\n",
       "    .dataframe thead tr:only-child th {\n",
       "        text-align: right;\n",
       "    }\n",
       "\n",
       "    .dataframe thead th {\n",
       "        text-align: left;\n",
       "    }\n",
       "\n",
       "    .dataframe tbody tr th {\n",
       "        vertical-align: top;\n",
       "    }\n",
       "</style>\n",
       "<table border=\"1\" class=\"dataframe\">\n",
       "  <thead>\n",
       "    <tr style=\"text-align: right;\">\n",
       "      <th></th>\n",
       "      <th>key</th>\n",
       "      <th>lval</th>\n",
       "    </tr>\n",
       "  </thead>\n",
       "  <tbody>\n",
       "    <tr>\n",
       "      <th>0</th>\n",
       "      <td>foo</td>\n",
       "      <td>1</td>\n",
       "    </tr>\n",
       "    <tr>\n",
       "      <th>1</th>\n",
       "      <td>foo</td>\n",
       "      <td>2</td>\n",
       "    </tr>\n",
       "  </tbody>\n",
       "</table>\n",
       "</div>"
      ],
      "text/plain": [
       "   key  lval\n",
       "0  foo     1\n",
       "1  foo     2"
      ]
     },
     "execution_count": 83,
     "metadata": {},
     "output_type": "execute_result"
    }
   ],
   "source": [
    "left"
   ]
  },
  {
   "cell_type": "code",
   "execution_count": 84,
   "metadata": {},
   "outputs": [
    {
     "data": {
      "text/html": [
       "<div>\n",
       "<style>\n",
       "    .dataframe thead tr:only-child th {\n",
       "        text-align: right;\n",
       "    }\n",
       "\n",
       "    .dataframe thead th {\n",
       "        text-align: left;\n",
       "    }\n",
       "\n",
       "    .dataframe tbody tr th {\n",
       "        vertical-align: top;\n",
       "    }\n",
       "</style>\n",
       "<table border=\"1\" class=\"dataframe\">\n",
       "  <thead>\n",
       "    <tr style=\"text-align: right;\">\n",
       "      <th></th>\n",
       "      <th>key</th>\n",
       "      <th>rval</th>\n",
       "    </tr>\n",
       "  </thead>\n",
       "  <tbody>\n",
       "    <tr>\n",
       "      <th>0</th>\n",
       "      <td>foo</td>\n",
       "      <td>4</td>\n",
       "    </tr>\n",
       "    <tr>\n",
       "      <th>1</th>\n",
       "      <td>foo</td>\n",
       "      <td>5</td>\n",
       "    </tr>\n",
       "  </tbody>\n",
       "</table>\n",
       "</div>"
      ],
      "text/plain": [
       "   key  rval\n",
       "0  foo     4\n",
       "1  foo     5"
      ]
     },
     "execution_count": 84,
     "metadata": {},
     "output_type": "execute_result"
    }
   ],
   "source": [
    "right"
   ]
  },
  {
   "cell_type": "code",
   "execution_count": 85,
   "metadata": {},
   "outputs": [
    {
     "data": {
      "text/html": [
       "<div>\n",
       "<style>\n",
       "    .dataframe thead tr:only-child th {\n",
       "        text-align: right;\n",
       "    }\n",
       "\n",
       "    .dataframe thead th {\n",
       "        text-align: left;\n",
       "    }\n",
       "\n",
       "    .dataframe tbody tr th {\n",
       "        vertical-align: top;\n",
       "    }\n",
       "</style>\n",
       "<table border=\"1\" class=\"dataframe\">\n",
       "  <thead>\n",
       "    <tr style=\"text-align: right;\">\n",
       "      <th></th>\n",
       "      <th>key</th>\n",
       "      <th>lval</th>\n",
       "      <th>rval</th>\n",
       "    </tr>\n",
       "  </thead>\n",
       "  <tbody>\n",
       "    <tr>\n",
       "      <th>0</th>\n",
       "      <td>foo</td>\n",
       "      <td>1</td>\n",
       "      <td>4</td>\n",
       "    </tr>\n",
       "    <tr>\n",
       "      <th>1</th>\n",
       "      <td>foo</td>\n",
       "      <td>1</td>\n",
       "      <td>5</td>\n",
       "    </tr>\n",
       "    <tr>\n",
       "      <th>2</th>\n",
       "      <td>foo</td>\n",
       "      <td>2</td>\n",
       "      <td>4</td>\n",
       "    </tr>\n",
       "    <tr>\n",
       "      <th>3</th>\n",
       "      <td>foo</td>\n",
       "      <td>2</td>\n",
       "      <td>5</td>\n",
       "    </tr>\n",
       "  </tbody>\n",
       "</table>\n",
       "</div>"
      ],
      "text/plain": [
       "   key  lval  rval\n",
       "0  foo     1     4\n",
       "1  foo     1     5\n",
       "2  foo     2     4\n",
       "3  foo     2     5"
      ]
     },
     "execution_count": 85,
     "metadata": {},
     "output_type": "execute_result"
    }
   ],
   "source": [
    "pd.merge(left, right, on='key')"
   ]
  },
  {
   "cell_type": "markdown",
   "metadata": {},
   "source": [
    "## 添加"
   ]
  },
  {
   "cell_type": "markdown",
   "metadata": {},
   "source": [
    "### 添加行到数据帧:"
   ]
  },
  {
   "cell_type": "code",
   "execution_count": 86,
   "metadata": {
    "collapsed": true
   },
   "outputs": [],
   "source": [
    "df = pd.DataFrame(np.random.randn(8, 4), columns=['A', 'B', 'C', 'D'])"
   ]
  },
  {
   "cell_type": "code",
   "execution_count": 87,
   "metadata": {},
   "outputs": [
    {
     "data": {
      "text/html": [
       "<div>\n",
       "<style>\n",
       "    .dataframe thead tr:only-child th {\n",
       "        text-align: right;\n",
       "    }\n",
       "\n",
       "    .dataframe thead th {\n",
       "        text-align: left;\n",
       "    }\n",
       "\n",
       "    .dataframe tbody tr th {\n",
       "        vertical-align: top;\n",
       "    }\n",
       "</style>\n",
       "<table border=\"1\" class=\"dataframe\">\n",
       "  <thead>\n",
       "    <tr style=\"text-align: right;\">\n",
       "      <th></th>\n",
       "      <th>A</th>\n",
       "      <th>B</th>\n",
       "      <th>C</th>\n",
       "      <th>D</th>\n",
       "    </tr>\n",
       "  </thead>\n",
       "  <tbody>\n",
       "    <tr>\n",
       "      <th>0</th>\n",
       "      <td>-1.114572</td>\n",
       "      <td>0.097531</td>\n",
       "      <td>0.022282</td>\n",
       "      <td>0.219714</td>\n",
       "    </tr>\n",
       "    <tr>\n",
       "      <th>1</th>\n",
       "      <td>1.040871</td>\n",
       "      <td>-2.641861</td>\n",
       "      <td>-0.197795</td>\n",
       "      <td>-0.430224</td>\n",
       "    </tr>\n",
       "    <tr>\n",
       "      <th>2</th>\n",
       "      <td>1.064996</td>\n",
       "      <td>-0.815516</td>\n",
       "      <td>2.375643</td>\n",
       "      <td>-2.706566</td>\n",
       "    </tr>\n",
       "    <tr>\n",
       "      <th>3</th>\n",
       "      <td>0.208141</td>\n",
       "      <td>0.107715</td>\n",
       "      <td>-0.163068</td>\n",
       "      <td>0.252386</td>\n",
       "    </tr>\n",
       "    <tr>\n",
       "      <th>4</th>\n",
       "      <td>0.921251</td>\n",
       "      <td>-0.336959</td>\n",
       "      <td>0.502700</td>\n",
       "      <td>0.802547</td>\n",
       "    </tr>\n",
       "    <tr>\n",
       "      <th>5</th>\n",
       "      <td>0.047286</td>\n",
       "      <td>2.025958</td>\n",
       "      <td>0.954283</td>\n",
       "      <td>1.381018</td>\n",
       "    </tr>\n",
       "    <tr>\n",
       "      <th>6</th>\n",
       "      <td>0.518963</td>\n",
       "      <td>-1.539909</td>\n",
       "      <td>0.021547</td>\n",
       "      <td>1.477309</td>\n",
       "    </tr>\n",
       "    <tr>\n",
       "      <th>7</th>\n",
       "      <td>-0.106894</td>\n",
       "      <td>0.862488</td>\n",
       "      <td>-0.828176</td>\n",
       "      <td>-0.815590</td>\n",
       "    </tr>\n",
       "  </tbody>\n",
       "</table>\n",
       "</div>"
      ],
      "text/plain": [
       "          A         B         C         D\n",
       "0 -1.114572  0.097531  0.022282  0.219714\n",
       "1  1.040871 -2.641861 -0.197795 -0.430224\n",
       "2  1.064996 -0.815516  2.375643 -2.706566\n",
       "3  0.208141  0.107715 -0.163068  0.252386\n",
       "4  0.921251 -0.336959  0.502700  0.802547\n",
       "5  0.047286  2.025958  0.954283  1.381018\n",
       "6  0.518963 -1.539909  0.021547  1.477309\n",
       "7 -0.106894  0.862488 -0.828176 -0.815590"
      ]
     },
     "execution_count": 87,
     "metadata": {},
     "output_type": "execute_result"
    }
   ],
   "source": [
    "df"
   ]
  },
  {
   "cell_type": "code",
   "execution_count": 88,
   "metadata": {
    "collapsed": true
   },
   "outputs": [],
   "source": [
    "s = df.iloc[3]"
   ]
  },
  {
   "cell_type": "code",
   "execution_count": 89,
   "metadata": {},
   "outputs": [
    {
     "data": {
      "text/html": [
       "<div>\n",
       "<style>\n",
       "    .dataframe thead tr:only-child th {\n",
       "        text-align: right;\n",
       "    }\n",
       "\n",
       "    .dataframe thead th {\n",
       "        text-align: left;\n",
       "    }\n",
       "\n",
       "    .dataframe tbody tr th {\n",
       "        vertical-align: top;\n",
       "    }\n",
       "</style>\n",
       "<table border=\"1\" class=\"dataframe\">\n",
       "  <thead>\n",
       "    <tr style=\"text-align: right;\">\n",
       "      <th></th>\n",
       "      <th>A</th>\n",
       "      <th>B</th>\n",
       "      <th>C</th>\n",
       "      <th>D</th>\n",
       "    </tr>\n",
       "  </thead>\n",
       "  <tbody>\n",
       "    <tr>\n",
       "      <th>0</th>\n",
       "      <td>-1.114572</td>\n",
       "      <td>0.097531</td>\n",
       "      <td>0.022282</td>\n",
       "      <td>0.219714</td>\n",
       "    </tr>\n",
       "    <tr>\n",
       "      <th>1</th>\n",
       "      <td>1.040871</td>\n",
       "      <td>-2.641861</td>\n",
       "      <td>-0.197795</td>\n",
       "      <td>-0.430224</td>\n",
       "    </tr>\n",
       "    <tr>\n",
       "      <th>2</th>\n",
       "      <td>1.064996</td>\n",
       "      <td>-0.815516</td>\n",
       "      <td>2.375643</td>\n",
       "      <td>-2.706566</td>\n",
       "    </tr>\n",
       "    <tr>\n",
       "      <th>3</th>\n",
       "      <td>0.208141</td>\n",
       "      <td>0.107715</td>\n",
       "      <td>-0.163068</td>\n",
       "      <td>0.252386</td>\n",
       "    </tr>\n",
       "    <tr>\n",
       "      <th>4</th>\n",
       "      <td>0.921251</td>\n",
       "      <td>-0.336959</td>\n",
       "      <td>0.502700</td>\n",
       "      <td>0.802547</td>\n",
       "    </tr>\n",
       "    <tr>\n",
       "      <th>5</th>\n",
       "      <td>0.047286</td>\n",
       "      <td>2.025958</td>\n",
       "      <td>0.954283</td>\n",
       "      <td>1.381018</td>\n",
       "    </tr>\n",
       "    <tr>\n",
       "      <th>6</th>\n",
       "      <td>0.518963</td>\n",
       "      <td>-1.539909</td>\n",
       "      <td>0.021547</td>\n",
       "      <td>1.477309</td>\n",
       "    </tr>\n",
       "    <tr>\n",
       "      <th>7</th>\n",
       "      <td>-0.106894</td>\n",
       "      <td>0.862488</td>\n",
       "      <td>-0.828176</td>\n",
       "      <td>-0.815590</td>\n",
       "    </tr>\n",
       "    <tr>\n",
       "      <th>8</th>\n",
       "      <td>0.208141</td>\n",
       "      <td>0.107715</td>\n",
       "      <td>-0.163068</td>\n",
       "      <td>0.252386</td>\n",
       "    </tr>\n",
       "  </tbody>\n",
       "</table>\n",
       "</div>"
      ],
      "text/plain": [
       "          A         B         C         D\n",
       "0 -1.114572  0.097531  0.022282  0.219714\n",
       "1  1.040871 -2.641861 -0.197795 -0.430224\n",
       "2  1.064996 -0.815516  2.375643 -2.706566\n",
       "3  0.208141  0.107715 -0.163068  0.252386\n",
       "4  0.921251 -0.336959  0.502700  0.802547\n",
       "5  0.047286  2.025958  0.954283  1.381018\n",
       "6  0.518963 -1.539909  0.021547  1.477309\n",
       "7 -0.106894  0.862488 -0.828176 -0.815590\n",
       "8  0.208141  0.107715 -0.163068  0.252386"
      ]
     },
     "execution_count": 89,
     "metadata": {},
     "output_type": "execute_result"
    }
   ],
   "source": [
    "df.append(s, ignore_index=True)"
   ]
  },
  {
   "cell_type": "markdown",
   "metadata": {},
   "source": [
    "# 分组"
   ]
  },
  {
   "cell_type": "markdown",
   "metadata": {},
   "source": [
    "对于 \"group by\" 指的是以下一个或多个处理:\n",
    "- 将数据按某些标准分割为不同的组\n",
    "- 在每个独立组上应用函数\n",
    "- 组合结果为一个数据结构"
   ]
  },
  {
   "cell_type": "code",
   "execution_count": 90,
   "metadata": {
    "collapsed": true
   },
   "outputs": [],
   "source": [
    "df = pd.DataFrame({'A': ['foo', 'bar', 'foo', 'bar', 'foo', 'bar', 'foo', 'bar'],\n",
    "                   'B': ['one', 'one', 'two', 'three', 'two', 'two', 'one', 'three'],\n",
    "                   'C': np.random.randn(8),\n",
    "                   'D': np.random.randn(8)})"
   ]
  },
  {
   "cell_type": "code",
   "execution_count": 91,
   "metadata": {},
   "outputs": [
    {
     "data": {
      "text/html": [
       "<div>\n",
       "<style>\n",
       "    .dataframe thead tr:only-child th {\n",
       "        text-align: right;\n",
       "    }\n",
       "\n",
       "    .dataframe thead th {\n",
       "        text-align: left;\n",
       "    }\n",
       "\n",
       "    .dataframe tbody tr th {\n",
       "        vertical-align: top;\n",
       "    }\n",
       "</style>\n",
       "<table border=\"1\" class=\"dataframe\">\n",
       "  <thead>\n",
       "    <tr style=\"text-align: right;\">\n",
       "      <th></th>\n",
       "      <th>A</th>\n",
       "      <th>B</th>\n",
       "      <th>C</th>\n",
       "      <th>D</th>\n",
       "    </tr>\n",
       "  </thead>\n",
       "  <tbody>\n",
       "    <tr>\n",
       "      <th>0</th>\n",
       "      <td>foo</td>\n",
       "      <td>one</td>\n",
       "      <td>-0.322029</td>\n",
       "      <td>0.593835</td>\n",
       "    </tr>\n",
       "    <tr>\n",
       "      <th>1</th>\n",
       "      <td>bar</td>\n",
       "      <td>one</td>\n",
       "      <td>-1.485272</td>\n",
       "      <td>0.700787</td>\n",
       "    </tr>\n",
       "    <tr>\n",
       "      <th>2</th>\n",
       "      <td>foo</td>\n",
       "      <td>two</td>\n",
       "      <td>0.914429</td>\n",
       "      <td>0.699238</td>\n",
       "    </tr>\n",
       "    <tr>\n",
       "      <th>3</th>\n",
       "      <td>bar</td>\n",
       "      <td>three</td>\n",
       "      <td>-1.552597</td>\n",
       "      <td>-0.003782</td>\n",
       "    </tr>\n",
       "    <tr>\n",
       "      <th>4</th>\n",
       "      <td>foo</td>\n",
       "      <td>two</td>\n",
       "      <td>3.025511</td>\n",
       "      <td>0.586944</td>\n",
       "    </tr>\n",
       "    <tr>\n",
       "      <th>5</th>\n",
       "      <td>bar</td>\n",
       "      <td>two</td>\n",
       "      <td>0.499808</td>\n",
       "      <td>0.383772</td>\n",
       "    </tr>\n",
       "    <tr>\n",
       "      <th>6</th>\n",
       "      <td>foo</td>\n",
       "      <td>one</td>\n",
       "      <td>-0.263149</td>\n",
       "      <td>-0.431824</td>\n",
       "    </tr>\n",
       "    <tr>\n",
       "      <th>7</th>\n",
       "      <td>bar</td>\n",
       "      <td>three</td>\n",
       "      <td>0.967752</td>\n",
       "      <td>0.946886</td>\n",
       "    </tr>\n",
       "  </tbody>\n",
       "</table>\n",
       "</div>"
      ],
      "text/plain": [
       "     A      B         C         D\n",
       "0  foo    one -0.322029  0.593835\n",
       "1  bar    one -1.485272  0.700787\n",
       "2  foo    two  0.914429  0.699238\n",
       "3  bar  three -1.552597 -0.003782\n",
       "4  foo    two  3.025511  0.586944\n",
       "5  bar    two  0.499808  0.383772\n",
       "6  foo    one -0.263149 -0.431824\n",
       "7  bar  three  0.967752  0.946886"
      ]
     },
     "execution_count": 91,
     "metadata": {},
     "output_type": "execute_result"
    }
   ],
   "source": [
    "df"
   ]
  },
  {
   "cell_type": "markdown",
   "metadata": {},
   "source": [
    "### 分组, 然后应用函数统计总和, 存放到结果组:"
   ]
  },
  {
   "cell_type": "code",
   "execution_count": 92,
   "metadata": {},
   "outputs": [
    {
     "data": {
      "text/html": [
       "<div>\n",
       "<style>\n",
       "    .dataframe thead tr:only-child th {\n",
       "        text-align: right;\n",
       "    }\n",
       "\n",
       "    .dataframe thead th {\n",
       "        text-align: left;\n",
       "    }\n",
       "\n",
       "    .dataframe tbody tr th {\n",
       "        vertical-align: top;\n",
       "    }\n",
       "</style>\n",
       "<table border=\"1\" class=\"dataframe\">\n",
       "  <thead>\n",
       "    <tr style=\"text-align: right;\">\n",
       "      <th></th>\n",
       "      <th>C</th>\n",
       "      <th>D</th>\n",
       "    </tr>\n",
       "    <tr>\n",
       "      <th>A</th>\n",
       "      <th></th>\n",
       "      <th></th>\n",
       "    </tr>\n",
       "  </thead>\n",
       "  <tbody>\n",
       "    <tr>\n",
       "      <th>bar</th>\n",
       "      <td>-1.570308</td>\n",
       "      <td>2.027663</td>\n",
       "    </tr>\n",
       "    <tr>\n",
       "      <th>foo</th>\n",
       "      <td>3.354763</td>\n",
       "      <td>1.448194</td>\n",
       "    </tr>\n",
       "  </tbody>\n",
       "</table>\n",
       "</div>"
      ],
      "text/plain": [
       "            C         D\n",
       "A                      \n",
       "bar -1.570308  2.027663\n",
       "foo  3.354763  1.448194"
      ]
     },
     "execution_count": 92,
     "metadata": {},
     "output_type": "execute_result"
    }
   ],
   "source": [
    "df.groupby('A').sum()"
   ]
  },
  {
   "cell_type": "markdown",
   "metadata": {},
   "source": [
    "### 按多列分组为层次索引, 然后应用函数:"
   ]
  },
  {
   "cell_type": "code",
   "execution_count": 93,
   "metadata": {},
   "outputs": [
    {
     "data": {
      "text/html": [
       "<div>\n",
       "<style>\n",
       "    .dataframe thead tr:only-child th {\n",
       "        text-align: right;\n",
       "    }\n",
       "\n",
       "    .dataframe thead th {\n",
       "        text-align: left;\n",
       "    }\n",
       "\n",
       "    .dataframe tbody tr th {\n",
       "        vertical-align: top;\n",
       "    }\n",
       "</style>\n",
       "<table border=\"1\" class=\"dataframe\">\n",
       "  <thead>\n",
       "    <tr style=\"text-align: right;\">\n",
       "      <th></th>\n",
       "      <th></th>\n",
       "      <th>C</th>\n",
       "      <th>D</th>\n",
       "    </tr>\n",
       "    <tr>\n",
       "      <th>A</th>\n",
       "      <th>B</th>\n",
       "      <th></th>\n",
       "      <th></th>\n",
       "    </tr>\n",
       "  </thead>\n",
       "  <tbody>\n",
       "    <tr>\n",
       "      <th rowspan=\"3\" valign=\"top\">bar</th>\n",
       "      <th>one</th>\n",
       "      <td>-1.485272</td>\n",
       "      <td>0.700787</td>\n",
       "    </tr>\n",
       "    <tr>\n",
       "      <th>three</th>\n",
       "      <td>-0.584845</td>\n",
       "      <td>0.943104</td>\n",
       "    </tr>\n",
       "    <tr>\n",
       "      <th>two</th>\n",
       "      <td>0.499808</td>\n",
       "      <td>0.383772</td>\n",
       "    </tr>\n",
       "    <tr>\n",
       "      <th rowspan=\"2\" valign=\"top\">foo</th>\n",
       "      <th>one</th>\n",
       "      <td>-0.585178</td>\n",
       "      <td>0.162011</td>\n",
       "    </tr>\n",
       "    <tr>\n",
       "      <th>two</th>\n",
       "      <td>3.939940</td>\n",
       "      <td>1.286183</td>\n",
       "    </tr>\n",
       "  </tbody>\n",
       "</table>\n",
       "</div>"
      ],
      "text/plain": [
       "                  C         D\n",
       "A   B                        \n",
       "bar one   -1.485272  0.700787\n",
       "    three -0.584845  0.943104\n",
       "    two    0.499808  0.383772\n",
       "foo one   -0.585178  0.162011\n",
       "    two    3.939940  1.286183"
      ]
     },
     "execution_count": 93,
     "metadata": {},
     "output_type": "execute_result"
    }
   ],
   "source": [
    "df.groupby(['A', 'B']).sum()"
   ]
  },
  {
   "cell_type": "markdown",
   "metadata": {},
   "source": [
    "# 重塑"
   ]
  },
  {
   "cell_type": "markdown",
   "metadata": {},
   "source": [
    "## 堆叠"
   ]
  },
  {
   "cell_type": "code",
   "execution_count": 94,
   "metadata": {},
   "outputs": [
    {
     "data": {
      "text/plain": [
       "[('bar', 'one'),\n",
       " ('bar', 'two'),\n",
       " ('baz', 'one'),\n",
       " ('baz', 'two'),\n",
       " ('foo', 'one'),\n",
       " ('foo', 'two'),\n",
       " ('qux', 'one'),\n",
       " ('qux', 'two')]"
      ]
     },
     "execution_count": 94,
     "metadata": {},
     "output_type": "execute_result"
    }
   ],
   "source": [
    "tuples = list(zip(*[['bar', 'bar', 'baz', 'baz', 'foo', 'foo', 'qux', 'qux'],\n",
    "                    ['one', 'two', 'one', 'two','one', 'two', 'one', 'two']]))\n",
    "tuples"
   ]
  },
  {
   "cell_type": "code",
   "execution_count": 95,
   "metadata": {
    "collapsed": true
   },
   "outputs": [],
   "source": [
    "index = pd.MultiIndex.from_tuples(tuples, names=['first', 'seconds'])"
   ]
  },
  {
   "cell_type": "code",
   "execution_count": 96,
   "metadata": {},
   "outputs": [],
   "source": [
    "df = pd.DataFrame(np.random.randn(8, 2), index=index, columns=['A', 'B'])"
   ]
  },
  {
   "cell_type": "code",
   "execution_count": 97,
   "metadata": {},
   "outputs": [
    {
     "data": {
      "text/html": [
       "<div>\n",
       "<style>\n",
       "    .dataframe thead tr:only-child th {\n",
       "        text-align: right;\n",
       "    }\n",
       "\n",
       "    .dataframe thead th {\n",
       "        text-align: left;\n",
       "    }\n",
       "\n",
       "    .dataframe tbody tr th {\n",
       "        vertical-align: top;\n",
       "    }\n",
       "</style>\n",
       "<table border=\"1\" class=\"dataframe\">\n",
       "  <thead>\n",
       "    <tr style=\"text-align: right;\">\n",
       "      <th></th>\n",
       "      <th></th>\n",
       "      <th>A</th>\n",
       "      <th>B</th>\n",
       "    </tr>\n",
       "    <tr>\n",
       "      <th>first</th>\n",
       "      <th>seconds</th>\n",
       "      <th></th>\n",
       "      <th></th>\n",
       "    </tr>\n",
       "  </thead>\n",
       "  <tbody>\n",
       "    <tr>\n",
       "      <th rowspan=\"2\" valign=\"top\">bar</th>\n",
       "      <th>one</th>\n",
       "      <td>-0.558695</td>\n",
       "      <td>0.105423</td>\n",
       "    </tr>\n",
       "    <tr>\n",
       "      <th>two</th>\n",
       "      <td>0.271188</td>\n",
       "      <td>-0.217300</td>\n",
       "    </tr>\n",
       "    <tr>\n",
       "      <th rowspan=\"2\" valign=\"top\">baz</th>\n",
       "      <th>one</th>\n",
       "      <td>0.093175</td>\n",
       "      <td>-0.225239</td>\n",
       "    </tr>\n",
       "    <tr>\n",
       "      <th>two</th>\n",
       "      <td>-0.093316</td>\n",
       "      <td>-0.791467</td>\n",
       "    </tr>\n",
       "    <tr>\n",
       "      <th rowspan=\"2\" valign=\"top\">foo</th>\n",
       "      <th>one</th>\n",
       "      <td>-0.145413</td>\n",
       "      <td>0.126640</td>\n",
       "    </tr>\n",
       "    <tr>\n",
       "      <th>two</th>\n",
       "      <td>1.120556</td>\n",
       "      <td>1.117124</td>\n",
       "    </tr>\n",
       "    <tr>\n",
       "      <th rowspan=\"2\" valign=\"top\">qux</th>\n",
       "      <th>one</th>\n",
       "      <td>-1.304878</td>\n",
       "      <td>-1.166168</td>\n",
       "    </tr>\n",
       "    <tr>\n",
       "      <th>two</th>\n",
       "      <td>0.522716</td>\n",
       "      <td>0.857816</td>\n",
       "    </tr>\n",
       "  </tbody>\n",
       "</table>\n",
       "</div>"
      ],
      "text/plain": [
       "                      A         B\n",
       "first seconds                    \n",
       "bar   one     -0.558695  0.105423\n",
       "      two      0.271188 -0.217300\n",
       "baz   one      0.093175 -0.225239\n",
       "      two     -0.093316 -0.791467\n",
       "foo   one     -0.145413  0.126640\n",
       "      two      1.120556  1.117124\n",
       "qux   one     -1.304878 -1.166168\n",
       "      two      0.522716  0.857816"
      ]
     },
     "execution_count": 97,
     "metadata": {},
     "output_type": "execute_result"
    }
   ],
   "source": [
    "df"
   ]
  },
  {
   "cell_type": "code",
   "execution_count": 98,
   "metadata": {
    "collapsed": true
   },
   "outputs": [],
   "source": [
    "df2 = df[:4]"
   ]
  },
  {
   "cell_type": "code",
   "execution_count": 99,
   "metadata": {},
   "outputs": [
    {
     "data": {
      "text/html": [
       "<div>\n",
       "<style>\n",
       "    .dataframe thead tr:only-child th {\n",
       "        text-align: right;\n",
       "    }\n",
       "\n",
       "    .dataframe thead th {\n",
       "        text-align: left;\n",
       "    }\n",
       "\n",
       "    .dataframe tbody tr th {\n",
       "        vertical-align: top;\n",
       "    }\n",
       "</style>\n",
       "<table border=\"1\" class=\"dataframe\">\n",
       "  <thead>\n",
       "    <tr style=\"text-align: right;\">\n",
       "      <th></th>\n",
       "      <th></th>\n",
       "      <th>A</th>\n",
       "      <th>B</th>\n",
       "    </tr>\n",
       "    <tr>\n",
       "      <th>first</th>\n",
       "      <th>seconds</th>\n",
       "      <th></th>\n",
       "      <th></th>\n",
       "    </tr>\n",
       "  </thead>\n",
       "  <tbody>\n",
       "    <tr>\n",
       "      <th rowspan=\"2\" valign=\"top\">bar</th>\n",
       "      <th>one</th>\n",
       "      <td>-0.558695</td>\n",
       "      <td>0.105423</td>\n",
       "    </tr>\n",
       "    <tr>\n",
       "      <th>two</th>\n",
       "      <td>0.271188</td>\n",
       "      <td>-0.217300</td>\n",
       "    </tr>\n",
       "    <tr>\n",
       "      <th rowspan=\"2\" valign=\"top\">baz</th>\n",
       "      <th>one</th>\n",
       "      <td>0.093175</td>\n",
       "      <td>-0.225239</td>\n",
       "    </tr>\n",
       "    <tr>\n",
       "      <th>two</th>\n",
       "      <td>-0.093316</td>\n",
       "      <td>-0.791467</td>\n",
       "    </tr>\n",
       "  </tbody>\n",
       "</table>\n",
       "</div>"
      ],
      "text/plain": [
       "                      A         B\n",
       "first seconds                    \n",
       "bar   one     -0.558695  0.105423\n",
       "      two      0.271188 -0.217300\n",
       "baz   one      0.093175 -0.225239\n",
       "      two     -0.093316 -0.791467"
      ]
     },
     "execution_count": 99,
     "metadata": {},
     "output_type": "execute_result"
    }
   ],
   "source": [
    "df2"
   ]
  },
  {
   "cell_type": "markdown",
   "metadata": {},
   "source": [
    "### 堆叠函数, \"压缩\" 数据帧的列一个级别:"
   ]
  },
  {
   "cell_type": "code",
   "execution_count": 100,
   "metadata": {
    "collapsed": true
   },
   "outputs": [],
   "source": [
    "stacked = df2.stack()"
   ]
  },
  {
   "cell_type": "code",
   "execution_count": 101,
   "metadata": {},
   "outputs": [
    {
     "data": {
      "text/plain": [
       "first  seconds   \n",
       "bar    one      A   -0.558695\n",
       "                B    0.105423\n",
       "       two      A    0.271188\n",
       "                B   -0.217300\n",
       "baz    one      A    0.093175\n",
       "                B   -0.225239\n",
       "       two      A   -0.093316\n",
       "                B   -0.791467\n",
       "dtype: float64"
      ]
     },
     "execution_count": 101,
     "metadata": {},
     "output_type": "execute_result"
    }
   ],
   "source": [
    "stacked"
   ]
  },
  {
   "cell_type": "markdown",
   "metadata": {},
   "source": [
    "### 被 \"堆叠\" 数据帧或序列(有多个索引作为索引), 其堆叠的反向操作为取消堆叠, 上面的数据默认反堆叠到上一级别:"
   ]
  },
  {
   "cell_type": "code",
   "execution_count": 102,
   "metadata": {},
   "outputs": [
    {
     "data": {
      "text/html": [
       "<div>\n",
       "<style>\n",
       "    .dataframe thead tr:only-child th {\n",
       "        text-align: right;\n",
       "    }\n",
       "\n",
       "    .dataframe thead th {\n",
       "        text-align: left;\n",
       "    }\n",
       "\n",
       "    .dataframe tbody tr th {\n",
       "        vertical-align: top;\n",
       "    }\n",
       "</style>\n",
       "<table border=\"1\" class=\"dataframe\">\n",
       "  <thead>\n",
       "    <tr style=\"text-align: right;\">\n",
       "      <th></th>\n",
       "      <th></th>\n",
       "      <th>A</th>\n",
       "      <th>B</th>\n",
       "    </tr>\n",
       "    <tr>\n",
       "      <th>first</th>\n",
       "      <th>seconds</th>\n",
       "      <th></th>\n",
       "      <th></th>\n",
       "    </tr>\n",
       "  </thead>\n",
       "  <tbody>\n",
       "    <tr>\n",
       "      <th rowspan=\"2\" valign=\"top\">bar</th>\n",
       "      <th>one</th>\n",
       "      <td>-0.558695</td>\n",
       "      <td>0.105423</td>\n",
       "    </tr>\n",
       "    <tr>\n",
       "      <th>two</th>\n",
       "      <td>0.271188</td>\n",
       "      <td>-0.217300</td>\n",
       "    </tr>\n",
       "    <tr>\n",
       "      <th rowspan=\"2\" valign=\"top\">baz</th>\n",
       "      <th>one</th>\n",
       "      <td>0.093175</td>\n",
       "      <td>-0.225239</td>\n",
       "    </tr>\n",
       "    <tr>\n",
       "      <th>two</th>\n",
       "      <td>-0.093316</td>\n",
       "      <td>-0.791467</td>\n",
       "    </tr>\n",
       "  </tbody>\n",
       "</table>\n",
       "</div>"
      ],
      "text/plain": [
       "                      A         B\n",
       "first seconds                    \n",
       "bar   one     -0.558695  0.105423\n",
       "      two      0.271188 -0.217300\n",
       "baz   one      0.093175 -0.225239\n",
       "      two     -0.093316 -0.791467"
      ]
     },
     "execution_count": 102,
     "metadata": {},
     "output_type": "execute_result"
    }
   ],
   "source": [
    "stacked.unstack()"
   ]
  },
  {
   "cell_type": "code",
   "execution_count": 103,
   "metadata": {},
   "outputs": [
    {
     "data": {
      "text/html": [
       "<div>\n",
       "<style>\n",
       "    .dataframe thead tr:only-child th {\n",
       "        text-align: right;\n",
       "    }\n",
       "\n",
       "    .dataframe thead th {\n",
       "        text-align: left;\n",
       "    }\n",
       "\n",
       "    .dataframe tbody tr th {\n",
       "        vertical-align: top;\n",
       "    }\n",
       "</style>\n",
       "<table border=\"1\" class=\"dataframe\">\n",
       "  <thead>\n",
       "    <tr style=\"text-align: right;\">\n",
       "      <th></th>\n",
       "      <th>seconds</th>\n",
       "      <th>one</th>\n",
       "      <th>two</th>\n",
       "    </tr>\n",
       "    <tr>\n",
       "      <th>first</th>\n",
       "      <th></th>\n",
       "      <th></th>\n",
       "      <th></th>\n",
       "    </tr>\n",
       "  </thead>\n",
       "  <tbody>\n",
       "    <tr>\n",
       "      <th rowspan=\"2\" valign=\"top\">bar</th>\n",
       "      <th>A</th>\n",
       "      <td>-0.558695</td>\n",
       "      <td>0.271188</td>\n",
       "    </tr>\n",
       "    <tr>\n",
       "      <th>B</th>\n",
       "      <td>0.105423</td>\n",
       "      <td>-0.217300</td>\n",
       "    </tr>\n",
       "    <tr>\n",
       "      <th rowspan=\"2\" valign=\"top\">baz</th>\n",
       "      <th>A</th>\n",
       "      <td>0.093175</td>\n",
       "      <td>-0.093316</td>\n",
       "    </tr>\n",
       "    <tr>\n",
       "      <th>B</th>\n",
       "      <td>-0.225239</td>\n",
       "      <td>-0.791467</td>\n",
       "    </tr>\n",
       "  </tbody>\n",
       "</table>\n",
       "</div>"
      ],
      "text/plain": [
       "seconds       one       two\n",
       "first                      \n",
       "bar   A -0.558695  0.271188\n",
       "      B  0.105423 -0.217300\n",
       "baz   A  0.093175 -0.093316\n",
       "      B -0.225239 -0.791467"
      ]
     },
     "execution_count": 103,
     "metadata": {},
     "output_type": "execute_result"
    }
   ],
   "source": [
    "stacked.unstack(level=1)"
   ]
  },
  {
   "cell_type": "code",
   "execution_count": 104,
   "metadata": {},
   "outputs": [
    {
     "data": {
      "text/html": [
       "<div>\n",
       "<style>\n",
       "    .dataframe thead tr:only-child th {\n",
       "        text-align: right;\n",
       "    }\n",
       "\n",
       "    .dataframe thead th {\n",
       "        text-align: left;\n",
       "    }\n",
       "\n",
       "    .dataframe tbody tr th {\n",
       "        vertical-align: top;\n",
       "    }\n",
       "</style>\n",
       "<table border=\"1\" class=\"dataframe\">\n",
       "  <thead>\n",
       "    <tr style=\"text-align: right;\">\n",
       "      <th></th>\n",
       "      <th>first</th>\n",
       "      <th>bar</th>\n",
       "      <th>baz</th>\n",
       "    </tr>\n",
       "    <tr>\n",
       "      <th>seconds</th>\n",
       "      <th></th>\n",
       "      <th></th>\n",
       "      <th></th>\n",
       "    </tr>\n",
       "  </thead>\n",
       "  <tbody>\n",
       "    <tr>\n",
       "      <th rowspan=\"2\" valign=\"top\">one</th>\n",
       "      <th>A</th>\n",
       "      <td>-0.558695</td>\n",
       "      <td>0.093175</td>\n",
       "    </tr>\n",
       "    <tr>\n",
       "      <th>B</th>\n",
       "      <td>0.105423</td>\n",
       "      <td>-0.225239</td>\n",
       "    </tr>\n",
       "    <tr>\n",
       "      <th rowspan=\"2\" valign=\"top\">two</th>\n",
       "      <th>A</th>\n",
       "      <td>0.271188</td>\n",
       "      <td>-0.093316</td>\n",
       "    </tr>\n",
       "    <tr>\n",
       "      <th>B</th>\n",
       "      <td>-0.217300</td>\n",
       "      <td>-0.791467</td>\n",
       "    </tr>\n",
       "  </tbody>\n",
       "</table>\n",
       "</div>"
      ],
      "text/plain": [
       "first           bar       baz\n",
       "seconds                      \n",
       "one     A -0.558695  0.093175\n",
       "        B  0.105423 -0.225239\n",
       "two     A  0.271188 -0.093316\n",
       "        B -0.217300 -0.791467"
      ]
     },
     "execution_count": 104,
     "metadata": {},
     "output_type": "execute_result"
    }
   ],
   "source": [
    "stacked.unstack(level=0)"
   ]
  },
  {
   "cell_type": "markdown",
   "metadata": {},
   "source": [
    "## 数据透视表"
   ]
  },
  {
   "cell_type": "markdown",
   "metadata": {},
   "source": [
    "### 查看数据透视表"
   ]
  },
  {
   "cell_type": "code",
   "execution_count": 105,
   "metadata": {},
   "outputs": [],
   "source": [
    "df = pd.DataFrame({'A': ['one', 'one', 'two', 'three'] * 3,\n",
    "                   'B': ['A', 'B', 'C'] * 4,\n",
    "                   'C': ['foo', 'foo', 'foo', 'bar', 'bar', 'bar'] * 2,\n",
    "                   'D': np.random.randn(12),\n",
    "                   'E': np.random.randn(12)})"
   ]
  },
  {
   "cell_type": "code",
   "execution_count": 106,
   "metadata": {},
   "outputs": [
    {
     "data": {
      "text/html": [
       "<div>\n",
       "<style>\n",
       "    .dataframe thead tr:only-child th {\n",
       "        text-align: right;\n",
       "    }\n",
       "\n",
       "    .dataframe thead th {\n",
       "        text-align: left;\n",
       "    }\n",
       "\n",
       "    .dataframe tbody tr th {\n",
       "        vertical-align: top;\n",
       "    }\n",
       "</style>\n",
       "<table border=\"1\" class=\"dataframe\">\n",
       "  <thead>\n",
       "    <tr style=\"text-align: right;\">\n",
       "      <th></th>\n",
       "      <th>A</th>\n",
       "      <th>B</th>\n",
       "      <th>C</th>\n",
       "      <th>D</th>\n",
       "      <th>E</th>\n",
       "    </tr>\n",
       "  </thead>\n",
       "  <tbody>\n",
       "    <tr>\n",
       "      <th>0</th>\n",
       "      <td>one</td>\n",
       "      <td>A</td>\n",
       "      <td>foo</td>\n",
       "      <td>1.894734</td>\n",
       "      <td>-2.293275</td>\n",
       "    </tr>\n",
       "    <tr>\n",
       "      <th>1</th>\n",
       "      <td>one</td>\n",
       "      <td>B</td>\n",
       "      <td>foo</td>\n",
       "      <td>-1.362782</td>\n",
       "      <td>-0.130090</td>\n",
       "    </tr>\n",
       "    <tr>\n",
       "      <th>2</th>\n",
       "      <td>two</td>\n",
       "      <td>C</td>\n",
       "      <td>foo</td>\n",
       "      <td>0.843821</td>\n",
       "      <td>0.649588</td>\n",
       "    </tr>\n",
       "    <tr>\n",
       "      <th>3</th>\n",
       "      <td>three</td>\n",
       "      <td>A</td>\n",
       "      <td>bar</td>\n",
       "      <td>0.496000</td>\n",
       "      <td>-0.623999</td>\n",
       "    </tr>\n",
       "    <tr>\n",
       "      <th>4</th>\n",
       "      <td>one</td>\n",
       "      <td>B</td>\n",
       "      <td>bar</td>\n",
       "      <td>0.457438</td>\n",
       "      <td>-0.495746</td>\n",
       "    </tr>\n",
       "    <tr>\n",
       "      <th>5</th>\n",
       "      <td>one</td>\n",
       "      <td>C</td>\n",
       "      <td>bar</td>\n",
       "      <td>-0.645673</td>\n",
       "      <td>-0.517788</td>\n",
       "    </tr>\n",
       "    <tr>\n",
       "      <th>6</th>\n",
       "      <td>two</td>\n",
       "      <td>A</td>\n",
       "      <td>foo</td>\n",
       "      <td>-1.247229</td>\n",
       "      <td>0.242816</td>\n",
       "    </tr>\n",
       "    <tr>\n",
       "      <th>7</th>\n",
       "      <td>three</td>\n",
       "      <td>B</td>\n",
       "      <td>foo</td>\n",
       "      <td>1.666903</td>\n",
       "      <td>1.620036</td>\n",
       "    </tr>\n",
       "    <tr>\n",
       "      <th>8</th>\n",
       "      <td>one</td>\n",
       "      <td>C</td>\n",
       "      <td>foo</td>\n",
       "      <td>-0.585036</td>\n",
       "      <td>-0.344293</td>\n",
       "    </tr>\n",
       "    <tr>\n",
       "      <th>9</th>\n",
       "      <td>one</td>\n",
       "      <td>A</td>\n",
       "      <td>bar</td>\n",
       "      <td>0.277802</td>\n",
       "      <td>0.688129</td>\n",
       "    </tr>\n",
       "    <tr>\n",
       "      <th>10</th>\n",
       "      <td>two</td>\n",
       "      <td>B</td>\n",
       "      <td>bar</td>\n",
       "      <td>0.988346</td>\n",
       "      <td>0.868884</td>\n",
       "    </tr>\n",
       "    <tr>\n",
       "      <th>11</th>\n",
       "      <td>three</td>\n",
       "      <td>C</td>\n",
       "      <td>bar</td>\n",
       "      <td>-2.202665</td>\n",
       "      <td>0.232460</td>\n",
       "    </tr>\n",
       "  </tbody>\n",
       "</table>\n",
       "</div>"
      ],
      "text/plain": [
       "        A  B    C         D         E\n",
       "0     one  A  foo  1.894734 -2.293275\n",
       "1     one  B  foo -1.362782 -0.130090\n",
       "2     two  C  foo  0.843821  0.649588\n",
       "3   three  A  bar  0.496000 -0.623999\n",
       "4     one  B  bar  0.457438 -0.495746\n",
       "5     one  C  bar -0.645673 -0.517788\n",
       "6     two  A  foo -1.247229  0.242816\n",
       "7   three  B  foo  1.666903  1.620036\n",
       "8     one  C  foo -0.585036 -0.344293\n",
       "9     one  A  bar  0.277802  0.688129\n",
       "10    two  B  bar  0.988346  0.868884\n",
       "11  three  C  bar -2.202665  0.232460"
      ]
     },
     "execution_count": 106,
     "metadata": {},
     "output_type": "execute_result"
    }
   ],
   "source": [
    "df"
   ]
  },
  {
   "cell_type": "markdown",
   "metadata": {},
   "source": [
    "### 我们可以从上面的数据中, 非常容易的产生数据透视表:"
   ]
  },
  {
   "cell_type": "code",
   "execution_count": 107,
   "metadata": {},
   "outputs": [
    {
     "data": {
      "text/html": [
       "<div>\n",
       "<style>\n",
       "    .dataframe thead tr:only-child th {\n",
       "        text-align: right;\n",
       "    }\n",
       "\n",
       "    .dataframe thead th {\n",
       "        text-align: left;\n",
       "    }\n",
       "\n",
       "    .dataframe tbody tr th {\n",
       "        vertical-align: top;\n",
       "    }\n",
       "</style>\n",
       "<table border=\"1\" class=\"dataframe\">\n",
       "  <thead>\n",
       "    <tr style=\"text-align: right;\">\n",
       "      <th></th>\n",
       "      <th>C</th>\n",
       "      <th>bar</th>\n",
       "      <th>foo</th>\n",
       "    </tr>\n",
       "    <tr>\n",
       "      <th>A</th>\n",
       "      <th>B</th>\n",
       "      <th></th>\n",
       "      <th></th>\n",
       "    </tr>\n",
       "  </thead>\n",
       "  <tbody>\n",
       "    <tr>\n",
       "      <th rowspan=\"3\" valign=\"top\">one</th>\n",
       "      <th>A</th>\n",
       "      <td>0.277802</td>\n",
       "      <td>1.894734</td>\n",
       "    </tr>\n",
       "    <tr>\n",
       "      <th>B</th>\n",
       "      <td>0.457438</td>\n",
       "      <td>-1.362782</td>\n",
       "    </tr>\n",
       "    <tr>\n",
       "      <th>C</th>\n",
       "      <td>-0.645673</td>\n",
       "      <td>-0.585036</td>\n",
       "    </tr>\n",
       "    <tr>\n",
       "      <th rowspan=\"3\" valign=\"top\">three</th>\n",
       "      <th>A</th>\n",
       "      <td>0.496000</td>\n",
       "      <td>NaN</td>\n",
       "    </tr>\n",
       "    <tr>\n",
       "      <th>B</th>\n",
       "      <td>NaN</td>\n",
       "      <td>1.666903</td>\n",
       "    </tr>\n",
       "    <tr>\n",
       "      <th>C</th>\n",
       "      <td>-2.202665</td>\n",
       "      <td>NaN</td>\n",
       "    </tr>\n",
       "    <tr>\n",
       "      <th rowspan=\"3\" valign=\"top\">two</th>\n",
       "      <th>A</th>\n",
       "      <td>NaN</td>\n",
       "      <td>-1.247229</td>\n",
       "    </tr>\n",
       "    <tr>\n",
       "      <th>B</th>\n",
       "      <td>0.988346</td>\n",
       "      <td>NaN</td>\n",
       "    </tr>\n",
       "    <tr>\n",
       "      <th>C</th>\n",
       "      <td>NaN</td>\n",
       "      <td>0.843821</td>\n",
       "    </tr>\n",
       "  </tbody>\n",
       "</table>\n",
       "</div>"
      ],
      "text/plain": [
       "C             bar       foo\n",
       "A     B                    \n",
       "one   A  0.277802  1.894734\n",
       "      B  0.457438 -1.362782\n",
       "      C -0.645673 -0.585036\n",
       "three A  0.496000       NaN\n",
       "      B       NaN  1.666903\n",
       "      C -2.202665       NaN\n",
       "two   A       NaN -1.247229\n",
       "      B  0.988346       NaN\n",
       "      C       NaN  0.843821"
      ]
     },
     "execution_count": 107,
     "metadata": {},
     "output_type": "execute_result"
    }
   ],
   "source": [
    "pd.pivot_table(df, values='D', index=['A', 'B'], columns=['C'])"
   ]
  },
  {
   "cell_type": "markdown",
   "metadata": {},
   "source": [
    "# 时间序列"
   ]
  },
  {
   "cell_type": "markdown",
   "metadata": {},
   "source": [
    "pandas 有易用, 强大且高效的函数用于高频数据重采样转换操作(例如: 转换秒数据到5分钟数据).   \n",
    "这是很普通的情况, 但不局限于金融应用."
   ]
  },
  {
   "cell_type": "markdown",
   "metadata": {},
   "source": [
    "### 重新采样:"
   ]
  },
  {
   "cell_type": "code",
   "execution_count": 108,
   "metadata": {},
   "outputs": [],
   "source": [
    "rng = pd.date_range('1/1/2012', periods=100, freq='S')"
   ]
  },
  {
   "cell_type": "code",
   "execution_count": 109,
   "metadata": {},
   "outputs": [],
   "source": [
    "ts = pd.Series(np.random.randint(0, 500, len(rng)), index=rng)"
   ]
  },
  {
   "cell_type": "code",
   "execution_count": 110,
   "metadata": {},
   "outputs": [
    {
     "data": {
      "text/plain": [
       "2012-01-01    21689\n",
       "Freq: 5T, dtype: int64"
      ]
     },
     "execution_count": 110,
     "metadata": {},
     "output_type": "execute_result"
    }
   ],
   "source": [
    "ts.resample('5MIN').sum()"
   ]
  },
  {
   "cell_type": "markdown",
   "metadata": {},
   "source": [
    "### 时区表示:"
   ]
  },
  {
   "cell_type": "code",
   "execution_count": 111,
   "metadata": {
    "collapsed": true
   },
   "outputs": [],
   "source": [
    "rng = pd.date_range('3/6/2012 00:00', periods=5, freq='D')"
   ]
  },
  {
   "cell_type": "code",
   "execution_count": 112,
   "metadata": {
    "collapsed": true
   },
   "outputs": [],
   "source": [
    "ts = pd.Series(np.random.randn(len(rng)), index=rng)"
   ]
  },
  {
   "cell_type": "code",
   "execution_count": 113,
   "metadata": {},
   "outputs": [
    {
     "data": {
      "text/plain": [
       "2012-03-06   -0.766239\n",
       "2012-03-07    0.453263\n",
       "2012-03-08   -0.490956\n",
       "2012-03-09   -1.291874\n",
       "2012-03-10   -0.463390\n",
       "Freq: D, dtype: float64"
      ]
     },
     "execution_count": 113,
     "metadata": {},
     "output_type": "execute_result"
    }
   ],
   "source": [
    "ts"
   ]
  },
  {
   "cell_type": "code",
   "execution_count": 114,
   "metadata": {
    "collapsed": true
   },
   "outputs": [],
   "source": [
    "ts_utc = ts.tz_localize('UTC')"
   ]
  },
  {
   "cell_type": "code",
   "execution_count": 115,
   "metadata": {},
   "outputs": [
    {
     "data": {
      "text/plain": [
       "2012-03-06 00:00:00+00:00   -0.766239\n",
       "2012-03-07 00:00:00+00:00    0.453263\n",
       "2012-03-08 00:00:00+00:00   -0.490956\n",
       "2012-03-09 00:00:00+00:00   -1.291874\n",
       "2012-03-10 00:00:00+00:00   -0.463390\n",
       "Freq: D, dtype: float64"
      ]
     },
     "execution_count": 115,
     "metadata": {},
     "output_type": "execute_result"
    }
   ],
   "source": [
    "ts_utc"
   ]
  },
  {
   "cell_type": "markdown",
   "metadata": {},
   "source": [
    "### 转换到其它时区:"
   ]
  },
  {
   "cell_type": "code",
   "execution_count": 116,
   "metadata": {},
   "outputs": [
    {
     "data": {
      "text/plain": [
       "2012-03-05 19:00:00-05:00   -0.766239\n",
       "2012-03-06 19:00:00-05:00    0.453263\n",
       "2012-03-07 19:00:00-05:00   -0.490956\n",
       "2012-03-08 19:00:00-05:00   -1.291874\n",
       "2012-03-09 19:00:00-05:00   -0.463390\n",
       "Freq: D, dtype: float64"
      ]
     },
     "execution_count": 116,
     "metadata": {},
     "output_type": "execute_result"
    }
   ],
   "source": [
    "ts_utc.tz_convert('US/Eastern')"
   ]
  },
  {
   "cell_type": "markdown",
   "metadata": {},
   "source": [
    "### 转换不同的时间跨度:"
   ]
  },
  {
   "cell_type": "code",
   "execution_count": 117,
   "metadata": {
    "collapsed": true
   },
   "outputs": [],
   "source": [
    "rng = pd.date_range('1/1/2012', periods=5, freq='M')"
   ]
  },
  {
   "cell_type": "code",
   "execution_count": 118,
   "metadata": {},
   "outputs": [],
   "source": [
    "ts = pd.Series(np.random.randn(len(rng)), index=rng)"
   ]
  },
  {
   "cell_type": "code",
   "execution_count": 119,
   "metadata": {},
   "outputs": [
    {
     "data": {
      "text/plain": [
       "2012-01-31    0.095301\n",
       "2012-02-29    0.408777\n",
       "2012-03-31   -0.790425\n",
       "2012-04-30    0.090653\n",
       "2012-05-31    0.317007\n",
       "Freq: M, dtype: float64"
      ]
     },
     "execution_count": 119,
     "metadata": {},
     "output_type": "execute_result"
    }
   ],
   "source": [
    "ts"
   ]
  },
  {
   "cell_type": "code",
   "execution_count": 120,
   "metadata": {
    "collapsed": true
   },
   "outputs": [],
   "source": [
    "ps = ts.to_period()"
   ]
  },
  {
   "cell_type": "code",
   "execution_count": 121,
   "metadata": {},
   "outputs": [
    {
     "data": {
      "text/plain": [
       "2012-01    0.095301\n",
       "2012-02    0.408777\n",
       "2012-03   -0.790425\n",
       "2012-04    0.090653\n",
       "2012-05    0.317007\n",
       "Freq: M, dtype: float64"
      ]
     },
     "execution_count": 121,
     "metadata": {},
     "output_type": "execute_result"
    }
   ],
   "source": [
    "ps"
   ]
  },
  {
   "cell_type": "code",
   "execution_count": 122,
   "metadata": {},
   "outputs": [
    {
     "data": {
      "text/plain": [
       "2012-01-01    0.095301\n",
       "2012-02-01    0.408777\n",
       "2012-03-01   -0.790425\n",
       "2012-04-01    0.090653\n",
       "2012-05-01    0.317007\n",
       "Freq: MS, dtype: float64"
      ]
     },
     "execution_count": 122,
     "metadata": {},
     "output_type": "execute_result"
    }
   ],
   "source": [
    "ps.to_timestamp()"
   ]
  },
  {
   "cell_type": "markdown",
   "metadata": {},
   "source": [
    "### 转换时段, 并且使用一些运算函数. 下例中, 我们转换年报11月到季度结束每日上午9点的数据:"
   ]
  },
  {
   "cell_type": "code",
   "execution_count": 123,
   "metadata": {
    "collapsed": true
   },
   "outputs": [],
   "source": [
    "prng = pd.period_range('1990Q1', '2004Q4', freq='Q-NOV')"
   ]
  },
  {
   "cell_type": "code",
   "execution_count": 124,
   "metadata": {
    "collapsed": true
   },
   "outputs": [],
   "source": [
    "ts = pd.Series(np.random.randn(len(prng)), index=prng)"
   ]
  },
  {
   "cell_type": "code",
   "execution_count": 125,
   "metadata": {},
   "outputs": [
    {
     "data": {
      "text/plain": [
       "1990Q1    1.795697\n",
       "1990Q2    0.311190\n",
       "1990Q3    0.626286\n",
       "1990Q4   -3.022472\n",
       "1991Q1    0.482668\n",
       "Freq: Q-NOV, dtype: float64"
      ]
     },
     "execution_count": 125,
     "metadata": {},
     "output_type": "execute_result"
    }
   ],
   "source": [
    "ts.head()"
   ]
  },
  {
   "cell_type": "code",
   "execution_count": 126,
   "metadata": {
    "collapsed": true
   },
   "outputs": [],
   "source": [
    "ts.index = (prng.asfreq('M', 'e') + 1).asfreq('H', 's') + 9"
   ]
  },
  {
   "cell_type": "code",
   "execution_count": 127,
   "metadata": {},
   "outputs": [
    {
     "data": {
      "text/plain": [
       "1990-03-01 09:00    1.795697\n",
       "1990-06-01 09:00    0.311190\n",
       "1990-09-01 09:00    0.626286\n",
       "1990-12-01 09:00   -3.022472\n",
       "1991-03-01 09:00    0.482668\n",
       "Freq: H, dtype: float64"
      ]
     },
     "execution_count": 127,
     "metadata": {},
     "output_type": "execute_result"
    }
   ],
   "source": [
    "ts.head()"
   ]
  },
  {
   "cell_type": "markdown",
   "metadata": {},
   "source": [
    "# 分类"
   ]
  },
  {
   "cell_type": "code",
   "execution_count": 128,
   "metadata": {
    "collapsed": true
   },
   "outputs": [],
   "source": [
    "df = pd.DataFrame({'id': [1, 2, 3, 4, 5, 6], 'raw_grade': ['a', 'b', 'b', 'a', 'a', 'e']})"
   ]
  },
  {
   "cell_type": "markdown",
   "metadata": {},
   "source": [
    "### 转换原始类别为分类数据类型:"
   ]
  },
  {
   "cell_type": "code",
   "execution_count": 129,
   "metadata": {
    "collapsed": true
   },
   "outputs": [],
   "source": [
    "df['grade'] = df['raw_grade'].astype('category')"
   ]
  },
  {
   "cell_type": "code",
   "execution_count": 130,
   "metadata": {},
   "outputs": [
    {
     "data": {
      "text/plain": [
       "0    a\n",
       "1    b\n",
       "2    b\n",
       "3    a\n",
       "4    a\n",
       "5    e\n",
       "Name: grade, dtype: category\n",
       "Categories (3, object): [a, b, e]"
      ]
     },
     "execution_count": 130,
     "metadata": {},
     "output_type": "execute_result"
    }
   ],
   "source": [
    "df['grade']"
   ]
  },
  {
   "cell_type": "markdown",
   "metadata": {},
   "source": [
    "### 重命名分类为更有意义的名称(分配到 Series.cat.categories 对应位置):"
   ]
  },
  {
   "cell_type": "code",
   "execution_count": 131,
   "metadata": {},
   "outputs": [],
   "source": [
    "df['grade'].cat.categories = ['very good', 'good', 'very bad']"
   ]
  },
  {
   "cell_type": "code",
   "execution_count": 132,
   "metadata": {},
   "outputs": [
    {
     "data": {
      "text/plain": [
       "0    very good\n",
       "1         good\n",
       "2         good\n",
       "3    very good\n",
       "4    very good\n",
       "5     very bad\n",
       "Name: grade, dtype: category\n",
       "Categories (3, object): [very good, good, very bad]"
      ]
     },
     "execution_count": 132,
     "metadata": {},
     "output_type": "execute_result"
    }
   ],
   "source": [
    "df['grade']"
   ]
  },
  {
   "cell_type": "markdown",
   "metadata": {},
   "source": [
    "### 重排顺分类, 同时添加缺少的分类(序列 .cat 方法下返回新默认序列):"
   ]
  },
  {
   "cell_type": "code",
   "execution_count": 133,
   "metadata": {},
   "outputs": [],
   "source": [
    "df['grade'] = df['grade'].cat.set_categories(['very bad', 'bad', 'medium', 'good', 'very good'])"
   ]
  },
  {
   "cell_type": "code",
   "execution_count": 134,
   "metadata": {},
   "outputs": [
    {
     "data": {
      "text/plain": [
       "0    very good\n",
       "1         good\n",
       "2         good\n",
       "3    very good\n",
       "4    very good\n",
       "5     very bad\n",
       "Name: grade, dtype: category\n",
       "Categories (5, object): [very bad, bad, medium, good, very good]"
      ]
     },
     "execution_count": 134,
     "metadata": {},
     "output_type": "execute_result"
    }
   ],
   "source": [
    "df['grade']"
   ]
  },
  {
   "cell_type": "markdown",
   "metadata": {},
   "source": [
    "### 排列分类中的顺序(不是按词汇排列):"
   ]
  },
  {
   "cell_type": "code",
   "execution_count": 135,
   "metadata": {},
   "outputs": [
    {
     "data": {
      "text/html": [
       "<div>\n",
       "<style>\n",
       "    .dataframe thead tr:only-child th {\n",
       "        text-align: right;\n",
       "    }\n",
       "\n",
       "    .dataframe thead th {\n",
       "        text-align: left;\n",
       "    }\n",
       "\n",
       "    .dataframe tbody tr th {\n",
       "        vertical-align: top;\n",
       "    }\n",
       "</style>\n",
       "<table border=\"1\" class=\"dataframe\">\n",
       "  <thead>\n",
       "    <tr style=\"text-align: right;\">\n",
       "      <th></th>\n",
       "      <th>id</th>\n",
       "      <th>raw_grade</th>\n",
       "      <th>grade</th>\n",
       "    </tr>\n",
       "  </thead>\n",
       "  <tbody>\n",
       "    <tr>\n",
       "      <th>5</th>\n",
       "      <td>6</td>\n",
       "      <td>e</td>\n",
       "      <td>very bad</td>\n",
       "    </tr>\n",
       "    <tr>\n",
       "      <th>1</th>\n",
       "      <td>2</td>\n",
       "      <td>b</td>\n",
       "      <td>good</td>\n",
       "    </tr>\n",
       "    <tr>\n",
       "      <th>2</th>\n",
       "      <td>3</td>\n",
       "      <td>b</td>\n",
       "      <td>good</td>\n",
       "    </tr>\n",
       "    <tr>\n",
       "      <th>0</th>\n",
       "      <td>1</td>\n",
       "      <td>a</td>\n",
       "      <td>very good</td>\n",
       "    </tr>\n",
       "    <tr>\n",
       "      <th>3</th>\n",
       "      <td>4</td>\n",
       "      <td>a</td>\n",
       "      <td>very good</td>\n",
       "    </tr>\n",
       "    <tr>\n",
       "      <th>4</th>\n",
       "      <td>5</td>\n",
       "      <td>a</td>\n",
       "      <td>very good</td>\n",
       "    </tr>\n",
       "  </tbody>\n",
       "</table>\n",
       "</div>"
      ],
      "text/plain": [
       "   id raw_grade      grade\n",
       "5   6         e   very bad\n",
       "1   2         b       good\n",
       "2   3         b       good\n",
       "0   1         a  very good\n",
       "3   4         a  very good\n",
       "4   5         a  very good"
      ]
     },
     "execution_count": 135,
     "metadata": {},
     "output_type": "execute_result"
    }
   ],
   "source": [
    "df.sort_values('grade')"
   ]
  },
  {
   "cell_type": "markdown",
   "metadata": {},
   "source": [
    "### 类别列分组, 并且也显示空类别:"
   ]
  },
  {
   "cell_type": "code",
   "execution_count": 136,
   "metadata": {},
   "outputs": [
    {
     "data": {
      "text/plain": [
       "grade\n",
       "very bad     1\n",
       "bad          0\n",
       "medium       0\n",
       "good         2\n",
       "very good    3\n",
       "dtype: int64"
      ]
     },
     "execution_count": 136,
     "metadata": {},
     "output_type": "execute_result"
    }
   ],
   "source": [
    "df.groupby('grade').size()"
   ]
  },
  {
   "cell_type": "markdown",
   "metadata": {},
   "source": [
    "# 绘画"
   ]
  },
  {
   "cell_type": "code",
   "execution_count": 137,
   "metadata": {},
   "outputs": [],
   "source": [
    "ts = pd.Series(np.random.randn(1000), index=pd.date_range('1/1/2000', periods=1000))"
   ]
  },
  {
   "cell_type": "code",
   "execution_count": 138,
   "metadata": {},
   "outputs": [],
   "source": [
    "ts = ts.cumsum()"
   ]
  },
  {
   "cell_type": "code",
   "execution_count": 139,
   "metadata": {},
   "outputs": [
    {
     "data": {
      "text/plain": [
       "<matplotlib.axes._subplots.AxesSubplot at 0x1144bfad0>"
      ]
     },
     "execution_count": 139,
     "metadata": {},
     "output_type": "execute_result"
    }
   ],
   "source": [
    "ts.plot()"
   ]
  },
  {
   "cell_type": "code",
   "execution_count": 140,
   "metadata": {},
   "outputs": [
    {
     "data": {
      "image/png": "[encoded data removed]",
      "text/plain": [
       "<matplotlib.figure.Figure at 0x11447e3d0>"
      ]
     },
     "metadata": {},
     "output_type": "display_data"
    }
   ],
   "source": [
    "plt.show()"
   ]
  },
  {
   "cell_type": "markdown",
   "metadata": {},
   "source": [
    "### 在数据帧中, 可以很方便的绘制带标签列:"
   ]
  },
  {
   "cell_type": "code",
   "execution_count": 141,
   "metadata": {
    "collapsed": true
   },
   "outputs": [],
   "source": [
    "df = pd.DataFrame(np.random.randn(1000, 4), index=ts.index, columns=['A', 'B', 'C', 'D'])"
   ]
  },
  {
   "cell_type": "code",
   "execution_count": 142,
   "metadata": {
    "collapsed": true
   },
   "outputs": [],
   "source": [
    "df = df.cumsum()"
   ]
  },
  {
   "cell_type": "code",
   "execution_count": 143,
   "metadata": {},
   "outputs": [
    {
     "data": {
      "text/plain": [
       "<matplotlib.legend.Legend at 0x114654850>"
      ]
     },
     "execution_count": 143,
     "metadata": {},
     "output_type": "execute_result"
    }
   ],
   "source": [
    "plt.figure()\n",
    "df.plot()\n",
    "plt.legend(loc='best')"
   ]
  },
  {
   "cell_type": "code",
   "execution_count": 144,
   "metadata": {},
   "outputs": [
    {
     "data": {
      "text/plain": [
       "<matplotlib.figure.Figure at 0x1146633d0>"
      ]
     },
     "metadata": {},
     "output_type": "display_data"
    },
    {
     "data": {
      "image/png": "[encoded data removed]",
      "text/plain": [
       "<matplotlib.figure.Figure at 0x114654890>"
      ]
     },
     "metadata": {},
     "output_type": "display_data"
    }
   ],
   "source": [
    "plt.show()"
   ]
  },
  {
   "cell_type": "markdown",
   "metadata": {},
   "source": [
    "# 获取数据输入/输出"
   ]
  },
  {
   "cell_type": "markdown",
   "metadata": {},
   "source": [
    "## CSV"
   ]
  },
  {
   "cell_type": "markdown",
   "metadata": {},
   "source": [
    "### 写入 csv 文件:"
   ]
  },
  {
   "cell_type": "code",
   "execution_count": 145,
   "metadata": {},
   "outputs": [],
   "source": [
    "df.to_csv('temp_file_foo.csv')"
   ]
  },
  {
   "cell_type": "markdown",
   "metadata": {},
   "source": [
    "### 读取 csv 文件:"
   ]
  },
  {
   "cell_type": "code",
   "execution_count": 146,
   "metadata": {},
   "outputs": [
    {
     "data": {
      "text/html": [
       "<div>\n",
       "<style>\n",
       "    .dataframe thead tr:only-child th {\n",
       "        text-align: right;\n",
       "    }\n",
       "\n",
       "    .dataframe thead th {\n",
       "        text-align: left;\n",
       "    }\n",
       "\n",
       "    .dataframe tbody tr th {\n",
       "        vertical-align: top;\n",
       "    }\n",
       "</style>\n",
       "<table border=\"1\" class=\"dataframe\">\n",
       "  <thead>\n",
       "    <tr style=\"text-align: right;\">\n",
       "      <th></th>\n",
       "      <th>Unnamed: 0</th>\n",
       "      <th>A</th>\n",
       "      <th>B</th>\n",
       "      <th>C</th>\n",
       "      <th>D</th>\n",
       "    </tr>\n",
       "  </thead>\n",
       "  <tbody>\n",
       "    <tr>\n",
       "      <th>0</th>\n",
       "      <td>2000-01-01</td>\n",
       "      <td>-1.199395</td>\n",
       "      <td>1.387735</td>\n",
       "      <td>-1.798714</td>\n",
       "      <td>-0.633652</td>\n",
       "    </tr>\n",
       "    <tr>\n",
       "      <th>1</th>\n",
       "      <td>2000-01-02</td>\n",
       "      <td>-0.908396</td>\n",
       "      <td>1.301464</td>\n",
       "      <td>-2.751684</td>\n",
       "      <td>-0.756612</td>\n",
       "    </tr>\n",
       "    <tr>\n",
       "      <th>2</th>\n",
       "      <td>2000-01-03</td>\n",
       "      <td>-1.214637</td>\n",
       "      <td>1.722991</td>\n",
       "      <td>-2.878235</td>\n",
       "      <td>-1.103410</td>\n",
       "    </tr>\n",
       "    <tr>\n",
       "      <th>3</th>\n",
       "      <td>2000-01-04</td>\n",
       "      <td>-1.444817</td>\n",
       "      <td>1.526782</td>\n",
       "      <td>-1.434901</td>\n",
       "      <td>-0.878478</td>\n",
       "    </tr>\n",
       "    <tr>\n",
       "      <th>4</th>\n",
       "      <td>2000-01-05</td>\n",
       "      <td>-2.336566</td>\n",
       "      <td>0.792154</td>\n",
       "      <td>0.702733</td>\n",
       "      <td>-1.161456</td>\n",
       "    </tr>\n",
       "    <tr>\n",
       "      <th>5</th>\n",
       "      <td>2000-01-06</td>\n",
       "      <td>-1.141497</td>\n",
       "      <td>-0.123991</td>\n",
       "      <td>0.006881</td>\n",
       "      <td>-0.231437</td>\n",
       "    </tr>\n",
       "    <tr>\n",
       "      <th>6</th>\n",
       "      <td>2000-01-07</td>\n",
       "      <td>-0.903127</td>\n",
       "      <td>-0.106136</td>\n",
       "      <td>-0.105336</td>\n",
       "      <td>0.636556</td>\n",
       "    </tr>\n",
       "    <tr>\n",
       "      <th>7</th>\n",
       "      <td>2000-01-08</td>\n",
       "      <td>-0.363628</td>\n",
       "      <td>0.484380</td>\n",
       "      <td>0.604074</td>\n",
       "      <td>2.070136</td>\n",
       "    </tr>\n",
       "    <tr>\n",
       "      <th>8</th>\n",
       "      <td>2000-01-09</td>\n",
       "      <td>-2.381704</td>\n",
       "      <td>-1.328455</td>\n",
       "      <td>2.261637</td>\n",
       "      <td>-0.153917</td>\n",
       "    </tr>\n",
       "    <tr>\n",
       "      <th>9</th>\n",
       "      <td>2000-01-10</td>\n",
       "      <td>-2.071101</td>\n",
       "      <td>-1.512707</td>\n",
       "      <td>3.693099</td>\n",
       "      <td>-0.840669</td>\n",
       "    </tr>\n",
       "    <tr>\n",
       "      <th>10</th>\n",
       "      <td>2000-01-11</td>\n",
       "      <td>-2.565354</td>\n",
       "      <td>0.130182</td>\n",
       "      <td>1.843764</td>\n",
       "      <td>-1.024025</td>\n",
       "    </tr>\n",
       "    <tr>\n",
       "      <th>11</th>\n",
       "      <td>2000-01-12</td>\n",
       "      <td>-2.319995</td>\n",
       "      <td>-0.495654</td>\n",
       "      <td>1.502985</td>\n",
       "      <td>0.329354</td>\n",
       "    </tr>\n",
       "    <tr>\n",
       "      <th>12</th>\n",
       "      <td>2000-01-13</td>\n",
       "      <td>-3.597537</td>\n",
       "      <td>-0.941485</td>\n",
       "      <td>2.316260</td>\n",
       "      <td>0.292277</td>\n",
       "    </tr>\n",
       "    <tr>\n",
       "      <th>13</th>\n",
       "      <td>2000-01-14</td>\n",
       "      <td>-2.936507</td>\n",
       "      <td>-1.304660</td>\n",
       "      <td>1.623378</td>\n",
       "      <td>2.056469</td>\n",
       "    </tr>\n",
       "    <tr>\n",
       "      <th>14</th>\n",
       "      <td>2000-01-15</td>\n",
       "      <td>-3.434638</td>\n",
       "      <td>-0.557851</td>\n",
       "      <td>3.005293</td>\n",
       "      <td>2.351642</td>\n",
       "    </tr>\n",
       "    <tr>\n",
       "      <th>15</th>\n",
       "      <td>2000-01-16</td>\n",
       "      <td>-4.416633</td>\n",
       "      <td>-0.263922</td>\n",
       "      <td>3.217599</td>\n",
       "      <td>1.910207</td>\n",
       "    </tr>\n",
       "    <tr>\n",
       "      <th>16</th>\n",
       "      <td>2000-01-17</td>\n",
       "      <td>-3.620688</td>\n",
       "      <td>2.576329</td>\n",
       "      <td>3.666597</td>\n",
       "      <td>3.099960</td>\n",
       "    </tr>\n",
       "    <tr>\n",
       "      <th>17</th>\n",
       "      <td>2000-01-18</td>\n",
       "      <td>-2.781963</td>\n",
       "      <td>2.665356</td>\n",
       "      <td>4.350962</td>\n",
       "      <td>3.136723</td>\n",
       "    </tr>\n",
       "    <tr>\n",
       "      <th>18</th>\n",
       "      <td>2000-01-19</td>\n",
       "      <td>-3.103494</td>\n",
       "      <td>2.206880</td>\n",
       "      <td>2.800751</td>\n",
       "      <td>3.927562</td>\n",
       "    </tr>\n",
       "    <tr>\n",
       "      <th>19</th>\n",
       "      <td>2000-01-20</td>\n",
       "      <td>-4.747767</td>\n",
       "      <td>3.565885</td>\n",
       "      <td>3.328753</td>\n",
       "      <td>5.492230</td>\n",
       "    </tr>\n",
       "    <tr>\n",
       "      <th>20</th>\n",
       "      <td>2000-01-21</td>\n",
       "      <td>-3.959743</td>\n",
       "      <td>3.567764</td>\n",
       "      <td>0.668938</td>\n",
       "      <td>4.408660</td>\n",
       "    </tr>\n",
       "    <tr>\n",
       "      <th>21</th>\n",
       "      <td>2000-01-22</td>\n",
       "      <td>-4.307452</td>\n",
       "      <td>4.313845</td>\n",
       "      <td>0.268082</td>\n",
       "      <td>4.341462</td>\n",
       "    </tr>\n",
       "    <tr>\n",
       "      <th>22</th>\n",
       "      <td>2000-01-23</td>\n",
       "      <td>-4.820593</td>\n",
       "      <td>3.535090</td>\n",
       "      <td>-0.237196</td>\n",
       "      <td>3.653925</td>\n",
       "    </tr>\n",
       "    <tr>\n",
       "      <th>23</th>\n",
       "      <td>2000-01-24</td>\n",
       "      <td>-4.343503</td>\n",
       "      <td>3.313142</td>\n",
       "      <td>0.196462</td>\n",
       "      <td>3.228989</td>\n",
       "    </tr>\n",
       "    <tr>\n",
       "      <th>24</th>\n",
       "      <td>2000-01-25</td>\n",
       "      <td>-4.012244</td>\n",
       "      <td>2.340642</td>\n",
       "      <td>-0.239219</td>\n",
       "      <td>2.294877</td>\n",
       "    </tr>\n",
       "    <tr>\n",
       "      <th>25</th>\n",
       "      <td>2000-01-26</td>\n",
       "      <td>-5.584496</td>\n",
       "      <td>2.627301</td>\n",
       "      <td>-0.933413</td>\n",
       "      <td>2.826616</td>\n",
       "    </tr>\n",
       "    <tr>\n",
       "      <th>26</th>\n",
       "      <td>2000-01-27</td>\n",
       "      <td>-5.349654</td>\n",
       "      <td>1.431231</td>\n",
       "      <td>-1.747397</td>\n",
       "      <td>3.038043</td>\n",
       "    </tr>\n",
       "    <tr>\n",
       "      <th>27</th>\n",
       "      <td>2000-01-28</td>\n",
       "      <td>-7.274830</td>\n",
       "      <td>2.160869</td>\n",
       "      <td>-1.533647</td>\n",
       "      <td>3.606827</td>\n",
       "    </tr>\n",
       "    <tr>\n",
       "      <th>28</th>\n",
       "      <td>2000-01-29</td>\n",
       "      <td>-7.485718</td>\n",
       "      <td>1.098004</td>\n",
       "      <td>-1.062377</td>\n",
       "      <td>3.421171</td>\n",
       "    </tr>\n",
       "    <tr>\n",
       "      <th>29</th>\n",
       "      <td>2000-01-30</td>\n",
       "      <td>-6.304430</td>\n",
       "      <td>-0.640919</td>\n",
       "      <td>-1.360975</td>\n",
       "      <td>2.629127</td>\n",
       "    </tr>\n",
       "    <tr>\n",
       "      <th>...</th>\n",
       "      <td>...</td>\n",
       "      <td>...</td>\n",
       "      <td>...</td>\n",
       "      <td>...</td>\n",
       "      <td>...</td>\n",
       "    </tr>\n",
       "    <tr>\n",
       "      <th>970</th>\n",
       "      <td>2002-08-28</td>\n",
       "      <td>-91.161762</td>\n",
       "      <td>-18.283552</td>\n",
       "      <td>12.647657</td>\n",
       "      <td>-18.508526</td>\n",
       "    </tr>\n",
       "    <tr>\n",
       "      <th>971</th>\n",
       "      <td>2002-08-29</td>\n",
       "      <td>-89.573510</td>\n",
       "      <td>-18.504441</td>\n",
       "      <td>14.460417</td>\n",
       "      <td>-17.223896</td>\n",
       "    </tr>\n",
       "    <tr>\n",
       "      <th>972</th>\n",
       "      <td>2002-08-30</td>\n",
       "      <td>-88.798781</td>\n",
       "      <td>-16.765993</td>\n",
       "      <td>16.420495</td>\n",
       "      <td>-18.875415</td>\n",
       "    </tr>\n",
       "    <tr>\n",
       "      <th>973</th>\n",
       "      <td>2002-08-31</td>\n",
       "      <td>-88.407509</td>\n",
       "      <td>-17.379462</td>\n",
       "      <td>16.765101</td>\n",
       "      <td>-20.467720</td>\n",
       "    </tr>\n",
       "    <tr>\n",
       "      <th>974</th>\n",
       "      <td>2002-09-01</td>\n",
       "      <td>-89.670998</td>\n",
       "      <td>-16.868724</td>\n",
       "      <td>15.976802</td>\n",
       "      <td>-20.654874</td>\n",
       "    </tr>\n",
       "    <tr>\n",
       "      <th>975</th>\n",
       "      <td>2002-09-02</td>\n",
       "      <td>-87.923717</td>\n",
       "      <td>-18.770030</td>\n",
       "      <td>16.433847</td>\n",
       "      <td>-18.946714</td>\n",
       "    </tr>\n",
       "    <tr>\n",
       "      <th>976</th>\n",
       "      <td>2002-09-03</td>\n",
       "      <td>-85.777104</td>\n",
       "      <td>-20.938777</td>\n",
       "      <td>17.576698</td>\n",
       "      <td>-19.501421</td>\n",
       "    </tr>\n",
       "    <tr>\n",
       "      <th>977</th>\n",
       "      <td>2002-09-04</td>\n",
       "      <td>-85.720509</td>\n",
       "      <td>-19.315577</td>\n",
       "      <td>15.530183</td>\n",
       "      <td>-18.799975</td>\n",
       "    </tr>\n",
       "    <tr>\n",
       "      <th>978</th>\n",
       "      <td>2002-09-05</td>\n",
       "      <td>-86.116354</td>\n",
       "      <td>-19.413728</td>\n",
       "      <td>13.943714</td>\n",
       "      <td>-18.217563</td>\n",
       "    </tr>\n",
       "    <tr>\n",
       "      <th>979</th>\n",
       "      <td>2002-09-06</td>\n",
       "      <td>-86.582680</td>\n",
       "      <td>-20.141059</td>\n",
       "      <td>14.162898</td>\n",
       "      <td>-17.635551</td>\n",
       "    </tr>\n",
       "    <tr>\n",
       "      <th>980</th>\n",
       "      <td>2002-09-07</td>\n",
       "      <td>-86.085200</td>\n",
       "      <td>-19.333936</td>\n",
       "      <td>13.006658</td>\n",
       "      <td>-18.078151</td>\n",
       "    </tr>\n",
       "    <tr>\n",
       "      <th>981</th>\n",
       "      <td>2002-09-08</td>\n",
       "      <td>-84.737067</td>\n",
       "      <td>-18.058932</td>\n",
       "      <td>14.705133</td>\n",
       "      <td>-17.673837</td>\n",
       "    </tr>\n",
       "    <tr>\n",
       "      <th>982</th>\n",
       "      <td>2002-09-09</td>\n",
       "      <td>-84.024475</td>\n",
       "      <td>-17.711860</td>\n",
       "      <td>15.487204</td>\n",
       "      <td>-16.985294</td>\n",
       "    </tr>\n",
       "    <tr>\n",
       "      <th>983</th>\n",
       "      <td>2002-09-10</td>\n",
       "      <td>-83.368774</td>\n",
       "      <td>-17.535428</td>\n",
       "      <td>16.391717</td>\n",
       "      <td>-16.527879</td>\n",
       "    </tr>\n",
       "    <tr>\n",
       "      <th>984</th>\n",
       "      <td>2002-09-11</td>\n",
       "      <td>-84.670374</td>\n",
       "      <td>-18.167918</td>\n",
       "      <td>16.634557</td>\n",
       "      <td>-16.062619</td>\n",
       "    </tr>\n",
       "    <tr>\n",
       "      <th>985</th>\n",
       "      <td>2002-09-12</td>\n",
       "      <td>-85.539085</td>\n",
       "      <td>-17.902050</td>\n",
       "      <td>16.435134</td>\n",
       "      <td>-16.825358</td>\n",
       "    </tr>\n",
       "    <tr>\n",
       "      <th>986</th>\n",
       "      <td>2002-09-13</td>\n",
       "      <td>-85.822989</td>\n",
       "      <td>-17.396826</td>\n",
       "      <td>15.872258</td>\n",
       "      <td>-16.078469</td>\n",
       "    </tr>\n",
       "    <tr>\n",
       "      <th>987</th>\n",
       "      <td>2002-09-14</td>\n",
       "      <td>-86.006952</td>\n",
       "      <td>-18.925765</td>\n",
       "      <td>15.711982</td>\n",
       "      <td>-15.066963</td>\n",
       "    </tr>\n",
       "    <tr>\n",
       "      <th>988</th>\n",
       "      <td>2002-09-15</td>\n",
       "      <td>-84.027412</td>\n",
       "      <td>-18.777929</td>\n",
       "      <td>17.269961</td>\n",
       "      <td>-14.160437</td>\n",
       "    </tr>\n",
       "    <tr>\n",
       "      <th>989</th>\n",
       "      <td>2002-09-16</td>\n",
       "      <td>-84.371619</td>\n",
       "      <td>-20.118414</td>\n",
       "      <td>15.642104</td>\n",
       "      <td>-15.423790</td>\n",
       "    </tr>\n",
       "    <tr>\n",
       "      <th>990</th>\n",
       "      <td>2002-09-17</td>\n",
       "      <td>-85.164808</td>\n",
       "      <td>-19.817076</td>\n",
       "      <td>13.001907</td>\n",
       "      <td>-15.164830</td>\n",
       "    </tr>\n",
       "    <tr>\n",
       "      <th>991</th>\n",
       "      <td>2002-09-18</td>\n",
       "      <td>-84.218649</td>\n",
       "      <td>-19.546377</td>\n",
       "      <td>15.276487</td>\n",
       "      <td>-15.387791</td>\n",
       "    </tr>\n",
       "    <tr>\n",
       "      <th>992</th>\n",
       "      <td>2002-09-19</td>\n",
       "      <td>-83.044203</td>\n",
       "      <td>-19.228630</td>\n",
       "      <td>15.735577</td>\n",
       "      <td>-14.381051</td>\n",
       "    </tr>\n",
       "    <tr>\n",
       "      <th>993</th>\n",
       "      <td>2002-09-20</td>\n",
       "      <td>-85.338968</td>\n",
       "      <td>-20.112770</td>\n",
       "      <td>15.090700</td>\n",
       "      <td>-15.749164</td>\n",
       "    </tr>\n",
       "    <tr>\n",
       "      <th>994</th>\n",
       "      <td>2002-09-21</td>\n",
       "      <td>-85.016944</td>\n",
       "      <td>-19.630807</td>\n",
       "      <td>14.161316</td>\n",
       "      <td>-17.186947</td>\n",
       "    </tr>\n",
       "    <tr>\n",
       "      <th>995</th>\n",
       "      <td>2002-09-22</td>\n",
       "      <td>-86.204378</td>\n",
       "      <td>-20.593557</td>\n",
       "      <td>14.169823</td>\n",
       "      <td>-18.647361</td>\n",
       "    </tr>\n",
       "    <tr>\n",
       "      <th>996</th>\n",
       "      <td>2002-09-23</td>\n",
       "      <td>-87.236501</td>\n",
       "      <td>-19.624129</td>\n",
       "      <td>13.717445</td>\n",
       "      <td>-18.860626</td>\n",
       "    </tr>\n",
       "    <tr>\n",
       "      <th>997</th>\n",
       "      <td>2002-09-24</td>\n",
       "      <td>-85.017293</td>\n",
       "      <td>-18.796620</td>\n",
       "      <td>12.349552</td>\n",
       "      <td>-19.443635</td>\n",
       "    </tr>\n",
       "    <tr>\n",
       "      <th>998</th>\n",
       "      <td>2002-09-25</td>\n",
       "      <td>-82.876770</td>\n",
       "      <td>-19.974321</td>\n",
       "      <td>13.262328</td>\n",
       "      <td>-22.083206</td>\n",
       "    </tr>\n",
       "    <tr>\n",
       "      <th>999</th>\n",
       "      <td>2002-09-26</td>\n",
       "      <td>-83.219573</td>\n",
       "      <td>-20.518671</td>\n",
       "      <td>14.674183</td>\n",
       "      <td>-21.022386</td>\n",
       "    </tr>\n",
       "  </tbody>\n",
       "</table>\n",
       "<p>1000 rows × 5 columns</p>\n",
       "</div>"
      ],
      "text/plain": [
       "     Unnamed: 0          A          B          C          D\n",
       "0    2000-01-01  -1.199395   1.387735  -1.798714  -0.633652\n",
       "1    2000-01-02  -0.908396   1.301464  -2.751684  -0.756612\n",
       "2    2000-01-03  -1.214637   1.722991  -2.878235  -1.103410\n",
       "3    2000-01-04  -1.444817   1.526782  -1.434901  -0.878478\n",
       "4    2000-01-05  -2.336566   0.792154   0.702733  -1.161456\n",
       "5    2000-01-06  -1.141497  -0.123991   0.006881  -0.231437\n",
       "6    2000-01-07  -0.903127  -0.106136  -0.105336   0.636556\n",
       "7    2000-01-08  -0.363628   0.484380   0.604074   2.070136\n",
       "8    2000-01-09  -2.381704  -1.328455   2.261637  -0.153917\n",
       "9    2000-01-10  -2.071101  -1.512707   3.693099  -0.840669\n",
       "10   2000-01-11  -2.565354   0.130182   1.843764  -1.024025\n",
       "11   2000-01-12  -2.319995  -0.495654   1.502985   0.329354\n",
       "12   2000-01-13  -3.597537  -0.941485   2.316260   0.292277\n",
       "13   2000-01-14  -2.936507  -1.304660   1.623378   2.056469\n",
       "14   2000-01-15  -3.434638  -0.557851   3.005293   2.351642\n",
       "15   2000-01-16  -4.416633  -0.263922   3.217599   1.910207\n",
       "16   2000-01-17  -3.620688   2.576329   3.666597   3.099960\n",
       "17   2000-01-18  -2.781963   2.665356   4.350962   3.136723\n",
       "18   2000-01-19  -3.103494   2.206880   2.800751   3.927562\n",
       "19   2000-01-20  -4.747767   3.565885   3.328753   5.492230\n",
       "20   2000-01-21  -3.959743   3.567764   0.668938   4.408660\n",
       "21   2000-01-22  -4.307452   4.313845   0.268082   4.341462\n",
       "22   2000-01-23  -4.820593   3.535090  -0.237196   3.653925\n",
       "23   2000-01-24  -4.343503   3.313142   0.196462   3.228989\n",
       "24   2000-01-25  -4.012244   2.340642  -0.239219   2.294877\n",
       "25   2000-01-26  -5.584496   2.627301  -0.933413   2.826616\n",
       "26   2000-01-27  -5.349654   1.431231  -1.747397   3.038043\n",
       "27   2000-01-28  -7.274830   2.160869  -1.533647   3.606827\n",
       "28   2000-01-29  -7.485718   1.098004  -1.062377   3.421171\n",
       "29   2000-01-30  -6.304430  -0.640919  -1.360975   2.629127\n",
       "..          ...        ...        ...        ...        ...\n",
       "970  2002-08-28 -91.161762 -18.283552  12.647657 -18.508526\n",
       "971  2002-08-29 -89.573510 -18.504441  14.460417 -17.223896\n",
       "972  2002-08-30 -88.798781 -16.765993  16.420495 -18.875415\n",
       "973  2002-08-31 -88.407509 -17.379462  16.765101 -20.467720\n",
       "974  2002-09-01 -89.670998 -16.868724  15.976802 -20.654874\n",
       "975  2002-09-02 -87.923717 -18.770030  16.433847 -18.946714\n",
       "976  2002-09-03 -85.777104 -20.938777  17.576698 -19.501421\n",
       "977  2002-09-04 -85.720509 -19.315577  15.530183 -18.799975\n",
       "978  2002-09-05 -86.116354 -19.413728  13.943714 -18.217563\n",
       "979  2002-09-06 -86.582680 -20.141059  14.162898 -17.635551\n",
       "980  2002-09-07 -86.085200 -19.333936  13.006658 -18.078151\n",
       "981  2002-09-08 -84.737067 -18.058932  14.705133 -17.673837\n",
       "982  2002-09-09 -84.024475 -17.711860  15.487204 -16.985294\n",
       "983  2002-09-10 -83.368774 -17.535428  16.391717 -16.527879\n",
       "984  2002-09-11 -84.670374 -18.167918  16.634557 -16.062619\n",
       "985  2002-09-12 -85.539085 -17.902050  16.435134 -16.825358\n",
       "986  2002-09-13 -85.822989 -17.396826  15.872258 -16.078469\n",
       "987  2002-09-14 -86.006952 -18.925765  15.711982 -15.066963\n",
       "988  2002-09-15 -84.027412 -18.777929  17.269961 -14.160437\n",
       "989  2002-09-16 -84.371619 -20.118414  15.642104 -15.423790\n",
       "990  2002-09-17 -85.164808 -19.817076  13.001907 -15.164830\n",
       "991  2002-09-18 -84.218649 -19.546377  15.276487 -15.387791\n",
       "992  2002-09-19 -83.044203 -19.228630  15.735577 -14.381051\n",
       "993  2002-09-20 -85.338968 -20.112770  15.090700 -15.749164\n",
       "994  2002-09-21 -85.016944 -19.630807  14.161316 -17.186947\n",
       "995  2002-09-22 -86.204378 -20.593557  14.169823 -18.647361\n",
       "996  2002-09-23 -87.236501 -19.624129  13.717445 -18.860626\n",
       "997  2002-09-24 -85.017293 -18.796620  12.349552 -19.443635\n",
       "998  2002-09-25 -82.876770 -19.974321  13.262328 -22.083206\n",
       "999  2002-09-26 -83.219573 -20.518671  14.674183 -21.022386\n",
       "\n",
       "[1000 rows x 5 columns]"
      ]
     },
     "execution_count": 146,
     "metadata": {},
     "output_type": "execute_result"
    }
   ],
   "source": [
    "pd.read_csv('temp_file_foo.csv')"
   ]
  },
  {
   "cell_type": "markdown",
   "metadata": {},
   "source": [
    "## HDF5"
   ]
  },
  {
   "cell_type": "markdown",
   "metadata": {},
   "source": [
    "### 写入 HDF 存储:"
   ]
  },
  {
   "cell_type": "code",
   "execution_count": 147,
   "metadata": {},
   "outputs": [],
   "source": [
    "df.to_hdf('temp_file_foo.h5', key='df')"
   ]
  },
  {
   "cell_type": "markdown",
   "metadata": {},
   "source": [
    "### 读取 HDF 存储:"
   ]
  },
  {
   "cell_type": "code",
   "execution_count": 148,
   "metadata": {},
   "outputs": [
    {
     "data": {
      "text/html": [
       "<div>\n",
       "<style>\n",
       "    .dataframe thead tr:only-child th {\n",
       "        text-align: right;\n",
       "    }\n",
       "\n",
       "    .dataframe thead th {\n",
       "        text-align: left;\n",
       "    }\n",
       "\n",
       "    .dataframe tbody tr th {\n",
       "        vertical-align: top;\n",
       "    }\n",
       "</style>\n",
       "<table border=\"1\" class=\"dataframe\">\n",
       "  <thead>\n",
       "    <tr style=\"text-align: right;\">\n",
       "      <th></th>\n",
       "      <th>A</th>\n",
       "      <th>B</th>\n",
       "      <th>C</th>\n",
       "      <th>D</th>\n",
       "    </tr>\n",
       "  </thead>\n",
       "  <tbody>\n",
       "    <tr>\n",
       "      <th>2000-01-01</th>\n",
       "      <td>-1.199395</td>\n",
       "      <td>1.387735</td>\n",
       "      <td>-1.798714</td>\n",
       "      <td>-0.633652</td>\n",
       "    </tr>\n",
       "    <tr>\n",
       "      <th>2000-01-02</th>\n",
       "      <td>-0.908396</td>\n",
       "      <td>1.301464</td>\n",
       "      <td>-2.751684</td>\n",
       "      <td>-0.756612</td>\n",
       "    </tr>\n",
       "    <tr>\n",
       "      <th>2000-01-03</th>\n",
       "      <td>-1.214637</td>\n",
       "      <td>1.722991</td>\n",
       "      <td>-2.878235</td>\n",
       "      <td>-1.103410</td>\n",
       "    </tr>\n",
       "    <tr>\n",
       "      <th>2000-01-04</th>\n",
       "      <td>-1.444817</td>\n",
       "      <td>1.526782</td>\n",
       "      <td>-1.434901</td>\n",
       "      <td>-0.878478</td>\n",
       "    </tr>\n",
       "    <tr>\n",
       "      <th>2000-01-05</th>\n",
       "      <td>-2.336566</td>\n",
       "      <td>0.792154</td>\n",
       "      <td>0.702733</td>\n",
       "      <td>-1.161456</td>\n",
       "    </tr>\n",
       "    <tr>\n",
       "      <th>2000-01-06</th>\n",
       "      <td>-1.141497</td>\n",
       "      <td>-0.123991</td>\n",
       "      <td>0.006881</td>\n",
       "      <td>-0.231437</td>\n",
       "    </tr>\n",
       "    <tr>\n",
       "      <th>2000-01-07</th>\n",
       "      <td>-0.903127</td>\n",
       "      <td>-0.106136</td>\n",
       "      <td>-0.105336</td>\n",
       "      <td>0.636556</td>\n",
       "    </tr>\n",
       "    <tr>\n",
       "      <th>2000-01-08</th>\n",
       "      <td>-0.363628</td>\n",
       "      <td>0.484380</td>\n",
       "      <td>0.604074</td>\n",
       "      <td>2.070136</td>\n",
       "    </tr>\n",
       "    <tr>\n",
       "      <th>2000-01-09</th>\n",
       "      <td>-2.381704</td>\n",
       "      <td>-1.328455</td>\n",
       "      <td>2.261637</td>\n",
       "      <td>-0.153917</td>\n",
       "    </tr>\n",
       "    <tr>\n",
       "      <th>2000-01-10</th>\n",
       "      <td>-2.071101</td>\n",
       "      <td>-1.512707</td>\n",
       "      <td>3.693099</td>\n",
       "      <td>-0.840669</td>\n",
       "    </tr>\n",
       "    <tr>\n",
       "      <th>2000-01-11</th>\n",
       "      <td>-2.565354</td>\n",
       "      <td>0.130182</td>\n",
       "      <td>1.843764</td>\n",
       "      <td>-1.024025</td>\n",
       "    </tr>\n",
       "    <tr>\n",
       "      <th>2000-01-12</th>\n",
       "      <td>-2.319995</td>\n",
       "      <td>-0.495654</td>\n",
       "      <td>1.502985</td>\n",
       "      <td>0.329354</td>\n",
       "    </tr>\n",
       "    <tr>\n",
       "      <th>2000-01-13</th>\n",
       "      <td>-3.597537</td>\n",
       "      <td>-0.941485</td>\n",
       "      <td>2.316260</td>\n",
       "      <td>0.292277</td>\n",
       "    </tr>\n",
       "    <tr>\n",
       "      <th>2000-01-14</th>\n",
       "      <td>-2.936507</td>\n",
       "      <td>-1.304660</td>\n",
       "      <td>1.623378</td>\n",
       "      <td>2.056469</td>\n",
       "    </tr>\n",
       "    <tr>\n",
       "      <th>2000-01-15</th>\n",
       "      <td>-3.434638</td>\n",
       "      <td>-0.557851</td>\n",
       "      <td>3.005293</td>\n",
       "      <td>2.351642</td>\n",
       "    </tr>\n",
       "    <tr>\n",
       "      <th>2000-01-16</th>\n",
       "      <td>-4.416633</td>\n",
       "      <td>-0.263922</td>\n",
       "      <td>3.217599</td>\n",
       "      <td>1.910207</td>\n",
       "    </tr>\n",
       "    <tr>\n",
       "      <th>2000-01-17</th>\n",
       "      <td>-3.620688</td>\n",
       "      <td>2.576329</td>\n",
       "      <td>3.666597</td>\n",
       "      <td>3.099960</td>\n",
       "    </tr>\n",
       "    <tr>\n",
       "      <th>2000-01-18</th>\n",
       "      <td>-2.781963</td>\n",
       "      <td>2.665356</td>\n",
       "      <td>4.350962</td>\n",
       "      <td>3.136723</td>\n",
       "    </tr>\n",
       "    <tr>\n",
       "      <th>2000-01-19</th>\n",
       "      <td>-3.103494</td>\n",
       "      <td>2.206880</td>\n",
       "      <td>2.800751</td>\n",
       "      <td>3.927562</td>\n",
       "    </tr>\n",
       "    <tr>\n",
       "      <th>2000-01-20</th>\n",
       "      <td>-4.747767</td>\n",
       "      <td>3.565885</td>\n",
       "      <td>3.328753</td>\n",
       "      <td>5.492230</td>\n",
       "    </tr>\n",
       "    <tr>\n",
       "      <th>2000-01-21</th>\n",
       "      <td>-3.959743</td>\n",
       "      <td>3.567764</td>\n",
       "      <td>0.668938</td>\n",
       "      <td>4.408660</td>\n",
       "    </tr>\n",
       "    <tr>\n",
       "      <th>2000-01-22</th>\n",
       "      <td>-4.307452</td>\n",
       "      <td>4.313845</td>\n",
       "      <td>0.268082</td>\n",
       "      <td>4.341462</td>\n",
       "    </tr>\n",
       "    <tr>\n",
       "      <th>2000-01-23</th>\n",
       "      <td>-4.820593</td>\n",
       "      <td>3.535090</td>\n",
       "      <td>-0.237196</td>\n",
       "      <td>3.653925</td>\n",
       "    </tr>\n",
       "    <tr>\n",
       "      <th>2000-01-24</th>\n",
       "      <td>-4.343503</td>\n",
       "      <td>3.313142</td>\n",
       "      <td>0.196462</td>\n",
       "      <td>3.228989</td>\n",
       "    </tr>\n",
       "    <tr>\n",
       "      <th>2000-01-25</th>\n",
       "      <td>-4.012244</td>\n",
       "      <td>2.340642</td>\n",
       "      <td>-0.239219</td>\n",
       "      <td>2.294877</td>\n",
       "    </tr>\n",
       "    <tr>\n",
       "      <th>2000-01-26</th>\n",
       "      <td>-5.584496</td>\n",
       "      <td>2.627301</td>\n",
       "      <td>-0.933413</td>\n",
       "      <td>2.826616</td>\n",
       "    </tr>\n",
       "    <tr>\n",
       "      <th>2000-01-27</th>\n",
       "      <td>-5.349654</td>\n",
       "      <td>1.431231</td>\n",
       "      <td>-1.747397</td>\n",
       "      <td>3.038043</td>\n",
       "    </tr>\n",
       "    <tr>\n",
       "      <th>2000-01-28</th>\n",
       "      <td>-7.274830</td>\n",
       "      <td>2.160869</td>\n",
       "      <td>-1.533647</td>\n",
       "      <td>3.606827</td>\n",
       "    </tr>\n",
       "    <tr>\n",
       "      <th>2000-01-29</th>\n",
       "      <td>-7.485718</td>\n",
       "      <td>1.098004</td>\n",
       "      <td>-1.062377</td>\n",
       "      <td>3.421171</td>\n",
       "    </tr>\n",
       "    <tr>\n",
       "      <th>2000-01-30</th>\n",
       "      <td>-6.304430</td>\n",
       "      <td>-0.640919</td>\n",
       "      <td>-1.360975</td>\n",
       "      <td>2.629127</td>\n",
       "    </tr>\n",
       "    <tr>\n",
       "      <th>...</th>\n",
       "      <td>...</td>\n",
       "      <td>...</td>\n",
       "      <td>...</td>\n",
       "      <td>...</td>\n",
       "    </tr>\n",
       "    <tr>\n",
       "      <th>2002-08-28</th>\n",
       "      <td>-91.161762</td>\n",
       "      <td>-18.283552</td>\n",
       "      <td>12.647657</td>\n",
       "      <td>-18.508526</td>\n",
       "    </tr>\n",
       "    <tr>\n",
       "      <th>2002-08-29</th>\n",
       "      <td>-89.573510</td>\n",
       "      <td>-18.504441</td>\n",
       "      <td>14.460417</td>\n",
       "      <td>-17.223896</td>\n",
       "    </tr>\n",
       "    <tr>\n",
       "      <th>2002-08-30</th>\n",
       "      <td>-88.798781</td>\n",
       "      <td>-16.765993</td>\n",
       "      <td>16.420495</td>\n",
       "      <td>-18.875415</td>\n",
       "    </tr>\n",
       "    <tr>\n",
       "      <th>2002-08-31</th>\n",
       "      <td>-88.407509</td>\n",
       "      <td>-17.379462</td>\n",
       "      <td>16.765101</td>\n",
       "      <td>-20.467720</td>\n",
       "    </tr>\n",
       "    <tr>\n",
       "      <th>2002-09-01</th>\n",
       "      <td>-89.670998</td>\n",
       "      <td>-16.868724</td>\n",
       "      <td>15.976802</td>\n",
       "      <td>-20.654874</td>\n",
       "    </tr>\n",
       "    <tr>\n",
       "      <th>2002-09-02</th>\n",
       "      <td>-87.923717</td>\n",
       "      <td>-18.770030</td>\n",
       "      <td>16.433847</td>\n",
       "      <td>-18.946714</td>\n",
       "    </tr>\n",
       "    <tr>\n",
       "      <th>2002-09-03</th>\n",
       "      <td>-85.777104</td>\n",
       "      <td>-20.938777</td>\n",
       "      <td>17.576698</td>\n",
       "      <td>-19.501421</td>\n",
       "    </tr>\n",
       "    <tr>\n",
       "      <th>2002-09-04</th>\n",
       "      <td>-85.720509</td>\n",
       "      <td>-19.315577</td>\n",
       "      <td>15.530183</td>\n",
       "      <td>-18.799975</td>\n",
       "    </tr>\n",
       "    <tr>\n",
       "      <th>2002-09-05</th>\n",
       "      <td>-86.116354</td>\n",
       "      <td>-19.413728</td>\n",
       "      <td>13.943714</td>\n",
       "      <td>-18.217563</td>\n",
       "    </tr>\n",
       "    <tr>\n",
       "      <th>2002-09-06</th>\n",
       "      <td>-86.582680</td>\n",
       "      <td>-20.141059</td>\n",
       "      <td>14.162898</td>\n",
       "      <td>-17.635551</td>\n",
       "    </tr>\n",
       "    <tr>\n",
       "      <th>2002-09-07</th>\n",
       "      <td>-86.085200</td>\n",
       "      <td>-19.333936</td>\n",
       "      <td>13.006658</td>\n",
       "      <td>-18.078151</td>\n",
       "    </tr>\n",
       "    <tr>\n",
       "      <th>2002-09-08</th>\n",
       "      <td>-84.737067</td>\n",
       "      <td>-18.058932</td>\n",
       "      <td>14.705133</td>\n",
       "      <td>-17.673837</td>\n",
       "    </tr>\n",
       "    <tr>\n",
       "      <th>2002-09-09</th>\n",
       "      <td>-84.024475</td>\n",
       "      <td>-17.711860</td>\n",
       "      <td>15.487204</td>\n",
       "      <td>-16.985294</td>\n",
       "    </tr>\n",
       "    <tr>\n",
       "      <th>2002-09-10</th>\n",
       "      <td>-83.368774</td>\n",
       "      <td>-17.535428</td>\n",
       "      <td>16.391717</td>\n",
       "      <td>-16.527879</td>\n",
       "    </tr>\n",
       "    <tr>\n",
       "      <th>2002-09-11</th>\n",
       "      <td>-84.670374</td>\n",
       "      <td>-18.167918</td>\n",
       "      <td>16.634557</td>\n",
       "      <td>-16.062619</td>\n",
       "    </tr>\n",
       "    <tr>\n",
       "      <th>2002-09-12</th>\n",
       "      <td>-85.539085</td>\n",
       "      <td>-17.902050</td>\n",
       "      <td>16.435134</td>\n",
       "      <td>-16.825358</td>\n",
       "    </tr>\n",
       "    <tr>\n",
       "      <th>2002-09-13</th>\n",
       "      <td>-85.822989</td>\n",
       "      <td>-17.396826</td>\n",
       "      <td>15.872258</td>\n",
       "      <td>-16.078469</td>\n",
       "    </tr>\n",
       "    <tr>\n",
       "      <th>2002-09-14</th>\n",
       "      <td>-86.006952</td>\n",
       "      <td>-18.925765</td>\n",
       "      <td>15.711982</td>\n",
       "      <td>-15.066963</td>\n",
       "    </tr>\n",
       "    <tr>\n",
       "      <th>2002-09-15</th>\n",
       "      <td>-84.027412</td>\n",
       "      <td>-18.777929</td>\n",
       "      <td>17.269961</td>\n",
       "      <td>-14.160437</td>\n",
       "    </tr>\n",
       "    <tr>\n",
       "      <th>2002-09-16</th>\n",
       "      <td>-84.371619</td>\n",
       "      <td>-20.118414</td>\n",
       "      <td>15.642104</td>\n",
       "      <td>-15.423790</td>\n",
       "    </tr>\n",
       "    <tr>\n",
       "      <th>2002-09-17</th>\n",
       "      <td>-85.164808</td>\n",
       "      <td>-19.817076</td>\n",
       "      <td>13.001907</td>\n",
       "      <td>-15.164830</td>\n",
       "    </tr>\n",
       "    <tr>\n",
       "      <th>2002-09-18</th>\n",
       "      <td>-84.218649</td>\n",
       "      <td>-19.546377</td>\n",
       "      <td>15.276487</td>\n",
       "      <td>-15.387791</td>\n",
       "    </tr>\n",
       "    <tr>\n",
       "      <th>2002-09-19</th>\n",
       "      <td>-83.044203</td>\n",
       "      <td>-19.228630</td>\n",
       "      <td>15.735577</td>\n",
       "      <td>-14.381051</td>\n",
       "    </tr>\n",
       "    <tr>\n",
       "      <th>2002-09-20</th>\n",
       "      <td>-85.338968</td>\n",
       "      <td>-20.112770</td>\n",
       "      <td>15.090700</td>\n",
       "      <td>-15.749164</td>\n",
       "    </tr>\n",
       "    <tr>\n",
       "      <th>2002-09-21</th>\n",
       "      <td>-85.016944</td>\n",
       "      <td>-19.630807</td>\n",
       "      <td>14.161316</td>\n",
       "      <td>-17.186947</td>\n",
       "    </tr>\n",
       "    <tr>\n",
       "      <th>2002-09-22</th>\n",
       "      <td>-86.204378</td>\n",
       "      <td>-20.593557</td>\n",
       "      <td>14.169823</td>\n",
       "      <td>-18.647361</td>\n",
       "    </tr>\n",
       "    <tr>\n",
       "      <th>2002-09-23</th>\n",
       "      <td>-87.236501</td>\n",
       "      <td>-19.624129</td>\n",
       "      <td>13.717445</td>\n",
       "      <td>-18.860626</td>\n",
       "    </tr>\n",
       "    <tr>\n",
       "      <th>2002-09-24</th>\n",
       "      <td>-85.017293</td>\n",
       "      <td>-18.796620</td>\n",
       "      <td>12.349553</td>\n",
       "      <td>-19.443635</td>\n",
       "    </tr>\n",
       "    <tr>\n",
       "      <th>2002-09-25</th>\n",
       "      <td>-82.876770</td>\n",
       "      <td>-19.974321</td>\n",
       "      <td>13.262328</td>\n",
       "      <td>-22.083206</td>\n",
       "    </tr>\n",
       "    <tr>\n",
       "      <th>2002-09-26</th>\n",
       "      <td>-83.219573</td>\n",
       "      <td>-20.518671</td>\n",
       "      <td>14.674183</td>\n",
       "      <td>-21.022386</td>\n",
       "    </tr>\n",
       "  </tbody>\n",
       "</table>\n",
       "<p>1000 rows × 4 columns</p>\n",
       "</div>"
      ],
      "text/plain": [
       "                    A          B          C          D\n",
       "2000-01-01  -1.199395   1.387735  -1.798714  -0.633652\n",
       "2000-01-02  -0.908396   1.301464  -2.751684  -0.756612\n",
       "2000-01-03  -1.214637   1.722991  -2.878235  -1.103410\n",
       "2000-01-04  -1.444817   1.526782  -1.434901  -0.878478\n",
       "2000-01-05  -2.336566   0.792154   0.702733  -1.161456\n",
       "2000-01-06  -1.141497  -0.123991   0.006881  -0.231437\n",
       "2000-01-07  -0.903127  -0.106136  -0.105336   0.636556\n",
       "2000-01-08  -0.363628   0.484380   0.604074   2.070136\n",
       "2000-01-09  -2.381704  -1.328455   2.261637  -0.153917\n",
       "2000-01-10  -2.071101  -1.512707   3.693099  -0.840669\n",
       "2000-01-11  -2.565354   0.130182   1.843764  -1.024025\n",
       "2000-01-12  -2.319995  -0.495654   1.502985   0.329354\n",
       "2000-01-13  -3.597537  -0.941485   2.316260   0.292277\n",
       "2000-01-14  -2.936507  -1.304660   1.623378   2.056469\n",
       "2000-01-15  -3.434638  -0.557851   3.005293   2.351642\n",
       "2000-01-16  -4.416633  -0.263922   3.217599   1.910207\n",
       "2000-01-17  -3.620688   2.576329   3.666597   3.099960\n",
       "2000-01-18  -2.781963   2.665356   4.350962   3.136723\n",
       "2000-01-19  -3.103494   2.206880   2.800751   3.927562\n",
       "2000-01-20  -4.747767   3.565885   3.328753   5.492230\n",
       "2000-01-21  -3.959743   3.567764   0.668938   4.408660\n",
       "2000-01-22  -4.307452   4.313845   0.268082   4.341462\n",
       "2000-01-23  -4.820593   3.535090  -0.237196   3.653925\n",
       "2000-01-24  -4.343503   3.313142   0.196462   3.228989\n",
       "2000-01-25  -4.012244   2.340642  -0.239219   2.294877\n",
       "2000-01-26  -5.584496   2.627301  -0.933413   2.826616\n",
       "2000-01-27  -5.349654   1.431231  -1.747397   3.038043\n",
       "2000-01-28  -7.274830   2.160869  -1.533647   3.606827\n",
       "2000-01-29  -7.485718   1.098004  -1.062377   3.421171\n",
       "2000-01-30  -6.304430  -0.640919  -1.360975   2.629127\n",
       "...               ...        ...        ...        ...\n",
       "2002-08-28 -91.161762 -18.283552  12.647657 -18.508526\n",
       "2002-08-29 -89.573510 -18.504441  14.460417 -17.223896\n",
       "2002-08-30 -88.798781 -16.765993  16.420495 -18.875415\n",
       "2002-08-31 -88.407509 -17.379462  16.765101 -20.467720\n",
       "2002-09-01 -89.670998 -16.868724  15.976802 -20.654874\n",
       "2002-09-02 -87.923717 -18.770030  16.433847 -18.946714\n",
       "2002-09-03 -85.777104 -20.938777  17.576698 -19.501421\n",
       "2002-09-04 -85.720509 -19.315577  15.530183 -18.799975\n",
       "2002-09-05 -86.116354 -19.413728  13.943714 -18.217563\n",
       "2002-09-06 -86.582680 -20.141059  14.162898 -17.635551\n",
       "2002-09-07 -86.085200 -19.333936  13.006658 -18.078151\n",
       "2002-09-08 -84.737067 -18.058932  14.705133 -17.673837\n",
       "2002-09-09 -84.024475 -17.711860  15.487204 -16.985294\n",
       "2002-09-10 -83.368774 -17.535428  16.391717 -16.527879\n",
       "2002-09-11 -84.670374 -18.167918  16.634557 -16.062619\n",
       "2002-09-12 -85.539085 -17.902050  16.435134 -16.825358\n",
       "2002-09-13 -85.822989 -17.396826  15.872258 -16.078469\n",
       "2002-09-14 -86.006952 -18.925765  15.711982 -15.066963\n",
       "2002-09-15 -84.027412 -18.777929  17.269961 -14.160437\n",
       "2002-09-16 -84.371619 -20.118414  15.642104 -15.423790\n",
       "2002-09-17 -85.164808 -19.817076  13.001907 -15.164830\n",
       "2002-09-18 -84.218649 -19.546377  15.276487 -15.387791\n",
       "2002-09-19 -83.044203 -19.228630  15.735577 -14.381051\n",
       "2002-09-20 -85.338968 -20.112770  15.090700 -15.749164\n",
       "2002-09-21 -85.016944 -19.630807  14.161316 -17.186947\n",
       "2002-09-22 -86.204378 -20.593557  14.169823 -18.647361\n",
       "2002-09-23 -87.236501 -19.624129  13.717445 -18.860626\n",
       "2002-09-24 -85.017293 -18.796620  12.349553 -19.443635\n",
       "2002-09-25 -82.876770 -19.974321  13.262328 -22.083206\n",
       "2002-09-26 -83.219573 -20.518671  14.674183 -21.022386\n",
       "\n",
       "[1000 rows x 4 columns]"
      ]
     },
     "execution_count": 148,
     "metadata": {},
     "output_type": "execute_result"
    }
   ],
   "source": [
    "pd.read_hdf('temp_file_foo.h5', key='df')"
   ]
  },
  {
   "cell_type": "markdown",
   "metadata": {},
   "source": [
    "## Excel"
   ]
  },
  {
   "cell_type": "markdown",
   "metadata": {},
   "source": [
    "### 写入 excel 文件:"
   ]
  },
  {
   "cell_type": "code",
   "execution_count": 149,
   "metadata": {},
   "outputs": [],
   "source": [
    "df.to_excel('temp_file_foo.xlsx', sheet_name='Sheet1')"
   ]
  },
  {
   "cell_type": "markdown",
   "metadata": {},
   "source": [
    "### 读取 excel 文件:"
   ]
  },
  {
   "cell_type": "code",
   "execution_count": 150,
   "metadata": {},
   "outputs": [
    {
     "data": {
      "text/html": [
       "<div>\n",
       "<style>\n",
       "    .dataframe thead tr:only-child th {\n",
       "        text-align: right;\n",
       "    }\n",
       "\n",
       "    .dataframe thead th {\n",
       "        text-align: left;\n",
       "    }\n",
       "\n",
       "    .dataframe tbody tr th {\n",
       "        vertical-align: top;\n",
       "    }\n",
       "</style>\n",
       "<table border=\"1\" class=\"dataframe\">\n",
       "  <thead>\n",
       "    <tr style=\"text-align: right;\">\n",
       "      <th></th>\n",
       "      <th>A</th>\n",
       "      <th>B</th>\n",
       "      <th>C</th>\n",
       "      <th>D</th>\n",
       "    </tr>\n",
       "  </thead>\n",
       "  <tbody>\n",
       "    <tr>\n",
       "      <th>2000-01-01</th>\n",
       "      <td>-1.199395</td>\n",
       "      <td>1.387735</td>\n",
       "      <td>-1.798714</td>\n",
       "      <td>-0.633652</td>\n",
       "    </tr>\n",
       "    <tr>\n",
       "      <th>2000-01-02</th>\n",
       "      <td>-0.908396</td>\n",
       "      <td>1.301464</td>\n",
       "      <td>-2.751684</td>\n",
       "      <td>-0.756612</td>\n",
       "    </tr>\n",
       "    <tr>\n",
       "      <th>2000-01-03</th>\n",
       "      <td>-1.214637</td>\n",
       "      <td>1.722991</td>\n",
       "      <td>-2.878235</td>\n",
       "      <td>-1.103410</td>\n",
       "    </tr>\n",
       "    <tr>\n",
       "      <th>2000-01-04</th>\n",
       "      <td>-1.444817</td>\n",
       "      <td>1.526782</td>\n",
       "      <td>-1.434901</td>\n",
       "      <td>-0.878478</td>\n",
       "    </tr>\n",
       "    <tr>\n",
       "      <th>2000-01-05</th>\n",
       "      <td>-2.336566</td>\n",
       "      <td>0.792154</td>\n",
       "      <td>0.702733</td>\n",
       "      <td>-1.161456</td>\n",
       "    </tr>\n",
       "    <tr>\n",
       "      <th>2000-01-06</th>\n",
       "      <td>-1.141497</td>\n",
       "      <td>-0.123991</td>\n",
       "      <td>0.006881</td>\n",
       "      <td>-0.231437</td>\n",
       "    </tr>\n",
       "    <tr>\n",
       "      <th>2000-01-07</th>\n",
       "      <td>-0.903127</td>\n",
       "      <td>-0.106136</td>\n",
       "      <td>-0.105336</td>\n",
       "      <td>0.636556</td>\n",
       "    </tr>\n",
       "    <tr>\n",
       "      <th>2000-01-08</th>\n",
       "      <td>-0.363628</td>\n",
       "      <td>0.484380</td>\n",
       "      <td>0.604074</td>\n",
       "      <td>2.070136</td>\n",
       "    </tr>\n",
       "    <tr>\n",
       "      <th>2000-01-09</th>\n",
       "      <td>-2.381704</td>\n",
       "      <td>-1.328455</td>\n",
       "      <td>2.261637</td>\n",
       "      <td>-0.153917</td>\n",
       "    </tr>\n",
       "    <tr>\n",
       "      <th>2000-01-10</th>\n",
       "      <td>-2.071101</td>\n",
       "      <td>-1.512707</td>\n",
       "      <td>3.693099</td>\n",
       "      <td>-0.840669</td>\n",
       "    </tr>\n",
       "    <tr>\n",
       "      <th>2000-01-11</th>\n",
       "      <td>-2.565354</td>\n",
       "      <td>0.130182</td>\n",
       "      <td>1.843764</td>\n",
       "      <td>-1.024025</td>\n",
       "    </tr>\n",
       "    <tr>\n",
       "      <th>2000-01-12</th>\n",
       "      <td>-2.319995</td>\n",
       "      <td>-0.495654</td>\n",
       "      <td>1.502985</td>\n",
       "      <td>0.329354</td>\n",
       "    </tr>\n",
       "    <tr>\n",
       "      <th>2000-01-13</th>\n",
       "      <td>-3.597537</td>\n",
       "      <td>-0.941485</td>\n",
       "      <td>2.316260</td>\n",
       "      <td>0.292277</td>\n",
       "    </tr>\n",
       "    <tr>\n",
       "      <th>2000-01-14</th>\n",
       "      <td>-2.936507</td>\n",
       "      <td>-1.304660</td>\n",
       "      <td>1.623378</td>\n",
       "      <td>2.056469</td>\n",
       "    </tr>\n",
       "    <tr>\n",
       "      <th>2000-01-15</th>\n",
       "      <td>-3.434638</td>\n",
       "      <td>-0.557851</td>\n",
       "      <td>3.005293</td>\n",
       "      <td>2.351642</td>\n",
       "    </tr>\n",
       "    <tr>\n",
       "      <th>2000-01-16</th>\n",
       "      <td>-4.416633</td>\n",
       "      <td>-0.263922</td>\n",
       "      <td>3.217599</td>\n",
       "      <td>1.910207</td>\n",
       "    </tr>\n",
       "    <tr>\n",
       "      <th>2000-01-17</th>\n",
       "      <td>-3.620688</td>\n",
       "      <td>2.576329</td>\n",
       "      <td>3.666597</td>\n",
       "      <td>3.099960</td>\n",
       "    </tr>\n",
       "    <tr>\n",
       "      <th>2000-01-18</th>\n",
       "      <td>-2.781963</td>\n",
       "      <td>2.665356</td>\n",
       "      <td>4.350962</td>\n",
       "      <td>3.136723</td>\n",
       "    </tr>\n",
       "    <tr>\n",
       "      <th>2000-01-19</th>\n",
       "      <td>-3.103494</td>\n",
       "      <td>2.206880</td>\n",
       "      <td>2.800751</td>\n",
       "      <td>3.927562</td>\n",
       "    </tr>\n",
       "    <tr>\n",
       "      <th>2000-01-20</th>\n",
       "      <td>-4.747767</td>\n",
       "      <td>3.565885</td>\n",
       "      <td>3.328753</td>\n",
       "      <td>5.492230</td>\n",
       "    </tr>\n",
       "    <tr>\n",
       "      <th>2000-01-21</th>\n",
       "      <td>-3.959743</td>\n",
       "      <td>3.567764</td>\n",
       "      <td>0.668938</td>\n",
       "      <td>4.408660</td>\n",
       "    </tr>\n",
       "    <tr>\n",
       "      <th>2000-01-22</th>\n",
       "      <td>-4.307452</td>\n",
       "      <td>4.313845</td>\n",
       "      <td>0.268082</td>\n",
       "      <td>4.341462</td>\n",
       "    </tr>\n",
       "    <tr>\n",
       "      <th>2000-01-23</th>\n",
       "      <td>-4.820593</td>\n",
       "      <td>3.535090</td>\n",
       "      <td>-0.237196</td>\n",
       "      <td>3.653925</td>\n",
       "    </tr>\n",
       "    <tr>\n",
       "      <th>2000-01-24</th>\n",
       "      <td>-4.343503</td>\n",
       "      <td>3.313142</td>\n",
       "      <td>0.196462</td>\n",
       "      <td>3.228989</td>\n",
       "    </tr>\n",
       "    <tr>\n",
       "      <th>2000-01-25</th>\n",
       "      <td>-4.012244</td>\n",
       "      <td>2.340642</td>\n",
       "      <td>-0.239219</td>\n",
       "      <td>2.294877</td>\n",
       "    </tr>\n",
       "    <tr>\n",
       "      <th>2000-01-26</th>\n",
       "      <td>-5.584496</td>\n",
       "      <td>2.627301</td>\n",
       "      <td>-0.933413</td>\n",
       "      <td>2.826616</td>\n",
       "    </tr>\n",
       "    <tr>\n",
       "      <th>2000-01-27</th>\n",
       "      <td>-5.349654</td>\n",
       "      <td>1.431231</td>\n",
       "      <td>-1.747397</td>\n",
       "      <td>3.038043</td>\n",
       "    </tr>\n",
       "    <tr>\n",
       "      <th>2000-01-28</th>\n",
       "      <td>-7.274830</td>\n",
       "      <td>2.160869</td>\n",
       "      <td>-1.533647</td>\n",
       "      <td>3.606827</td>\n",
       "    </tr>\n",
       "    <tr>\n",
       "      <th>2000-01-29</th>\n",
       "      <td>-7.485718</td>\n",
       "      <td>1.098004</td>\n",
       "      <td>-1.062377</td>\n",
       "      <td>3.421171</td>\n",
       "    </tr>\n",
       "    <tr>\n",
       "      <th>2000-01-30</th>\n",
       "      <td>-6.304430</td>\n",
       "      <td>-0.640919</td>\n",
       "      <td>-1.360975</td>\n",
       "      <td>2.629127</td>\n",
       "    </tr>\n",
       "    <tr>\n",
       "      <th>...</th>\n",
       "      <td>...</td>\n",
       "      <td>...</td>\n",
       "      <td>...</td>\n",
       "      <td>...</td>\n",
       "    </tr>\n",
       "    <tr>\n",
       "      <th>2002-08-28</th>\n",
       "      <td>-91.161762</td>\n",
       "      <td>-18.283552</td>\n",
       "      <td>12.647657</td>\n",
       "      <td>-18.508526</td>\n",
       "    </tr>\n",
       "    <tr>\n",
       "      <th>2002-08-29</th>\n",
       "      <td>-89.573510</td>\n",
       "      <td>-18.504441</td>\n",
       "      <td>14.460417</td>\n",
       "      <td>-17.223896</td>\n",
       "    </tr>\n",
       "    <tr>\n",
       "      <th>2002-08-30</th>\n",
       "      <td>-88.798781</td>\n",
       "      <td>-16.765993</td>\n",
       "      <td>16.420495</td>\n",
       "      <td>-18.875415</td>\n",
       "    </tr>\n",
       "    <tr>\n",
       "      <th>2002-08-31</th>\n",
       "      <td>-88.407509</td>\n",
       "      <td>-17.379462</td>\n",
       "      <td>16.765101</td>\n",
       "      <td>-20.467720</td>\n",
       "    </tr>\n",
       "    <tr>\n",
       "      <th>2002-09-01</th>\n",
       "      <td>-89.670998</td>\n",
       "      <td>-16.868724</td>\n",
       "      <td>15.976802</td>\n",
       "      <td>-20.654874</td>\n",
       "    </tr>\n",
       "    <tr>\n",
       "      <th>2002-09-02</th>\n",
       "      <td>-87.923717</td>\n",
       "      <td>-18.770030</td>\n",
       "      <td>16.433847</td>\n",
       "      <td>-18.946714</td>\n",
       "    </tr>\n",
       "    <tr>\n",
       "      <th>2002-09-03</th>\n",
       "      <td>-85.777104</td>\n",
       "      <td>-20.938777</td>\n",
       "      <td>17.576698</td>\n",
       "      <td>-19.501421</td>\n",
       "    </tr>\n",
       "    <tr>\n",
       "      <th>2002-09-04</th>\n",
       "      <td>-85.720509</td>\n",
       "      <td>-19.315577</td>\n",
       "      <td>15.530183</td>\n",
       "      <td>-18.799975</td>\n",
       "    </tr>\n",
       "    <tr>\n",
       "      <th>2002-09-05</th>\n",
       "      <td>-86.116354</td>\n",
       "      <td>-19.413728</td>\n",
       "      <td>13.943714</td>\n",
       "      <td>-18.217563</td>\n",
       "    </tr>\n",
       "    <tr>\n",
       "      <th>2002-09-06</th>\n",
       "      <td>-86.582680</td>\n",
       "      <td>-20.141059</td>\n",
       "      <td>14.162898</td>\n",
       "      <td>-17.635551</td>\n",
       "    </tr>\n",
       "    <tr>\n",
       "      <th>2002-09-07</th>\n",
       "      <td>-86.085200</td>\n",
       "      <td>-19.333936</td>\n",
       "      <td>13.006658</td>\n",
       "      <td>-18.078151</td>\n",
       "    </tr>\n",
       "    <tr>\n",
       "      <th>2002-09-08</th>\n",
       "      <td>-84.737067</td>\n",
       "      <td>-18.058932</td>\n",
       "      <td>14.705133</td>\n",
       "      <td>-17.673837</td>\n",
       "    </tr>\n",
       "    <tr>\n",
       "      <th>2002-09-09</th>\n",
       "      <td>-84.024475</td>\n",
       "      <td>-17.711860</td>\n",
       "      <td>15.487204</td>\n",
       "      <td>-16.985294</td>\n",
       "    </tr>\n",
       "    <tr>\n",
       "      <th>2002-09-10</th>\n",
       "      <td>-83.368774</td>\n",
       "      <td>-17.535428</td>\n",
       "      <td>16.391717</td>\n",
       "      <td>-16.527879</td>\n",
       "    </tr>\n",
       "    <tr>\n",
       "      <th>2002-09-11</th>\n",
       "      <td>-84.670374</td>\n",
       "      <td>-18.167918</td>\n",
       "      <td>16.634557</td>\n",
       "      <td>-16.062619</td>\n",
       "    </tr>\n",
       "    <tr>\n",
       "      <th>2002-09-12</th>\n",
       "      <td>-85.539085</td>\n",
       "      <td>-17.902050</td>\n",
       "      <td>16.435134</td>\n",
       "      <td>-16.825358</td>\n",
       "    </tr>\n",
       "    <tr>\n",
       "      <th>2002-09-13</th>\n",
       "      <td>-85.822989</td>\n",
       "      <td>-17.396826</td>\n",
       "      <td>15.872258</td>\n",
       "      <td>-16.078469</td>\n",
       "    </tr>\n",
       "    <tr>\n",
       "      <th>2002-09-14</th>\n",
       "      <td>-86.006952</td>\n",
       "      <td>-18.925765</td>\n",
       "      <td>15.711982</td>\n",
       "      <td>-15.066963</td>\n",
       "    </tr>\n",
       "    <tr>\n",
       "      <th>2002-09-15</th>\n",
       "      <td>-84.027412</td>\n",
       "      <td>-18.777929</td>\n",
       "      <td>17.269961</td>\n",
       "      <td>-14.160437</td>\n",
       "    </tr>\n",
       "    <tr>\n",
       "      <th>2002-09-16</th>\n",
       "      <td>-84.371619</td>\n",
       "      <td>-20.118414</td>\n",
       "      <td>15.642104</td>\n",
       "      <td>-15.423790</td>\n",
       "    </tr>\n",
       "    <tr>\n",
       "      <th>2002-09-17</th>\n",
       "      <td>-85.164808</td>\n",
       "      <td>-19.817076</td>\n",
       "      <td>13.001907</td>\n",
       "      <td>-15.164830</td>\n",
       "    </tr>\n",
       "    <tr>\n",
       "      <th>2002-09-18</th>\n",
       "      <td>-84.218649</td>\n",
       "      <td>-19.546377</td>\n",
       "      <td>15.276487</td>\n",
       "      <td>-15.387791</td>\n",
       "    </tr>\n",
       "    <tr>\n",
       "      <th>2002-09-19</th>\n",
       "      <td>-83.044203</td>\n",
       "      <td>-19.228630</td>\n",
       "      <td>15.735577</td>\n",
       "      <td>-14.381051</td>\n",
       "    </tr>\n",
       "    <tr>\n",
       "      <th>2002-09-20</th>\n",
       "      <td>-85.338968</td>\n",
       "      <td>-20.112770</td>\n",
       "      <td>15.090700</td>\n",
       "      <td>-15.749164</td>\n",
       "    </tr>\n",
       "    <tr>\n",
       "      <th>2002-09-21</th>\n",
       "      <td>-85.016944</td>\n",
       "      <td>-19.630807</td>\n",
       "      <td>14.161316</td>\n",
       "      <td>-17.186947</td>\n",
       "    </tr>\n",
       "    <tr>\n",
       "      <th>2002-09-22</th>\n",
       "      <td>-86.204378</td>\n",
       "      <td>-20.593557</td>\n",
       "      <td>14.169823</td>\n",
       "      <td>-18.647361</td>\n",
       "    </tr>\n",
       "    <tr>\n",
       "      <th>2002-09-23</th>\n",
       "      <td>-87.236501</td>\n",
       "      <td>-19.624129</td>\n",
       "      <td>13.717445</td>\n",
       "      <td>-18.860626</td>\n",
       "    </tr>\n",
       "    <tr>\n",
       "      <th>2002-09-24</th>\n",
       "      <td>-85.017293</td>\n",
       "      <td>-18.796620</td>\n",
       "      <td>12.349553</td>\n",
       "      <td>-19.443635</td>\n",
       "    </tr>\n",
       "    <tr>\n",
       "      <th>2002-09-25</th>\n",
       "      <td>-82.876770</td>\n",
       "      <td>-19.974321</td>\n",
       "      <td>13.262328</td>\n",
       "      <td>-22.083206</td>\n",
       "    </tr>\n",
       "    <tr>\n",
       "      <th>2002-09-26</th>\n",
       "      <td>-83.219573</td>\n",
       "      <td>-20.518671</td>\n",
       "      <td>14.674183</td>\n",
       "      <td>-21.022386</td>\n",
       "    </tr>\n",
       "  </tbody>\n",
       "</table>\n",
       "<p>1000 rows × 4 columns</p>\n",
       "</div>"
      ],
      "text/plain": [
       "                    A          B          C          D\n",
       "2000-01-01  -1.199395   1.387735  -1.798714  -0.633652\n",
       "2000-01-02  -0.908396   1.301464  -2.751684  -0.756612\n",
       "2000-01-03  -1.214637   1.722991  -2.878235  -1.103410\n",
       "2000-01-04  -1.444817   1.526782  -1.434901  -0.878478\n",
       "2000-01-05  -2.336566   0.792154   0.702733  -1.161456\n",
       "2000-01-06  -1.141497  -0.123991   0.006881  -0.231437\n",
       "2000-01-07  -0.903127  -0.106136  -0.105336   0.636556\n",
       "2000-01-08  -0.363628   0.484380   0.604074   2.070136\n",
       "2000-01-09  -2.381704  -1.328455   2.261637  -0.153917\n",
       "2000-01-10  -2.071101  -1.512707   3.693099  -0.840669\n",
       "2000-01-11  -2.565354   0.130182   1.843764  -1.024025\n",
       "2000-01-12  -2.319995  -0.495654   1.502985   0.329354\n",
       "2000-01-13  -3.597537  -0.941485   2.316260   0.292277\n",
       "2000-01-14  -2.936507  -1.304660   1.623378   2.056469\n",
       "2000-01-15  -3.434638  -0.557851   3.005293   2.351642\n",
       "2000-01-16  -4.416633  -0.263922   3.217599   1.910207\n",
       "2000-01-17  -3.620688   2.576329   3.666597   3.099960\n",
       "2000-01-18  -2.781963   2.665356   4.350962   3.136723\n",
       "2000-01-19  -3.103494   2.206880   2.800751   3.927562\n",
       "2000-01-20  -4.747767   3.565885   3.328753   5.492230\n",
       "2000-01-21  -3.959743   3.567764   0.668938   4.408660\n",
       "2000-01-22  -4.307452   4.313845   0.268082   4.341462\n",
       "2000-01-23  -4.820593   3.535090  -0.237196   3.653925\n",
       "2000-01-24  -4.343503   3.313142   0.196462   3.228989\n",
       "2000-01-25  -4.012244   2.340642  -0.239219   2.294877\n",
       "2000-01-26  -5.584496   2.627301  -0.933413   2.826616\n",
       "2000-01-27  -5.349654   1.431231  -1.747397   3.038043\n",
       "2000-01-28  -7.274830   2.160869  -1.533647   3.606827\n",
       "2000-01-29  -7.485718   1.098004  -1.062377   3.421171\n",
       "2000-01-30  -6.304430  -0.640919  -1.360975   2.629127\n",
       "...               ...        ...        ...        ...\n",
       "2002-08-28 -91.161762 -18.283552  12.647657 -18.508526\n",
       "2002-08-29 -89.573510 -18.504441  14.460417 -17.223896\n",
       "2002-08-30 -88.798781 -16.765993  16.420495 -18.875415\n",
       "2002-08-31 -88.407509 -17.379462  16.765101 -20.467720\n",
       "2002-09-01 -89.670998 -16.868724  15.976802 -20.654874\n",
       "2002-09-02 -87.923717 -18.770030  16.433847 -18.946714\n",
       "2002-09-03 -85.777104 -20.938777  17.576698 -19.501421\n",
       "2002-09-04 -85.720509 -19.315577  15.530183 -18.799975\n",
       "2002-09-05 -86.116354 -19.413728  13.943714 -18.217563\n",
       "2002-09-06 -86.582680 -20.141059  14.162898 -17.635551\n",
       "2002-09-07 -86.085200 -19.333936  13.006658 -18.078151\n",
       "2002-09-08 -84.737067 -18.058932  14.705133 -17.673837\n",
       "2002-09-09 -84.024475 -17.711860  15.487204 -16.985294\n",
       "2002-09-10 -83.368774 -17.535428  16.391717 -16.527879\n",
       "2002-09-11 -84.670374 -18.167918  16.634557 -16.062619\n",
       "2002-09-12 -85.539085 -17.902050  16.435134 -16.825358\n",
       "2002-09-13 -85.822989 -17.396826  15.872258 -16.078469\n",
       "2002-09-14 -86.006952 -18.925765  15.711982 -15.066963\n",
       "2002-09-15 -84.027412 -18.777929  17.269961 -14.160437\n",
       "2002-09-16 -84.371619 -20.118414  15.642104 -15.423790\n",
       "2002-09-17 -85.164808 -19.817076  13.001907 -15.164830\n",
       "2002-09-18 -84.218649 -19.546377  15.276487 -15.387791\n",
       "2002-09-19 -83.044203 -19.228630  15.735577 -14.381051\n",
       "2002-09-20 -85.338968 -20.112770  15.090700 -15.749164\n",
       "2002-09-21 -85.016944 -19.630807  14.161316 -17.186947\n",
       "2002-09-22 -86.204378 -20.593557  14.169823 -18.647361\n",
       "2002-09-23 -87.236501 -19.624129  13.717445 -18.860626\n",
       "2002-09-24 -85.017293 -18.796620  12.349553 -19.443635\n",
       "2002-09-25 -82.876770 -19.974321  13.262328 -22.083206\n",
       "2002-09-26 -83.219573 -20.518671  14.674183 -21.022386\n",
       "\n",
       "[1000 rows x 4 columns]"
      ]
     },
     "execution_count": 150,
     "metadata": {},
     "output_type": "execute_result"
    }
   ],
   "source": [
    "pd.read_excel('temp_file_foo.xlsx', sheetname='Sheet1', index_col=None, na_values=['NA'])"
   ]
  }
 ],
 "metadata": {
  "kernelspec": {
   "display_name": "Python 2",
   "language": "python",
   "name": "python2"
  },
  "language_info": {
   "codemirror_mode": {
    "name": "ipython",
    "version": 2
   },
   "file_extension": ".py",
   "mimetype": "text/x-python",
   "name": "python",
   "nbconvert_exporter": "python",
   "pygments_lexer": "ipython2",
   "version": "2.7.13"
  }
 },
 "nbformat": 4,
 "nbformat_minor": 2
}
