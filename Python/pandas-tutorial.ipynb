{
 "cells": [
  {
   "cell_type": "code",
   "execution_count": 1,
   "metadata": {
    "collapsed": true
   },
   "outputs": [],
   "source": [
    "import pandas as pd\n",
    "import numpy as np\n",
    "import matplotlib.pyplot as plt"
   ]
  },
  {
   "cell_type": "markdown",
   "metadata": {},
   "source": [
    "# 创建对象"
   ]
  },
  {
   "cell_type": "markdown",
   "metadata": {},
   "source": [
    "###  使用传递的值列表序列来创建序列, 让 pandas 创建默认整数索引"
   ]
  },
  {
   "cell_type": "code",
   "execution_count": 2,
   "metadata": {
    "collapsed": true
   },
   "outputs": [],
   "source": [
    "s = pd.Series([1, 3, 5, np.nan, 6, 8])"
   ]
  },
  {
   "cell_type": "code",
   "execution_count": 3,
   "metadata": {},
   "outputs": [
    {
     "data": {
      "text/plain": [
       "0    1.0\n",
       "1    3.0\n",
       "2    5.0\n",
       "3    NaN\n",
       "4    6.0\n",
       "5    8.0\n",
       "dtype: float64"
      ]
     },
     "execution_count": 3,
     "metadata": {},
     "output_type": "execute_result"
    }
   ],
   "source": [
    "s"
   ]
  },
  {
   "cell_type": "markdown",
   "metadata": {},
   "source": [
    "### 使用传递的numpy数组创建数据帧,并使用日期索引和标记列:"
   ]
  },
  {
   "cell_type": "code",
   "execution_count": 4,
   "metadata": {
    "collapsed": true
   },
   "outputs": [],
   "source": [
    "dates = pd.date_range('20130101', periods=6)"
   ]
  },
  {
   "cell_type": "code",
   "execution_count": 5,
   "metadata": {},
   "outputs": [
    {
     "data": {
      "text/plain": [
       "DatetimeIndex(['2013-01-01', '2013-01-02', '2013-01-03', '2013-01-04',\n",
       "               '2013-01-05', '2013-01-06'],\n",
       "              dtype='datetime64[ns]', freq='D')"
      ]
     },
     "execution_count": 5,
     "metadata": {},
     "output_type": "execute_result"
    }
   ],
   "source": [
    "dates"
   ]
  },
  {
   "cell_type": "code",
   "execution_count": 6,
   "metadata": {
    "collapsed": true
   },
   "outputs": [],
   "source": [
    "df = pd.DataFrame(np.random.randn(6, 4), index=dates, columns=list('ABCD'))"
   ]
  },
  {
   "cell_type": "code",
   "execution_count": 7,
   "metadata": {},
   "outputs": [
    {
     "data": {
      "text/html": [
       "<div>\n",
       "<style>\n",
       "    .dataframe thead tr:only-child th {\n",
       "        text-align: right;\n",
       "    }\n",
       "\n",
       "    .dataframe thead th {\n",
       "        text-align: left;\n",
       "    }\n",
       "\n",
       "    .dataframe tbody tr th {\n",
       "        vertical-align: top;\n",
       "    }\n",
       "</style>\n",
       "<table border=\"1\" class=\"dataframe\">\n",
       "  <thead>\n",
       "    <tr style=\"text-align: right;\">\n",
       "      <th></th>\n",
       "      <th>A</th>\n",
       "      <th>B</th>\n",
       "      <th>C</th>\n",
       "      <th>D</th>\n",
       "    </tr>\n",
       "  </thead>\n",
       "  <tbody>\n",
       "    <tr>\n",
       "      <th>2013-01-01</th>\n",
       "      <td>-0.311892</td>\n",
       "      <td>-0.501616</td>\n",
       "      <td>-0.441525</td>\n",
       "      <td>0.432368</td>\n",
       "    </tr>\n",
       "    <tr>\n",
       "      <th>2013-01-02</th>\n",
       "      <td>0.686605</td>\n",
       "      <td>0.306992</td>\n",
       "      <td>0.389648</td>\n",
       "      <td>1.755639</td>\n",
       "    </tr>\n",
       "    <tr>\n",
       "      <th>2013-01-03</th>\n",
       "      <td>-1.484379</td>\n",
       "      <td>0.581990</td>\n",
       "      <td>-2.346726</td>\n",
       "      <td>-0.736903</td>\n",
       "    </tr>\n",
       "    <tr>\n",
       "      <th>2013-01-04</th>\n",
       "      <td>0.887609</td>\n",
       "      <td>1.115376</td>\n",
       "      <td>-0.704424</td>\n",
       "      <td>-1.692277</td>\n",
       "    </tr>\n",
       "    <tr>\n",
       "      <th>2013-01-05</th>\n",
       "      <td>-0.135329</td>\n",
       "      <td>0.335435</td>\n",
       "      <td>-1.512973</td>\n",
       "      <td>0.156743</td>\n",
       "    </tr>\n",
       "    <tr>\n",
       "      <th>2013-01-06</th>\n",
       "      <td>0.781519</td>\n",
       "      <td>-0.879650</td>\n",
       "      <td>1.215830</td>\n",
       "      <td>1.746863</td>\n",
       "    </tr>\n",
       "  </tbody>\n",
       "</table>\n",
       "</div>"
      ],
      "text/plain": [
       "                   A         B         C         D\n",
       "2013-01-01 -0.311892 -0.501616 -0.441525  0.432368\n",
       "2013-01-02  0.686605  0.306992  0.389648  1.755639\n",
       "2013-01-03 -1.484379  0.581990 -2.346726 -0.736903\n",
       "2013-01-04  0.887609  1.115376 -0.704424 -1.692277\n",
       "2013-01-05 -0.135329  0.335435 -1.512973  0.156743\n",
       "2013-01-06  0.781519 -0.879650  1.215830  1.746863"
      ]
     },
     "execution_count": 7,
     "metadata": {},
     "output_type": "execute_result"
    }
   ],
   "source": [
    "df"
   ]
  },
  {
   "cell_type": "markdown",
   "metadata": {},
   "source": [
    "### 使用传递的可转换序列的字典对象创建数据帧:"
   ]
  },
  {
   "cell_type": "code",
   "execution_count": 8,
   "metadata": {
    "collapsed": true
   },
   "outputs": [],
   "source": [
    "df2 = pd.DataFrame({\n",
    "    'A': 1.,\n",
    "    'B': pd.Timestamp('20130101'),\n",
    "    'C': pd.Series(1, index=list(range(4)), dtype='float32'),\n",
    "    'D': np.array([3] * 4, dtype='int32'),\n",
    "    'E': pd.Categorical(['test', 'train', 'test', 'train']),\n",
    "    'F': 'foo'\n",
    "})"
   ]
  },
  {
   "cell_type": "code",
   "execution_count": 9,
   "metadata": {},
   "outputs": [
    {
     "data": {
      "text/html": [
       "<div>\n",
       "<style>\n",
       "    .dataframe thead tr:only-child th {\n",
       "        text-align: right;\n",
       "    }\n",
       "\n",
       "    .dataframe thead th {\n",
       "        text-align: left;\n",
       "    }\n",
       "\n",
       "    .dataframe tbody tr th {\n",
       "        vertical-align: top;\n",
       "    }\n",
       "</style>\n",
       "<table border=\"1\" class=\"dataframe\">\n",
       "  <thead>\n",
       "    <tr style=\"text-align: right;\">\n",
       "      <th></th>\n",
       "      <th>A</th>\n",
       "      <th>B</th>\n",
       "      <th>C</th>\n",
       "      <th>D</th>\n",
       "      <th>E</th>\n",
       "      <th>F</th>\n",
       "    </tr>\n",
       "  </thead>\n",
       "  <tbody>\n",
       "    <tr>\n",
       "      <th>0</th>\n",
       "      <td>1.0</td>\n",
       "      <td>2013-01-01</td>\n",
       "      <td>1.0</td>\n",
       "      <td>3</td>\n",
       "      <td>test</td>\n",
       "      <td>foo</td>\n",
       "    </tr>\n",
       "    <tr>\n",
       "      <th>1</th>\n",
       "      <td>1.0</td>\n",
       "      <td>2013-01-01</td>\n",
       "      <td>1.0</td>\n",
       "      <td>3</td>\n",
       "      <td>train</td>\n",
       "      <td>foo</td>\n",
       "    </tr>\n",
       "    <tr>\n",
       "      <th>2</th>\n",
       "      <td>1.0</td>\n",
       "      <td>2013-01-01</td>\n",
       "      <td>1.0</td>\n",
       "      <td>3</td>\n",
       "      <td>test</td>\n",
       "      <td>foo</td>\n",
       "    </tr>\n",
       "    <tr>\n",
       "      <th>3</th>\n",
       "      <td>1.0</td>\n",
       "      <td>2013-01-01</td>\n",
       "      <td>1.0</td>\n",
       "      <td>3</td>\n",
       "      <td>train</td>\n",
       "      <td>foo</td>\n",
       "    </tr>\n",
       "  </tbody>\n",
       "</table>\n",
       "</div>"
      ],
      "text/plain": [
       "     A          B    C  D      E    F\n",
       "0  1.0 2013-01-01  1.0  3   test  foo\n",
       "1  1.0 2013-01-01  1.0  3  train  foo\n",
       "2  1.0 2013-01-01  1.0  3   test  foo\n",
       "3  1.0 2013-01-01  1.0  3  train  foo"
      ]
     },
     "execution_count": 9,
     "metadata": {},
     "output_type": "execute_result"
    }
   ],
   "source": [
    "df2"
   ]
  },
  {
   "cell_type": "markdown",
   "metadata": {},
   "source": [
    "### 所有明确类型:"
   ]
  },
  {
   "cell_type": "code",
   "execution_count": 10,
   "metadata": {},
   "outputs": [
    {
     "data": {
      "text/plain": [
       "A           float64\n",
       "B    datetime64[ns]\n",
       "C           float32\n",
       "D             int32\n",
       "E          category\n",
       "F            object\n",
       "dtype: object"
      ]
     },
     "execution_count": 10,
     "metadata": {},
     "output_type": "execute_result"
    }
   ],
   "source": [
    "df2.dtypes"
   ]
  },
  {
   "cell_type": "markdown",
   "metadata": {},
   "source": [
    "### 输出某个子集:"
   ]
  },
  {
   "cell_type": "code",
   "execution_count": 11,
   "metadata": {},
   "outputs": [
    {
     "data": {
      "text/plain": [
       "0     test\n",
       "1    train\n",
       "2     test\n",
       "3    train\n",
       "Name: E, dtype: category\n",
       "Categories (2, object): [test, train]"
      ]
     },
     "execution_count": 11,
     "metadata": {},
     "output_type": "execute_result"
    }
   ],
   "source": [
    "df2.E"
   ]
  },
  {
   "cell_type": "markdown",
   "metadata": {},
   "source": [
    "# 查看数据"
   ]
  },
  {
   "cell_type": "markdown",
   "metadata": {},
   "source": [
    "### 查看帧顶部和底部的行:"
   ]
  },
  {
   "cell_type": "code",
   "execution_count": 12,
   "metadata": {},
   "outputs": [
    {
     "data": {
      "text/html": [
       "<div>\n",
       "<style>\n",
       "    .dataframe thead tr:only-child th {\n",
       "        text-align: right;\n",
       "    }\n",
       "\n",
       "    .dataframe thead th {\n",
       "        text-align: left;\n",
       "    }\n",
       "\n",
       "    .dataframe tbody tr th {\n",
       "        vertical-align: top;\n",
       "    }\n",
       "</style>\n",
       "<table border=\"1\" class=\"dataframe\">\n",
       "  <thead>\n",
       "    <tr style=\"text-align: right;\">\n",
       "      <th></th>\n",
       "      <th>A</th>\n",
       "      <th>B</th>\n",
       "      <th>C</th>\n",
       "      <th>D</th>\n",
       "    </tr>\n",
       "  </thead>\n",
       "  <tbody>\n",
       "    <tr>\n",
       "      <th>2013-01-01</th>\n",
       "      <td>-0.311892</td>\n",
       "      <td>-0.501616</td>\n",
       "      <td>-0.441525</td>\n",
       "      <td>0.432368</td>\n",
       "    </tr>\n",
       "    <tr>\n",
       "      <th>2013-01-02</th>\n",
       "      <td>0.686605</td>\n",
       "      <td>0.306992</td>\n",
       "      <td>0.389648</td>\n",
       "      <td>1.755639</td>\n",
       "    </tr>\n",
       "    <tr>\n",
       "      <th>2013-01-03</th>\n",
       "      <td>-1.484379</td>\n",
       "      <td>0.581990</td>\n",
       "      <td>-2.346726</td>\n",
       "      <td>-0.736903</td>\n",
       "    </tr>\n",
       "    <tr>\n",
       "      <th>2013-01-04</th>\n",
       "      <td>0.887609</td>\n",
       "      <td>1.115376</td>\n",
       "      <td>-0.704424</td>\n",
       "      <td>-1.692277</td>\n",
       "    </tr>\n",
       "    <tr>\n",
       "      <th>2013-01-05</th>\n",
       "      <td>-0.135329</td>\n",
       "      <td>0.335435</td>\n",
       "      <td>-1.512973</td>\n",
       "      <td>0.156743</td>\n",
       "    </tr>\n",
       "  </tbody>\n",
       "</table>\n",
       "</div>"
      ],
      "text/plain": [
       "                   A         B         C         D\n",
       "2013-01-01 -0.311892 -0.501616 -0.441525  0.432368\n",
       "2013-01-02  0.686605  0.306992  0.389648  1.755639\n",
       "2013-01-03 -1.484379  0.581990 -2.346726 -0.736903\n",
       "2013-01-04  0.887609  1.115376 -0.704424 -1.692277\n",
       "2013-01-05 -0.135329  0.335435 -1.512973  0.156743"
      ]
     },
     "execution_count": 12,
     "metadata": {},
     "output_type": "execute_result"
    }
   ],
   "source": [
    "df.head()"
   ]
  },
  {
   "cell_type": "code",
   "execution_count": 13,
   "metadata": {},
   "outputs": [
    {
     "data": {
      "text/html": [
       "<div>\n",
       "<style>\n",
       "    .dataframe thead tr:only-child th {\n",
       "        text-align: right;\n",
       "    }\n",
       "\n",
       "    .dataframe thead th {\n",
       "        text-align: left;\n",
       "    }\n",
       "\n",
       "    .dataframe tbody tr th {\n",
       "        vertical-align: top;\n",
       "    }\n",
       "</style>\n",
       "<table border=\"1\" class=\"dataframe\">\n",
       "  <thead>\n",
       "    <tr style=\"text-align: right;\">\n",
       "      <th></th>\n",
       "      <th>A</th>\n",
       "      <th>B</th>\n",
       "      <th>C</th>\n",
       "      <th>D</th>\n",
       "    </tr>\n",
       "  </thead>\n",
       "  <tbody>\n",
       "    <tr>\n",
       "      <th>2013-01-04</th>\n",
       "      <td>0.887609</td>\n",
       "      <td>1.115376</td>\n",
       "      <td>-0.704424</td>\n",
       "      <td>-1.692277</td>\n",
       "    </tr>\n",
       "    <tr>\n",
       "      <th>2013-01-05</th>\n",
       "      <td>-0.135329</td>\n",
       "      <td>0.335435</td>\n",
       "      <td>-1.512973</td>\n",
       "      <td>0.156743</td>\n",
       "    </tr>\n",
       "    <tr>\n",
       "      <th>2013-01-06</th>\n",
       "      <td>0.781519</td>\n",
       "      <td>-0.879650</td>\n",
       "      <td>1.215830</td>\n",
       "      <td>1.746863</td>\n",
       "    </tr>\n",
       "  </tbody>\n",
       "</table>\n",
       "</div>"
      ],
      "text/plain": [
       "                   A         B         C         D\n",
       "2013-01-04  0.887609  1.115376 -0.704424 -1.692277\n",
       "2013-01-05 -0.135329  0.335435 -1.512973  0.156743\n",
       "2013-01-06  0.781519 -0.879650  1.215830  1.746863"
      ]
     },
     "execution_count": 13,
     "metadata": {},
     "output_type": "execute_result"
    }
   ],
   "source": [
    "df.tail(3)"
   ]
  },
  {
   "cell_type": "markdown",
   "metadata": {},
   "source": [
    "### 显示索引, 列, 和底层的 numpy 数据:"
   ]
  },
  {
   "cell_type": "code",
   "execution_count": 14,
   "metadata": {},
   "outputs": [
    {
     "data": {
      "text/plain": [
       "DatetimeIndex(['2013-01-01', '2013-01-02', '2013-01-03', '2013-01-04',\n",
       "               '2013-01-05', '2013-01-06'],\n",
       "              dtype='datetime64[ns]', freq='D')"
      ]
     },
     "execution_count": 14,
     "metadata": {},
     "output_type": "execute_result"
    }
   ],
   "source": [
    "df.index"
   ]
  },
  {
   "cell_type": "code",
   "execution_count": 15,
   "metadata": {},
   "outputs": [
    {
     "data": {
      "text/plain": [
       "Index([u'A', u'B', u'C', u'D'], dtype='object')"
      ]
     },
     "execution_count": 15,
     "metadata": {},
     "output_type": "execute_result"
    }
   ],
   "source": [
    "df.columns"
   ]
  },
  {
   "cell_type": "code",
   "execution_count": 16,
   "metadata": {},
   "outputs": [
    {
     "data": {
      "text/plain": [
       "array([[-0.31189241, -0.50161567, -0.44152484,  0.43236827],\n",
       "       [ 0.68660545,  0.30699175,  0.38964787,  1.75563915],\n",
       "       [-1.48437914,  0.58198963, -2.34672565, -0.73690341],\n",
       "       [ 0.88760883,  1.11537622, -0.70442432, -1.69227689],\n",
       "       [-0.13532867,  0.33543466, -1.51297314,  0.15674339],\n",
       "       [ 0.78151885, -0.87964989,  1.21583033,  1.7468628 ]])"
      ]
     },
     "execution_count": 16,
     "metadata": {},
     "output_type": "execute_result"
    }
   ],
   "source": [
    "df.values"
   ]
  },
  {
   "cell_type": "markdown",
   "metadata": {},
   "source": [
    "### 描述显示数据快速统计摘要:"
   ]
  },
  {
   "cell_type": "code",
   "execution_count": 17,
   "metadata": {},
   "outputs": [
    {
     "data": {
      "text/html": [
       "<div>\n",
       "<style>\n",
       "    .dataframe thead tr:only-child th {\n",
       "        text-align: right;\n",
       "    }\n",
       "\n",
       "    .dataframe thead th {\n",
       "        text-align: left;\n",
       "    }\n",
       "\n",
       "    .dataframe tbody tr th {\n",
       "        vertical-align: top;\n",
       "    }\n",
       "</style>\n",
       "<table border=\"1\" class=\"dataframe\">\n",
       "  <thead>\n",
       "    <tr style=\"text-align: right;\">\n",
       "      <th></th>\n",
       "      <th>A</th>\n",
       "      <th>B</th>\n",
       "      <th>C</th>\n",
       "      <th>D</th>\n",
       "    </tr>\n",
       "  </thead>\n",
       "  <tbody>\n",
       "    <tr>\n",
       "      <th>count</th>\n",
       "      <td>6.000000</td>\n",
       "      <td>6.000000</td>\n",
       "      <td>6.000000</td>\n",
       "      <td>6.000000</td>\n",
       "    </tr>\n",
       "    <tr>\n",
       "      <th>mean</th>\n",
       "      <td>0.070689</td>\n",
       "      <td>0.159754</td>\n",
       "      <td>-0.566695</td>\n",
       "      <td>0.277072</td>\n",
       "    </tr>\n",
       "    <tr>\n",
       "      <th>std</th>\n",
       "      <td>0.912035</td>\n",
       "      <td>0.729631</td>\n",
       "      <td>1.279889</td>\n",
       "      <td>1.363196</td>\n",
       "    </tr>\n",
       "    <tr>\n",
       "      <th>min</th>\n",
       "      <td>-1.484379</td>\n",
       "      <td>-0.879650</td>\n",
       "      <td>-2.346726</td>\n",
       "      <td>-1.692277</td>\n",
       "    </tr>\n",
       "    <tr>\n",
       "      <th>25%</th>\n",
       "      <td>-0.267751</td>\n",
       "      <td>-0.299464</td>\n",
       "      <td>-1.310836</td>\n",
       "      <td>-0.513492</td>\n",
       "    </tr>\n",
       "    <tr>\n",
       "      <th>50%</th>\n",
       "      <td>0.275638</td>\n",
       "      <td>0.321213</td>\n",
       "      <td>-0.572975</td>\n",
       "      <td>0.294556</td>\n",
       "    </tr>\n",
       "    <tr>\n",
       "      <th>75%</th>\n",
       "      <td>0.757790</td>\n",
       "      <td>0.520351</td>\n",
       "      <td>0.181855</td>\n",
       "      <td>1.418239</td>\n",
       "    </tr>\n",
       "    <tr>\n",
       "      <th>max</th>\n",
       "      <td>0.887609</td>\n",
       "      <td>1.115376</td>\n",
       "      <td>1.215830</td>\n",
       "      <td>1.755639</td>\n",
       "    </tr>\n",
       "  </tbody>\n",
       "</table>\n",
       "</div>"
      ],
      "text/plain": [
       "              A         B         C         D\n",
       "count  6.000000  6.000000  6.000000  6.000000\n",
       "mean   0.070689  0.159754 -0.566695  0.277072\n",
       "std    0.912035  0.729631  1.279889  1.363196\n",
       "min   -1.484379 -0.879650 -2.346726 -1.692277\n",
       "25%   -0.267751 -0.299464 -1.310836 -0.513492\n",
       "50%    0.275638  0.321213 -0.572975  0.294556\n",
       "75%    0.757790  0.520351  0.181855  1.418239\n",
       "max    0.887609  1.115376  1.215830  1.755639"
      ]
     },
     "execution_count": 17,
     "metadata": {},
     "output_type": "execute_result"
    }
   ],
   "source": [
    "df.describe()"
   ]
  },
  {
   "cell_type": "markdown",
   "metadata": {},
   "source": [
    "### 转置数据:"
   ]
  },
  {
   "cell_type": "code",
   "execution_count": 18,
   "metadata": {},
   "outputs": [
    {
     "data": {
      "text/html": [
       "<div>\n",
       "<style>\n",
       "    .dataframe thead tr:only-child th {\n",
       "        text-align: right;\n",
       "    }\n",
       "\n",
       "    .dataframe thead th {\n",
       "        text-align: left;\n",
       "    }\n",
       "\n",
       "    .dataframe tbody tr th {\n",
       "        vertical-align: top;\n",
       "    }\n",
       "</style>\n",
       "<table border=\"1\" class=\"dataframe\">\n",
       "  <thead>\n",
       "    <tr style=\"text-align: right;\">\n",
       "      <th></th>\n",
       "      <th>2013-01-01 00:00:00</th>\n",
       "      <th>2013-01-02 00:00:00</th>\n",
       "      <th>2013-01-03 00:00:00</th>\n",
       "      <th>2013-01-04 00:00:00</th>\n",
       "      <th>2013-01-05 00:00:00</th>\n",
       "      <th>2013-01-06 00:00:00</th>\n",
       "    </tr>\n",
       "  </thead>\n",
       "  <tbody>\n",
       "    <tr>\n",
       "      <th>A</th>\n",
       "      <td>-0.311892</td>\n",
       "      <td>0.686605</td>\n",
       "      <td>-1.484379</td>\n",
       "      <td>0.887609</td>\n",
       "      <td>-0.135329</td>\n",
       "      <td>0.781519</td>\n",
       "    </tr>\n",
       "    <tr>\n",
       "      <th>B</th>\n",
       "      <td>-0.501616</td>\n",
       "      <td>0.306992</td>\n",
       "      <td>0.581990</td>\n",
       "      <td>1.115376</td>\n",
       "      <td>0.335435</td>\n",
       "      <td>-0.879650</td>\n",
       "    </tr>\n",
       "    <tr>\n",
       "      <th>C</th>\n",
       "      <td>-0.441525</td>\n",
       "      <td>0.389648</td>\n",
       "      <td>-2.346726</td>\n",
       "      <td>-0.704424</td>\n",
       "      <td>-1.512973</td>\n",
       "      <td>1.215830</td>\n",
       "    </tr>\n",
       "    <tr>\n",
       "      <th>D</th>\n",
       "      <td>0.432368</td>\n",
       "      <td>1.755639</td>\n",
       "      <td>-0.736903</td>\n",
       "      <td>-1.692277</td>\n",
       "      <td>0.156743</td>\n",
       "      <td>1.746863</td>\n",
       "    </tr>\n",
       "  </tbody>\n",
       "</table>\n",
       "</div>"
      ],
      "text/plain": [
       "   2013-01-01  2013-01-02  2013-01-03  2013-01-04  2013-01-05  2013-01-06\n",
       "A   -0.311892    0.686605   -1.484379    0.887609   -0.135329    0.781519\n",
       "B   -0.501616    0.306992    0.581990    1.115376    0.335435   -0.879650\n",
       "C   -0.441525    0.389648   -2.346726   -0.704424   -1.512973    1.215830\n",
       "D    0.432368    1.755639   -0.736903   -1.692277    0.156743    1.746863"
      ]
     },
     "execution_count": 18,
     "metadata": {},
     "output_type": "execute_result"
    }
   ],
   "source": [
    "df.T"
   ]
  },
  {
   "cell_type": "markdown",
   "metadata": {},
   "source": [
    "### 按轴排序:"
   ]
  },
  {
   "cell_type": "code",
   "execution_count": 19,
   "metadata": {},
   "outputs": [
    {
     "data": {
      "text/html": [
       "<div>\n",
       "<style>\n",
       "    .dataframe thead tr:only-child th {\n",
       "        text-align: right;\n",
       "    }\n",
       "\n",
       "    .dataframe thead th {\n",
       "        text-align: left;\n",
       "    }\n",
       "\n",
       "    .dataframe tbody tr th {\n",
       "        vertical-align: top;\n",
       "    }\n",
       "</style>\n",
       "<table border=\"1\" class=\"dataframe\">\n",
       "  <thead>\n",
       "    <tr style=\"text-align: right;\">\n",
       "      <th></th>\n",
       "      <th>D</th>\n",
       "      <th>C</th>\n",
       "      <th>B</th>\n",
       "      <th>A</th>\n",
       "    </tr>\n",
       "  </thead>\n",
       "  <tbody>\n",
       "    <tr>\n",
       "      <th>2013-01-01</th>\n",
       "      <td>0.432368</td>\n",
       "      <td>-0.441525</td>\n",
       "      <td>-0.501616</td>\n",
       "      <td>-0.311892</td>\n",
       "    </tr>\n",
       "    <tr>\n",
       "      <th>2013-01-02</th>\n",
       "      <td>1.755639</td>\n",
       "      <td>0.389648</td>\n",
       "      <td>0.306992</td>\n",
       "      <td>0.686605</td>\n",
       "    </tr>\n",
       "    <tr>\n",
       "      <th>2013-01-03</th>\n",
       "      <td>-0.736903</td>\n",
       "      <td>-2.346726</td>\n",
       "      <td>0.581990</td>\n",
       "      <td>-1.484379</td>\n",
       "    </tr>\n",
       "    <tr>\n",
       "      <th>2013-01-04</th>\n",
       "      <td>-1.692277</td>\n",
       "      <td>-0.704424</td>\n",
       "      <td>1.115376</td>\n",
       "      <td>0.887609</td>\n",
       "    </tr>\n",
       "    <tr>\n",
       "      <th>2013-01-05</th>\n",
       "      <td>0.156743</td>\n",
       "      <td>-1.512973</td>\n",
       "      <td>0.335435</td>\n",
       "      <td>-0.135329</td>\n",
       "    </tr>\n",
       "    <tr>\n",
       "      <th>2013-01-06</th>\n",
       "      <td>1.746863</td>\n",
       "      <td>1.215830</td>\n",
       "      <td>-0.879650</td>\n",
       "      <td>0.781519</td>\n",
       "    </tr>\n",
       "  </tbody>\n",
       "</table>\n",
       "</div>"
      ],
      "text/plain": [
       "                   D         C         B         A\n",
       "2013-01-01  0.432368 -0.441525 -0.501616 -0.311892\n",
       "2013-01-02  1.755639  0.389648  0.306992  0.686605\n",
       "2013-01-03 -0.736903 -2.346726  0.581990 -1.484379\n",
       "2013-01-04 -1.692277 -0.704424  1.115376  0.887609\n",
       "2013-01-05  0.156743 -1.512973  0.335435 -0.135329\n",
       "2013-01-06  1.746863  1.215830 -0.879650  0.781519"
      ]
     },
     "execution_count": 19,
     "metadata": {},
     "output_type": "execute_result"
    }
   ],
   "source": [
    "df.sort_index(axis=1, ascending=False)"
   ]
  },
  {
   "cell_type": "markdown",
   "metadata": {},
   "source": [
    "### 按值排序:"
   ]
  },
  {
   "cell_type": "code",
   "execution_count": 20,
   "metadata": {},
   "outputs": [
    {
     "data": {
      "text/html": [
       "<div>\n",
       "<style>\n",
       "    .dataframe thead tr:only-child th {\n",
       "        text-align: right;\n",
       "    }\n",
       "\n",
       "    .dataframe thead th {\n",
       "        text-align: left;\n",
       "    }\n",
       "\n",
       "    .dataframe tbody tr th {\n",
       "        vertical-align: top;\n",
       "    }\n",
       "</style>\n",
       "<table border=\"1\" class=\"dataframe\">\n",
       "  <thead>\n",
       "    <tr style=\"text-align: right;\">\n",
       "      <th></th>\n",
       "      <th>A</th>\n",
       "      <th>B</th>\n",
       "      <th>C</th>\n",
       "      <th>D</th>\n",
       "    </tr>\n",
       "  </thead>\n",
       "  <tbody>\n",
       "    <tr>\n",
       "      <th>2013-01-06</th>\n",
       "      <td>0.781519</td>\n",
       "      <td>-0.879650</td>\n",
       "      <td>1.215830</td>\n",
       "      <td>1.746863</td>\n",
       "    </tr>\n",
       "    <tr>\n",
       "      <th>2013-01-01</th>\n",
       "      <td>-0.311892</td>\n",
       "      <td>-0.501616</td>\n",
       "      <td>-0.441525</td>\n",
       "      <td>0.432368</td>\n",
       "    </tr>\n",
       "    <tr>\n",
       "      <th>2013-01-02</th>\n",
       "      <td>0.686605</td>\n",
       "      <td>0.306992</td>\n",
       "      <td>0.389648</td>\n",
       "      <td>1.755639</td>\n",
       "    </tr>\n",
       "    <tr>\n",
       "      <th>2013-01-05</th>\n",
       "      <td>-0.135329</td>\n",
       "      <td>0.335435</td>\n",
       "      <td>-1.512973</td>\n",
       "      <td>0.156743</td>\n",
       "    </tr>\n",
       "    <tr>\n",
       "      <th>2013-01-03</th>\n",
       "      <td>-1.484379</td>\n",
       "      <td>0.581990</td>\n",
       "      <td>-2.346726</td>\n",
       "      <td>-0.736903</td>\n",
       "    </tr>\n",
       "    <tr>\n",
       "      <th>2013-01-04</th>\n",
       "      <td>0.887609</td>\n",
       "      <td>1.115376</td>\n",
       "      <td>-0.704424</td>\n",
       "      <td>-1.692277</td>\n",
       "    </tr>\n",
       "  </tbody>\n",
       "</table>\n",
       "</div>"
      ],
      "text/plain": [
       "                   A         B         C         D\n",
       "2013-01-06  0.781519 -0.879650  1.215830  1.746863\n",
       "2013-01-01 -0.311892 -0.501616 -0.441525  0.432368\n",
       "2013-01-02  0.686605  0.306992  0.389648  1.755639\n",
       "2013-01-05 -0.135329  0.335435 -1.512973  0.156743\n",
       "2013-01-03 -1.484379  0.581990 -2.346726 -0.736903\n",
       "2013-01-04  0.887609  1.115376 -0.704424 -1.692277"
      ]
     },
     "execution_count": 20,
     "metadata": {},
     "output_type": "execute_result"
    }
   ],
   "source": [
    "df.sort_values(by='B')"
   ]
  },
  {
   "cell_type": "code",
   "execution_count": 21,
   "metadata": {},
   "outputs": [
    {
     "data": {
      "text/html": [
       "<div>\n",
       "<style>\n",
       "    .dataframe thead tr:only-child th {\n",
       "        text-align: right;\n",
       "    }\n",
       "\n",
       "    .dataframe thead th {\n",
       "        text-align: left;\n",
       "    }\n",
       "\n",
       "    .dataframe tbody tr th {\n",
       "        vertical-align: top;\n",
       "    }\n",
       "</style>\n",
       "<table border=\"1\" class=\"dataframe\">\n",
       "  <thead>\n",
       "    <tr style=\"text-align: right;\">\n",
       "      <th></th>\n",
       "      <th>A</th>\n",
       "      <th>B</th>\n",
       "      <th>C</th>\n",
       "      <th>D</th>\n",
       "    </tr>\n",
       "  </thead>\n",
       "  <tbody>\n",
       "    <tr>\n",
       "      <th>2013-01-03</th>\n",
       "      <td>-1.484379</td>\n",
       "      <td>0.581990</td>\n",
       "      <td>-2.346726</td>\n",
       "      <td>-0.736903</td>\n",
       "    </tr>\n",
       "    <tr>\n",
       "      <th>2013-01-05</th>\n",
       "      <td>-0.135329</td>\n",
       "      <td>0.335435</td>\n",
       "      <td>-1.512973</td>\n",
       "      <td>0.156743</td>\n",
       "    </tr>\n",
       "    <tr>\n",
       "      <th>2013-01-04</th>\n",
       "      <td>0.887609</td>\n",
       "      <td>1.115376</td>\n",
       "      <td>-0.704424</td>\n",
       "      <td>-1.692277</td>\n",
       "    </tr>\n",
       "    <tr>\n",
       "      <th>2013-01-01</th>\n",
       "      <td>-0.311892</td>\n",
       "      <td>-0.501616</td>\n",
       "      <td>-0.441525</td>\n",
       "      <td>0.432368</td>\n",
       "    </tr>\n",
       "    <tr>\n",
       "      <th>2013-01-02</th>\n",
       "      <td>0.686605</td>\n",
       "      <td>0.306992</td>\n",
       "      <td>0.389648</td>\n",
       "      <td>1.755639</td>\n",
       "    </tr>\n",
       "    <tr>\n",
       "      <th>2013-01-06</th>\n",
       "      <td>0.781519</td>\n",
       "      <td>-0.879650</td>\n",
       "      <td>1.215830</td>\n",
       "      <td>1.746863</td>\n",
       "    </tr>\n",
       "  </tbody>\n",
       "</table>\n",
       "</div>"
      ],
      "text/plain": [
       "                   A         B         C         D\n",
       "2013-01-03 -1.484379  0.581990 -2.346726 -0.736903\n",
       "2013-01-05 -0.135329  0.335435 -1.512973  0.156743\n",
       "2013-01-04  0.887609  1.115376 -0.704424 -1.692277\n",
       "2013-01-01 -0.311892 -0.501616 -0.441525  0.432368\n",
       "2013-01-02  0.686605  0.306992  0.389648  1.755639\n",
       "2013-01-06  0.781519 -0.879650  1.215830  1.746863"
      ]
     },
     "execution_count": 21,
     "metadata": {},
     "output_type": "execute_result"
    }
   ],
   "source": [
    "df.sort_values(by=['C', 'B'])"
   ]
  },
  {
   "cell_type": "markdown",
   "metadata": {},
   "source": [
    "# 选择器"
   ]
  },
  {
   "cell_type": "markdown",
   "metadata": {},
   "source": [
    "## 读取"
   ]
  },
  {
   "cell_type": "markdown",
   "metadata": {},
   "source": [
    "### 选择单列, 这会产生一个序列, 等价于 df.A:"
   ]
  },
  {
   "cell_type": "code",
   "execution_count": 22,
   "metadata": {},
   "outputs": [
    {
     "data": {
      "text/plain": [
       "2013-01-01   -0.311892\n",
       "2013-01-02    0.686605\n",
       "2013-01-03   -1.484379\n",
       "2013-01-04    0.887609\n",
       "2013-01-05   -0.135329\n",
       "2013-01-06    0.781519\n",
       "Freq: D, Name: A, dtype: float64"
      ]
     },
     "execution_count": 22,
     "metadata": {},
     "output_type": "execute_result"
    }
   ],
   "source": [
    "df['A']"
   ]
  },
  {
   "cell_type": "markdown",
   "metadata": {},
   "source": [
    "### 使用 [] 选择行的片断:"
   ]
  },
  {
   "cell_type": "code",
   "execution_count": 23,
   "metadata": {},
   "outputs": [
    {
     "data": {
      "text/html": [
       "<div>\n",
       "<style>\n",
       "    .dataframe thead tr:only-child th {\n",
       "        text-align: right;\n",
       "    }\n",
       "\n",
       "    .dataframe thead th {\n",
       "        text-align: left;\n",
       "    }\n",
       "\n",
       "    .dataframe tbody tr th {\n",
       "        vertical-align: top;\n",
       "    }\n",
       "</style>\n",
       "<table border=\"1\" class=\"dataframe\">\n",
       "  <thead>\n",
       "    <tr style=\"text-align: right;\">\n",
       "      <th></th>\n",
       "      <th>A</th>\n",
       "      <th>B</th>\n",
       "      <th>C</th>\n",
       "      <th>D</th>\n",
       "    </tr>\n",
       "  </thead>\n",
       "  <tbody>\n",
       "    <tr>\n",
       "      <th>2013-01-01</th>\n",
       "      <td>-0.311892</td>\n",
       "      <td>-0.501616</td>\n",
       "      <td>-0.441525</td>\n",
       "      <td>0.432368</td>\n",
       "    </tr>\n",
       "    <tr>\n",
       "      <th>2013-01-02</th>\n",
       "      <td>0.686605</td>\n",
       "      <td>0.306992</td>\n",
       "      <td>0.389648</td>\n",
       "      <td>1.755639</td>\n",
       "    </tr>\n",
       "    <tr>\n",
       "      <th>2013-01-03</th>\n",
       "      <td>-1.484379</td>\n",
       "      <td>0.581990</td>\n",
       "      <td>-2.346726</td>\n",
       "      <td>-0.736903</td>\n",
       "    </tr>\n",
       "  </tbody>\n",
       "</table>\n",
       "</div>"
      ],
      "text/plain": [
       "                   A         B         C         D\n",
       "2013-01-01 -0.311892 -0.501616 -0.441525  0.432368\n",
       "2013-01-02  0.686605  0.306992  0.389648  1.755639\n",
       "2013-01-03 -1.484379  0.581990 -2.346726 -0.736903"
      ]
     },
     "execution_count": 23,
     "metadata": {},
     "output_type": "execute_result"
    }
   ],
   "source": [
    "df[0:3]"
   ]
  },
  {
   "cell_type": "code",
   "execution_count": 24,
   "metadata": {},
   "outputs": [
    {
     "data": {
      "text/html": [
       "<div>\n",
       "<style>\n",
       "    .dataframe thead tr:only-child th {\n",
       "        text-align: right;\n",
       "    }\n",
       "\n",
       "    .dataframe thead th {\n",
       "        text-align: left;\n",
       "    }\n",
       "\n",
       "    .dataframe tbody tr th {\n",
       "        vertical-align: top;\n",
       "    }\n",
       "</style>\n",
       "<table border=\"1\" class=\"dataframe\">\n",
       "  <thead>\n",
       "    <tr style=\"text-align: right;\">\n",
       "      <th></th>\n",
       "      <th>A</th>\n",
       "      <th>B</th>\n",
       "      <th>C</th>\n",
       "      <th>D</th>\n",
       "    </tr>\n",
       "  </thead>\n",
       "  <tbody>\n",
       "    <tr>\n",
       "      <th>2013-01-02</th>\n",
       "      <td>0.686605</td>\n",
       "      <td>0.306992</td>\n",
       "      <td>0.389648</td>\n",
       "      <td>1.755639</td>\n",
       "    </tr>\n",
       "    <tr>\n",
       "      <th>2013-01-03</th>\n",
       "      <td>-1.484379</td>\n",
       "      <td>0.581990</td>\n",
       "      <td>-2.346726</td>\n",
       "      <td>-0.736903</td>\n",
       "    </tr>\n",
       "    <tr>\n",
       "      <th>2013-01-04</th>\n",
       "      <td>0.887609</td>\n",
       "      <td>1.115376</td>\n",
       "      <td>-0.704424</td>\n",
       "      <td>-1.692277</td>\n",
       "    </tr>\n",
       "  </tbody>\n",
       "</table>\n",
       "</div>"
      ],
      "text/plain": [
       "                   A         B         C         D\n",
       "2013-01-02  0.686605  0.306992  0.389648  1.755639\n",
       "2013-01-03 -1.484379  0.581990 -2.346726 -0.736903\n",
       "2013-01-04  0.887609  1.115376 -0.704424 -1.692277"
      ]
     },
     "execution_count": 24,
     "metadata": {},
     "output_type": "execute_result"
    }
   ],
   "source": [
    "df['20130102': '20130104']"
   ]
  },
  {
   "cell_type": "markdown",
   "metadata": {},
   "source": [
    "## 使用标签选择"
   ]
  },
  {
   "cell_type": "markdown",
   "metadata": {},
   "source": [
    "### 使用标签获取横截面:"
   ]
  },
  {
   "cell_type": "code",
   "execution_count": 25,
   "metadata": {},
   "outputs": [
    {
     "data": {
      "text/plain": [
       "A   -0.311892\n",
       "B   -0.501616\n",
       "C   -0.441525\n",
       "D    0.432368\n",
       "Name: 2013-01-01 00:00:00, dtype: float64"
      ]
     },
     "execution_count": 25,
     "metadata": {},
     "output_type": "execute_result"
    }
   ],
   "source": [
    "df.loc[dates[0]]"
   ]
  },
  {
   "cell_type": "markdown",
   "metadata": {},
   "source": [
    "### 使用标签选择多轴:"
   ]
  },
  {
   "cell_type": "code",
   "execution_count": 26,
   "metadata": {},
   "outputs": [
    {
     "data": {
      "text/html": [
       "<div>\n",
       "<style>\n",
       "    .dataframe thead tr:only-child th {\n",
       "        text-align: right;\n",
       "    }\n",
       "\n",
       "    .dataframe thead th {\n",
       "        text-align: left;\n",
       "    }\n",
       "\n",
       "    .dataframe tbody tr th {\n",
       "        vertical-align: top;\n",
       "    }\n",
       "</style>\n",
       "<table border=\"1\" class=\"dataframe\">\n",
       "  <thead>\n",
       "    <tr style=\"text-align: right;\">\n",
       "      <th></th>\n",
       "      <th>A</th>\n",
       "      <th>B</th>\n",
       "    </tr>\n",
       "  </thead>\n",
       "  <tbody>\n",
       "    <tr>\n",
       "      <th>2013-01-01</th>\n",
       "      <td>-0.311892</td>\n",
       "      <td>-0.501616</td>\n",
       "    </tr>\n",
       "    <tr>\n",
       "      <th>2013-01-02</th>\n",
       "      <td>0.686605</td>\n",
       "      <td>0.306992</td>\n",
       "    </tr>\n",
       "    <tr>\n",
       "      <th>2013-01-03</th>\n",
       "      <td>-1.484379</td>\n",
       "      <td>0.581990</td>\n",
       "    </tr>\n",
       "    <tr>\n",
       "      <th>2013-01-04</th>\n",
       "      <td>0.887609</td>\n",
       "      <td>1.115376</td>\n",
       "    </tr>\n",
       "    <tr>\n",
       "      <th>2013-01-05</th>\n",
       "      <td>-0.135329</td>\n",
       "      <td>0.335435</td>\n",
       "    </tr>\n",
       "    <tr>\n",
       "      <th>2013-01-06</th>\n",
       "      <td>0.781519</td>\n",
       "      <td>-0.879650</td>\n",
       "    </tr>\n",
       "  </tbody>\n",
       "</table>\n",
       "</div>"
      ],
      "text/plain": [
       "                   A         B\n",
       "2013-01-01 -0.311892 -0.501616\n",
       "2013-01-02  0.686605  0.306992\n",
       "2013-01-03 -1.484379  0.581990\n",
       "2013-01-04  0.887609  1.115376\n",
       "2013-01-05 -0.135329  0.335435\n",
       "2013-01-06  0.781519 -0.879650"
      ]
     },
     "execution_count": 26,
     "metadata": {},
     "output_type": "execute_result"
    }
   ],
   "source": [
    "df.loc[:, ['A', 'B']]"
   ]
  },
  {
   "cell_type": "markdown",
   "metadata": {},
   "source": [
    "### 显示标签切片, 包含两个端点:"
   ]
  },
  {
   "cell_type": "code",
   "execution_count": 27,
   "metadata": {},
   "outputs": [
    {
     "data": {
      "text/html": [
       "<div>\n",
       "<style>\n",
       "    .dataframe thead tr:only-child th {\n",
       "        text-align: right;\n",
       "    }\n",
       "\n",
       "    .dataframe thead th {\n",
       "        text-align: left;\n",
       "    }\n",
       "\n",
       "    .dataframe tbody tr th {\n",
       "        vertical-align: top;\n",
       "    }\n",
       "</style>\n",
       "<table border=\"1\" class=\"dataframe\">\n",
       "  <thead>\n",
       "    <tr style=\"text-align: right;\">\n",
       "      <th></th>\n",
       "      <th>A</th>\n",
       "      <th>B</th>\n",
       "    </tr>\n",
       "  </thead>\n",
       "  <tbody>\n",
       "    <tr>\n",
       "      <th>2013-01-02</th>\n",
       "      <td>0.686605</td>\n",
       "      <td>0.306992</td>\n",
       "    </tr>\n",
       "    <tr>\n",
       "      <th>2013-01-03</th>\n",
       "      <td>-1.484379</td>\n",
       "      <td>0.581990</td>\n",
       "    </tr>\n",
       "    <tr>\n",
       "      <th>2013-01-04</th>\n",
       "      <td>0.887609</td>\n",
       "      <td>1.115376</td>\n",
       "    </tr>\n",
       "  </tbody>\n",
       "</table>\n",
       "</div>"
      ],
      "text/plain": [
       "                   A         B\n",
       "2013-01-02  0.686605  0.306992\n",
       "2013-01-03 -1.484379  0.581990\n",
       "2013-01-04  0.887609  1.115376"
      ]
     },
     "execution_count": 27,
     "metadata": {},
     "output_type": "execute_result"
    }
   ],
   "source": [
    "df.loc['20130102': '20130104', ['A', 'B']]"
   ]
  },
  {
   "cell_type": "markdown",
   "metadata": {},
   "source": [
    "### 降低返回对象维度:"
   ]
  },
  {
   "cell_type": "code",
   "execution_count": 28,
   "metadata": {},
   "outputs": [
    {
     "data": {
      "text/plain": [
       "A    0.686605\n",
       "B    0.306992\n",
       "Name: 2013-01-02 00:00:00, dtype: float64"
      ]
     },
     "execution_count": 28,
     "metadata": {},
     "output_type": "execute_result"
    }
   ],
   "source": [
    "df.loc['20130102', ['A', 'B']]"
   ]
  },
  {
   "cell_type": "markdown",
   "metadata": {},
   "source": [
    "### 获取标量值:"
   ]
  },
  {
   "cell_type": "code",
   "execution_count": 29,
   "metadata": {},
   "outputs": [
    {
     "data": {
      "text/plain": [
       "-0.31189241380396443"
      ]
     },
     "execution_count": 29,
     "metadata": {},
     "output_type": "execute_result"
    }
   ],
   "source": [
    "df.loc[dates[0], 'A']"
   ]
  },
  {
   "cell_type": "markdown",
   "metadata": {},
   "source": [
    "### 快速访问并获取标量数据(等价上面的方法):"
   ]
  },
  {
   "cell_type": "code",
   "execution_count": 30,
   "metadata": {},
   "outputs": [
    {
     "data": {
      "text/plain": [
       "-0.31189241380396443"
      ]
     },
     "execution_count": 30,
     "metadata": {},
     "output_type": "execute_result"
    }
   ],
   "source": [
    "df.at[dates[0], 'A']"
   ]
  },
  {
   "cell_type": "markdown",
   "metadata": {},
   "source": [
    "## 按位置选择"
   ]
  },
  {
   "cell_type": "markdown",
   "metadata": {},
   "source": [
    "### 传递整数选择位置"
   ]
  },
  {
   "cell_type": "code",
   "execution_count": 31,
   "metadata": {},
   "outputs": [
    {
     "data": {
      "text/plain": [
       "A    0.887609\n",
       "B    1.115376\n",
       "C   -0.704424\n",
       "D   -1.692277\n",
       "Name: 2013-01-04 00:00:00, dtype: float64"
      ]
     },
     "execution_count": 31,
     "metadata": {},
     "output_type": "execute_result"
    }
   ],
   "source": [
    "df.iloc[3]"
   ]
  },
  {
   "cell_type": "markdown",
   "metadata": {},
   "source": [
    "### 使用整数片断, 效果类似 numpy/python:"
   ]
  },
  {
   "cell_type": "code",
   "execution_count": 32,
   "metadata": {},
   "outputs": [
    {
     "data": {
      "text/html": [
       "<div>\n",
       "<style>\n",
       "    .dataframe thead tr:only-child th {\n",
       "        text-align: right;\n",
       "    }\n",
       "\n",
       "    .dataframe thead th {\n",
       "        text-align: left;\n",
       "    }\n",
       "\n",
       "    .dataframe tbody tr th {\n",
       "        vertical-align: top;\n",
       "    }\n",
       "</style>\n",
       "<table border=\"1\" class=\"dataframe\">\n",
       "  <thead>\n",
       "    <tr style=\"text-align: right;\">\n",
       "      <th></th>\n",
       "      <th>A</th>\n",
       "      <th>B</th>\n",
       "    </tr>\n",
       "  </thead>\n",
       "  <tbody>\n",
       "    <tr>\n",
       "      <th>2013-01-04</th>\n",
       "      <td>0.887609</td>\n",
       "      <td>1.115376</td>\n",
       "    </tr>\n",
       "    <tr>\n",
       "      <th>2013-01-05</th>\n",
       "      <td>-0.135329</td>\n",
       "      <td>0.335435</td>\n",
       "    </tr>\n",
       "  </tbody>\n",
       "</table>\n",
       "</div>"
      ],
      "text/plain": [
       "                   A         B\n",
       "2013-01-04  0.887609  1.115376\n",
       "2013-01-05 -0.135329  0.335435"
      ]
     },
     "execution_count": 32,
     "metadata": {},
     "output_type": "execute_result"
    }
   ],
   "source": [
    "df.iloc[3:5, 0:2]"
   ]
  },
  {
   "cell_type": "markdown",
   "metadata": {},
   "source": [
    "### 使用整数偏移定位列表, 效果类似 numpy/python 样式:"
   ]
  },
  {
   "cell_type": "code",
   "execution_count": 33,
   "metadata": {},
   "outputs": [
    {
     "data": {
      "text/html": [
       "<div>\n",
       "<style>\n",
       "    .dataframe thead tr:only-child th {\n",
       "        text-align: right;\n",
       "    }\n",
       "\n",
       "    .dataframe thead th {\n",
       "        text-align: left;\n",
       "    }\n",
       "\n",
       "    .dataframe tbody tr th {\n",
       "        vertical-align: top;\n",
       "    }\n",
       "</style>\n",
       "<table border=\"1\" class=\"dataframe\">\n",
       "  <thead>\n",
       "    <tr style=\"text-align: right;\">\n",
       "      <th></th>\n",
       "      <th>A</th>\n",
       "      <th>C</th>\n",
       "    </tr>\n",
       "  </thead>\n",
       "  <tbody>\n",
       "    <tr>\n",
       "      <th>2013-01-02</th>\n",
       "      <td>0.686605</td>\n",
       "      <td>0.389648</td>\n",
       "    </tr>\n",
       "    <tr>\n",
       "      <th>2013-01-03</th>\n",
       "      <td>-1.484379</td>\n",
       "      <td>-2.346726</td>\n",
       "    </tr>\n",
       "    <tr>\n",
       "      <th>2013-01-05</th>\n",
       "      <td>-0.135329</td>\n",
       "      <td>-1.512973</td>\n",
       "    </tr>\n",
       "  </tbody>\n",
       "</table>\n",
       "</div>"
      ],
      "text/plain": [
       "                   A         C\n",
       "2013-01-02  0.686605  0.389648\n",
       "2013-01-03 -1.484379 -2.346726\n",
       "2013-01-05 -0.135329 -1.512973"
      ]
     },
     "execution_count": 33,
     "metadata": {},
     "output_type": "execute_result"
    }
   ],
   "source": [
    "df.iloc[[1, 2, 4], [0, 2]]"
   ]
  },
  {
   "cell_type": "markdown",
   "metadata": {},
   "source": [
    "### 显示行切片:"
   ]
  },
  {
   "cell_type": "code",
   "execution_count": 34,
   "metadata": {},
   "outputs": [
    {
     "data": {
      "text/html": [
       "<div>\n",
       "<style>\n",
       "    .dataframe thead tr:only-child th {\n",
       "        text-align: right;\n",
       "    }\n",
       "\n",
       "    .dataframe thead th {\n",
       "        text-align: left;\n",
       "    }\n",
       "\n",
       "    .dataframe tbody tr th {\n",
       "        vertical-align: top;\n",
       "    }\n",
       "</style>\n",
       "<table border=\"1\" class=\"dataframe\">\n",
       "  <thead>\n",
       "    <tr style=\"text-align: right;\">\n",
       "      <th></th>\n",
       "      <th>A</th>\n",
       "      <th>B</th>\n",
       "      <th>C</th>\n",
       "      <th>D</th>\n",
       "    </tr>\n",
       "  </thead>\n",
       "  <tbody>\n",
       "    <tr>\n",
       "      <th>2013-01-02</th>\n",
       "      <td>0.686605</td>\n",
       "      <td>0.306992</td>\n",
       "      <td>0.389648</td>\n",
       "      <td>1.755639</td>\n",
       "    </tr>\n",
       "    <tr>\n",
       "      <th>2013-01-03</th>\n",
       "      <td>-1.484379</td>\n",
       "      <td>0.581990</td>\n",
       "      <td>-2.346726</td>\n",
       "      <td>-0.736903</td>\n",
       "    </tr>\n",
       "  </tbody>\n",
       "</table>\n",
       "</div>"
      ],
      "text/plain": [
       "                   A         B         C         D\n",
       "2013-01-02  0.686605  0.306992  0.389648  1.755639\n",
       "2013-01-03 -1.484379  0.581990 -2.346726 -0.736903"
      ]
     },
     "execution_count": 34,
     "metadata": {},
     "output_type": "execute_result"
    }
   ],
   "source": [
    "df.iloc[1:3, :]"
   ]
  },
  {
   "cell_type": "markdown",
   "metadata": {},
   "source": [
    "### 显示列切片:"
   ]
  },
  {
   "cell_type": "code",
   "execution_count": 35,
   "metadata": {},
   "outputs": [
    {
     "data": {
      "text/html": [
       "<div>\n",
       "<style>\n",
       "    .dataframe thead tr:only-child th {\n",
       "        text-align: right;\n",
       "    }\n",
       "\n",
       "    .dataframe thead th {\n",
       "        text-align: left;\n",
       "    }\n",
       "\n",
       "    .dataframe tbody tr th {\n",
       "        vertical-align: top;\n",
       "    }\n",
       "</style>\n",
       "<table border=\"1\" class=\"dataframe\">\n",
       "  <thead>\n",
       "    <tr style=\"text-align: right;\">\n",
       "      <th></th>\n",
       "      <th>B</th>\n",
       "      <th>C</th>\n",
       "    </tr>\n",
       "  </thead>\n",
       "  <tbody>\n",
       "    <tr>\n",
       "      <th>2013-01-01</th>\n",
       "      <td>-0.501616</td>\n",
       "      <td>-0.441525</td>\n",
       "    </tr>\n",
       "    <tr>\n",
       "      <th>2013-01-02</th>\n",
       "      <td>0.306992</td>\n",
       "      <td>0.389648</td>\n",
       "    </tr>\n",
       "    <tr>\n",
       "      <th>2013-01-03</th>\n",
       "      <td>0.581990</td>\n",
       "      <td>-2.346726</td>\n",
       "    </tr>\n",
       "    <tr>\n",
       "      <th>2013-01-04</th>\n",
       "      <td>1.115376</td>\n",
       "      <td>-0.704424</td>\n",
       "    </tr>\n",
       "    <tr>\n",
       "      <th>2013-01-05</th>\n",
       "      <td>0.335435</td>\n",
       "      <td>-1.512973</td>\n",
       "    </tr>\n",
       "    <tr>\n",
       "      <th>2013-01-06</th>\n",
       "      <td>-0.879650</td>\n",
       "      <td>1.215830</td>\n",
       "    </tr>\n",
       "  </tbody>\n",
       "</table>\n",
       "</div>"
      ],
      "text/plain": [
       "                   B         C\n",
       "2013-01-01 -0.501616 -0.441525\n",
       "2013-01-02  0.306992  0.389648\n",
       "2013-01-03  0.581990 -2.346726\n",
       "2013-01-04  1.115376 -0.704424\n",
       "2013-01-05  0.335435 -1.512973\n",
       "2013-01-06 -0.879650  1.215830"
      ]
     },
     "execution_count": 35,
     "metadata": {},
     "output_type": "execute_result"
    }
   ],
   "source": [
    "df.iloc[:, 1:3]"
   ]
  },
  {
   "cell_type": "markdown",
   "metadata": {},
   "source": [
    "### 显式获取一个值:"
   ]
  },
  {
   "cell_type": "code",
   "execution_count": 36,
   "metadata": {},
   "outputs": [
    {
     "data": {
      "text/plain": [
       "0.30699174504282678"
      ]
     },
     "execution_count": 36,
     "metadata": {},
     "output_type": "execute_result"
    }
   ],
   "source": [
    "df.iloc[1, 1]"
   ]
  },
  {
   "cell_type": "markdown",
   "metadata": {},
   "source": [
    "### 快速访问一个标量(等同上个方法):"
   ]
  },
  {
   "cell_type": "code",
   "execution_count": 37,
   "metadata": {},
   "outputs": [
    {
     "data": {
      "text/plain": [
       "0.30699174504282678"
      ]
     },
     "execution_count": 37,
     "metadata": {},
     "output_type": "execute_result"
    }
   ],
   "source": [
    "df.iat[1, 1]"
   ]
  },
  {
   "cell_type": "markdown",
   "metadata": {},
   "source": [
    "# 布尔索引"
   ]
  },
  {
   "cell_type": "markdown",
   "metadata": {},
   "source": [
    "### 使用单个列的值选择数据:"
   ]
  },
  {
   "cell_type": "code",
   "execution_count": 38,
   "metadata": {},
   "outputs": [
    {
     "data": {
      "text/html": [
       "<div>\n",
       "<style>\n",
       "    .dataframe thead tr:only-child th {\n",
       "        text-align: right;\n",
       "    }\n",
       "\n",
       "    .dataframe thead th {\n",
       "        text-align: left;\n",
       "    }\n",
       "\n",
       "    .dataframe tbody tr th {\n",
       "        vertical-align: top;\n",
       "    }\n",
       "</style>\n",
       "<table border=\"1\" class=\"dataframe\">\n",
       "  <thead>\n",
       "    <tr style=\"text-align: right;\">\n",
       "      <th></th>\n",
       "      <th>A</th>\n",
       "      <th>B</th>\n",
       "      <th>C</th>\n",
       "      <th>D</th>\n",
       "    </tr>\n",
       "  </thead>\n",
       "  <tbody>\n",
       "    <tr>\n",
       "      <th>2013-01-02</th>\n",
       "      <td>0.686605</td>\n",
       "      <td>0.306992</td>\n",
       "      <td>0.389648</td>\n",
       "      <td>1.755639</td>\n",
       "    </tr>\n",
       "    <tr>\n",
       "      <th>2013-01-04</th>\n",
       "      <td>0.887609</td>\n",
       "      <td>1.115376</td>\n",
       "      <td>-0.704424</td>\n",
       "      <td>-1.692277</td>\n",
       "    </tr>\n",
       "    <tr>\n",
       "      <th>2013-01-06</th>\n",
       "      <td>0.781519</td>\n",
       "      <td>-0.879650</td>\n",
       "      <td>1.215830</td>\n",
       "      <td>1.746863</td>\n",
       "    </tr>\n",
       "  </tbody>\n",
       "</table>\n",
       "</div>"
      ],
      "text/plain": [
       "                   A         B         C         D\n",
       "2013-01-02  0.686605  0.306992  0.389648  1.755639\n",
       "2013-01-04  0.887609  1.115376 -0.704424 -1.692277\n",
       "2013-01-06  0.781519 -0.879650  1.215830  1.746863"
      ]
     },
     "execution_count": 38,
     "metadata": {},
     "output_type": "execute_result"
    }
   ],
   "source": [
    "df[df.A > 0]"
   ]
  },
  {
   "cell_type": "markdown",
   "metadata": {},
   "source": [
    "### where 操作:"
   ]
  },
  {
   "cell_type": "code",
   "execution_count": 39,
   "metadata": {},
   "outputs": [
    {
     "data": {
      "text/html": [
       "<div>\n",
       "<style>\n",
       "    .dataframe thead tr:only-child th {\n",
       "        text-align: right;\n",
       "    }\n",
       "\n",
       "    .dataframe thead th {\n",
       "        text-align: left;\n",
       "    }\n",
       "\n",
       "    .dataframe tbody tr th {\n",
       "        vertical-align: top;\n",
       "    }\n",
       "</style>\n",
       "<table border=\"1\" class=\"dataframe\">\n",
       "  <thead>\n",
       "    <tr style=\"text-align: right;\">\n",
       "      <th></th>\n",
       "      <th>A</th>\n",
       "      <th>B</th>\n",
       "      <th>C</th>\n",
       "      <th>D</th>\n",
       "    </tr>\n",
       "  </thead>\n",
       "  <tbody>\n",
       "    <tr>\n",
       "      <th>2013-01-01</th>\n",
       "      <td>NaN</td>\n",
       "      <td>NaN</td>\n",
       "      <td>NaN</td>\n",
       "      <td>0.432368</td>\n",
       "    </tr>\n",
       "    <tr>\n",
       "      <th>2013-01-02</th>\n",
       "      <td>0.686605</td>\n",
       "      <td>0.306992</td>\n",
       "      <td>0.389648</td>\n",
       "      <td>1.755639</td>\n",
       "    </tr>\n",
       "    <tr>\n",
       "      <th>2013-01-03</th>\n",
       "      <td>NaN</td>\n",
       "      <td>0.581990</td>\n",
       "      <td>NaN</td>\n",
       "      <td>NaN</td>\n",
       "    </tr>\n",
       "    <tr>\n",
       "      <th>2013-01-04</th>\n",
       "      <td>0.887609</td>\n",
       "      <td>1.115376</td>\n",
       "      <td>NaN</td>\n",
       "      <td>NaN</td>\n",
       "    </tr>\n",
       "    <tr>\n",
       "      <th>2013-01-05</th>\n",
       "      <td>NaN</td>\n",
       "      <td>0.335435</td>\n",
       "      <td>NaN</td>\n",
       "      <td>0.156743</td>\n",
       "    </tr>\n",
       "    <tr>\n",
       "      <th>2013-01-06</th>\n",
       "      <td>0.781519</td>\n",
       "      <td>NaN</td>\n",
       "      <td>1.215830</td>\n",
       "      <td>1.746863</td>\n",
       "    </tr>\n",
       "  </tbody>\n",
       "</table>\n",
       "</div>"
      ],
      "text/plain": [
       "                   A         B         C         D\n",
       "2013-01-01       NaN       NaN       NaN  0.432368\n",
       "2013-01-02  0.686605  0.306992  0.389648  1.755639\n",
       "2013-01-03       NaN  0.581990       NaN       NaN\n",
       "2013-01-04  0.887609  1.115376       NaN       NaN\n",
       "2013-01-05       NaN  0.335435       NaN  0.156743\n",
       "2013-01-06  0.781519       NaN  1.215830  1.746863"
      ]
     },
     "execution_count": 39,
     "metadata": {},
     "output_type": "execute_result"
    }
   ],
   "source": [
    "df[df > 0]"
   ]
  },
  {
   "cell_type": "markdown",
   "metadata": {},
   "source": [
    "### 使用 isin() 筛选:"
   ]
  },
  {
   "cell_type": "code",
   "execution_count": 40,
   "metadata": {},
   "outputs": [],
   "source": [
    "df2 = df.copy()"
   ]
  },
  {
   "cell_type": "code",
   "execution_count": 41,
   "metadata": {},
   "outputs": [],
   "source": [
    "df2['E'] = ['one', 'one', 'two', 'three', 'four', 'three']"
   ]
  },
  {
   "cell_type": "code",
   "execution_count": 42,
   "metadata": {},
   "outputs": [
    {
     "data": {
      "text/html": [
       "<div>\n",
       "<style>\n",
       "    .dataframe thead tr:only-child th {\n",
       "        text-align: right;\n",
       "    }\n",
       "\n",
       "    .dataframe thead th {\n",
       "        text-align: left;\n",
       "    }\n",
       "\n",
       "    .dataframe tbody tr th {\n",
       "        vertical-align: top;\n",
       "    }\n",
       "</style>\n",
       "<table border=\"1\" class=\"dataframe\">\n",
       "  <thead>\n",
       "    <tr style=\"text-align: right;\">\n",
       "      <th></th>\n",
       "      <th>A</th>\n",
       "      <th>B</th>\n",
       "      <th>C</th>\n",
       "      <th>D</th>\n",
       "      <th>E</th>\n",
       "    </tr>\n",
       "  </thead>\n",
       "  <tbody>\n",
       "    <tr>\n",
       "      <th>2013-01-01</th>\n",
       "      <td>-0.311892</td>\n",
       "      <td>-0.501616</td>\n",
       "      <td>-0.441525</td>\n",
       "      <td>0.432368</td>\n",
       "      <td>one</td>\n",
       "    </tr>\n",
       "    <tr>\n",
       "      <th>2013-01-02</th>\n",
       "      <td>0.686605</td>\n",
       "      <td>0.306992</td>\n",
       "      <td>0.389648</td>\n",
       "      <td>1.755639</td>\n",
       "      <td>one</td>\n",
       "    </tr>\n",
       "    <tr>\n",
       "      <th>2013-01-03</th>\n",
       "      <td>-1.484379</td>\n",
       "      <td>0.581990</td>\n",
       "      <td>-2.346726</td>\n",
       "      <td>-0.736903</td>\n",
       "      <td>two</td>\n",
       "    </tr>\n",
       "    <tr>\n",
       "      <th>2013-01-04</th>\n",
       "      <td>0.887609</td>\n",
       "      <td>1.115376</td>\n",
       "      <td>-0.704424</td>\n",
       "      <td>-1.692277</td>\n",
       "      <td>three</td>\n",
       "    </tr>\n",
       "    <tr>\n",
       "      <th>2013-01-05</th>\n",
       "      <td>-0.135329</td>\n",
       "      <td>0.335435</td>\n",
       "      <td>-1.512973</td>\n",
       "      <td>0.156743</td>\n",
       "      <td>four</td>\n",
       "    </tr>\n",
       "    <tr>\n",
       "      <th>2013-01-06</th>\n",
       "      <td>0.781519</td>\n",
       "      <td>-0.879650</td>\n",
       "      <td>1.215830</td>\n",
       "      <td>1.746863</td>\n",
       "      <td>three</td>\n",
       "    </tr>\n",
       "  </tbody>\n",
       "</table>\n",
       "</div>"
      ],
      "text/plain": [
       "                   A         B         C         D      E\n",
       "2013-01-01 -0.311892 -0.501616 -0.441525  0.432368    one\n",
       "2013-01-02  0.686605  0.306992  0.389648  1.755639    one\n",
       "2013-01-03 -1.484379  0.581990 -2.346726 -0.736903    two\n",
       "2013-01-04  0.887609  1.115376 -0.704424 -1.692277  three\n",
       "2013-01-05 -0.135329  0.335435 -1.512973  0.156743   four\n",
       "2013-01-06  0.781519 -0.879650  1.215830  1.746863  three"
      ]
     },
     "execution_count": 42,
     "metadata": {},
     "output_type": "execute_result"
    }
   ],
   "source": [
    "df2"
   ]
  },
  {
   "cell_type": "code",
   "execution_count": 43,
   "metadata": {},
   "outputs": [
    {
     "data": {
      "text/html": [
       "<div>\n",
       "<style>\n",
       "    .dataframe thead tr:only-child th {\n",
       "        text-align: right;\n",
       "    }\n",
       "\n",
       "    .dataframe thead th {\n",
       "        text-align: left;\n",
       "    }\n",
       "\n",
       "    .dataframe tbody tr th {\n",
       "        vertical-align: top;\n",
       "    }\n",
       "</style>\n",
       "<table border=\"1\" class=\"dataframe\">\n",
       "  <thead>\n",
       "    <tr style=\"text-align: right;\">\n",
       "      <th></th>\n",
       "      <th>A</th>\n",
       "      <th>B</th>\n",
       "      <th>C</th>\n",
       "      <th>D</th>\n",
       "      <th>E</th>\n",
       "    </tr>\n",
       "  </thead>\n",
       "  <tbody>\n",
       "    <tr>\n",
       "      <th>2013-01-03</th>\n",
       "      <td>-1.484379</td>\n",
       "      <td>0.581990</td>\n",
       "      <td>-2.346726</td>\n",
       "      <td>-0.736903</td>\n",
       "      <td>two</td>\n",
       "    </tr>\n",
       "    <tr>\n",
       "      <th>2013-01-05</th>\n",
       "      <td>-0.135329</td>\n",
       "      <td>0.335435</td>\n",
       "      <td>-1.512973</td>\n",
       "      <td>0.156743</td>\n",
       "      <td>four</td>\n",
       "    </tr>\n",
       "  </tbody>\n",
       "</table>\n",
       "</div>"
      ],
      "text/plain": [
       "                   A         B         C         D     E\n",
       "2013-01-03 -1.484379  0.581990 -2.346726 -0.736903   two\n",
       "2013-01-05 -0.135329  0.335435 -1.512973  0.156743  four"
      ]
     },
     "execution_count": 43,
     "metadata": {},
     "output_type": "execute_result"
    }
   ],
   "source": [
    "df2[df2['E'].isin(['two', 'four'])]"
   ]
  },
  {
   "cell_type": "markdown",
   "metadata": {},
   "source": [
    "# 赋值"
   ]
  },
  {
   "cell_type": "markdown",
   "metadata": {},
   "source": [
    "### 赋值一个新列, 通过索引自动对齐数据:"
   ]
  },
  {
   "cell_type": "code",
   "execution_count": 44,
   "metadata": {},
   "outputs": [],
   "source": [
    "s1 = pd.Series([1, 2, 3, 4, 5, 6], index=pd.date_range('20130102', periods=6))"
   ]
  },
  {
   "cell_type": "code",
   "execution_count": 45,
   "metadata": {},
   "outputs": [
    {
     "data": {
      "text/plain": [
       "2013-01-02    1\n",
       "2013-01-03    2\n",
       "2013-01-04    3\n",
       "2013-01-05    4\n",
       "2013-01-06    5\n",
       "2013-01-07    6\n",
       "Freq: D, dtype: int64"
      ]
     },
     "execution_count": 45,
     "metadata": {},
     "output_type": "execute_result"
    }
   ],
   "source": [
    "s1"
   ]
  },
  {
   "cell_type": "code",
   "execution_count": 46,
   "metadata": {},
   "outputs": [],
   "source": [
    "df['F'] = s1"
   ]
  },
  {
   "cell_type": "code",
   "execution_count": 47,
   "metadata": {},
   "outputs": [
    {
     "data": {
      "text/html": [
       "<div>\n",
       "<style>\n",
       "    .dataframe thead tr:only-child th {\n",
       "        text-align: right;\n",
       "    }\n",
       "\n",
       "    .dataframe thead th {\n",
       "        text-align: left;\n",
       "    }\n",
       "\n",
       "    .dataframe tbody tr th {\n",
       "        vertical-align: top;\n",
       "    }\n",
       "</style>\n",
       "<table border=\"1\" class=\"dataframe\">\n",
       "  <thead>\n",
       "    <tr style=\"text-align: right;\">\n",
       "      <th></th>\n",
       "      <th>A</th>\n",
       "      <th>B</th>\n",
       "      <th>C</th>\n",
       "      <th>D</th>\n",
       "      <th>F</th>\n",
       "    </tr>\n",
       "  </thead>\n",
       "  <tbody>\n",
       "    <tr>\n",
       "      <th>2013-01-01</th>\n",
       "      <td>-0.311892</td>\n",
       "      <td>-0.501616</td>\n",
       "      <td>-0.441525</td>\n",
       "      <td>0.432368</td>\n",
       "      <td>NaN</td>\n",
       "    </tr>\n",
       "    <tr>\n",
       "      <th>2013-01-02</th>\n",
       "      <td>0.686605</td>\n",
       "      <td>0.306992</td>\n",
       "      <td>0.389648</td>\n",
       "      <td>1.755639</td>\n",
       "      <td>1.0</td>\n",
       "    </tr>\n",
       "    <tr>\n",
       "      <th>2013-01-03</th>\n",
       "      <td>-1.484379</td>\n",
       "      <td>0.581990</td>\n",
       "      <td>-2.346726</td>\n",
       "      <td>-0.736903</td>\n",
       "      <td>2.0</td>\n",
       "    </tr>\n",
       "    <tr>\n",
       "      <th>2013-01-04</th>\n",
       "      <td>0.887609</td>\n",
       "      <td>1.115376</td>\n",
       "      <td>-0.704424</td>\n",
       "      <td>-1.692277</td>\n",
       "      <td>3.0</td>\n",
       "    </tr>\n",
       "    <tr>\n",
       "      <th>2013-01-05</th>\n",
       "      <td>-0.135329</td>\n",
       "      <td>0.335435</td>\n",
       "      <td>-1.512973</td>\n",
       "      <td>0.156743</td>\n",
       "      <td>4.0</td>\n",
       "    </tr>\n",
       "    <tr>\n",
       "      <th>2013-01-06</th>\n",
       "      <td>0.781519</td>\n",
       "      <td>-0.879650</td>\n",
       "      <td>1.215830</td>\n",
       "      <td>1.746863</td>\n",
       "      <td>5.0</td>\n",
       "    </tr>\n",
       "  </tbody>\n",
       "</table>\n",
       "</div>"
      ],
      "text/plain": [
       "                   A         B         C         D    F\n",
       "2013-01-01 -0.311892 -0.501616 -0.441525  0.432368  NaN\n",
       "2013-01-02  0.686605  0.306992  0.389648  1.755639  1.0\n",
       "2013-01-03 -1.484379  0.581990 -2.346726 -0.736903  2.0\n",
       "2013-01-04  0.887609  1.115376 -0.704424 -1.692277  3.0\n",
       "2013-01-05 -0.135329  0.335435 -1.512973  0.156743  4.0\n",
       "2013-01-06  0.781519 -0.879650  1.215830  1.746863  5.0"
      ]
     },
     "execution_count": 47,
     "metadata": {},
     "output_type": "execute_result"
    }
   ],
   "source": [
    "df"
   ]
  },
  {
   "cell_type": "markdown",
   "metadata": {},
   "source": [
    "### 按标签赋值:"
   ]
  },
  {
   "cell_type": "code",
   "execution_count": 48,
   "metadata": {},
   "outputs": [],
   "source": [
    "df.at[dates[0], 'A'] = 0"
   ]
  },
  {
   "cell_type": "code",
   "execution_count": 49,
   "metadata": {},
   "outputs": [
    {
     "data": {
      "text/html": [
       "<div>\n",
       "<style>\n",
       "    .dataframe thead tr:only-child th {\n",
       "        text-align: right;\n",
       "    }\n",
       "\n",
       "    .dataframe thead th {\n",
       "        text-align: left;\n",
       "    }\n",
       "\n",
       "    .dataframe tbody tr th {\n",
       "        vertical-align: top;\n",
       "    }\n",
       "</style>\n",
       "<table border=\"1\" class=\"dataframe\">\n",
       "  <thead>\n",
       "    <tr style=\"text-align: right;\">\n",
       "      <th></th>\n",
       "      <th>A</th>\n",
       "      <th>B</th>\n",
       "      <th>C</th>\n",
       "      <th>D</th>\n",
       "      <th>F</th>\n",
       "    </tr>\n",
       "  </thead>\n",
       "  <tbody>\n",
       "    <tr>\n",
       "      <th>2013-01-01</th>\n",
       "      <td>0.000000</td>\n",
       "      <td>-0.501616</td>\n",
       "      <td>-0.441525</td>\n",
       "      <td>0.432368</td>\n",
       "      <td>NaN</td>\n",
       "    </tr>\n",
       "    <tr>\n",
       "      <th>2013-01-02</th>\n",
       "      <td>0.686605</td>\n",
       "      <td>0.306992</td>\n",
       "      <td>0.389648</td>\n",
       "      <td>1.755639</td>\n",
       "      <td>1.0</td>\n",
       "    </tr>\n",
       "    <tr>\n",
       "      <th>2013-01-03</th>\n",
       "      <td>-1.484379</td>\n",
       "      <td>0.581990</td>\n",
       "      <td>-2.346726</td>\n",
       "      <td>-0.736903</td>\n",
       "      <td>2.0</td>\n",
       "    </tr>\n",
       "    <tr>\n",
       "      <th>2013-01-04</th>\n",
       "      <td>0.887609</td>\n",
       "      <td>1.115376</td>\n",
       "      <td>-0.704424</td>\n",
       "      <td>-1.692277</td>\n",
       "      <td>3.0</td>\n",
       "    </tr>\n",
       "    <tr>\n",
       "      <th>2013-01-05</th>\n",
       "      <td>-0.135329</td>\n",
       "      <td>0.335435</td>\n",
       "      <td>-1.512973</td>\n",
       "      <td>0.156743</td>\n",
       "      <td>4.0</td>\n",
       "    </tr>\n",
       "    <tr>\n",
       "      <th>2013-01-06</th>\n",
       "      <td>0.781519</td>\n",
       "      <td>-0.879650</td>\n",
       "      <td>1.215830</td>\n",
       "      <td>1.746863</td>\n",
       "      <td>5.0</td>\n",
       "    </tr>\n",
       "  </tbody>\n",
       "</table>\n",
       "</div>"
      ],
      "text/plain": [
       "                   A         B         C         D    F\n",
       "2013-01-01  0.000000 -0.501616 -0.441525  0.432368  NaN\n",
       "2013-01-02  0.686605  0.306992  0.389648  1.755639  1.0\n",
       "2013-01-03 -1.484379  0.581990 -2.346726 -0.736903  2.0\n",
       "2013-01-04  0.887609  1.115376 -0.704424 -1.692277  3.0\n",
       "2013-01-05 -0.135329  0.335435 -1.512973  0.156743  4.0\n",
       "2013-01-06  0.781519 -0.879650  1.215830  1.746863  5.0"
      ]
     },
     "execution_count": 49,
     "metadata": {},
     "output_type": "execute_result"
    }
   ],
   "source": [
    "df"
   ]
  },
  {
   "cell_type": "markdown",
   "metadata": {},
   "source": [
    "### 按位置赋值:"
   ]
  },
  {
   "cell_type": "code",
   "execution_count": 50,
   "metadata": {},
   "outputs": [],
   "source": [
    "df.iat[0, 1] = 0"
   ]
  },
  {
   "cell_type": "code",
   "execution_count": 51,
   "metadata": {},
   "outputs": [
    {
     "data": {
      "text/html": [
       "<div>\n",
       "<style>\n",
       "    .dataframe thead tr:only-child th {\n",
       "        text-align: right;\n",
       "    }\n",
       "\n",
       "    .dataframe thead th {\n",
       "        text-align: left;\n",
       "    }\n",
       "\n",
       "    .dataframe tbody tr th {\n",
       "        vertical-align: top;\n",
       "    }\n",
       "</style>\n",
       "<table border=\"1\" class=\"dataframe\">\n",
       "  <thead>\n",
       "    <tr style=\"text-align: right;\">\n",
       "      <th></th>\n",
       "      <th>A</th>\n",
       "      <th>B</th>\n",
       "      <th>C</th>\n",
       "      <th>D</th>\n",
       "      <th>F</th>\n",
       "    </tr>\n",
       "  </thead>\n",
       "  <tbody>\n",
       "    <tr>\n",
       "      <th>2013-01-01</th>\n",
       "      <td>0.000000</td>\n",
       "      <td>0.000000</td>\n",
       "      <td>-0.441525</td>\n",
       "      <td>0.432368</td>\n",
       "      <td>NaN</td>\n",
       "    </tr>\n",
       "    <tr>\n",
       "      <th>2013-01-02</th>\n",
       "      <td>0.686605</td>\n",
       "      <td>0.306992</td>\n",
       "      <td>0.389648</td>\n",
       "      <td>1.755639</td>\n",
       "      <td>1.0</td>\n",
       "    </tr>\n",
       "    <tr>\n",
       "      <th>2013-01-03</th>\n",
       "      <td>-1.484379</td>\n",
       "      <td>0.581990</td>\n",
       "      <td>-2.346726</td>\n",
       "      <td>-0.736903</td>\n",
       "      <td>2.0</td>\n",
       "    </tr>\n",
       "    <tr>\n",
       "      <th>2013-01-04</th>\n",
       "      <td>0.887609</td>\n",
       "      <td>1.115376</td>\n",
       "      <td>-0.704424</td>\n",
       "      <td>-1.692277</td>\n",
       "      <td>3.0</td>\n",
       "    </tr>\n",
       "    <tr>\n",
       "      <th>2013-01-05</th>\n",
       "      <td>-0.135329</td>\n",
       "      <td>0.335435</td>\n",
       "      <td>-1.512973</td>\n",
       "      <td>0.156743</td>\n",
       "      <td>4.0</td>\n",
       "    </tr>\n",
       "    <tr>\n",
       "      <th>2013-01-06</th>\n",
       "      <td>0.781519</td>\n",
       "      <td>-0.879650</td>\n",
       "      <td>1.215830</td>\n",
       "      <td>1.746863</td>\n",
       "      <td>5.0</td>\n",
       "    </tr>\n",
       "  </tbody>\n",
       "</table>\n",
       "</div>"
      ],
      "text/plain": [
       "                   A         B         C         D    F\n",
       "2013-01-01  0.000000  0.000000 -0.441525  0.432368  NaN\n",
       "2013-01-02  0.686605  0.306992  0.389648  1.755639  1.0\n",
       "2013-01-03 -1.484379  0.581990 -2.346726 -0.736903  2.0\n",
       "2013-01-04  0.887609  1.115376 -0.704424 -1.692277  3.0\n",
       "2013-01-05 -0.135329  0.335435 -1.512973  0.156743  4.0\n",
       "2013-01-06  0.781519 -0.879650  1.215830  1.746863  5.0"
      ]
     },
     "execution_count": 51,
     "metadata": {},
     "output_type": "execute_result"
    }
   ],
   "source": [
    "df"
   ]
  },
  {
   "cell_type": "markdown",
   "metadata": {},
   "source": [
    "### 通过 numpy 数组分配赋值:"
   ]
  },
  {
   "cell_type": "code",
   "execution_count": 52,
   "metadata": {},
   "outputs": [],
   "source": [
    "df.loc[:, 'D'] = np.array([5] * len(df))"
   ]
  },
  {
   "cell_type": "code",
   "execution_count": 53,
   "metadata": {},
   "outputs": [
    {
     "data": {
      "text/html": [
       "<div>\n",
       "<style>\n",
       "    .dataframe thead tr:only-child th {\n",
       "        text-align: right;\n",
       "    }\n",
       "\n",
       "    .dataframe thead th {\n",
       "        text-align: left;\n",
       "    }\n",
       "\n",
       "    .dataframe tbody tr th {\n",
       "        vertical-align: top;\n",
       "    }\n",
       "</style>\n",
       "<table border=\"1\" class=\"dataframe\">\n",
       "  <thead>\n",
       "    <tr style=\"text-align: right;\">\n",
       "      <th></th>\n",
       "      <th>A</th>\n",
       "      <th>B</th>\n",
       "      <th>C</th>\n",
       "      <th>D</th>\n",
       "      <th>F</th>\n",
       "    </tr>\n",
       "  </thead>\n",
       "  <tbody>\n",
       "    <tr>\n",
       "      <th>2013-01-01</th>\n",
       "      <td>0.000000</td>\n",
       "      <td>0.000000</td>\n",
       "      <td>-0.441525</td>\n",
       "      <td>5</td>\n",
       "      <td>NaN</td>\n",
       "    </tr>\n",
       "    <tr>\n",
       "      <th>2013-01-02</th>\n",
       "      <td>0.686605</td>\n",
       "      <td>0.306992</td>\n",
       "      <td>0.389648</td>\n",
       "      <td>5</td>\n",
       "      <td>1.0</td>\n",
       "    </tr>\n",
       "    <tr>\n",
       "      <th>2013-01-03</th>\n",
       "      <td>-1.484379</td>\n",
       "      <td>0.581990</td>\n",
       "      <td>-2.346726</td>\n",
       "      <td>5</td>\n",
       "      <td>2.0</td>\n",
       "    </tr>\n",
       "    <tr>\n",
       "      <th>2013-01-04</th>\n",
       "      <td>0.887609</td>\n",
       "      <td>1.115376</td>\n",
       "      <td>-0.704424</td>\n",
       "      <td>5</td>\n",
       "      <td>3.0</td>\n",
       "    </tr>\n",
       "    <tr>\n",
       "      <th>2013-01-05</th>\n",
       "      <td>-0.135329</td>\n",
       "      <td>0.335435</td>\n",
       "      <td>-1.512973</td>\n",
       "      <td>5</td>\n",
       "      <td>4.0</td>\n",
       "    </tr>\n",
       "    <tr>\n",
       "      <th>2013-01-06</th>\n",
       "      <td>0.781519</td>\n",
       "      <td>-0.879650</td>\n",
       "      <td>1.215830</td>\n",
       "      <td>5</td>\n",
       "      <td>5.0</td>\n",
       "    </tr>\n",
       "  </tbody>\n",
       "</table>\n",
       "</div>"
      ],
      "text/plain": [
       "                   A         B         C  D    F\n",
       "2013-01-01  0.000000  0.000000 -0.441525  5  NaN\n",
       "2013-01-02  0.686605  0.306992  0.389648  5  1.0\n",
       "2013-01-03 -1.484379  0.581990 -2.346726  5  2.0\n",
       "2013-01-04  0.887609  1.115376 -0.704424  5  3.0\n",
       "2013-01-05 -0.135329  0.335435 -1.512973  5  4.0\n",
       "2013-01-06  0.781519 -0.879650  1.215830  5  5.0"
      ]
     },
     "execution_count": 53,
     "metadata": {},
     "output_type": "execute_result"
    }
   ],
   "source": [
    "df"
   ]
  },
  {
   "cell_type": "markdown",
   "metadata": {},
   "source": [
    "### where 操作赋值:"
   ]
  },
  {
   "cell_type": "code",
   "execution_count": 54,
   "metadata": {},
   "outputs": [],
   "source": [
    "df2 = df.copy()"
   ]
  },
  {
   "cell_type": "code",
   "execution_count": 55,
   "metadata": {
    "collapsed": true
   },
   "outputs": [],
   "source": [
    "df2[df2 > 0] = -df2"
   ]
  },
  {
   "cell_type": "code",
   "execution_count": 56,
   "metadata": {},
   "outputs": [
    {
     "data": {
      "text/html": [
       "<div>\n",
       "<style>\n",
       "    .dataframe thead tr:only-child th {\n",
       "        text-align: right;\n",
       "    }\n",
       "\n",
       "    .dataframe thead th {\n",
       "        text-align: left;\n",
       "    }\n",
       "\n",
       "    .dataframe tbody tr th {\n",
       "        vertical-align: top;\n",
       "    }\n",
       "</style>\n",
       "<table border=\"1\" class=\"dataframe\">\n",
       "  <thead>\n",
       "    <tr style=\"text-align: right;\">\n",
       "      <th></th>\n",
       "      <th>A</th>\n",
       "      <th>B</th>\n",
       "      <th>C</th>\n",
       "      <th>D</th>\n",
       "      <th>F</th>\n",
       "    </tr>\n",
       "  </thead>\n",
       "  <tbody>\n",
       "    <tr>\n",
       "      <th>2013-01-01</th>\n",
       "      <td>0.000000</td>\n",
       "      <td>0.000000</td>\n",
       "      <td>-0.441525</td>\n",
       "      <td>-5</td>\n",
       "      <td>NaN</td>\n",
       "    </tr>\n",
       "    <tr>\n",
       "      <th>2013-01-02</th>\n",
       "      <td>-0.686605</td>\n",
       "      <td>-0.306992</td>\n",
       "      <td>-0.389648</td>\n",
       "      <td>-5</td>\n",
       "      <td>-1.0</td>\n",
       "    </tr>\n",
       "    <tr>\n",
       "      <th>2013-01-03</th>\n",
       "      <td>-1.484379</td>\n",
       "      <td>-0.581990</td>\n",
       "      <td>-2.346726</td>\n",
       "      <td>-5</td>\n",
       "      <td>-2.0</td>\n",
       "    </tr>\n",
       "    <tr>\n",
       "      <th>2013-01-04</th>\n",
       "      <td>-0.887609</td>\n",
       "      <td>-1.115376</td>\n",
       "      <td>-0.704424</td>\n",
       "      <td>-5</td>\n",
       "      <td>-3.0</td>\n",
       "    </tr>\n",
       "    <tr>\n",
       "      <th>2013-01-05</th>\n",
       "      <td>-0.135329</td>\n",
       "      <td>-0.335435</td>\n",
       "      <td>-1.512973</td>\n",
       "      <td>-5</td>\n",
       "      <td>-4.0</td>\n",
       "    </tr>\n",
       "    <tr>\n",
       "      <th>2013-01-06</th>\n",
       "      <td>-0.781519</td>\n",
       "      <td>-0.879650</td>\n",
       "      <td>-1.215830</td>\n",
       "      <td>-5</td>\n",
       "      <td>-5.0</td>\n",
       "    </tr>\n",
       "  </tbody>\n",
       "</table>\n",
       "</div>"
      ],
      "text/plain": [
       "                   A         B         C  D    F\n",
       "2013-01-01  0.000000  0.000000 -0.441525 -5  NaN\n",
       "2013-01-02 -0.686605 -0.306992 -0.389648 -5 -1.0\n",
       "2013-01-03 -1.484379 -0.581990 -2.346726 -5 -2.0\n",
       "2013-01-04 -0.887609 -1.115376 -0.704424 -5 -3.0\n",
       "2013-01-05 -0.135329 -0.335435 -1.512973 -5 -4.0\n",
       "2013-01-06 -0.781519 -0.879650 -1.215830 -5 -5.0"
      ]
     },
     "execution_count": 56,
     "metadata": {},
     "output_type": "execute_result"
    }
   ],
   "source": [
    "df2"
   ]
  },
  {
   "cell_type": "markdown",
   "metadata": {},
   "source": [
    "# 丢失的数据"
   ]
  },
  {
   "cell_type": "markdown",
   "metadata": {},
   "source": [
    "pandas 主要使用 np.nan 替换丢失的数据. 默认情况下它并不包含在计算中."
   ]
  },
  {
   "cell_type": "markdown",
   "metadata": {},
   "source": [
    "### 重建索引允许 更改/添加/删除 指定指定轴索引, 并返回数据副本:"
   ]
  },
  {
   "cell_type": "code",
   "execution_count": 57,
   "metadata": {},
   "outputs": [],
   "source": [
    "df1 = df.reindex(index=dates[0:4], columns=list(df.columns) + ['E'])"
   ]
  },
  {
   "cell_type": "code",
   "execution_count": 58,
   "metadata": {
    "collapsed": true
   },
   "outputs": [],
   "source": [
    "df1.loc[dates[0]: dates[1], 'E'] = 1"
   ]
  },
  {
   "cell_type": "code",
   "execution_count": 59,
   "metadata": {},
   "outputs": [
    {
     "data": {
      "text/html": [
       "<div>\n",
       "<style>\n",
       "    .dataframe thead tr:only-child th {\n",
       "        text-align: right;\n",
       "    }\n",
       "\n",
       "    .dataframe thead th {\n",
       "        text-align: left;\n",
       "    }\n",
       "\n",
       "    .dataframe tbody tr th {\n",
       "        vertical-align: top;\n",
       "    }\n",
       "</style>\n",
       "<table border=\"1\" class=\"dataframe\">\n",
       "  <thead>\n",
       "    <tr style=\"text-align: right;\">\n",
       "      <th></th>\n",
       "      <th>A</th>\n",
       "      <th>B</th>\n",
       "      <th>C</th>\n",
       "      <th>D</th>\n",
       "      <th>F</th>\n",
       "      <th>E</th>\n",
       "    </tr>\n",
       "  </thead>\n",
       "  <tbody>\n",
       "    <tr>\n",
       "      <th>2013-01-01</th>\n",
       "      <td>0.000000</td>\n",
       "      <td>0.000000</td>\n",
       "      <td>-0.441525</td>\n",
       "      <td>5</td>\n",
       "      <td>NaN</td>\n",
       "      <td>1.0</td>\n",
       "    </tr>\n",
       "    <tr>\n",
       "      <th>2013-01-02</th>\n",
       "      <td>0.686605</td>\n",
       "      <td>0.306992</td>\n",
       "      <td>0.389648</td>\n",
       "      <td>5</td>\n",
       "      <td>1.0</td>\n",
       "      <td>1.0</td>\n",
       "    </tr>\n",
       "    <tr>\n",
       "      <th>2013-01-03</th>\n",
       "      <td>-1.484379</td>\n",
       "      <td>0.581990</td>\n",
       "      <td>-2.346726</td>\n",
       "      <td>5</td>\n",
       "      <td>2.0</td>\n",
       "      <td>NaN</td>\n",
       "    </tr>\n",
       "    <tr>\n",
       "      <th>2013-01-04</th>\n",
       "      <td>0.887609</td>\n",
       "      <td>1.115376</td>\n",
       "      <td>-0.704424</td>\n",
       "      <td>5</td>\n",
       "      <td>3.0</td>\n",
       "      <td>NaN</td>\n",
       "    </tr>\n",
       "  </tbody>\n",
       "</table>\n",
       "</div>"
      ],
      "text/plain": [
       "                   A         B         C  D    F    E\n",
       "2013-01-01  0.000000  0.000000 -0.441525  5  NaN  1.0\n",
       "2013-01-02  0.686605  0.306992  0.389648  5  1.0  1.0\n",
       "2013-01-03 -1.484379  0.581990 -2.346726  5  2.0  NaN\n",
       "2013-01-04  0.887609  1.115376 -0.704424  5  3.0  NaN"
      ]
     },
     "execution_count": 59,
     "metadata": {},
     "output_type": "execute_result"
    }
   ],
   "source": [
    "df1"
   ]
  },
  {
   "cell_type": "markdown",
   "metadata": {},
   "source": [
    "### 删除任何有丢失数据的行:"
   ]
  },
  {
   "cell_type": "code",
   "execution_count": 60,
   "metadata": {},
   "outputs": [
    {
     "data": {
      "text/html": [
       "<div>\n",
       "<style>\n",
       "    .dataframe thead tr:only-child th {\n",
       "        text-align: right;\n",
       "    }\n",
       "\n",
       "    .dataframe thead th {\n",
       "        text-align: left;\n",
       "    }\n",
       "\n",
       "    .dataframe tbody tr th {\n",
       "        vertical-align: top;\n",
       "    }\n",
       "</style>\n",
       "<table border=\"1\" class=\"dataframe\">\n",
       "  <thead>\n",
       "    <tr style=\"text-align: right;\">\n",
       "      <th></th>\n",
       "      <th>A</th>\n",
       "      <th>B</th>\n",
       "      <th>C</th>\n",
       "      <th>D</th>\n",
       "      <th>F</th>\n",
       "      <th>E</th>\n",
       "    </tr>\n",
       "  </thead>\n",
       "  <tbody>\n",
       "    <tr>\n",
       "      <th>2013-01-02</th>\n",
       "      <td>0.686605</td>\n",
       "      <td>0.306992</td>\n",
       "      <td>0.389648</td>\n",
       "      <td>5</td>\n",
       "      <td>1.0</td>\n",
       "      <td>1.0</td>\n",
       "    </tr>\n",
       "  </tbody>\n",
       "</table>\n",
       "</div>"
      ],
      "text/plain": [
       "                   A         B         C  D    F    E\n",
       "2013-01-02  0.686605  0.306992  0.389648  5  1.0  1.0"
      ]
     },
     "execution_count": 60,
     "metadata": {},
     "output_type": "execute_result"
    }
   ],
   "source": [
    "df1.dropna(how='any')"
   ]
  },
  {
   "cell_type": "markdown",
   "metadata": {},
   "source": [
    "### 填充丢失数据:"
   ]
  },
  {
   "cell_type": "code",
   "execution_count": 61,
   "metadata": {},
   "outputs": [
    {
     "data": {
      "text/html": [
       "<div>\n",
       "<style>\n",
       "    .dataframe thead tr:only-child th {\n",
       "        text-align: right;\n",
       "    }\n",
       "\n",
       "    .dataframe thead th {\n",
       "        text-align: left;\n",
       "    }\n",
       "\n",
       "    .dataframe tbody tr th {\n",
       "        vertical-align: top;\n",
       "    }\n",
       "</style>\n",
       "<table border=\"1\" class=\"dataframe\">\n",
       "  <thead>\n",
       "    <tr style=\"text-align: right;\">\n",
       "      <th></th>\n",
       "      <th>A</th>\n",
       "      <th>B</th>\n",
       "      <th>C</th>\n",
       "      <th>D</th>\n",
       "      <th>F</th>\n",
       "      <th>E</th>\n",
       "    </tr>\n",
       "  </thead>\n",
       "  <tbody>\n",
       "    <tr>\n",
       "      <th>2013-01-01</th>\n",
       "      <td>0.000000</td>\n",
       "      <td>0.000000</td>\n",
       "      <td>-0.441525</td>\n",
       "      <td>5</td>\n",
       "      <td>5.0</td>\n",
       "      <td>1.0</td>\n",
       "    </tr>\n",
       "    <tr>\n",
       "      <th>2013-01-02</th>\n",
       "      <td>0.686605</td>\n",
       "      <td>0.306992</td>\n",
       "      <td>0.389648</td>\n",
       "      <td>5</td>\n",
       "      <td>1.0</td>\n",
       "      <td>1.0</td>\n",
       "    </tr>\n",
       "    <tr>\n",
       "      <th>2013-01-03</th>\n",
       "      <td>-1.484379</td>\n",
       "      <td>0.581990</td>\n",
       "      <td>-2.346726</td>\n",
       "      <td>5</td>\n",
       "      <td>2.0</td>\n",
       "      <td>5.0</td>\n",
       "    </tr>\n",
       "    <tr>\n",
       "      <th>2013-01-04</th>\n",
       "      <td>0.887609</td>\n",
       "      <td>1.115376</td>\n",
       "      <td>-0.704424</td>\n",
       "      <td>5</td>\n",
       "      <td>3.0</td>\n",
       "      <td>5.0</td>\n",
       "    </tr>\n",
       "  </tbody>\n",
       "</table>\n",
       "</div>"
      ],
      "text/plain": [
       "                   A         B         C  D    F    E\n",
       "2013-01-01  0.000000  0.000000 -0.441525  5  5.0  1.0\n",
       "2013-01-02  0.686605  0.306992  0.389648  5  1.0  1.0\n",
       "2013-01-03 -1.484379  0.581990 -2.346726  5  2.0  5.0\n",
       "2013-01-04  0.887609  1.115376 -0.704424  5  3.0  5.0"
      ]
     },
     "execution_count": 61,
     "metadata": {},
     "output_type": "execute_result"
    }
   ],
   "source": [
    "df1.fillna(value=5)"
   ]
  },
  {
   "cell_type": "markdown",
   "metadata": {},
   "source": [
    "### 获取值是否为 nana 的布尔标记:"
   ]
  },
  {
   "cell_type": "code",
   "execution_count": 62,
   "metadata": {},
   "outputs": [
    {
     "data": {
      "text/html": [
       "<div>\n",
       "<style>\n",
       "    .dataframe thead tr:only-child th {\n",
       "        text-align: right;\n",
       "    }\n",
       "\n",
       "    .dataframe thead th {\n",
       "        text-align: left;\n",
       "    }\n",
       "\n",
       "    .dataframe tbody tr th {\n",
       "        vertical-align: top;\n",
       "    }\n",
       "</style>\n",
       "<table border=\"1\" class=\"dataframe\">\n",
       "  <thead>\n",
       "    <tr style=\"text-align: right;\">\n",
       "      <th></th>\n",
       "      <th>A</th>\n",
       "      <th>B</th>\n",
       "      <th>C</th>\n",
       "      <th>D</th>\n",
       "      <th>F</th>\n",
       "      <th>E</th>\n",
       "    </tr>\n",
       "  </thead>\n",
       "  <tbody>\n",
       "    <tr>\n",
       "      <th>2013-01-01</th>\n",
       "      <td>False</td>\n",
       "      <td>False</td>\n",
       "      <td>False</td>\n",
       "      <td>False</td>\n",
       "      <td>True</td>\n",
       "      <td>False</td>\n",
       "    </tr>\n",
       "    <tr>\n",
       "      <th>2013-01-02</th>\n",
       "      <td>False</td>\n",
       "      <td>False</td>\n",
       "      <td>False</td>\n",
       "      <td>False</td>\n",
       "      <td>False</td>\n",
       "      <td>False</td>\n",
       "    </tr>\n",
       "    <tr>\n",
       "      <th>2013-01-03</th>\n",
       "      <td>False</td>\n",
       "      <td>False</td>\n",
       "      <td>False</td>\n",
       "      <td>False</td>\n",
       "      <td>False</td>\n",
       "      <td>True</td>\n",
       "    </tr>\n",
       "    <tr>\n",
       "      <th>2013-01-04</th>\n",
       "      <td>False</td>\n",
       "      <td>False</td>\n",
       "      <td>False</td>\n",
       "      <td>False</td>\n",
       "      <td>False</td>\n",
       "      <td>True</td>\n",
       "    </tr>\n",
       "  </tbody>\n",
       "</table>\n",
       "</div>"
      ],
      "text/plain": [
       "                A      B      C      D      F      E\n",
       "2013-01-01  False  False  False  False   True  False\n",
       "2013-01-02  False  False  False  False  False  False\n",
       "2013-01-03  False  False  False  False  False   True\n",
       "2013-01-04  False  False  False  False  False   True"
      ]
     },
     "execution_count": 62,
     "metadata": {},
     "output_type": "execute_result"
    }
   ],
   "source": [
    " pd.isnull(df1)"
   ]
  },
  {
   "cell_type": "markdown",
   "metadata": {},
   "source": [
    "# 运算"
   ]
  },
  {
   "cell_type": "markdown",
   "metadata": {},
   "source": [
    "## 统计\n",
    "计算时一般不包括丢失的数据"
   ]
  },
  {
   "cell_type": "markdown",
   "metadata": {},
   "source": [
    "### 在 index 轴上计算均值:"
   ]
  },
  {
   "cell_type": "code",
   "execution_count": 63,
   "metadata": {},
   "outputs": [
    {
     "data": {
      "text/plain": [
       "A    0.122671\n",
       "B    0.243357\n",
       "C   -0.566695\n",
       "D    5.000000\n",
       "F    3.000000\n",
       "dtype: float64"
      ]
     },
     "execution_count": 63,
     "metadata": {},
     "output_type": "execute_result"
    }
   ],
   "source": [
    "df.mean()  # axis参数默认为0, 表示 index 轴"
   ]
  },
  {
   "cell_type": "markdown",
   "metadata": {},
   "source": [
    "### 在 column 轴上计算均值:"
   ]
  },
  {
   "cell_type": "code",
   "execution_count": 64,
   "metadata": {},
   "outputs": [
    {
     "data": {
      "text/plain": [
       "2013-01-01    1.139619\n",
       "2013-01-02    1.476649\n",
       "2013-01-03    0.750177\n",
       "2013-01-04    1.859712\n",
       "2013-01-05    1.537427\n",
       "2013-01-06    2.223540\n",
       "Freq: D, dtype: float64"
      ]
     },
     "execution_count": 64,
     "metadata": {},
     "output_type": "execute_result"
    }
   ],
   "source": [
    "df.mean(axis=1)"
   ]
  },
  {
   "cell_type": "markdown",
   "metadata": {},
   "source": [
    "### 用于运算的对象有不同维度并需要对齐. 除此之外, pandas 会自动沿着指定维度计算:"
   ]
  },
  {
   "cell_type": "code",
   "execution_count": 65,
   "metadata": {},
   "outputs": [],
   "source": [
    "s = pd.Series([1, 3, 5, np.nan, 6, 8], index=dates).shift(2)"
   ]
  },
  {
   "cell_type": "code",
   "execution_count": 66,
   "metadata": {},
   "outputs": [
    {
     "data": {
      "text/plain": [
       "2013-01-01    NaN\n",
       "2013-01-02    NaN\n",
       "2013-01-03    1.0\n",
       "2013-01-04    3.0\n",
       "2013-01-05    5.0\n",
       "2013-01-06    NaN\n",
       "Freq: D, dtype: float64"
      ]
     },
     "execution_count": 66,
     "metadata": {},
     "output_type": "execute_result"
    }
   ],
   "source": [
    "s"
   ]
  },
  {
   "cell_type": "code",
   "execution_count": 67,
   "metadata": {},
   "outputs": [
    {
     "data": {
      "text/html": [
       "<div>\n",
       "<style>\n",
       "    .dataframe thead tr:only-child th {\n",
       "        text-align: right;\n",
       "    }\n",
       "\n",
       "    .dataframe thead th {\n",
       "        text-align: left;\n",
       "    }\n",
       "\n",
       "    .dataframe tbody tr th {\n",
       "        vertical-align: top;\n",
       "    }\n",
       "</style>\n",
       "<table border=\"1\" class=\"dataframe\">\n",
       "  <thead>\n",
       "    <tr style=\"text-align: right;\">\n",
       "      <th></th>\n",
       "      <th>A</th>\n",
       "      <th>B</th>\n",
       "      <th>C</th>\n",
       "      <th>D</th>\n",
       "      <th>F</th>\n",
       "    </tr>\n",
       "  </thead>\n",
       "  <tbody>\n",
       "    <tr>\n",
       "      <th>2013-01-01</th>\n",
       "      <td>0.000000</td>\n",
       "      <td>0.000000</td>\n",
       "      <td>-0.441525</td>\n",
       "      <td>5</td>\n",
       "      <td>NaN</td>\n",
       "    </tr>\n",
       "    <tr>\n",
       "      <th>2013-01-02</th>\n",
       "      <td>0.686605</td>\n",
       "      <td>0.306992</td>\n",
       "      <td>0.389648</td>\n",
       "      <td>5</td>\n",
       "      <td>1.0</td>\n",
       "    </tr>\n",
       "    <tr>\n",
       "      <th>2013-01-03</th>\n",
       "      <td>-1.484379</td>\n",
       "      <td>0.581990</td>\n",
       "      <td>-2.346726</td>\n",
       "      <td>5</td>\n",
       "      <td>2.0</td>\n",
       "    </tr>\n",
       "    <tr>\n",
       "      <th>2013-01-04</th>\n",
       "      <td>0.887609</td>\n",
       "      <td>1.115376</td>\n",
       "      <td>-0.704424</td>\n",
       "      <td>5</td>\n",
       "      <td>3.0</td>\n",
       "    </tr>\n",
       "    <tr>\n",
       "      <th>2013-01-05</th>\n",
       "      <td>-0.135329</td>\n",
       "      <td>0.335435</td>\n",
       "      <td>-1.512973</td>\n",
       "      <td>5</td>\n",
       "      <td>4.0</td>\n",
       "    </tr>\n",
       "    <tr>\n",
       "      <th>2013-01-06</th>\n",
       "      <td>0.781519</td>\n",
       "      <td>-0.879650</td>\n",
       "      <td>1.215830</td>\n",
       "      <td>5</td>\n",
       "      <td>5.0</td>\n",
       "    </tr>\n",
       "  </tbody>\n",
       "</table>\n",
       "</div>"
      ],
      "text/plain": [
       "                   A         B         C  D    F\n",
       "2013-01-01  0.000000  0.000000 -0.441525  5  NaN\n",
       "2013-01-02  0.686605  0.306992  0.389648  5  1.0\n",
       "2013-01-03 -1.484379  0.581990 -2.346726  5  2.0\n",
       "2013-01-04  0.887609  1.115376 -0.704424  5  3.0\n",
       "2013-01-05 -0.135329  0.335435 -1.512973  5  4.0\n",
       "2013-01-06  0.781519 -0.879650  1.215830  5  5.0"
      ]
     },
     "execution_count": 67,
     "metadata": {},
     "output_type": "execute_result"
    }
   ],
   "source": [
    "df"
   ]
  },
  {
   "cell_type": "code",
   "execution_count": 68,
   "metadata": {},
   "outputs": [
    {
     "data": {
      "text/html": [
       "<div>\n",
       "<style>\n",
       "    .dataframe thead tr:only-child th {\n",
       "        text-align: right;\n",
       "    }\n",
       "\n",
       "    .dataframe thead th {\n",
       "        text-align: left;\n",
       "    }\n",
       "\n",
       "    .dataframe tbody tr th {\n",
       "        vertical-align: top;\n",
       "    }\n",
       "</style>\n",
       "<table border=\"1\" class=\"dataframe\">\n",
       "  <thead>\n",
       "    <tr style=\"text-align: right;\">\n",
       "      <th></th>\n",
       "      <th>A</th>\n",
       "      <th>B</th>\n",
       "      <th>C</th>\n",
       "      <th>D</th>\n",
       "      <th>F</th>\n",
       "    </tr>\n",
       "  </thead>\n",
       "  <tbody>\n",
       "    <tr>\n",
       "      <th>2013-01-01</th>\n",
       "      <td>NaN</td>\n",
       "      <td>NaN</td>\n",
       "      <td>NaN</td>\n",
       "      <td>NaN</td>\n",
       "      <td>NaN</td>\n",
       "    </tr>\n",
       "    <tr>\n",
       "      <th>2013-01-02</th>\n",
       "      <td>NaN</td>\n",
       "      <td>NaN</td>\n",
       "      <td>NaN</td>\n",
       "      <td>NaN</td>\n",
       "      <td>NaN</td>\n",
       "    </tr>\n",
       "    <tr>\n",
       "      <th>2013-01-03</th>\n",
       "      <td>-2.484379</td>\n",
       "      <td>-0.418010</td>\n",
       "      <td>-3.346726</td>\n",
       "      <td>4.0</td>\n",
       "      <td>1.0</td>\n",
       "    </tr>\n",
       "    <tr>\n",
       "      <th>2013-01-04</th>\n",
       "      <td>-2.112391</td>\n",
       "      <td>-1.884624</td>\n",
       "      <td>-3.704424</td>\n",
       "      <td>2.0</td>\n",
       "      <td>0.0</td>\n",
       "    </tr>\n",
       "    <tr>\n",
       "      <th>2013-01-05</th>\n",
       "      <td>-5.135329</td>\n",
       "      <td>-4.664565</td>\n",
       "      <td>-6.512973</td>\n",
       "      <td>0.0</td>\n",
       "      <td>-1.0</td>\n",
       "    </tr>\n",
       "    <tr>\n",
       "      <th>2013-01-06</th>\n",
       "      <td>NaN</td>\n",
       "      <td>NaN</td>\n",
       "      <td>NaN</td>\n",
       "      <td>NaN</td>\n",
       "      <td>NaN</td>\n",
       "    </tr>\n",
       "  </tbody>\n",
       "</table>\n",
       "</div>"
      ],
      "text/plain": [
       "                   A         B         C    D    F\n",
       "2013-01-01       NaN       NaN       NaN  NaN  NaN\n",
       "2013-01-02       NaN       NaN       NaN  NaN  NaN\n",
       "2013-01-03 -2.484379 -0.418010 -3.346726  4.0  1.0\n",
       "2013-01-04 -2.112391 -1.884624 -3.704424  2.0  0.0\n",
       "2013-01-05 -5.135329 -4.664565 -6.512973  0.0 -1.0\n",
       "2013-01-06       NaN       NaN       NaN  NaN  NaN"
      ]
     },
     "execution_count": 68,
     "metadata": {},
     "output_type": "execute_result"
    }
   ],
   "source": [
    "df.sub(s, axis=0)"
   ]
  },
  {
   "cell_type": "markdown",
   "metadata": {},
   "source": [
    "## Apply"
   ]
  },
  {
   "cell_type": "markdown",
   "metadata": {},
   "source": [
    "### 在数据上使用函数:"
   ]
  },
  {
   "cell_type": "code",
   "execution_count": 69,
   "metadata": {},
   "outputs": [
    {
     "data": {
      "text/html": [
       "<div>\n",
       "<style>\n",
       "    .dataframe thead tr:only-child th {\n",
       "        text-align: right;\n",
       "    }\n",
       "\n",
       "    .dataframe thead th {\n",
       "        text-align: left;\n",
       "    }\n",
       "\n",
       "    .dataframe tbody tr th {\n",
       "        vertical-align: top;\n",
       "    }\n",
       "</style>\n",
       "<table border=\"1\" class=\"dataframe\">\n",
       "  <thead>\n",
       "    <tr style=\"text-align: right;\">\n",
       "      <th></th>\n",
       "      <th>A</th>\n",
       "      <th>B</th>\n",
       "      <th>C</th>\n",
       "      <th>D</th>\n",
       "      <th>F</th>\n",
       "    </tr>\n",
       "  </thead>\n",
       "  <tbody>\n",
       "    <tr>\n",
       "      <th>2013-01-01</th>\n",
       "      <td>0.000000</td>\n",
       "      <td>0.000000</td>\n",
       "      <td>-0.441525</td>\n",
       "      <td>5</td>\n",
       "      <td>NaN</td>\n",
       "    </tr>\n",
       "    <tr>\n",
       "      <th>2013-01-02</th>\n",
       "      <td>0.686605</td>\n",
       "      <td>0.306992</td>\n",
       "      <td>-0.051877</td>\n",
       "      <td>10</td>\n",
       "      <td>1.0</td>\n",
       "    </tr>\n",
       "    <tr>\n",
       "      <th>2013-01-03</th>\n",
       "      <td>-0.797774</td>\n",
       "      <td>0.888981</td>\n",
       "      <td>-2.398603</td>\n",
       "      <td>15</td>\n",
       "      <td>3.0</td>\n",
       "    </tr>\n",
       "    <tr>\n",
       "      <th>2013-01-04</th>\n",
       "      <td>0.089835</td>\n",
       "      <td>2.004358</td>\n",
       "      <td>-3.103027</td>\n",
       "      <td>20</td>\n",
       "      <td>6.0</td>\n",
       "    </tr>\n",
       "    <tr>\n",
       "      <th>2013-01-05</th>\n",
       "      <td>-0.045494</td>\n",
       "      <td>2.339792</td>\n",
       "      <td>-4.616000</td>\n",
       "      <td>25</td>\n",
       "      <td>10.0</td>\n",
       "    </tr>\n",
       "    <tr>\n",
       "      <th>2013-01-06</th>\n",
       "      <td>0.736025</td>\n",
       "      <td>1.460142</td>\n",
       "      <td>-3.400170</td>\n",
       "      <td>30</td>\n",
       "      <td>15.0</td>\n",
       "    </tr>\n",
       "  </tbody>\n",
       "</table>\n",
       "</div>"
      ],
      "text/plain": [
       "                   A         B         C   D     F\n",
       "2013-01-01  0.000000  0.000000 -0.441525   5   NaN\n",
       "2013-01-02  0.686605  0.306992 -0.051877  10   1.0\n",
       "2013-01-03 -0.797774  0.888981 -2.398603  15   3.0\n",
       "2013-01-04  0.089835  2.004358 -3.103027  20   6.0\n",
       "2013-01-05 -0.045494  2.339792 -4.616000  25  10.0\n",
       "2013-01-06  0.736025  1.460142 -3.400170  30  15.0"
      ]
     },
     "execution_count": 69,
     "metadata": {},
     "output_type": "execute_result"
    }
   ],
   "source": [
    "df.apply(np.cumsum)"
   ]
  },
  {
   "cell_type": "code",
   "execution_count": 70,
   "metadata": {},
   "outputs": [
    {
     "data": {
      "text/plain": [
       "A    2.371988\n",
       "B    1.995026\n",
       "C    3.562556\n",
       "D    0.000000\n",
       "F    4.000000\n",
       "dtype: float64"
      ]
     },
     "execution_count": 70,
     "metadata": {},
     "output_type": "execute_result"
    }
   ],
   "source": [
    "df.apply(lambda x: x.max() - x.min())"
   ]
  },
  {
   "cell_type": "markdown",
   "metadata": {},
   "source": [
    "## 直方图"
   ]
  },
  {
   "cell_type": "code",
   "execution_count": 71,
   "metadata": {},
   "outputs": [],
   "source": [
    "s = pd.Series(np.random.randint(0, 7, size=10))"
   ]
  },
  {
   "cell_type": "code",
   "execution_count": 72,
   "metadata": {},
   "outputs": [
    {
     "data": {
      "text/plain": [
       "0    4\n",
       "1    3\n",
       "2    1\n",
       "3    5\n",
       "4    1\n",
       "5    3\n",
       "6    4\n",
       "7    0\n",
       "8    3\n",
       "9    2\n",
       "dtype: int64"
      ]
     },
     "execution_count": 72,
     "metadata": {},
     "output_type": "execute_result"
    }
   ],
   "source": [
    "s"
   ]
  },
  {
   "cell_type": "code",
   "execution_count": 73,
   "metadata": {},
   "outputs": [
    {
     "data": {
      "text/plain": [
       "3    3\n",
       "4    2\n",
       "1    2\n",
       "5    1\n",
       "2    1\n",
       "0    1\n",
       "dtype: int64"
      ]
     },
     "execution_count": 73,
     "metadata": {},
     "output_type": "execute_result"
    }
   ],
   "source": [
    "s.value_counts()"
   ]
  },
  {
   "cell_type": "markdown",
   "metadata": {},
   "source": [
    "## 字符串方法"
   ]
  },
  {
   "cell_type": "markdown",
   "metadata": {},
   "source": [
    "### 序列可以使用一些字符串处理方法, 很轻易操作数据组中的每个元素, 比如以下代码片断.\n",
    "### 注意: 字符匹配方法默认情况下, 通常使用正则表达式(并且大多数时候都如此)."
   ]
  },
  {
   "cell_type": "code",
   "execution_count": 74,
   "metadata": {},
   "outputs": [],
   "source": [
    "s = pd.Series(['A', 'B', 'C', 'Aaba', 'Baca', np.nan, 'CABA', 'dog', 'cat'])"
   ]
  },
  {
   "cell_type": "code",
   "execution_count": 75,
   "metadata": {},
   "outputs": [
    {
     "data": {
      "text/plain": [
       "0       a\n",
       "1       b\n",
       "2       c\n",
       "3    aaba\n",
       "4    baca\n",
       "5     NaN\n",
       "6    caba\n",
       "7     dog\n",
       "8     cat\n",
       "dtype: object"
      ]
     },
     "execution_count": 75,
     "metadata": {},
     "output_type": "execute_result"
    }
   ],
   "source": [
    "s.str.lower()"
   ]
  },
  {
   "cell_type": "markdown",
   "metadata": {},
   "source": [
    "# 合并"
   ]
  },
  {
   "cell_type": "markdown",
   "metadata": {},
   "source": [
    "pandas 提供各种工具以简便合并序列, 数据帧, 和组合对象. 在 连接/合并 类型操作中, 使用多种类型索引和相关数学函数."
   ]
  },
  {
   "cell_type": "markdown",
   "metadata": {},
   "source": [
    "### 把 pandas 对象连接到一起:"
   ]
  },
  {
   "cell_type": "code",
   "execution_count": 76,
   "metadata": {},
   "outputs": [],
   "source": [
    "df = pd.DataFrame(np.random.randn(10, 4))"
   ]
  },
  {
   "cell_type": "code",
   "execution_count": 77,
   "metadata": {},
   "outputs": [
    {
     "data": {
      "text/html": [
       "<div>\n",
       "<style>\n",
       "    .dataframe thead tr:only-child th {\n",
       "        text-align: right;\n",
       "    }\n",
       "\n",
       "    .dataframe thead th {\n",
       "        text-align: left;\n",
       "    }\n",
       "\n",
       "    .dataframe tbody tr th {\n",
       "        vertical-align: top;\n",
       "    }\n",
       "</style>\n",
       "<table border=\"1\" class=\"dataframe\">\n",
       "  <thead>\n",
       "    <tr style=\"text-align: right;\">\n",
       "      <th></th>\n",
       "      <th>0</th>\n",
       "      <th>1</th>\n",
       "      <th>2</th>\n",
       "      <th>3</th>\n",
       "    </tr>\n",
       "  </thead>\n",
       "  <tbody>\n",
       "    <tr>\n",
       "      <th>0</th>\n",
       "      <td>0.085867</td>\n",
       "      <td>0.513563</td>\n",
       "      <td>0.041624</td>\n",
       "      <td>0.791599</td>\n",
       "    </tr>\n",
       "    <tr>\n",
       "      <th>1</th>\n",
       "      <td>-0.190677</td>\n",
       "      <td>0.960829</td>\n",
       "      <td>0.599935</td>\n",
       "      <td>-1.221240</td>\n",
       "    </tr>\n",
       "    <tr>\n",
       "      <th>2</th>\n",
       "      <td>0.379402</td>\n",
       "      <td>0.456860</td>\n",
       "      <td>0.066004</td>\n",
       "      <td>0.686955</td>\n",
       "    </tr>\n",
       "    <tr>\n",
       "      <th>3</th>\n",
       "      <td>-0.112566</td>\n",
       "      <td>-0.638590</td>\n",
       "      <td>-1.827733</td>\n",
       "      <td>-1.582189</td>\n",
       "    </tr>\n",
       "    <tr>\n",
       "      <th>4</th>\n",
       "      <td>-0.628915</td>\n",
       "      <td>1.365421</td>\n",
       "      <td>0.331256</td>\n",
       "      <td>-1.500590</td>\n",
       "    </tr>\n",
       "    <tr>\n",
       "      <th>5</th>\n",
       "      <td>1.218735</td>\n",
       "      <td>1.415607</td>\n",
       "      <td>0.593551</td>\n",
       "      <td>0.298029</td>\n",
       "    </tr>\n",
       "    <tr>\n",
       "      <th>6</th>\n",
       "      <td>0.405462</td>\n",
       "      <td>0.497741</td>\n",
       "      <td>0.521445</td>\n",
       "      <td>1.857883</td>\n",
       "    </tr>\n",
       "    <tr>\n",
       "      <th>7</th>\n",
       "      <td>1.497999</td>\n",
       "      <td>0.876684</td>\n",
       "      <td>-0.945989</td>\n",
       "      <td>0.374364</td>\n",
       "    </tr>\n",
       "    <tr>\n",
       "      <th>8</th>\n",
       "      <td>-1.856517</td>\n",
       "      <td>0.548953</td>\n",
       "      <td>-0.458480</td>\n",
       "      <td>-1.798278</td>\n",
       "    </tr>\n",
       "    <tr>\n",
       "      <th>9</th>\n",
       "      <td>0.378420</td>\n",
       "      <td>2.034275</td>\n",
       "      <td>-0.473547</td>\n",
       "      <td>0.464841</td>\n",
       "    </tr>\n",
       "  </tbody>\n",
       "</table>\n",
       "</div>"
      ],
      "text/plain": [
       "          0         1         2         3\n",
       "0  0.085867  0.513563  0.041624  0.791599\n",
       "1 -0.190677  0.960829  0.599935 -1.221240\n",
       "2  0.379402  0.456860  0.066004  0.686955\n",
       "3 -0.112566 -0.638590 -1.827733 -1.582189\n",
       "4 -0.628915  1.365421  0.331256 -1.500590\n",
       "5  1.218735  1.415607  0.593551  0.298029\n",
       "6  0.405462  0.497741  0.521445  1.857883\n",
       "7  1.497999  0.876684 -0.945989  0.374364\n",
       "8 -1.856517  0.548953 -0.458480 -1.798278\n",
       "9  0.378420  2.034275 -0.473547  0.464841"
      ]
     },
     "execution_count": 77,
     "metadata": {},
     "output_type": "execute_result"
    }
   ],
   "source": [
    "df"
   ]
  },
  {
   "cell_type": "code",
   "execution_count": 78,
   "metadata": {},
   "outputs": [],
   "source": [
    "pieces = [df[:3], df[3:7], df[7:]]"
   ]
  },
  {
   "cell_type": "code",
   "execution_count": 79,
   "metadata": {},
   "outputs": [
    {
     "data": {
      "text/plain": [
       "[          0         1         2         3\n",
       " 0  0.085867  0.513563  0.041624  0.791599\n",
       " 1 -0.190677  0.960829  0.599935 -1.221240\n",
       " 2  0.379402  0.456860  0.066004  0.686955,\n",
       "           0         1         2         3\n",
       " 3 -0.112566 -0.638590 -1.827733 -1.582189\n",
       " 4 -0.628915  1.365421  0.331256 -1.500590\n",
       " 5  1.218735  1.415607  0.593551  0.298029\n",
       " 6  0.405462  0.497741  0.521445  1.857883,\n",
       "           0         1         2         3\n",
       " 7  1.497999  0.876684 -0.945989  0.374364\n",
       " 8 -1.856517  0.548953 -0.458480 -1.798278\n",
       " 9  0.378420  2.034275 -0.473547  0.464841]"
      ]
     },
     "execution_count": 79,
     "metadata": {},
     "output_type": "execute_result"
    }
   ],
   "source": [
    "pieces"
   ]
  },
  {
   "cell_type": "code",
   "execution_count": 80,
   "metadata": {},
   "outputs": [
    {
     "data": {
      "text/html": [
       "<div>\n",
       "<style>\n",
       "    .dataframe thead tr:only-child th {\n",
       "        text-align: right;\n",
       "    }\n",
       "\n",
       "    .dataframe thead th {\n",
       "        text-align: left;\n",
       "    }\n",
       "\n",
       "    .dataframe tbody tr th {\n",
       "        vertical-align: top;\n",
       "    }\n",
       "</style>\n",
       "<table border=\"1\" class=\"dataframe\">\n",
       "  <thead>\n",
       "    <tr style=\"text-align: right;\">\n",
       "      <th></th>\n",
       "      <th>0</th>\n",
       "      <th>1</th>\n",
       "      <th>2</th>\n",
       "      <th>3</th>\n",
       "    </tr>\n",
       "  </thead>\n",
       "  <tbody>\n",
       "    <tr>\n",
       "      <th>0</th>\n",
       "      <td>0.085867</td>\n",
       "      <td>0.513563</td>\n",
       "      <td>0.041624</td>\n",
       "      <td>0.791599</td>\n",
       "    </tr>\n",
       "    <tr>\n",
       "      <th>1</th>\n",
       "      <td>-0.190677</td>\n",
       "      <td>0.960829</td>\n",
       "      <td>0.599935</td>\n",
       "      <td>-1.221240</td>\n",
       "    </tr>\n",
       "    <tr>\n",
       "      <th>2</th>\n",
       "      <td>0.379402</td>\n",
       "      <td>0.456860</td>\n",
       "      <td>0.066004</td>\n",
       "      <td>0.686955</td>\n",
       "    </tr>\n",
       "    <tr>\n",
       "      <th>3</th>\n",
       "      <td>-0.112566</td>\n",
       "      <td>-0.638590</td>\n",
       "      <td>-1.827733</td>\n",
       "      <td>-1.582189</td>\n",
       "    </tr>\n",
       "    <tr>\n",
       "      <th>4</th>\n",
       "      <td>-0.628915</td>\n",
       "      <td>1.365421</td>\n",
       "      <td>0.331256</td>\n",
       "      <td>-1.500590</td>\n",
       "    </tr>\n",
       "    <tr>\n",
       "      <th>5</th>\n",
       "      <td>1.218735</td>\n",
       "      <td>1.415607</td>\n",
       "      <td>0.593551</td>\n",
       "      <td>0.298029</td>\n",
       "    </tr>\n",
       "    <tr>\n",
       "      <th>6</th>\n",
       "      <td>0.405462</td>\n",
       "      <td>0.497741</td>\n",
       "      <td>0.521445</td>\n",
       "      <td>1.857883</td>\n",
       "    </tr>\n",
       "    <tr>\n",
       "      <th>7</th>\n",
       "      <td>1.497999</td>\n",
       "      <td>0.876684</td>\n",
       "      <td>-0.945989</td>\n",
       "      <td>0.374364</td>\n",
       "    </tr>\n",
       "    <tr>\n",
       "      <th>8</th>\n",
       "      <td>-1.856517</td>\n",
       "      <td>0.548953</td>\n",
       "      <td>-0.458480</td>\n",
       "      <td>-1.798278</td>\n",
       "    </tr>\n",
       "    <tr>\n",
       "      <th>9</th>\n",
       "      <td>0.378420</td>\n",
       "      <td>2.034275</td>\n",
       "      <td>-0.473547</td>\n",
       "      <td>0.464841</td>\n",
       "    </tr>\n",
       "  </tbody>\n",
       "</table>\n",
       "</div>"
      ],
      "text/plain": [
       "          0         1         2         3\n",
       "0  0.085867  0.513563  0.041624  0.791599\n",
       "1 -0.190677  0.960829  0.599935 -1.221240\n",
       "2  0.379402  0.456860  0.066004  0.686955\n",
       "3 -0.112566 -0.638590 -1.827733 -1.582189\n",
       "4 -0.628915  1.365421  0.331256 -1.500590\n",
       "5  1.218735  1.415607  0.593551  0.298029\n",
       "6  0.405462  0.497741  0.521445  1.857883\n",
       "7  1.497999  0.876684 -0.945989  0.374364\n",
       "8 -1.856517  0.548953 -0.458480 -1.798278\n",
       "9  0.378420  2.034275 -0.473547  0.464841"
      ]
     },
     "execution_count": 80,
     "metadata": {},
     "output_type": "execute_result"
    }
   ],
   "source": [
    "pd.concat(pieces)"
   ]
  },
  {
   "cell_type": "markdown",
   "metadata": {},
   "source": [
    "## 连接"
   ]
  },
  {
   "cell_type": "markdown",
   "metadata": {},
   "source": [
    "### SQL 样式合并:"
   ]
  },
  {
   "cell_type": "code",
   "execution_count": 81,
   "metadata": {
    "collapsed": true
   },
   "outputs": [],
   "source": [
    "left = pd.DataFrame({'key': ['foo', 'foo'], 'lval': [1, 2]})"
   ]
  },
  {
   "cell_type": "code",
   "execution_count": 82,
   "metadata": {
    "collapsed": true
   },
   "outputs": [],
   "source": [
    "right = pd.DataFrame({'key': ['foo', 'foo'], 'rval': [4, 5]})"
   ]
  },
  {
   "cell_type": "code",
   "execution_count": 83,
   "metadata": {},
   "outputs": [
    {
     "data": {
      "text/html": [
       "<div>\n",
       "<style>\n",
       "    .dataframe thead tr:only-child th {\n",
       "        text-align: right;\n",
       "    }\n",
       "\n",
       "    .dataframe thead th {\n",
       "        text-align: left;\n",
       "    }\n",
       "\n",
       "    .dataframe tbody tr th {\n",
       "        vertical-align: top;\n",
       "    }\n",
       "</style>\n",
       "<table border=\"1\" class=\"dataframe\">\n",
       "  <thead>\n",
       "    <tr style=\"text-align: right;\">\n",
       "      <th></th>\n",
       "      <th>key</th>\n",
       "      <th>lval</th>\n",
       "    </tr>\n",
       "  </thead>\n",
       "  <tbody>\n",
       "    <tr>\n",
       "      <th>0</th>\n",
       "      <td>foo</td>\n",
       "      <td>1</td>\n",
       "    </tr>\n",
       "    <tr>\n",
       "      <th>1</th>\n",
       "      <td>foo</td>\n",
       "      <td>2</td>\n",
       "    </tr>\n",
       "  </tbody>\n",
       "</table>\n",
       "</div>"
      ],
      "text/plain": [
       "   key  lval\n",
       "0  foo     1\n",
       "1  foo     2"
      ]
     },
     "execution_count": 83,
     "metadata": {},
     "output_type": "execute_result"
    }
   ],
   "source": [
    "left"
   ]
  },
  {
   "cell_type": "code",
   "execution_count": 84,
   "metadata": {},
   "outputs": [
    {
     "data": {
      "text/html": [
       "<div>\n",
       "<style>\n",
       "    .dataframe thead tr:only-child th {\n",
       "        text-align: right;\n",
       "    }\n",
       "\n",
       "    .dataframe thead th {\n",
       "        text-align: left;\n",
       "    }\n",
       "\n",
       "    .dataframe tbody tr th {\n",
       "        vertical-align: top;\n",
       "    }\n",
       "</style>\n",
       "<table border=\"1\" class=\"dataframe\">\n",
       "  <thead>\n",
       "    <tr style=\"text-align: right;\">\n",
       "      <th></th>\n",
       "      <th>key</th>\n",
       "      <th>rval</th>\n",
       "    </tr>\n",
       "  </thead>\n",
       "  <tbody>\n",
       "    <tr>\n",
       "      <th>0</th>\n",
       "      <td>foo</td>\n",
       "      <td>4</td>\n",
       "    </tr>\n",
       "    <tr>\n",
       "      <th>1</th>\n",
       "      <td>foo</td>\n",
       "      <td>5</td>\n",
       "    </tr>\n",
       "  </tbody>\n",
       "</table>\n",
       "</div>"
      ],
      "text/plain": [
       "   key  rval\n",
       "0  foo     4\n",
       "1  foo     5"
      ]
     },
     "execution_count": 84,
     "metadata": {},
     "output_type": "execute_result"
    }
   ],
   "source": [
    "right"
   ]
  },
  {
   "cell_type": "code",
   "execution_count": 85,
   "metadata": {},
   "outputs": [
    {
     "data": {
      "text/html": [
       "<div>\n",
       "<style>\n",
       "    .dataframe thead tr:only-child th {\n",
       "        text-align: right;\n",
       "    }\n",
       "\n",
       "    .dataframe thead th {\n",
       "        text-align: left;\n",
       "    }\n",
       "\n",
       "    .dataframe tbody tr th {\n",
       "        vertical-align: top;\n",
       "    }\n",
       "</style>\n",
       "<table border=\"1\" class=\"dataframe\">\n",
       "  <thead>\n",
       "    <tr style=\"text-align: right;\">\n",
       "      <th></th>\n",
       "      <th>key</th>\n",
       "      <th>lval</th>\n",
       "      <th>rval</th>\n",
       "    </tr>\n",
       "  </thead>\n",
       "  <tbody>\n",
       "    <tr>\n",
       "      <th>0</th>\n",
       "      <td>foo</td>\n",
       "      <td>1</td>\n",
       "      <td>4</td>\n",
       "    </tr>\n",
       "    <tr>\n",
       "      <th>1</th>\n",
       "      <td>foo</td>\n",
       "      <td>1</td>\n",
       "      <td>5</td>\n",
       "    </tr>\n",
       "    <tr>\n",
       "      <th>2</th>\n",
       "      <td>foo</td>\n",
       "      <td>2</td>\n",
       "      <td>4</td>\n",
       "    </tr>\n",
       "    <tr>\n",
       "      <th>3</th>\n",
       "      <td>foo</td>\n",
       "      <td>2</td>\n",
       "      <td>5</td>\n",
       "    </tr>\n",
       "  </tbody>\n",
       "</table>\n",
       "</div>"
      ],
      "text/plain": [
       "   key  lval  rval\n",
       "0  foo     1     4\n",
       "1  foo     1     5\n",
       "2  foo     2     4\n",
       "3  foo     2     5"
      ]
     },
     "execution_count": 85,
     "metadata": {},
     "output_type": "execute_result"
    }
   ],
   "source": [
    "pd.merge(left, right, on='key')"
   ]
  },
  {
   "cell_type": "markdown",
   "metadata": {},
   "source": [
    "## 添加"
   ]
  },
  {
   "cell_type": "markdown",
   "metadata": {},
   "source": [
    "### 添加行到数据帧:"
   ]
  },
  {
   "cell_type": "code",
   "execution_count": 86,
   "metadata": {
    "collapsed": true
   },
   "outputs": [],
   "source": [
    "df = pd.DataFrame(np.random.randn(8, 4), columns=['A', 'B', 'C', 'D'])"
   ]
  },
  {
   "cell_type": "code",
   "execution_count": 87,
   "metadata": {},
   "outputs": [
    {
     "data": {
      "text/html": [
       "<div>\n",
       "<style>\n",
       "    .dataframe thead tr:only-child th {\n",
       "        text-align: right;\n",
       "    }\n",
       "\n",
       "    .dataframe thead th {\n",
       "        text-align: left;\n",
       "    }\n",
       "\n",
       "    .dataframe tbody tr th {\n",
       "        vertical-align: top;\n",
       "    }\n",
       "</style>\n",
       "<table border=\"1\" class=\"dataframe\">\n",
       "  <thead>\n",
       "    <tr style=\"text-align: right;\">\n",
       "      <th></th>\n",
       "      <th>A</th>\n",
       "      <th>B</th>\n",
       "      <th>C</th>\n",
       "      <th>D</th>\n",
       "    </tr>\n",
       "  </thead>\n",
       "  <tbody>\n",
       "    <tr>\n",
       "      <th>0</th>\n",
       "      <td>-2.353653</td>\n",
       "      <td>-0.361222</td>\n",
       "      <td>0.798224</td>\n",
       "      <td>0.506240</td>\n",
       "    </tr>\n",
       "    <tr>\n",
       "      <th>1</th>\n",
       "      <td>-0.193153</td>\n",
       "      <td>1.163641</td>\n",
       "      <td>-0.485035</td>\n",
       "      <td>0.288091</td>\n",
       "    </tr>\n",
       "    <tr>\n",
       "      <th>2</th>\n",
       "      <td>0.009632</td>\n",
       "      <td>0.074484</td>\n",
       "      <td>2.668308</td>\n",
       "      <td>1.056560</td>\n",
       "    </tr>\n",
       "    <tr>\n",
       "      <th>3</th>\n",
       "      <td>1.505521</td>\n",
       "      <td>-1.499851</td>\n",
       "      <td>-0.486310</td>\n",
       "      <td>-0.404501</td>\n",
       "    </tr>\n",
       "    <tr>\n",
       "      <th>4</th>\n",
       "      <td>-0.555846</td>\n",
       "      <td>1.704672</td>\n",
       "      <td>-0.219953</td>\n",
       "      <td>-0.733658</td>\n",
       "    </tr>\n",
       "    <tr>\n",
       "      <th>5</th>\n",
       "      <td>2.062331</td>\n",
       "      <td>0.591177</td>\n",
       "      <td>-1.282067</td>\n",
       "      <td>-0.528559</td>\n",
       "    </tr>\n",
       "    <tr>\n",
       "      <th>6</th>\n",
       "      <td>-0.089678</td>\n",
       "      <td>-0.075559</td>\n",
       "      <td>-0.791764</td>\n",
       "      <td>0.486098</td>\n",
       "    </tr>\n",
       "    <tr>\n",
       "      <th>7</th>\n",
       "      <td>-2.260532</td>\n",
       "      <td>0.642875</td>\n",
       "      <td>-0.587037</td>\n",
       "      <td>-0.406093</td>\n",
       "    </tr>\n",
       "  </tbody>\n",
       "</table>\n",
       "</div>"
      ],
      "text/plain": [
       "          A         B         C         D\n",
       "0 -2.353653 -0.361222  0.798224  0.506240\n",
       "1 -0.193153  1.163641 -0.485035  0.288091\n",
       "2  0.009632  0.074484  2.668308  1.056560\n",
       "3  1.505521 -1.499851 -0.486310 -0.404501\n",
       "4 -0.555846  1.704672 -0.219953 -0.733658\n",
       "5  2.062331  0.591177 -1.282067 -0.528559\n",
       "6 -0.089678 -0.075559 -0.791764  0.486098\n",
       "7 -2.260532  0.642875 -0.587037 -0.406093"
      ]
     },
     "execution_count": 87,
     "metadata": {},
     "output_type": "execute_result"
    }
   ],
   "source": [
    "df"
   ]
  },
  {
   "cell_type": "code",
   "execution_count": 88,
   "metadata": {
    "collapsed": true
   },
   "outputs": [],
   "source": [
    "s = df.iloc[3]"
   ]
  },
  {
   "cell_type": "code",
   "execution_count": 89,
   "metadata": {},
   "outputs": [
    {
     "data": {
      "text/html": [
       "<div>\n",
       "<style>\n",
       "    .dataframe thead tr:only-child th {\n",
       "        text-align: right;\n",
       "    }\n",
       "\n",
       "    .dataframe thead th {\n",
       "        text-align: left;\n",
       "    }\n",
       "\n",
       "    .dataframe tbody tr th {\n",
       "        vertical-align: top;\n",
       "    }\n",
       "</style>\n",
       "<table border=\"1\" class=\"dataframe\">\n",
       "  <thead>\n",
       "    <tr style=\"text-align: right;\">\n",
       "      <th></th>\n",
       "      <th>A</th>\n",
       "      <th>B</th>\n",
       "      <th>C</th>\n",
       "      <th>D</th>\n",
       "    </tr>\n",
       "  </thead>\n",
       "  <tbody>\n",
       "    <tr>\n",
       "      <th>0</th>\n",
       "      <td>-2.353653</td>\n",
       "      <td>-0.361222</td>\n",
       "      <td>0.798224</td>\n",
       "      <td>0.506240</td>\n",
       "    </tr>\n",
       "    <tr>\n",
       "      <th>1</th>\n",
       "      <td>-0.193153</td>\n",
       "      <td>1.163641</td>\n",
       "      <td>-0.485035</td>\n",
       "      <td>0.288091</td>\n",
       "    </tr>\n",
       "    <tr>\n",
       "      <th>2</th>\n",
       "      <td>0.009632</td>\n",
       "      <td>0.074484</td>\n",
       "      <td>2.668308</td>\n",
       "      <td>1.056560</td>\n",
       "    </tr>\n",
       "    <tr>\n",
       "      <th>3</th>\n",
       "      <td>1.505521</td>\n",
       "      <td>-1.499851</td>\n",
       "      <td>-0.486310</td>\n",
       "      <td>-0.404501</td>\n",
       "    </tr>\n",
       "    <tr>\n",
       "      <th>4</th>\n",
       "      <td>-0.555846</td>\n",
       "      <td>1.704672</td>\n",
       "      <td>-0.219953</td>\n",
       "      <td>-0.733658</td>\n",
       "    </tr>\n",
       "    <tr>\n",
       "      <th>5</th>\n",
       "      <td>2.062331</td>\n",
       "      <td>0.591177</td>\n",
       "      <td>-1.282067</td>\n",
       "      <td>-0.528559</td>\n",
       "    </tr>\n",
       "    <tr>\n",
       "      <th>6</th>\n",
       "      <td>-0.089678</td>\n",
       "      <td>-0.075559</td>\n",
       "      <td>-0.791764</td>\n",
       "      <td>0.486098</td>\n",
       "    </tr>\n",
       "    <tr>\n",
       "      <th>7</th>\n",
       "      <td>-2.260532</td>\n",
       "      <td>0.642875</td>\n",
       "      <td>-0.587037</td>\n",
       "      <td>-0.406093</td>\n",
       "    </tr>\n",
       "    <tr>\n",
       "      <th>8</th>\n",
       "      <td>1.505521</td>\n",
       "      <td>-1.499851</td>\n",
       "      <td>-0.486310</td>\n",
       "      <td>-0.404501</td>\n",
       "    </tr>\n",
       "  </tbody>\n",
       "</table>\n",
       "</div>"
      ],
      "text/plain": [
       "          A         B         C         D\n",
       "0 -2.353653 -0.361222  0.798224  0.506240\n",
       "1 -0.193153  1.163641 -0.485035  0.288091\n",
       "2  0.009632  0.074484  2.668308  1.056560\n",
       "3  1.505521 -1.499851 -0.486310 -0.404501\n",
       "4 -0.555846  1.704672 -0.219953 -0.733658\n",
       "5  2.062331  0.591177 -1.282067 -0.528559\n",
       "6 -0.089678 -0.075559 -0.791764  0.486098\n",
       "7 -2.260532  0.642875 -0.587037 -0.406093\n",
       "8  1.505521 -1.499851 -0.486310 -0.404501"
      ]
     },
     "execution_count": 89,
     "metadata": {},
     "output_type": "execute_result"
    }
   ],
   "source": [
    "df.append(s, ignore_index=True)"
   ]
  },
  {
   "cell_type": "markdown",
   "metadata": {},
   "source": [
    "# 分组"
   ]
  },
  {
   "cell_type": "markdown",
   "metadata": {},
   "source": [
    "对于 \"group by\" 指的是以下一个或多个处理:\n",
    "- 将数据按某些标准分割为不同的组\n",
    "- 在每个独立组上应用函数\n",
    "- 组合结果为一个数据结构"
   ]
  },
  {
   "cell_type": "code",
   "execution_count": 90,
   "metadata": {
    "collapsed": true
   },
   "outputs": [],
   "source": [
    "df = pd.DataFrame({'A': ['foo', 'bar', 'foo', 'bar', 'foo', 'bar', 'foo', 'bar'],\n",
    "                   'B': ['one', 'one', 'two', 'three', 'two', 'two', 'one', 'three'],\n",
    "                   'C': np.random.randn(8),\n",
    "                   'D': np.random.randn(8)})"
   ]
  },
  {
   "cell_type": "code",
   "execution_count": 91,
   "metadata": {},
   "outputs": [
    {
     "data": {
      "text/html": [
       "<div>\n",
       "<style>\n",
       "    .dataframe thead tr:only-child th {\n",
       "        text-align: right;\n",
       "    }\n",
       "\n",
       "    .dataframe thead th {\n",
       "        text-align: left;\n",
       "    }\n",
       "\n",
       "    .dataframe tbody tr th {\n",
       "        vertical-align: top;\n",
       "    }\n",
       "</style>\n",
       "<table border=\"1\" class=\"dataframe\">\n",
       "  <thead>\n",
       "    <tr style=\"text-align: right;\">\n",
       "      <th></th>\n",
       "      <th>A</th>\n",
       "      <th>B</th>\n",
       "      <th>C</th>\n",
       "      <th>D</th>\n",
       "    </tr>\n",
       "  </thead>\n",
       "  <tbody>\n",
       "    <tr>\n",
       "      <th>0</th>\n",
       "      <td>foo</td>\n",
       "      <td>one</td>\n",
       "      <td>-0.036846</td>\n",
       "      <td>-0.255391</td>\n",
       "    </tr>\n",
       "    <tr>\n",
       "      <th>1</th>\n",
       "      <td>bar</td>\n",
       "      <td>one</td>\n",
       "      <td>-0.184444</td>\n",
       "      <td>-0.092538</td>\n",
       "    </tr>\n",
       "    <tr>\n",
       "      <th>2</th>\n",
       "      <td>foo</td>\n",
       "      <td>two</td>\n",
       "      <td>0.254613</td>\n",
       "      <td>0.341791</td>\n",
       "    </tr>\n",
       "    <tr>\n",
       "      <th>3</th>\n",
       "      <td>bar</td>\n",
       "      <td>three</td>\n",
       "      <td>1.714425</td>\n",
       "      <td>-0.148348</td>\n",
       "    </tr>\n",
       "    <tr>\n",
       "      <th>4</th>\n",
       "      <td>foo</td>\n",
       "      <td>two</td>\n",
       "      <td>-0.906000</td>\n",
       "      <td>0.604271</td>\n",
       "    </tr>\n",
       "    <tr>\n",
       "      <th>5</th>\n",
       "      <td>bar</td>\n",
       "      <td>two</td>\n",
       "      <td>0.050995</td>\n",
       "      <td>-1.893565</td>\n",
       "    </tr>\n",
       "    <tr>\n",
       "      <th>6</th>\n",
       "      <td>foo</td>\n",
       "      <td>one</td>\n",
       "      <td>1.523907</td>\n",
       "      <td>0.327911</td>\n",
       "    </tr>\n",
       "    <tr>\n",
       "      <th>7</th>\n",
       "      <td>bar</td>\n",
       "      <td>three</td>\n",
       "      <td>-0.151025</td>\n",
       "      <td>-0.565036</td>\n",
       "    </tr>\n",
       "  </tbody>\n",
       "</table>\n",
       "</div>"
      ],
      "text/plain": [
       "     A      B         C         D\n",
       "0  foo    one -0.036846 -0.255391\n",
       "1  bar    one -0.184444 -0.092538\n",
       "2  foo    two  0.254613  0.341791\n",
       "3  bar  three  1.714425 -0.148348\n",
       "4  foo    two -0.906000  0.604271\n",
       "5  bar    two  0.050995 -1.893565\n",
       "6  foo    one  1.523907  0.327911\n",
       "7  bar  three -0.151025 -0.565036"
      ]
     },
     "execution_count": 91,
     "metadata": {},
     "output_type": "execute_result"
    }
   ],
   "source": [
    "df"
   ]
  },
  {
   "cell_type": "markdown",
   "metadata": {},
   "source": [
    "### 分组, 然后应用函数统计总和, 存放到结果组:"
   ]
  },
  {
   "cell_type": "code",
   "execution_count": 92,
   "metadata": {},
   "outputs": [
    {
     "data": {
      "text/html": [
       "<div>\n",
       "<style>\n",
       "    .dataframe thead tr:only-child th {\n",
       "        text-align: right;\n",
       "    }\n",
       "\n",
       "    .dataframe thead th {\n",
       "        text-align: left;\n",
       "    }\n",
       "\n",
       "    .dataframe tbody tr th {\n",
       "        vertical-align: top;\n",
       "    }\n",
       "</style>\n",
       "<table border=\"1\" class=\"dataframe\">\n",
       "  <thead>\n",
       "    <tr style=\"text-align: right;\">\n",
       "      <th></th>\n",
       "      <th>C</th>\n",
       "      <th>D</th>\n",
       "    </tr>\n",
       "    <tr>\n",
       "      <th>A</th>\n",
       "      <th></th>\n",
       "      <th></th>\n",
       "    </tr>\n",
       "  </thead>\n",
       "  <tbody>\n",
       "    <tr>\n",
       "      <th>bar</th>\n",
       "      <td>1.429951</td>\n",
       "      <td>-2.699487</td>\n",
       "    </tr>\n",
       "    <tr>\n",
       "      <th>foo</th>\n",
       "      <td>0.835674</td>\n",
       "      <td>1.018583</td>\n",
       "    </tr>\n",
       "  </tbody>\n",
       "</table>\n",
       "</div>"
      ],
      "text/plain": [
       "            C         D\n",
       "A                      \n",
       "bar  1.429951 -2.699487\n",
       "foo  0.835674  1.018583"
      ]
     },
     "execution_count": 92,
     "metadata": {},
     "output_type": "execute_result"
    }
   ],
   "source": [
    "df.groupby('A').sum()"
   ]
  },
  {
   "cell_type": "markdown",
   "metadata": {},
   "source": [
    "### 按多列分组为层次索引, 然后应用函数:"
   ]
  },
  {
   "cell_type": "code",
   "execution_count": 93,
   "metadata": {},
   "outputs": [
    {
     "data": {
      "text/html": [
       "<div>\n",
       "<style>\n",
       "    .dataframe thead tr:only-child th {\n",
       "        text-align: right;\n",
       "    }\n",
       "\n",
       "    .dataframe thead th {\n",
       "        text-align: left;\n",
       "    }\n",
       "\n",
       "    .dataframe tbody tr th {\n",
       "        vertical-align: top;\n",
       "    }\n",
       "</style>\n",
       "<table border=\"1\" class=\"dataframe\">\n",
       "  <thead>\n",
       "    <tr style=\"text-align: right;\">\n",
       "      <th></th>\n",
       "      <th></th>\n",
       "      <th>C</th>\n",
       "      <th>D</th>\n",
       "    </tr>\n",
       "    <tr>\n",
       "      <th>A</th>\n",
       "      <th>B</th>\n",
       "      <th></th>\n",
       "      <th></th>\n",
       "    </tr>\n",
       "  </thead>\n",
       "  <tbody>\n",
       "    <tr>\n",
       "      <th rowspan=\"3\" valign=\"top\">bar</th>\n",
       "      <th>one</th>\n",
       "      <td>-0.184444</td>\n",
       "      <td>-0.092538</td>\n",
       "    </tr>\n",
       "    <tr>\n",
       "      <th>three</th>\n",
       "      <td>1.563401</td>\n",
       "      <td>-0.713384</td>\n",
       "    </tr>\n",
       "    <tr>\n",
       "      <th>two</th>\n",
       "      <td>0.050995</td>\n",
       "      <td>-1.893565</td>\n",
       "    </tr>\n",
       "    <tr>\n",
       "      <th rowspan=\"2\" valign=\"top\">foo</th>\n",
       "      <th>one</th>\n",
       "      <td>1.487061</td>\n",
       "      <td>0.072521</td>\n",
       "    </tr>\n",
       "    <tr>\n",
       "      <th>two</th>\n",
       "      <td>-0.651387</td>\n",
       "      <td>0.946062</td>\n",
       "    </tr>\n",
       "  </tbody>\n",
       "</table>\n",
       "</div>"
      ],
      "text/plain": [
       "                  C         D\n",
       "A   B                        \n",
       "bar one   -0.184444 -0.092538\n",
       "    three  1.563401 -0.713384\n",
       "    two    0.050995 -1.893565\n",
       "foo one    1.487061  0.072521\n",
       "    two   -0.651387  0.946062"
      ]
     },
     "execution_count": 93,
     "metadata": {},
     "output_type": "execute_result"
    }
   ],
   "source": [
    "df.groupby(['A', 'B']).sum()"
   ]
  },
  {
   "cell_type": "markdown",
   "metadata": {},
   "source": [
    "# 重塑"
   ]
  },
  {
   "cell_type": "markdown",
   "metadata": {},
   "source": [
    "## 堆叠"
   ]
  },
  {
   "cell_type": "code",
   "execution_count": 94,
   "metadata": {},
   "outputs": [
    {
     "data": {
      "text/plain": [
       "[('bar', 'one'),\n",
       " ('bar', 'two'),\n",
       " ('baz', 'one'),\n",
       " ('baz', 'two'),\n",
       " ('foo', 'one'),\n",
       " ('foo', 'two'),\n",
       " ('qux', 'one'),\n",
       " ('qux', 'two')]"
      ]
     },
     "execution_count": 94,
     "metadata": {},
     "output_type": "execute_result"
    }
   ],
   "source": [
    "tuples = list(zip(*[['bar', 'bar', 'baz', 'baz', 'foo', 'foo', 'qux', 'qux'],\n",
    "                    ['one', 'two', 'one', 'two','one', 'two', 'one', 'two']]))\n",
    "tuples"
   ]
  },
  {
   "cell_type": "code",
   "execution_count": 95,
   "metadata": {
    "collapsed": true
   },
   "outputs": [],
   "source": [
    "index = pd.MultiIndex.from_tuples(tuples, names=['first', 'seconds'])"
   ]
  },
  {
   "cell_type": "code",
   "execution_count": 96,
   "metadata": {},
   "outputs": [],
   "source": [
    "df = pd.DataFrame(np.random.randn(8, 2), index=index, columns=['A', 'B'])"
   ]
  },
  {
   "cell_type": "code",
   "execution_count": 97,
   "metadata": {},
   "outputs": [
    {
     "data": {
      "text/html": [
       "<div>\n",
       "<style>\n",
       "    .dataframe thead tr:only-child th {\n",
       "        text-align: right;\n",
       "    }\n",
       "\n",
       "    .dataframe thead th {\n",
       "        text-align: left;\n",
       "    }\n",
       "\n",
       "    .dataframe tbody tr th {\n",
       "        vertical-align: top;\n",
       "    }\n",
       "</style>\n",
       "<table border=\"1\" class=\"dataframe\">\n",
       "  <thead>\n",
       "    <tr style=\"text-align: right;\">\n",
       "      <th></th>\n",
       "      <th></th>\n",
       "      <th>A</th>\n",
       "      <th>B</th>\n",
       "    </tr>\n",
       "    <tr>\n",
       "      <th>first</th>\n",
       "      <th>seconds</th>\n",
       "      <th></th>\n",
       "      <th></th>\n",
       "    </tr>\n",
       "  </thead>\n",
       "  <tbody>\n",
       "    <tr>\n",
       "      <th rowspan=\"2\" valign=\"top\">bar</th>\n",
       "      <th>one</th>\n",
       "      <td>-0.418519</td>\n",
       "      <td>-0.871636</td>\n",
       "    </tr>\n",
       "    <tr>\n",
       "      <th>two</th>\n",
       "      <td>-0.005910</td>\n",
       "      <td>-1.909082</td>\n",
       "    </tr>\n",
       "    <tr>\n",
       "      <th rowspan=\"2\" valign=\"top\">baz</th>\n",
       "      <th>one</th>\n",
       "      <td>-0.227868</td>\n",
       "      <td>-1.789480</td>\n",
       "    </tr>\n",
       "    <tr>\n",
       "      <th>two</th>\n",
       "      <td>-1.084363</td>\n",
       "      <td>-1.162248</td>\n",
       "    </tr>\n",
       "    <tr>\n",
       "      <th rowspan=\"2\" valign=\"top\">foo</th>\n",
       "      <th>one</th>\n",
       "      <td>0.417189</td>\n",
       "      <td>-0.091660</td>\n",
       "    </tr>\n",
       "    <tr>\n",
       "      <th>two</th>\n",
       "      <td>-0.559417</td>\n",
       "      <td>-2.030405</td>\n",
       "    </tr>\n",
       "    <tr>\n",
       "      <th rowspan=\"2\" valign=\"top\">qux</th>\n",
       "      <th>one</th>\n",
       "      <td>0.359085</td>\n",
       "      <td>0.759327</td>\n",
       "    </tr>\n",
       "    <tr>\n",
       "      <th>two</th>\n",
       "      <td>1.126709</td>\n",
       "      <td>1.893276</td>\n",
       "    </tr>\n",
       "  </tbody>\n",
       "</table>\n",
       "</div>"
      ],
      "text/plain": [
       "                      A         B\n",
       "first seconds                    \n",
       "bar   one     -0.418519 -0.871636\n",
       "      two     -0.005910 -1.909082\n",
       "baz   one     -0.227868 -1.789480\n",
       "      two     -1.084363 -1.162248\n",
       "foo   one      0.417189 -0.091660\n",
       "      two     -0.559417 -2.030405\n",
       "qux   one      0.359085  0.759327\n",
       "      two      1.126709  1.893276"
      ]
     },
     "execution_count": 97,
     "metadata": {},
     "output_type": "execute_result"
    }
   ],
   "source": [
    "df"
   ]
  },
  {
   "cell_type": "code",
   "execution_count": 98,
   "metadata": {
    "collapsed": true
   },
   "outputs": [],
   "source": [
    "df2 = df[:4]"
   ]
  },
  {
   "cell_type": "code",
   "execution_count": 99,
   "metadata": {},
   "outputs": [
    {
     "data": {
      "text/html": [
       "<div>\n",
       "<style>\n",
       "    .dataframe thead tr:only-child th {\n",
       "        text-align: right;\n",
       "    }\n",
       "\n",
       "    .dataframe thead th {\n",
       "        text-align: left;\n",
       "    }\n",
       "\n",
       "    .dataframe tbody tr th {\n",
       "        vertical-align: top;\n",
       "    }\n",
       "</style>\n",
       "<table border=\"1\" class=\"dataframe\">\n",
       "  <thead>\n",
       "    <tr style=\"text-align: right;\">\n",
       "      <th></th>\n",
       "      <th></th>\n",
       "      <th>A</th>\n",
       "      <th>B</th>\n",
       "    </tr>\n",
       "    <tr>\n",
       "      <th>first</th>\n",
       "      <th>seconds</th>\n",
       "      <th></th>\n",
       "      <th></th>\n",
       "    </tr>\n",
       "  </thead>\n",
       "  <tbody>\n",
       "    <tr>\n",
       "      <th rowspan=\"2\" valign=\"top\">bar</th>\n",
       "      <th>one</th>\n",
       "      <td>-0.418519</td>\n",
       "      <td>-0.871636</td>\n",
       "    </tr>\n",
       "    <tr>\n",
       "      <th>two</th>\n",
       "      <td>-0.005910</td>\n",
       "      <td>-1.909082</td>\n",
       "    </tr>\n",
       "    <tr>\n",
       "      <th rowspan=\"2\" valign=\"top\">baz</th>\n",
       "      <th>one</th>\n",
       "      <td>-0.227868</td>\n",
       "      <td>-1.789480</td>\n",
       "    </tr>\n",
       "    <tr>\n",
       "      <th>two</th>\n",
       "      <td>-1.084363</td>\n",
       "      <td>-1.162248</td>\n",
       "    </tr>\n",
       "  </tbody>\n",
       "</table>\n",
       "</div>"
      ],
      "text/plain": [
       "                      A         B\n",
       "first seconds                    \n",
       "bar   one     -0.418519 -0.871636\n",
       "      two     -0.005910 -1.909082\n",
       "baz   one     -0.227868 -1.789480\n",
       "      two     -1.084363 -1.162248"
      ]
     },
     "execution_count": 99,
     "metadata": {},
     "output_type": "execute_result"
    }
   ],
   "source": [
    "df2"
   ]
  },
  {
   "cell_type": "markdown",
   "metadata": {},
   "source": [
    "### 堆叠函数, \"压缩\" 数据帧的列一个级别:"
   ]
  },
  {
   "cell_type": "code",
   "execution_count": 100,
   "metadata": {
    "collapsed": true
   },
   "outputs": [],
   "source": [
    "stacked = df2.stack()"
   ]
  },
  {
   "cell_type": "code",
   "execution_count": 101,
   "metadata": {},
   "outputs": [
    {
     "data": {
      "text/plain": [
       "first  seconds   \n",
       "bar    one      A   -0.418519\n",
       "                B   -0.871636\n",
       "       two      A   -0.005910\n",
       "                B   -1.909082\n",
       "baz    one      A   -0.227868\n",
       "                B   -1.789480\n",
       "       two      A   -1.084363\n",
       "                B   -1.162248\n",
       "dtype: float64"
      ]
     },
     "execution_count": 101,
     "metadata": {},
     "output_type": "execute_result"
    }
   ],
   "source": [
    "stacked"
   ]
  },
  {
   "cell_type": "markdown",
   "metadata": {},
   "source": [
    "### 被 \"堆叠\" 数据帧或序列(有多个索引作为索引), 其堆叠的反向操作为取消堆叠, 上面的数据默认反堆叠到上一级别:"
   ]
  },
  {
   "cell_type": "code",
   "execution_count": 102,
   "metadata": {},
   "outputs": [
    {
     "data": {
      "text/html": [
       "<div>\n",
       "<style>\n",
       "    .dataframe thead tr:only-child th {\n",
       "        text-align: right;\n",
       "    }\n",
       "\n",
       "    .dataframe thead th {\n",
       "        text-align: left;\n",
       "    }\n",
       "\n",
       "    .dataframe tbody tr th {\n",
       "        vertical-align: top;\n",
       "    }\n",
       "</style>\n",
       "<table border=\"1\" class=\"dataframe\">\n",
       "  <thead>\n",
       "    <tr style=\"text-align: right;\">\n",
       "      <th></th>\n",
       "      <th></th>\n",
       "      <th>A</th>\n",
       "      <th>B</th>\n",
       "    </tr>\n",
       "    <tr>\n",
       "      <th>first</th>\n",
       "      <th>seconds</th>\n",
       "      <th></th>\n",
       "      <th></th>\n",
       "    </tr>\n",
       "  </thead>\n",
       "  <tbody>\n",
       "    <tr>\n",
       "      <th rowspan=\"2\" valign=\"top\">bar</th>\n",
       "      <th>one</th>\n",
       "      <td>-0.418519</td>\n",
       "      <td>-0.871636</td>\n",
       "    </tr>\n",
       "    <tr>\n",
       "      <th>two</th>\n",
       "      <td>-0.005910</td>\n",
       "      <td>-1.909082</td>\n",
       "    </tr>\n",
       "    <tr>\n",
       "      <th rowspan=\"2\" valign=\"top\">baz</th>\n",
       "      <th>one</th>\n",
       "      <td>-0.227868</td>\n",
       "      <td>-1.789480</td>\n",
       "    </tr>\n",
       "    <tr>\n",
       "      <th>two</th>\n",
       "      <td>-1.084363</td>\n",
       "      <td>-1.162248</td>\n",
       "    </tr>\n",
       "  </tbody>\n",
       "</table>\n",
       "</div>"
      ],
      "text/plain": [
       "                      A         B\n",
       "first seconds                    \n",
       "bar   one     -0.418519 -0.871636\n",
       "      two     -0.005910 -1.909082\n",
       "baz   one     -0.227868 -1.789480\n",
       "      two     -1.084363 -1.162248"
      ]
     },
     "execution_count": 102,
     "metadata": {},
     "output_type": "execute_result"
    }
   ],
   "source": [
    "stacked.unstack()"
   ]
  },
  {
   "cell_type": "code",
   "execution_count": 103,
   "metadata": {},
   "outputs": [
    {
     "data": {
      "text/html": [
       "<div>\n",
       "<style>\n",
       "    .dataframe thead tr:only-child th {\n",
       "        text-align: right;\n",
       "    }\n",
       "\n",
       "    .dataframe thead th {\n",
       "        text-align: left;\n",
       "    }\n",
       "\n",
       "    .dataframe tbody tr th {\n",
       "        vertical-align: top;\n",
       "    }\n",
       "</style>\n",
       "<table border=\"1\" class=\"dataframe\">\n",
       "  <thead>\n",
       "    <tr style=\"text-align: right;\">\n",
       "      <th></th>\n",
       "      <th>seconds</th>\n",
       "      <th>one</th>\n",
       "      <th>two</th>\n",
       "    </tr>\n",
       "    <tr>\n",
       "      <th>first</th>\n",
       "      <th></th>\n",
       "      <th></th>\n",
       "      <th></th>\n",
       "    </tr>\n",
       "  </thead>\n",
       "  <tbody>\n",
       "    <tr>\n",
       "      <th rowspan=\"2\" valign=\"top\">bar</th>\n",
       "      <th>A</th>\n",
       "      <td>-0.418519</td>\n",
       "      <td>-0.005910</td>\n",
       "    </tr>\n",
       "    <tr>\n",
       "      <th>B</th>\n",
       "      <td>-0.871636</td>\n",
       "      <td>-1.909082</td>\n",
       "    </tr>\n",
       "    <tr>\n",
       "      <th rowspan=\"2\" valign=\"top\">baz</th>\n",
       "      <th>A</th>\n",
       "      <td>-0.227868</td>\n",
       "      <td>-1.084363</td>\n",
       "    </tr>\n",
       "    <tr>\n",
       "      <th>B</th>\n",
       "      <td>-1.789480</td>\n",
       "      <td>-1.162248</td>\n",
       "    </tr>\n",
       "  </tbody>\n",
       "</table>\n",
       "</div>"
      ],
      "text/plain": [
       "seconds       one       two\n",
       "first                      \n",
       "bar   A -0.418519 -0.005910\n",
       "      B -0.871636 -1.909082\n",
       "baz   A -0.227868 -1.084363\n",
       "      B -1.789480 -1.162248"
      ]
     },
     "execution_count": 103,
     "metadata": {},
     "output_type": "execute_result"
    }
   ],
   "source": [
    "stacked.unstack(level=1)"
   ]
  },
  {
   "cell_type": "code",
   "execution_count": 104,
   "metadata": {},
   "outputs": [
    {
     "data": {
      "text/html": [
       "<div>\n",
       "<style>\n",
       "    .dataframe thead tr:only-child th {\n",
       "        text-align: right;\n",
       "    }\n",
       "\n",
       "    .dataframe thead th {\n",
       "        text-align: left;\n",
       "    }\n",
       "\n",
       "    .dataframe tbody tr th {\n",
       "        vertical-align: top;\n",
       "    }\n",
       "</style>\n",
       "<table border=\"1\" class=\"dataframe\">\n",
       "  <thead>\n",
       "    <tr style=\"text-align: right;\">\n",
       "      <th></th>\n",
       "      <th>first</th>\n",
       "      <th>bar</th>\n",
       "      <th>baz</th>\n",
       "    </tr>\n",
       "    <tr>\n",
       "      <th>seconds</th>\n",
       "      <th></th>\n",
       "      <th></th>\n",
       "      <th></th>\n",
       "    </tr>\n",
       "  </thead>\n",
       "  <tbody>\n",
       "    <tr>\n",
       "      <th rowspan=\"2\" valign=\"top\">one</th>\n",
       "      <th>A</th>\n",
       "      <td>-0.418519</td>\n",
       "      <td>-0.227868</td>\n",
       "    </tr>\n",
       "    <tr>\n",
       "      <th>B</th>\n",
       "      <td>-0.871636</td>\n",
       "      <td>-1.789480</td>\n",
       "    </tr>\n",
       "    <tr>\n",
       "      <th rowspan=\"2\" valign=\"top\">two</th>\n",
       "      <th>A</th>\n",
       "      <td>-0.005910</td>\n",
       "      <td>-1.084363</td>\n",
       "    </tr>\n",
       "    <tr>\n",
       "      <th>B</th>\n",
       "      <td>-1.909082</td>\n",
       "      <td>-1.162248</td>\n",
       "    </tr>\n",
       "  </tbody>\n",
       "</table>\n",
       "</div>"
      ],
      "text/plain": [
       "first           bar       baz\n",
       "seconds                      \n",
       "one     A -0.418519 -0.227868\n",
       "        B -0.871636 -1.789480\n",
       "two     A -0.005910 -1.084363\n",
       "        B -1.909082 -1.162248"
      ]
     },
     "execution_count": 104,
     "metadata": {},
     "output_type": "execute_result"
    }
   ],
   "source": [
    "stacked.unstack(level=0)"
   ]
  },
  {
   "cell_type": "markdown",
   "metadata": {},
   "source": [
    "## 数据透视表"
   ]
  },
  {
   "cell_type": "markdown",
   "metadata": {},
   "source": [
    "### 查看数据透视表"
   ]
  },
  {
   "cell_type": "code",
   "execution_count": 105,
   "metadata": {},
   "outputs": [],
   "source": [
    "df = pd.DataFrame({'A': ['one', 'one', 'two', 'three'] * 3,\n",
    "                   'B': ['A', 'B', 'C'] * 4,\n",
    "                   'C': ['foo', 'foo', 'foo', 'bar', 'bar', 'bar'] * 2,\n",
    "                   'D': np.random.randn(12),\n",
    "                   'E': np.random.randn(12)})"
   ]
  },
  {
   "cell_type": "code",
   "execution_count": 106,
   "metadata": {},
   "outputs": [
    {
     "data": {
      "text/html": [
       "<div>\n",
       "<style>\n",
       "    .dataframe thead tr:only-child th {\n",
       "        text-align: right;\n",
       "    }\n",
       "\n",
       "    .dataframe thead th {\n",
       "        text-align: left;\n",
       "    }\n",
       "\n",
       "    .dataframe tbody tr th {\n",
       "        vertical-align: top;\n",
       "    }\n",
       "</style>\n",
       "<table border=\"1\" class=\"dataframe\">\n",
       "  <thead>\n",
       "    <tr style=\"text-align: right;\">\n",
       "      <th></th>\n",
       "      <th>A</th>\n",
       "      <th>B</th>\n",
       "      <th>C</th>\n",
       "      <th>D</th>\n",
       "      <th>E</th>\n",
       "    </tr>\n",
       "  </thead>\n",
       "  <tbody>\n",
       "    <tr>\n",
       "      <th>0</th>\n",
       "      <td>one</td>\n",
       "      <td>A</td>\n",
       "      <td>foo</td>\n",
       "      <td>0.156289</td>\n",
       "      <td>0.165120</td>\n",
       "    </tr>\n",
       "    <tr>\n",
       "      <th>1</th>\n",
       "      <td>one</td>\n",
       "      <td>B</td>\n",
       "      <td>foo</td>\n",
       "      <td>0.513558</td>\n",
       "      <td>0.624124</td>\n",
       "    </tr>\n",
       "    <tr>\n",
       "      <th>2</th>\n",
       "      <td>two</td>\n",
       "      <td>C</td>\n",
       "      <td>foo</td>\n",
       "      <td>0.732072</td>\n",
       "      <td>-0.157862</td>\n",
       "    </tr>\n",
       "    <tr>\n",
       "      <th>3</th>\n",
       "      <td>three</td>\n",
       "      <td>A</td>\n",
       "      <td>bar</td>\n",
       "      <td>0.266838</td>\n",
       "      <td>-0.126594</td>\n",
       "    </tr>\n",
       "    <tr>\n",
       "      <th>4</th>\n",
       "      <td>one</td>\n",
       "      <td>B</td>\n",
       "      <td>bar</td>\n",
       "      <td>-1.660806</td>\n",
       "      <td>-0.314602</td>\n",
       "    </tr>\n",
       "    <tr>\n",
       "      <th>5</th>\n",
       "      <td>one</td>\n",
       "      <td>C</td>\n",
       "      <td>bar</td>\n",
       "      <td>1.862678</td>\n",
       "      <td>0.583574</td>\n",
       "    </tr>\n",
       "    <tr>\n",
       "      <th>6</th>\n",
       "      <td>two</td>\n",
       "      <td>A</td>\n",
       "      <td>foo</td>\n",
       "      <td>0.385399</td>\n",
       "      <td>1.258570</td>\n",
       "    </tr>\n",
       "    <tr>\n",
       "      <th>7</th>\n",
       "      <td>three</td>\n",
       "      <td>B</td>\n",
       "      <td>foo</td>\n",
       "      <td>0.576806</td>\n",
       "      <td>-0.261224</td>\n",
       "    </tr>\n",
       "    <tr>\n",
       "      <th>8</th>\n",
       "      <td>one</td>\n",
       "      <td>C</td>\n",
       "      <td>foo</td>\n",
       "      <td>0.264731</td>\n",
       "      <td>-0.643306</td>\n",
       "    </tr>\n",
       "    <tr>\n",
       "      <th>9</th>\n",
       "      <td>one</td>\n",
       "      <td>A</td>\n",
       "      <td>bar</td>\n",
       "      <td>1.312681</td>\n",
       "      <td>-0.210303</td>\n",
       "    </tr>\n",
       "    <tr>\n",
       "      <th>10</th>\n",
       "      <td>two</td>\n",
       "      <td>B</td>\n",
       "      <td>bar</td>\n",
       "      <td>-2.137517</td>\n",
       "      <td>-1.861849</td>\n",
       "    </tr>\n",
       "    <tr>\n",
       "      <th>11</th>\n",
       "      <td>three</td>\n",
       "      <td>C</td>\n",
       "      <td>bar</td>\n",
       "      <td>0.815101</td>\n",
       "      <td>0.495082</td>\n",
       "    </tr>\n",
       "  </tbody>\n",
       "</table>\n",
       "</div>"
      ],
      "text/plain": [
       "        A  B    C         D         E\n",
       "0     one  A  foo  0.156289  0.165120\n",
       "1     one  B  foo  0.513558  0.624124\n",
       "2     two  C  foo  0.732072 -0.157862\n",
       "3   three  A  bar  0.266838 -0.126594\n",
       "4     one  B  bar -1.660806 -0.314602\n",
       "5     one  C  bar  1.862678  0.583574\n",
       "6     two  A  foo  0.385399  1.258570\n",
       "7   three  B  foo  0.576806 -0.261224\n",
       "8     one  C  foo  0.264731 -0.643306\n",
       "9     one  A  bar  1.312681 -0.210303\n",
       "10    two  B  bar -2.137517 -1.861849\n",
       "11  three  C  bar  0.815101  0.495082"
      ]
     },
     "execution_count": 106,
     "metadata": {},
     "output_type": "execute_result"
    }
   ],
   "source": [
    "df"
   ]
  },
  {
   "cell_type": "markdown",
   "metadata": {},
   "source": [
    "### 我们可以从上面的数据中, 非常容易的产生数据透视表:"
   ]
  },
  {
   "cell_type": "code",
   "execution_count": 107,
   "metadata": {},
   "outputs": [
    {
     "data": {
      "text/html": [
       "<div>\n",
       "<style>\n",
       "    .dataframe thead tr:only-child th {\n",
       "        text-align: right;\n",
       "    }\n",
       "\n",
       "    .dataframe thead th {\n",
       "        text-align: left;\n",
       "    }\n",
       "\n",
       "    .dataframe tbody tr th {\n",
       "        vertical-align: top;\n",
       "    }\n",
       "</style>\n",
       "<table border=\"1\" class=\"dataframe\">\n",
       "  <thead>\n",
       "    <tr style=\"text-align: right;\">\n",
       "      <th></th>\n",
       "      <th>C</th>\n",
       "      <th>bar</th>\n",
       "      <th>foo</th>\n",
       "    </tr>\n",
       "    <tr>\n",
       "      <th>A</th>\n",
       "      <th>B</th>\n",
       "      <th></th>\n",
       "      <th></th>\n",
       "    </tr>\n",
       "  </thead>\n",
       "  <tbody>\n",
       "    <tr>\n",
       "      <th rowspan=\"3\" valign=\"top\">one</th>\n",
       "      <th>A</th>\n",
       "      <td>1.312681</td>\n",
       "      <td>0.156289</td>\n",
       "    </tr>\n",
       "    <tr>\n",
       "      <th>B</th>\n",
       "      <td>-1.660806</td>\n",
       "      <td>0.513558</td>\n",
       "    </tr>\n",
       "    <tr>\n",
       "      <th>C</th>\n",
       "      <td>1.862678</td>\n",
       "      <td>0.264731</td>\n",
       "    </tr>\n",
       "    <tr>\n",
       "      <th rowspan=\"3\" valign=\"top\">three</th>\n",
       "      <th>A</th>\n",
       "      <td>0.266838</td>\n",
       "      <td>NaN</td>\n",
       "    </tr>\n",
       "    <tr>\n",
       "      <th>B</th>\n",
       "      <td>NaN</td>\n",
       "      <td>0.576806</td>\n",
       "    </tr>\n",
       "    <tr>\n",
       "      <th>C</th>\n",
       "      <td>0.815101</td>\n",
       "      <td>NaN</td>\n",
       "    </tr>\n",
       "    <tr>\n",
       "      <th rowspan=\"3\" valign=\"top\">two</th>\n",
       "      <th>A</th>\n",
       "      <td>NaN</td>\n",
       "      <td>0.385399</td>\n",
       "    </tr>\n",
       "    <tr>\n",
       "      <th>B</th>\n",
       "      <td>-2.137517</td>\n",
       "      <td>NaN</td>\n",
       "    </tr>\n",
       "    <tr>\n",
       "      <th>C</th>\n",
       "      <td>NaN</td>\n",
       "      <td>0.732072</td>\n",
       "    </tr>\n",
       "  </tbody>\n",
       "</table>\n",
       "</div>"
      ],
      "text/plain": [
       "C             bar       foo\n",
       "A     B                    \n",
       "one   A  1.312681  0.156289\n",
       "      B -1.660806  0.513558\n",
       "      C  1.862678  0.264731\n",
       "three A  0.266838       NaN\n",
       "      B       NaN  0.576806\n",
       "      C  0.815101       NaN\n",
       "two   A       NaN  0.385399\n",
       "      B -2.137517       NaN\n",
       "      C       NaN  0.732072"
      ]
     },
     "execution_count": 107,
     "metadata": {},
     "output_type": "execute_result"
    }
   ],
   "source": [
    "pd.pivot_table(df, values='D', index=['A', 'B'], columns=['C'])"
   ]
  },
  {
   "cell_type": "markdown",
   "metadata": {},
   "source": [
    "# 时间序列"
   ]
  },
  {
   "cell_type": "markdown",
   "metadata": {},
   "source": [
    "pandas 有易用, 强大且高效的函数用于高频数据重采样转换操作(例如: 转换秒数据到5分钟数据).   \n",
    "这是很普通的情况, 但不局限于金融应用."
   ]
  },
  {
   "cell_type": "markdown",
   "metadata": {},
   "source": [
    "### 重新采样:"
   ]
  },
  {
   "cell_type": "code",
   "execution_count": 108,
   "metadata": {},
   "outputs": [],
   "source": [
    "rng = pd.date_range('1/1/2012', periods=100, freq='S')"
   ]
  },
  {
   "cell_type": "code",
   "execution_count": 109,
   "metadata": {},
   "outputs": [],
   "source": [
    "ts = pd.Series(np.random.randint(0, 500, len(rng)), index=rng)"
   ]
  },
  {
   "cell_type": "code",
   "execution_count": 110,
   "metadata": {},
   "outputs": [
    {
     "data": {
      "text/plain": [
       "2012-01-01    21930\n",
       "Freq: 5T, dtype: int64"
      ]
     },
     "execution_count": 110,
     "metadata": {},
     "output_type": "execute_result"
    }
   ],
   "source": [
    "ts.resample('5MIN').sum()"
   ]
  },
  {
   "cell_type": "markdown",
   "metadata": {},
   "source": [
    "### 时区表示:"
   ]
  },
  {
   "cell_type": "code",
   "execution_count": 111,
   "metadata": {
    "collapsed": true
   },
   "outputs": [],
   "source": [
    "rng = pd.date_range('3/6/2012 00:00', periods=5, freq='D')"
   ]
  },
  {
   "cell_type": "code",
   "execution_count": 112,
   "metadata": {
    "collapsed": true
   },
   "outputs": [],
   "source": [
    "ts = pd.Series(np.random.randn(len(rng)), index=rng)"
   ]
  },
  {
   "cell_type": "code",
   "execution_count": 113,
   "metadata": {},
   "outputs": [
    {
     "data": {
      "text/plain": [
       "2012-03-06   -0.073222\n",
       "2012-03-07    0.881658\n",
       "2012-03-08    0.370263\n",
       "2012-03-09   -0.292154\n",
       "2012-03-10    0.027868\n",
       "Freq: D, dtype: float64"
      ]
     },
     "execution_count": 113,
     "metadata": {},
     "output_type": "execute_result"
    }
   ],
   "source": [
    "ts"
   ]
  },
  {
   "cell_type": "code",
   "execution_count": 114,
   "metadata": {
    "collapsed": true
   },
   "outputs": [],
   "source": [
    "ts_utc = ts.tz_localize('UTC')"
   ]
  },
  {
   "cell_type": "code",
   "execution_count": 115,
   "metadata": {},
   "outputs": [
    {
     "data": {
      "text/plain": [
       "2012-03-06 00:00:00+00:00   -0.073222\n",
       "2012-03-07 00:00:00+00:00    0.881658\n",
       "2012-03-08 00:00:00+00:00    0.370263\n",
       "2012-03-09 00:00:00+00:00   -0.292154\n",
       "2012-03-10 00:00:00+00:00    0.027868\n",
       "Freq: D, dtype: float64"
      ]
     },
     "execution_count": 115,
     "metadata": {},
     "output_type": "execute_result"
    }
   ],
   "source": [
    "ts_utc"
   ]
  },
  {
   "cell_type": "markdown",
   "metadata": {},
   "source": [
    "### 转换到其它时区:"
   ]
  },
  {
   "cell_type": "code",
   "execution_count": 116,
   "metadata": {},
   "outputs": [
    {
     "data": {
      "text/plain": [
       "2012-03-05 19:00:00-05:00   -0.073222\n",
       "2012-03-06 19:00:00-05:00    0.881658\n",
       "2012-03-07 19:00:00-05:00    0.370263\n",
       "2012-03-08 19:00:00-05:00   -0.292154\n",
       "2012-03-09 19:00:00-05:00    0.027868\n",
       "Freq: D, dtype: float64"
      ]
     },
     "execution_count": 116,
     "metadata": {},
     "output_type": "execute_result"
    }
   ],
   "source": [
    "ts_utc.tz_convert('US/Eastern')"
   ]
  },
  {
   "cell_type": "markdown",
   "metadata": {},
   "source": [
    "### 转换不同的时间跨度:"
   ]
  },
  {
   "cell_type": "code",
   "execution_count": 117,
   "metadata": {
    "collapsed": true
   },
   "outputs": [],
   "source": [
    "rng = pd.date_range('1/1/2012', periods=5, freq='M')"
   ]
  },
  {
   "cell_type": "code",
   "execution_count": 118,
   "metadata": {},
   "outputs": [],
   "source": [
    "ts = pd.Series(np.random.randn(len(rng)), index=rng)"
   ]
  },
  {
   "cell_type": "code",
   "execution_count": 119,
   "metadata": {},
   "outputs": [
    {
     "data": {
      "text/plain": [
       "2012-01-31   -1.754747\n",
       "2012-02-29    0.131109\n",
       "2012-03-31    0.054503\n",
       "2012-04-30    1.074427\n",
       "2012-05-31    0.777613\n",
       "Freq: M, dtype: float64"
      ]
     },
     "execution_count": 119,
     "metadata": {},
     "output_type": "execute_result"
    }
   ],
   "source": [
    "ts"
   ]
  },
  {
   "cell_type": "code",
   "execution_count": 120,
   "metadata": {
    "collapsed": true
   },
   "outputs": [],
   "source": [
    "ps = ts.to_period()"
   ]
  },
  {
   "cell_type": "code",
   "execution_count": 121,
   "metadata": {},
   "outputs": [
    {
     "data": {
      "text/plain": [
       "2012-01   -1.754747\n",
       "2012-02    0.131109\n",
       "2012-03    0.054503\n",
       "2012-04    1.074427\n",
       "2012-05    0.777613\n",
       "Freq: M, dtype: float64"
      ]
     },
     "execution_count": 121,
     "metadata": {},
     "output_type": "execute_result"
    }
   ],
   "source": [
    "ps"
   ]
  },
  {
   "cell_type": "code",
   "execution_count": 122,
   "metadata": {},
   "outputs": [
    {
     "data": {
      "text/plain": [
       "2012-01-01   -1.754747\n",
       "2012-02-01    0.131109\n",
       "2012-03-01    0.054503\n",
       "2012-04-01    1.074427\n",
       "2012-05-01    0.777613\n",
       "Freq: MS, dtype: float64"
      ]
     },
     "execution_count": 122,
     "metadata": {},
     "output_type": "execute_result"
    }
   ],
   "source": [
    "ps.to_timestamp()"
   ]
  },
  {
   "cell_type": "markdown",
   "metadata": {},
   "source": [
    "### 转换时段, 并且使用一些运算函数. 下例中, 我们转换年报11月到季度结束每日上午9点的数据:"
   ]
  },
  {
   "cell_type": "code",
   "execution_count": 123,
   "metadata": {
    "collapsed": true
   },
   "outputs": [],
   "source": [
    "prng = pd.period_range('1990Q1', '2004Q4', freq='Q-NOV')"
   ]
  },
  {
   "cell_type": "code",
   "execution_count": 124,
   "metadata": {
    "collapsed": true
   },
   "outputs": [],
   "source": [
    "ts = pd.Series(np.random.randn(len(prng)), index=prng)"
   ]
  },
  {
   "cell_type": "code",
   "execution_count": 125,
   "metadata": {},
   "outputs": [
    {
     "data": {
      "text/plain": [
       "1990Q1    1.755814\n",
       "1990Q2    0.167151\n",
       "1990Q3    0.327848\n",
       "1990Q4    0.227269\n",
       "1991Q1    1.055252\n",
       "Freq: Q-NOV, dtype: float64"
      ]
     },
     "execution_count": 125,
     "metadata": {},
     "output_type": "execute_result"
    }
   ],
   "source": [
    "ts.head()"
   ]
  },
  {
   "cell_type": "code",
   "execution_count": 126,
   "metadata": {
    "collapsed": true
   },
   "outputs": [],
   "source": [
    "ts.index = (prng.asfreq('M', 'e') + 1).asfreq('H', 's') + 9"
   ]
  },
  {
   "cell_type": "code",
   "execution_count": 127,
   "metadata": {},
   "outputs": [
    {
     "data": {
      "text/plain": [
       "1990-03-01 09:00    1.755814\n",
       "1990-06-01 09:00    0.167151\n",
       "1990-09-01 09:00    0.327848\n",
       "1990-12-01 09:00    0.227269\n",
       "1991-03-01 09:00    1.055252\n",
       "Freq: H, dtype: float64"
      ]
     },
     "execution_count": 127,
     "metadata": {},
     "output_type": "execute_result"
    }
   ],
   "source": [
    "ts.head()"
   ]
  },
  {
   "cell_type": "markdown",
   "metadata": {},
   "source": [
    "# 分类"
   ]
  },
  {
   "cell_type": "code",
   "execution_count": 128,
   "metadata": {
    "collapsed": true
   },
   "outputs": [],
   "source": [
    "df = pd.DataFrame({'id': [1, 2, 3, 4, 5, 6], 'raw_grade': ['a', 'b', 'b', 'a', 'a', 'e']})"
   ]
  },
  {
   "cell_type": "markdown",
   "metadata": {},
   "source": [
    "### 转换原始类别为分类数据类型:"
   ]
  },
  {
   "cell_type": "code",
   "execution_count": 129,
   "metadata": {
    "collapsed": true
   },
   "outputs": [],
   "source": [
    "df['grade'] = df['raw_grade'].astype('category')"
   ]
  },
  {
   "cell_type": "code",
   "execution_count": 130,
   "metadata": {},
   "outputs": [
    {
     "data": {
      "text/plain": [
       "0    a\n",
       "1    b\n",
       "2    b\n",
       "3    a\n",
       "4    a\n",
       "5    e\n",
       "Name: grade, dtype: category\n",
       "Categories (3, object): [a, b, e]"
      ]
     },
     "execution_count": 130,
     "metadata": {},
     "output_type": "execute_result"
    }
   ],
   "source": [
    "df['grade']"
   ]
  },
  {
   "cell_type": "markdown",
   "metadata": {},
   "source": [
    "### 重命名分类为更有意义的名称(分配到 Series.cat.categories 对应位置):"
   ]
  },
  {
   "cell_type": "code",
   "execution_count": 131,
   "metadata": {},
   "outputs": [],
   "source": [
    "df['grade'].cat.categories = ['very good', 'good', 'very bad']"
   ]
  },
  {
   "cell_type": "code",
   "execution_count": 132,
   "metadata": {},
   "outputs": [
    {
     "data": {
      "text/plain": [
       "0    very good\n",
       "1         good\n",
       "2         good\n",
       "3    very good\n",
       "4    very good\n",
       "5     very bad\n",
       "Name: grade, dtype: category\n",
       "Categories (3, object): [very good, good, very bad]"
      ]
     },
     "execution_count": 132,
     "metadata": {},
     "output_type": "execute_result"
    }
   ],
   "source": [
    "df['grade']"
   ]
  },
  {
   "cell_type": "markdown",
   "metadata": {},
   "source": [
    "### 重排顺分类, 同时添加缺少的分类(序列 .cat 方法下返回新默认序列):"
   ]
  },
  {
   "cell_type": "code",
   "execution_count": 133,
   "metadata": {},
   "outputs": [],
   "source": [
    "df['grade'] = df['grade'].cat.set_categories(['very bad', 'bad', 'medium', 'good', 'very good'])"
   ]
  },
  {
   "cell_type": "code",
   "execution_count": 134,
   "metadata": {},
   "outputs": [
    {
     "data": {
      "text/plain": [
       "0    very good\n",
       "1         good\n",
       "2         good\n",
       "3    very good\n",
       "4    very good\n",
       "5     very bad\n",
       "Name: grade, dtype: category\n",
       "Categories (5, object): [very bad, bad, medium, good, very good]"
      ]
     },
     "execution_count": 134,
     "metadata": {},
     "output_type": "execute_result"
    }
   ],
   "source": [
    "df['grade']"
   ]
  },
  {
   "cell_type": "markdown",
   "metadata": {},
   "source": [
    "### 排列分类中的顺序(不是按词汇排列):"
   ]
  },
  {
   "cell_type": "code",
   "execution_count": 135,
   "metadata": {},
   "outputs": [
    {
     "data": {
      "text/html": [
       "<div>\n",
       "<style>\n",
       "    .dataframe thead tr:only-child th {\n",
       "        text-align: right;\n",
       "    }\n",
       "\n",
       "    .dataframe thead th {\n",
       "        text-align: left;\n",
       "    }\n",
       "\n",
       "    .dataframe tbody tr th {\n",
       "        vertical-align: top;\n",
       "    }\n",
       "</style>\n",
       "<table border=\"1\" class=\"dataframe\">\n",
       "  <thead>\n",
       "    <tr style=\"text-align: right;\">\n",
       "      <th></th>\n",
       "      <th>id</th>\n",
       "      <th>raw_grade</th>\n",
       "      <th>grade</th>\n",
       "    </tr>\n",
       "  </thead>\n",
       "  <tbody>\n",
       "    <tr>\n",
       "      <th>5</th>\n",
       "      <td>6</td>\n",
       "      <td>e</td>\n",
       "      <td>very bad</td>\n",
       "    </tr>\n",
       "    <tr>\n",
       "      <th>1</th>\n",
       "      <td>2</td>\n",
       "      <td>b</td>\n",
       "      <td>good</td>\n",
       "    </tr>\n",
       "    <tr>\n",
       "      <th>2</th>\n",
       "      <td>3</td>\n",
       "      <td>b</td>\n",
       "      <td>good</td>\n",
       "    </tr>\n",
       "    <tr>\n",
       "      <th>0</th>\n",
       "      <td>1</td>\n",
       "      <td>a</td>\n",
       "      <td>very good</td>\n",
       "    </tr>\n",
       "    <tr>\n",
       "      <th>3</th>\n",
       "      <td>4</td>\n",
       "      <td>a</td>\n",
       "      <td>very good</td>\n",
       "    </tr>\n",
       "    <tr>\n",
       "      <th>4</th>\n",
       "      <td>5</td>\n",
       "      <td>a</td>\n",
       "      <td>very good</td>\n",
       "    </tr>\n",
       "  </tbody>\n",
       "</table>\n",
       "</div>"
      ],
      "text/plain": [
       "   id raw_grade      grade\n",
       "5   6         e   very bad\n",
       "1   2         b       good\n",
       "2   3         b       good\n",
       "0   1         a  very good\n",
       "3   4         a  very good\n",
       "4   5         a  very good"
      ]
     },
     "execution_count": 135,
     "metadata": {},
     "output_type": "execute_result"
    }
   ],
   "source": [
    "df.sort_values('grade')"
   ]
  },
  {
   "cell_type": "markdown",
   "metadata": {},
   "source": [
    "### 类别列分组, 并且也显示空类别:"
   ]
  },
  {
   "cell_type": "code",
   "execution_count": 136,
   "metadata": {},
   "outputs": [
    {
     "data": {
      "text/plain": [
       "grade\n",
       "very bad     1\n",
       "bad          0\n",
       "medium       0\n",
       "good         2\n",
       "very good    3\n",
       "dtype: int64"
      ]
     },
     "execution_count": 136,
     "metadata": {},
     "output_type": "execute_result"
    }
   ],
   "source": [
    "df.groupby('grade').size()"
   ]
  },
  {
   "cell_type": "markdown",
   "metadata": {},
   "source": [
    "# 绘画"
   ]
  },
  {
   "cell_type": "code",
   "execution_count": 137,
   "metadata": {},
   "outputs": [],
   "source": [
    "ts = pd.Series(np.random.randn(1000), index=pd.date_range('1/1/2000', periods=1000))"
   ]
  },
  {
   "cell_type": "code",
   "execution_count": 138,
   "metadata": {},
   "outputs": [],
   "source": [
    "ts = ts.cumsum()"
   ]
  },
  {
   "cell_type": "code",
   "execution_count": 139,
   "metadata": {},
   "outputs": [
    {
     "data": {
      "text/plain": [
       "<matplotlib.axes._subplots.AxesSubplot at 0x10a9f4d90>"
      ]
     },
     "execution_count": 139,
     "metadata": {},
     "output_type": "execute_result"
    }
   ],
   "source": [
    "ts.plot()"
   ]
  },
  {
   "cell_type": "code",
   "execution_count": 140,
   "metadata": {},
   "outputs": [
    {
     "data": {
      "image/png": "[encoded data removed]",
      "text/plain": [
       "<matplotlib.figure.Figure at 0x10a88c050>"
      ]
     },
     "metadata": {},
     "output_type": "display_data"
    }
   ],
   "source": [
    "plt.show()"
   ]
  },
  {
   "cell_type": "markdown",
   "metadata": {},
   "source": [
    "### 在数据帧中, 可以很方便的绘制带标签列:"
   ]
  },
  {
   "cell_type": "code",
   "execution_count": 141,
   "metadata": {
    "collapsed": true
   },
   "outputs": [],
   "source": [
    "df = pd.DataFrame(np.random.randn(1000, 4), index=ts.index, columns=['A', 'B', 'C', 'D'])"
   ]
  },
  {
   "cell_type": "code",
   "execution_count": 142,
   "metadata": {
    "collapsed": true
   },
   "outputs": [],
   "source": [
    "df = df.cumsum()"
   ]
  },
  {
   "cell_type": "code",
   "execution_count": 143,
   "metadata": {},
   "outputs": [
    {
     "data": {
      "text/plain": [
       "<matplotlib.legend.Legend at 0x10aafc110>"
      ]
     },
     "execution_count": 143,
     "metadata": {},
     "output_type": "execute_result"
    }
   ],
   "source": [
    "plt.figure()\n",
    "df.plot()\n",
    "plt.legend(loc='best')"
   ]
  },
  {
   "cell_type": "code",
   "execution_count": 144,
   "metadata": {},
   "outputs": [
    {
     "data": {
      "text/plain": [
       "<matplotlib.figure.Figure at 0x10ab2f690>"
      ]
     },
     "metadata": {},
     "output_type": "display_data"
    },
    {
     "data": {
      "image/png": "[encoded data removed]",
      "text/plain": [
       "<matplotlib.figure.Figure at 0x10aafccd0>"
      ]
     },
     "metadata": {},
     "output_type": "display_data"
    }
   ],
   "source": [
    "plt.show()"
   ]
  },
  {
   "cell_type": "markdown",
   "metadata": {},
   "source": [
    "# 获取数据输入/输出"
   ]
  },
  {
   "cell_type": "markdown",
   "metadata": {},
   "source": [
    "## CSV"
   ]
  },
  {
   "cell_type": "markdown",
   "metadata": {},
   "source": [
    "### 写入 csv 文件:"
   ]
  },
  {
   "cell_type": "code",
   "execution_count": 164,
   "metadata": {},
   "outputs": [],
   "source": [
    "df.to_csv('temp_file_foo.csv')"
   ]
  },
  {
   "cell_type": "markdown",
   "metadata": {},
   "source": [
    "### 读取 csv 文件:"
   ]
  },
  {
   "cell_type": "code",
   "execution_count": 165,
   "metadata": {},
   "outputs": [
    {
     "data": {
      "text/html": [
       "<div>\n",
       "<style>\n",
       "    .dataframe thead tr:only-child th {\n",
       "        text-align: right;\n",
       "    }\n",
       "\n",
       "    .dataframe thead th {\n",
       "        text-align: left;\n",
       "    }\n",
       "\n",
       "    .dataframe tbody tr th {\n",
       "        vertical-align: top;\n",
       "    }\n",
       "</style>\n",
       "<table border=\"1\" class=\"dataframe\">\n",
       "  <thead>\n",
       "    <tr style=\"text-align: right;\">\n",
       "      <th></th>\n",
       "      <th>Unnamed: 0</th>\n",
       "      <th>A</th>\n",
       "      <th>B</th>\n",
       "      <th>C</th>\n",
       "      <th>D</th>\n",
       "    </tr>\n",
       "  </thead>\n",
       "  <tbody>\n",
       "    <tr>\n",
       "      <th>0</th>\n",
       "      <td>2000-01-01</td>\n",
       "      <td>1.430209</td>\n",
       "      <td>1.968558</td>\n",
       "      <td>0.059136</td>\n",
       "      <td>0.787193</td>\n",
       "    </tr>\n",
       "    <tr>\n",
       "      <th>1</th>\n",
       "      <td>2000-01-02</td>\n",
       "      <td>-0.234998</td>\n",
       "      <td>3.073035</td>\n",
       "      <td>0.015335</td>\n",
       "      <td>0.830999</td>\n",
       "    </tr>\n",
       "    <tr>\n",
       "      <th>2</th>\n",
       "      <td>2000-01-03</td>\n",
       "      <td>-0.241807</td>\n",
       "      <td>4.134931</td>\n",
       "      <td>0.385721</td>\n",
       "      <td>1.258130</td>\n",
       "    </tr>\n",
       "    <tr>\n",
       "      <th>3</th>\n",
       "      <td>2000-01-04</td>\n",
       "      <td>1.464606</td>\n",
       "      <td>4.209923</td>\n",
       "      <td>0.230619</td>\n",
       "      <td>0.429119</td>\n",
       "    </tr>\n",
       "    <tr>\n",
       "      <th>4</th>\n",
       "      <td>2000-01-05</td>\n",
       "      <td>0.367327</td>\n",
       "      <td>4.363223</td>\n",
       "      <td>0.672987</td>\n",
       "      <td>0.789575</td>\n",
       "    </tr>\n",
       "    <tr>\n",
       "      <th>5</th>\n",
       "      <td>2000-01-06</td>\n",
       "      <td>1.268073</td>\n",
       "      <td>3.918725</td>\n",
       "      <td>1.255792</td>\n",
       "      <td>1.244330</td>\n",
       "    </tr>\n",
       "    <tr>\n",
       "      <th>6</th>\n",
       "      <td>2000-01-07</td>\n",
       "      <td>2.387129</td>\n",
       "      <td>4.017914</td>\n",
       "      <td>0.079637</td>\n",
       "      <td>1.546735</td>\n",
       "    </tr>\n",
       "    <tr>\n",
       "      <th>7</th>\n",
       "      <td>2000-01-08</td>\n",
       "      <td>1.106200</td>\n",
       "      <td>3.240994</td>\n",
       "      <td>0.373326</td>\n",
       "      <td>-0.349003</td>\n",
       "    </tr>\n",
       "    <tr>\n",
       "      <th>8</th>\n",
       "      <td>2000-01-09</td>\n",
       "      <td>1.019777</td>\n",
       "      <td>2.466453</td>\n",
       "      <td>-2.243106</td>\n",
       "      <td>-1.864587</td>\n",
       "    </tr>\n",
       "    <tr>\n",
       "      <th>9</th>\n",
       "      <td>2000-01-10</td>\n",
       "      <td>-1.542208</td>\n",
       "      <td>2.772979</td>\n",
       "      <td>-3.688410</td>\n",
       "      <td>-2.248906</td>\n",
       "    </tr>\n",
       "    <tr>\n",
       "      <th>10</th>\n",
       "      <td>2000-01-11</td>\n",
       "      <td>-1.777438</td>\n",
       "      <td>3.625848</td>\n",
       "      <td>-5.821678</td>\n",
       "      <td>-1.532559</td>\n",
       "    </tr>\n",
       "    <tr>\n",
       "      <th>11</th>\n",
       "      <td>2000-01-12</td>\n",
       "      <td>-2.005296</td>\n",
       "      <td>3.819033</td>\n",
       "      <td>-6.124295</td>\n",
       "      <td>-2.025544</td>\n",
       "    </tr>\n",
       "    <tr>\n",
       "      <th>12</th>\n",
       "      <td>2000-01-13</td>\n",
       "      <td>-1.743464</td>\n",
       "      <td>3.844066</td>\n",
       "      <td>-6.554532</td>\n",
       "      <td>-2.354579</td>\n",
       "    </tr>\n",
       "    <tr>\n",
       "      <th>13</th>\n",
       "      <td>2000-01-14</td>\n",
       "      <td>-2.958626</td>\n",
       "      <td>5.737469</td>\n",
       "      <td>-6.375542</td>\n",
       "      <td>-1.026260</td>\n",
       "    </tr>\n",
       "    <tr>\n",
       "      <th>14</th>\n",
       "      <td>2000-01-15</td>\n",
       "      <td>-3.423093</td>\n",
       "      <td>7.367664</td>\n",
       "      <td>-6.908032</td>\n",
       "      <td>-0.200584</td>\n",
       "    </tr>\n",
       "    <tr>\n",
       "      <th>15</th>\n",
       "      <td>2000-01-16</td>\n",
       "      <td>-3.493832</td>\n",
       "      <td>7.712164</td>\n",
       "      <td>-6.564161</td>\n",
       "      <td>0.602924</td>\n",
       "    </tr>\n",
       "    <tr>\n",
       "      <th>16</th>\n",
       "      <td>2000-01-17</td>\n",
       "      <td>-3.271499</td>\n",
       "      <td>9.695876</td>\n",
       "      <td>-8.659906</td>\n",
       "      <td>0.428741</td>\n",
       "    </tr>\n",
       "    <tr>\n",
       "      <th>17</th>\n",
       "      <td>2000-01-18</td>\n",
       "      <td>-1.715292</td>\n",
       "      <td>8.814352</td>\n",
       "      <td>-8.959866</td>\n",
       "      <td>-0.029788</td>\n",
       "    </tr>\n",
       "    <tr>\n",
       "      <th>18</th>\n",
       "      <td>2000-01-19</td>\n",
       "      <td>-0.868376</td>\n",
       "      <td>9.159422</td>\n",
       "      <td>-9.896221</td>\n",
       "      <td>-0.841283</td>\n",
       "    </tr>\n",
       "    <tr>\n",
       "      <th>19</th>\n",
       "      <td>2000-01-20</td>\n",
       "      <td>-1.891230</td>\n",
       "      <td>7.932375</td>\n",
       "      <td>-10.239585</td>\n",
       "      <td>-1.543620</td>\n",
       "    </tr>\n",
       "    <tr>\n",
       "      <th>20</th>\n",
       "      <td>2000-01-21</td>\n",
       "      <td>-1.701002</td>\n",
       "      <td>8.920038</td>\n",
       "      <td>-9.866394</td>\n",
       "      <td>-2.599421</td>\n",
       "    </tr>\n",
       "    <tr>\n",
       "      <th>21</th>\n",
       "      <td>2000-01-22</td>\n",
       "      <td>-0.750499</td>\n",
       "      <td>7.395939</td>\n",
       "      <td>-11.035529</td>\n",
       "      <td>-3.257941</td>\n",
       "    </tr>\n",
       "    <tr>\n",
       "      <th>22</th>\n",
       "      <td>2000-01-23</td>\n",
       "      <td>-1.675414</td>\n",
       "      <td>7.002728</td>\n",
       "      <td>-11.297541</td>\n",
       "      <td>-2.168398</td>\n",
       "    </tr>\n",
       "    <tr>\n",
       "      <th>23</th>\n",
       "      <td>2000-01-24</td>\n",
       "      <td>-1.413435</td>\n",
       "      <td>7.153812</td>\n",
       "      <td>-11.094758</td>\n",
       "      <td>-2.185382</td>\n",
       "    </tr>\n",
       "    <tr>\n",
       "      <th>24</th>\n",
       "      <td>2000-01-25</td>\n",
       "      <td>-1.339756</td>\n",
       "      <td>8.303494</td>\n",
       "      <td>-9.624411</td>\n",
       "      <td>-1.495382</td>\n",
       "    </tr>\n",
       "    <tr>\n",
       "      <th>25</th>\n",
       "      <td>2000-01-26</td>\n",
       "      <td>-0.576648</td>\n",
       "      <td>6.473003</td>\n",
       "      <td>-10.640022</td>\n",
       "      <td>-1.202992</td>\n",
       "    </tr>\n",
       "    <tr>\n",
       "      <th>26</th>\n",
       "      <td>2000-01-27</td>\n",
       "      <td>0.902681</td>\n",
       "      <td>7.198763</td>\n",
       "      <td>-10.408833</td>\n",
       "      <td>-1.245150</td>\n",
       "    </tr>\n",
       "    <tr>\n",
       "      <th>27</th>\n",
       "      <td>2000-01-28</td>\n",
       "      <td>0.048598</td>\n",
       "      <td>7.860930</td>\n",
       "      <td>-10.980234</td>\n",
       "      <td>-2.984969</td>\n",
       "    </tr>\n",
       "    <tr>\n",
       "      <th>28</th>\n",
       "      <td>2000-01-29</td>\n",
       "      <td>-1.708985</td>\n",
       "      <td>8.720969</td>\n",
       "      <td>-12.209053</td>\n",
       "      <td>-3.301332</td>\n",
       "    </tr>\n",
       "    <tr>\n",
       "      <th>29</th>\n",
       "      <td>2000-01-30</td>\n",
       "      <td>-1.857441</td>\n",
       "      <td>6.245830</td>\n",
       "      <td>-13.756448</td>\n",
       "      <td>-3.807146</td>\n",
       "    </tr>\n",
       "    <tr>\n",
       "      <th>...</th>\n",
       "      <td>...</td>\n",
       "      <td>...</td>\n",
       "      <td>...</td>\n",
       "      <td>...</td>\n",
       "      <td>...</td>\n",
       "    </tr>\n",
       "    <tr>\n",
       "      <th>970</th>\n",
       "      <td>2002-08-28</td>\n",
       "      <td>26.909691</td>\n",
       "      <td>-11.222177</td>\n",
       "      <td>-26.474312</td>\n",
       "      <td>6.464128</td>\n",
       "    </tr>\n",
       "    <tr>\n",
       "      <th>971</th>\n",
       "      <td>2002-08-29</td>\n",
       "      <td>27.697148</td>\n",
       "      <td>-10.190033</td>\n",
       "      <td>-27.405842</td>\n",
       "      <td>6.040442</td>\n",
       "    </tr>\n",
       "    <tr>\n",
       "      <th>972</th>\n",
       "      <td>2002-08-30</td>\n",
       "      <td>29.500508</td>\n",
       "      <td>-10.155576</td>\n",
       "      <td>-28.692270</td>\n",
       "      <td>6.135000</td>\n",
       "    </tr>\n",
       "    <tr>\n",
       "      <th>973</th>\n",
       "      <td>2002-08-31</td>\n",
       "      <td>30.097692</td>\n",
       "      <td>-11.258332</td>\n",
       "      <td>-29.125165</td>\n",
       "      <td>4.606502</td>\n",
       "    </tr>\n",
       "    <tr>\n",
       "      <th>974</th>\n",
       "      <td>2002-09-01</td>\n",
       "      <td>29.574533</td>\n",
       "      <td>-10.261531</td>\n",
       "      <td>-28.654821</td>\n",
       "      <td>6.243252</td>\n",
       "    </tr>\n",
       "    <tr>\n",
       "      <th>975</th>\n",
       "      <td>2002-09-02</td>\n",
       "      <td>31.080110</td>\n",
       "      <td>-10.854543</td>\n",
       "      <td>-28.807624</td>\n",
       "      <td>7.473937</td>\n",
       "    </tr>\n",
       "    <tr>\n",
       "      <th>976</th>\n",
       "      <td>2002-09-03</td>\n",
       "      <td>29.840474</td>\n",
       "      <td>-11.775722</td>\n",
       "      <td>-30.060115</td>\n",
       "      <td>7.767895</td>\n",
       "    </tr>\n",
       "    <tr>\n",
       "      <th>977</th>\n",
       "      <td>2002-09-04</td>\n",
       "      <td>29.683715</td>\n",
       "      <td>-11.924253</td>\n",
       "      <td>-29.990618</td>\n",
       "      <td>7.284434</td>\n",
       "    </tr>\n",
       "    <tr>\n",
       "      <th>978</th>\n",
       "      <td>2002-09-05</td>\n",
       "      <td>28.234791</td>\n",
       "      <td>-11.142662</td>\n",
       "      <td>-31.161872</td>\n",
       "      <td>8.198253</td>\n",
       "    </tr>\n",
       "    <tr>\n",
       "      <th>979</th>\n",
       "      <td>2002-09-06</td>\n",
       "      <td>29.122652</td>\n",
       "      <td>-11.661814</td>\n",
       "      <td>-31.626705</td>\n",
       "      <td>7.521381</td>\n",
       "    </tr>\n",
       "    <tr>\n",
       "      <th>980</th>\n",
       "      <td>2002-09-07</td>\n",
       "      <td>29.948245</td>\n",
       "      <td>-11.175054</td>\n",
       "      <td>-29.917765</td>\n",
       "      <td>6.843511</td>\n",
       "    </tr>\n",
       "    <tr>\n",
       "      <th>981</th>\n",
       "      <td>2002-09-08</td>\n",
       "      <td>28.069265</td>\n",
       "      <td>-9.967188</td>\n",
       "      <td>-29.911047</td>\n",
       "      <td>7.638880</td>\n",
       "    </tr>\n",
       "    <tr>\n",
       "      <th>982</th>\n",
       "      <td>2002-09-09</td>\n",
       "      <td>30.315918</td>\n",
       "      <td>-10.281409</td>\n",
       "      <td>-30.336236</td>\n",
       "      <td>6.768980</td>\n",
       "    </tr>\n",
       "    <tr>\n",
       "      <th>983</th>\n",
       "      <td>2002-09-10</td>\n",
       "      <td>31.905618</td>\n",
       "      <td>-10.705449</td>\n",
       "      <td>-29.433225</td>\n",
       "      <td>7.229729</td>\n",
       "    </tr>\n",
       "    <tr>\n",
       "      <th>984</th>\n",
       "      <td>2002-09-11</td>\n",
       "      <td>31.419635</td>\n",
       "      <td>-10.144939</td>\n",
       "      <td>-30.618762</td>\n",
       "      <td>8.298632</td>\n",
       "    </tr>\n",
       "    <tr>\n",
       "      <th>985</th>\n",
       "      <td>2002-09-12</td>\n",
       "      <td>31.240468</td>\n",
       "      <td>-8.048688</td>\n",
       "      <td>-30.702998</td>\n",
       "      <td>7.429965</td>\n",
       "    </tr>\n",
       "    <tr>\n",
       "      <th>986</th>\n",
       "      <td>2002-09-13</td>\n",
       "      <td>31.656876</td>\n",
       "      <td>-9.167113</td>\n",
       "      <td>-29.451743</td>\n",
       "      <td>8.451516</td>\n",
       "    </tr>\n",
       "    <tr>\n",
       "      <th>987</th>\n",
       "      <td>2002-09-14</td>\n",
       "      <td>31.942690</td>\n",
       "      <td>-10.623661</td>\n",
       "      <td>-27.968422</td>\n",
       "      <td>8.923618</td>\n",
       "    </tr>\n",
       "    <tr>\n",
       "      <th>988</th>\n",
       "      <td>2002-09-15</td>\n",
       "      <td>33.033590</td>\n",
       "      <td>-9.735405</td>\n",
       "      <td>-28.920553</td>\n",
       "      <td>10.594682</td>\n",
       "    </tr>\n",
       "    <tr>\n",
       "      <th>989</th>\n",
       "      <td>2002-09-16</td>\n",
       "      <td>31.574584</td>\n",
       "      <td>-10.797543</td>\n",
       "      <td>-29.518042</td>\n",
       "      <td>11.729767</td>\n",
       "    </tr>\n",
       "    <tr>\n",
       "      <th>990</th>\n",
       "      <td>2002-09-17</td>\n",
       "      <td>32.938860</td>\n",
       "      <td>-11.472245</td>\n",
       "      <td>-31.158313</td>\n",
       "      <td>12.321781</td>\n",
       "    </tr>\n",
       "    <tr>\n",
       "      <th>991</th>\n",
       "      <td>2002-09-18</td>\n",
       "      <td>31.182802</td>\n",
       "      <td>-10.646324</td>\n",
       "      <td>-31.809567</td>\n",
       "      <td>12.531064</td>\n",
       "    </tr>\n",
       "    <tr>\n",
       "      <th>992</th>\n",
       "      <td>2002-09-19</td>\n",
       "      <td>31.217592</td>\n",
       "      <td>-11.405309</td>\n",
       "      <td>-31.786211</td>\n",
       "      <td>12.500206</td>\n",
       "    </tr>\n",
       "    <tr>\n",
       "      <th>993</th>\n",
       "      <td>2002-09-20</td>\n",
       "      <td>31.649611</td>\n",
       "      <td>-10.073848</td>\n",
       "      <td>-32.162808</td>\n",
       "      <td>12.207568</td>\n",
       "    </tr>\n",
       "    <tr>\n",
       "      <th>994</th>\n",
       "      <td>2002-09-21</td>\n",
       "      <td>32.900545</td>\n",
       "      <td>-10.566763</td>\n",
       "      <td>-33.089243</td>\n",
       "      <td>10.230841</td>\n",
       "    </tr>\n",
       "    <tr>\n",
       "      <th>995</th>\n",
       "      <td>2002-09-22</td>\n",
       "      <td>32.519120</td>\n",
       "      <td>-10.094086</td>\n",
       "      <td>-34.993753</td>\n",
       "      <td>11.007298</td>\n",
       "    </tr>\n",
       "    <tr>\n",
       "      <th>996</th>\n",
       "      <td>2002-09-23</td>\n",
       "      <td>33.037155</td>\n",
       "      <td>-9.379362</td>\n",
       "      <td>-35.660843</td>\n",
       "      <td>12.023367</td>\n",
       "    </tr>\n",
       "    <tr>\n",
       "      <th>997</th>\n",
       "      <td>2002-09-24</td>\n",
       "      <td>33.747429</td>\n",
       "      <td>-11.499276</td>\n",
       "      <td>-35.439368</td>\n",
       "      <td>11.706177</td>\n",
       "    </tr>\n",
       "    <tr>\n",
       "      <th>998</th>\n",
       "      <td>2002-09-25</td>\n",
       "      <td>34.228434</td>\n",
       "      <td>-10.590408</td>\n",
       "      <td>-33.972036</td>\n",
       "      <td>11.307590</td>\n",
       "    </tr>\n",
       "    <tr>\n",
       "      <th>999</th>\n",
       "      <td>2002-09-26</td>\n",
       "      <td>32.659536</td>\n",
       "      <td>-10.391983</td>\n",
       "      <td>-34.198746</td>\n",
       "      <td>11.258338</td>\n",
       "    </tr>\n",
       "  </tbody>\n",
       "</table>\n",
       "<p>1000 rows × 5 columns</p>\n",
       "</div>"
      ],
      "text/plain": [
       "     Unnamed: 0          A          B          C          D\n",
       "0    2000-01-01   1.430209   1.968558   0.059136   0.787193\n",
       "1    2000-01-02  -0.234998   3.073035   0.015335   0.830999\n",
       "2    2000-01-03  -0.241807   4.134931   0.385721   1.258130\n",
       "3    2000-01-04   1.464606   4.209923   0.230619   0.429119\n",
       "4    2000-01-05   0.367327   4.363223   0.672987   0.789575\n",
       "5    2000-01-06   1.268073   3.918725   1.255792   1.244330\n",
       "6    2000-01-07   2.387129   4.017914   0.079637   1.546735\n",
       "7    2000-01-08   1.106200   3.240994   0.373326  -0.349003\n",
       "8    2000-01-09   1.019777   2.466453  -2.243106  -1.864587\n",
       "9    2000-01-10  -1.542208   2.772979  -3.688410  -2.248906\n",
       "10   2000-01-11  -1.777438   3.625848  -5.821678  -1.532559\n",
       "11   2000-01-12  -2.005296   3.819033  -6.124295  -2.025544\n",
       "12   2000-01-13  -1.743464   3.844066  -6.554532  -2.354579\n",
       "13   2000-01-14  -2.958626   5.737469  -6.375542  -1.026260\n",
       "14   2000-01-15  -3.423093   7.367664  -6.908032  -0.200584\n",
       "15   2000-01-16  -3.493832   7.712164  -6.564161   0.602924\n",
       "16   2000-01-17  -3.271499   9.695876  -8.659906   0.428741\n",
       "17   2000-01-18  -1.715292   8.814352  -8.959866  -0.029788\n",
       "18   2000-01-19  -0.868376   9.159422  -9.896221  -0.841283\n",
       "19   2000-01-20  -1.891230   7.932375 -10.239585  -1.543620\n",
       "20   2000-01-21  -1.701002   8.920038  -9.866394  -2.599421\n",
       "21   2000-01-22  -0.750499   7.395939 -11.035529  -3.257941\n",
       "22   2000-01-23  -1.675414   7.002728 -11.297541  -2.168398\n",
       "23   2000-01-24  -1.413435   7.153812 -11.094758  -2.185382\n",
       "24   2000-01-25  -1.339756   8.303494  -9.624411  -1.495382\n",
       "25   2000-01-26  -0.576648   6.473003 -10.640022  -1.202992\n",
       "26   2000-01-27   0.902681   7.198763 -10.408833  -1.245150\n",
       "27   2000-01-28   0.048598   7.860930 -10.980234  -2.984969\n",
       "28   2000-01-29  -1.708985   8.720969 -12.209053  -3.301332\n",
       "29   2000-01-30  -1.857441   6.245830 -13.756448  -3.807146\n",
       "..          ...        ...        ...        ...        ...\n",
       "970  2002-08-28  26.909691 -11.222177 -26.474312   6.464128\n",
       "971  2002-08-29  27.697148 -10.190033 -27.405842   6.040442\n",
       "972  2002-08-30  29.500508 -10.155576 -28.692270   6.135000\n",
       "973  2002-08-31  30.097692 -11.258332 -29.125165   4.606502\n",
       "974  2002-09-01  29.574533 -10.261531 -28.654821   6.243252\n",
       "975  2002-09-02  31.080110 -10.854543 -28.807624   7.473937\n",
       "976  2002-09-03  29.840474 -11.775722 -30.060115   7.767895\n",
       "977  2002-09-04  29.683715 -11.924253 -29.990618   7.284434\n",
       "978  2002-09-05  28.234791 -11.142662 -31.161872   8.198253\n",
       "979  2002-09-06  29.122652 -11.661814 -31.626705   7.521381\n",
       "980  2002-09-07  29.948245 -11.175054 -29.917765   6.843511\n",
       "981  2002-09-08  28.069265  -9.967188 -29.911047   7.638880\n",
       "982  2002-09-09  30.315918 -10.281409 -30.336236   6.768980\n",
       "983  2002-09-10  31.905618 -10.705449 -29.433225   7.229729\n",
       "984  2002-09-11  31.419635 -10.144939 -30.618762   8.298632\n",
       "985  2002-09-12  31.240468  -8.048688 -30.702998   7.429965\n",
       "986  2002-09-13  31.656876  -9.167113 -29.451743   8.451516\n",
       "987  2002-09-14  31.942690 -10.623661 -27.968422   8.923618\n",
       "988  2002-09-15  33.033590  -9.735405 -28.920553  10.594682\n",
       "989  2002-09-16  31.574584 -10.797543 -29.518042  11.729767\n",
       "990  2002-09-17  32.938860 -11.472245 -31.158313  12.321781\n",
       "991  2002-09-18  31.182802 -10.646324 -31.809567  12.531064\n",
       "992  2002-09-19  31.217592 -11.405309 -31.786211  12.500206\n",
       "993  2002-09-20  31.649611 -10.073848 -32.162808  12.207568\n",
       "994  2002-09-21  32.900545 -10.566763 -33.089243  10.230841\n",
       "995  2002-09-22  32.519120 -10.094086 -34.993753  11.007298\n",
       "996  2002-09-23  33.037155  -9.379362 -35.660843  12.023367\n",
       "997  2002-09-24  33.747429 -11.499276 -35.439368  11.706177\n",
       "998  2002-09-25  34.228434 -10.590408 -33.972036  11.307590\n",
       "999  2002-09-26  32.659536 -10.391983 -34.198746  11.258338\n",
       "\n",
       "[1000 rows x 5 columns]"
      ]
     },
     "execution_count": 165,
     "metadata": {},
     "output_type": "execute_result"
    }
   ],
   "source": [
    "pd.read_csv('temp_file_foo.csv')"
   ]
  },
  {
   "cell_type": "markdown",
   "metadata": {},
   "source": [
    "## HDF5"
   ]
  },
  {
   "cell_type": "markdown",
   "metadata": {},
   "source": [
    "### 写入 HDF 存储:"
   ]
  },
  {
   "cell_type": "code",
   "execution_count": 166,
   "metadata": {},
   "outputs": [],
   "source": [
    "df.to_hdf('temp_file_foo.h5', key='df')"
   ]
  },
  {
   "cell_type": "markdown",
   "metadata": {},
   "source": [
    "### 读取 HDF 存储:"
   ]
  },
  {
   "cell_type": "code",
   "execution_count": 168,
   "metadata": {},
   "outputs": [
    {
     "data": {
      "text/html": [
       "<div>\n",
       "<style>\n",
       "    .dataframe thead tr:only-child th {\n",
       "        text-align: right;\n",
       "    }\n",
       "\n",
       "    .dataframe thead th {\n",
       "        text-align: left;\n",
       "    }\n",
       "\n",
       "    .dataframe tbody tr th {\n",
       "        vertical-align: top;\n",
       "    }\n",
       "</style>\n",
       "<table border=\"1\" class=\"dataframe\">\n",
       "  <thead>\n",
       "    <tr style=\"text-align: right;\">\n",
       "      <th></th>\n",
       "      <th>A</th>\n",
       "      <th>B</th>\n",
       "      <th>C</th>\n",
       "      <th>D</th>\n",
       "    </tr>\n",
       "  </thead>\n",
       "  <tbody>\n",
       "    <tr>\n",
       "      <th>2000-01-01</th>\n",
       "      <td>1.430209</td>\n",
       "      <td>1.968558</td>\n",
       "      <td>0.059136</td>\n",
       "      <td>0.787193</td>\n",
       "    </tr>\n",
       "    <tr>\n",
       "      <th>2000-01-02</th>\n",
       "      <td>-0.234998</td>\n",
       "      <td>3.073035</td>\n",
       "      <td>0.015335</td>\n",
       "      <td>0.830999</td>\n",
       "    </tr>\n",
       "    <tr>\n",
       "      <th>2000-01-03</th>\n",
       "      <td>-0.241807</td>\n",
       "      <td>4.134931</td>\n",
       "      <td>0.385721</td>\n",
       "      <td>1.258130</td>\n",
       "    </tr>\n",
       "    <tr>\n",
       "      <th>2000-01-04</th>\n",
       "      <td>1.464606</td>\n",
       "      <td>4.209923</td>\n",
       "      <td>0.230619</td>\n",
       "      <td>0.429119</td>\n",
       "    </tr>\n",
       "    <tr>\n",
       "      <th>2000-01-05</th>\n",
       "      <td>0.367327</td>\n",
       "      <td>4.363223</td>\n",
       "      <td>0.672987</td>\n",
       "      <td>0.789575</td>\n",
       "    </tr>\n",
       "    <tr>\n",
       "      <th>2000-01-06</th>\n",
       "      <td>1.268073</td>\n",
       "      <td>3.918725</td>\n",
       "      <td>1.255792</td>\n",
       "      <td>1.244330</td>\n",
       "    </tr>\n",
       "    <tr>\n",
       "      <th>2000-01-07</th>\n",
       "      <td>2.387129</td>\n",
       "      <td>4.017914</td>\n",
       "      <td>0.079637</td>\n",
       "      <td>1.546735</td>\n",
       "    </tr>\n",
       "    <tr>\n",
       "      <th>2000-01-08</th>\n",
       "      <td>1.106200</td>\n",
       "      <td>3.240994</td>\n",
       "      <td>0.373326</td>\n",
       "      <td>-0.349003</td>\n",
       "    </tr>\n",
       "    <tr>\n",
       "      <th>2000-01-09</th>\n",
       "      <td>1.019777</td>\n",
       "      <td>2.466453</td>\n",
       "      <td>-2.243106</td>\n",
       "      <td>-1.864587</td>\n",
       "    </tr>\n",
       "    <tr>\n",
       "      <th>2000-01-10</th>\n",
       "      <td>-1.542208</td>\n",
       "      <td>2.772979</td>\n",
       "      <td>-3.688410</td>\n",
       "      <td>-2.248906</td>\n",
       "    </tr>\n",
       "    <tr>\n",
       "      <th>2000-01-11</th>\n",
       "      <td>-1.777438</td>\n",
       "      <td>3.625848</td>\n",
       "      <td>-5.821678</td>\n",
       "      <td>-1.532559</td>\n",
       "    </tr>\n",
       "    <tr>\n",
       "      <th>2000-01-12</th>\n",
       "      <td>-2.005296</td>\n",
       "      <td>3.819033</td>\n",
       "      <td>-6.124295</td>\n",
       "      <td>-2.025544</td>\n",
       "    </tr>\n",
       "    <tr>\n",
       "      <th>2000-01-13</th>\n",
       "      <td>-1.743464</td>\n",
       "      <td>3.844066</td>\n",
       "      <td>-6.554532</td>\n",
       "      <td>-2.354579</td>\n",
       "    </tr>\n",
       "    <tr>\n",
       "      <th>2000-01-14</th>\n",
       "      <td>-2.958626</td>\n",
       "      <td>5.737469</td>\n",
       "      <td>-6.375542</td>\n",
       "      <td>-1.026260</td>\n",
       "    </tr>\n",
       "    <tr>\n",
       "      <th>2000-01-15</th>\n",
       "      <td>-3.423093</td>\n",
       "      <td>7.367664</td>\n",
       "      <td>-6.908032</td>\n",
       "      <td>-0.200584</td>\n",
       "    </tr>\n",
       "    <tr>\n",
       "      <th>2000-01-16</th>\n",
       "      <td>-3.493832</td>\n",
       "      <td>7.712164</td>\n",
       "      <td>-6.564161</td>\n",
       "      <td>0.602924</td>\n",
       "    </tr>\n",
       "    <tr>\n",
       "      <th>2000-01-17</th>\n",
       "      <td>-3.271499</td>\n",
       "      <td>9.695876</td>\n",
       "      <td>-8.659906</td>\n",
       "      <td>0.428741</td>\n",
       "    </tr>\n",
       "    <tr>\n",
       "      <th>2000-01-18</th>\n",
       "      <td>-1.715292</td>\n",
       "      <td>8.814352</td>\n",
       "      <td>-8.959866</td>\n",
       "      <td>-0.029788</td>\n",
       "    </tr>\n",
       "    <tr>\n",
       "      <th>2000-01-19</th>\n",
       "      <td>-0.868376</td>\n",
       "      <td>9.159422</td>\n",
       "      <td>-9.896221</td>\n",
       "      <td>-0.841283</td>\n",
       "    </tr>\n",
       "    <tr>\n",
       "      <th>2000-01-20</th>\n",
       "      <td>-1.891230</td>\n",
       "      <td>7.932375</td>\n",
       "      <td>-10.239585</td>\n",
       "      <td>-1.543620</td>\n",
       "    </tr>\n",
       "    <tr>\n",
       "      <th>2000-01-21</th>\n",
       "      <td>-1.701002</td>\n",
       "      <td>8.920038</td>\n",
       "      <td>-9.866394</td>\n",
       "      <td>-2.599421</td>\n",
       "    </tr>\n",
       "    <tr>\n",
       "      <th>2000-01-22</th>\n",
       "      <td>-0.750499</td>\n",
       "      <td>7.395939</td>\n",
       "      <td>-11.035529</td>\n",
       "      <td>-3.257941</td>\n",
       "    </tr>\n",
       "    <tr>\n",
       "      <th>2000-01-23</th>\n",
       "      <td>-1.675414</td>\n",
       "      <td>7.002728</td>\n",
       "      <td>-11.297541</td>\n",
       "      <td>-2.168398</td>\n",
       "    </tr>\n",
       "    <tr>\n",
       "      <th>2000-01-24</th>\n",
       "      <td>-1.413435</td>\n",
       "      <td>7.153812</td>\n",
       "      <td>-11.094758</td>\n",
       "      <td>-2.185382</td>\n",
       "    </tr>\n",
       "    <tr>\n",
       "      <th>2000-01-25</th>\n",
       "      <td>-1.339756</td>\n",
       "      <td>8.303494</td>\n",
       "      <td>-9.624411</td>\n",
       "      <td>-1.495382</td>\n",
       "    </tr>\n",
       "    <tr>\n",
       "      <th>2000-01-26</th>\n",
       "      <td>-0.576648</td>\n",
       "      <td>6.473003</td>\n",
       "      <td>-10.640022</td>\n",
       "      <td>-1.202992</td>\n",
       "    </tr>\n",
       "    <tr>\n",
       "      <th>2000-01-27</th>\n",
       "      <td>0.902681</td>\n",
       "      <td>7.198763</td>\n",
       "      <td>-10.408833</td>\n",
       "      <td>-1.245150</td>\n",
       "    </tr>\n",
       "    <tr>\n",
       "      <th>2000-01-28</th>\n",
       "      <td>0.048598</td>\n",
       "      <td>7.860930</td>\n",
       "      <td>-10.980234</td>\n",
       "      <td>-2.984969</td>\n",
       "    </tr>\n",
       "    <tr>\n",
       "      <th>2000-01-29</th>\n",
       "      <td>-1.708985</td>\n",
       "      <td>8.720969</td>\n",
       "      <td>-12.209053</td>\n",
       "      <td>-3.301332</td>\n",
       "    </tr>\n",
       "    <tr>\n",
       "      <th>2000-01-30</th>\n",
       "      <td>-1.857441</td>\n",
       "      <td>6.245830</td>\n",
       "      <td>-13.756448</td>\n",
       "      <td>-3.807146</td>\n",
       "    </tr>\n",
       "    <tr>\n",
       "      <th>...</th>\n",
       "      <td>...</td>\n",
       "      <td>...</td>\n",
       "      <td>...</td>\n",
       "      <td>...</td>\n",
       "    </tr>\n",
       "    <tr>\n",
       "      <th>2002-08-28</th>\n",
       "      <td>26.909691</td>\n",
       "      <td>-11.222177</td>\n",
       "      <td>-26.474312</td>\n",
       "      <td>6.464128</td>\n",
       "    </tr>\n",
       "    <tr>\n",
       "      <th>2002-08-29</th>\n",
       "      <td>27.697148</td>\n",
       "      <td>-10.190033</td>\n",
       "      <td>-27.405842</td>\n",
       "      <td>6.040442</td>\n",
       "    </tr>\n",
       "    <tr>\n",
       "      <th>2002-08-30</th>\n",
       "      <td>29.500508</td>\n",
       "      <td>-10.155576</td>\n",
       "      <td>-28.692270</td>\n",
       "      <td>6.135000</td>\n",
       "    </tr>\n",
       "    <tr>\n",
       "      <th>2002-08-31</th>\n",
       "      <td>30.097692</td>\n",
       "      <td>-11.258332</td>\n",
       "      <td>-29.125165</td>\n",
       "      <td>4.606502</td>\n",
       "    </tr>\n",
       "    <tr>\n",
       "      <th>2002-09-01</th>\n",
       "      <td>29.574533</td>\n",
       "      <td>-10.261531</td>\n",
       "      <td>-28.654821</td>\n",
       "      <td>6.243252</td>\n",
       "    </tr>\n",
       "    <tr>\n",
       "      <th>2002-09-02</th>\n",
       "      <td>31.080110</td>\n",
       "      <td>-10.854543</td>\n",
       "      <td>-28.807624</td>\n",
       "      <td>7.473937</td>\n",
       "    </tr>\n",
       "    <tr>\n",
       "      <th>2002-09-03</th>\n",
       "      <td>29.840474</td>\n",
       "      <td>-11.775722</td>\n",
       "      <td>-30.060115</td>\n",
       "      <td>7.767895</td>\n",
       "    </tr>\n",
       "    <tr>\n",
       "      <th>2002-09-04</th>\n",
       "      <td>29.683715</td>\n",
       "      <td>-11.924253</td>\n",
       "      <td>-29.990618</td>\n",
       "      <td>7.284434</td>\n",
       "    </tr>\n",
       "    <tr>\n",
       "      <th>2002-09-05</th>\n",
       "      <td>28.234791</td>\n",
       "      <td>-11.142662</td>\n",
       "      <td>-31.161872</td>\n",
       "      <td>8.198253</td>\n",
       "    </tr>\n",
       "    <tr>\n",
       "      <th>2002-09-06</th>\n",
       "      <td>29.122652</td>\n",
       "      <td>-11.661814</td>\n",
       "      <td>-31.626705</td>\n",
       "      <td>7.521381</td>\n",
       "    </tr>\n",
       "    <tr>\n",
       "      <th>2002-09-07</th>\n",
       "      <td>29.948245</td>\n",
       "      <td>-11.175054</td>\n",
       "      <td>-29.917765</td>\n",
       "      <td>6.843511</td>\n",
       "    </tr>\n",
       "    <tr>\n",
       "      <th>2002-09-08</th>\n",
       "      <td>28.069265</td>\n",
       "      <td>-9.967188</td>\n",
       "      <td>-29.911047</td>\n",
       "      <td>7.638880</td>\n",
       "    </tr>\n",
       "    <tr>\n",
       "      <th>2002-09-09</th>\n",
       "      <td>30.315918</td>\n",
       "      <td>-10.281409</td>\n",
       "      <td>-30.336236</td>\n",
       "      <td>6.768980</td>\n",
       "    </tr>\n",
       "    <tr>\n",
       "      <th>2002-09-10</th>\n",
       "      <td>31.905618</td>\n",
       "      <td>-10.705449</td>\n",
       "      <td>-29.433225</td>\n",
       "      <td>7.229729</td>\n",
       "    </tr>\n",
       "    <tr>\n",
       "      <th>2002-09-11</th>\n",
       "      <td>31.419635</td>\n",
       "      <td>-10.144939</td>\n",
       "      <td>-30.618762</td>\n",
       "      <td>8.298632</td>\n",
       "    </tr>\n",
       "    <tr>\n",
       "      <th>2002-09-12</th>\n",
       "      <td>31.240468</td>\n",
       "      <td>-8.048688</td>\n",
       "      <td>-30.702998</td>\n",
       "      <td>7.429965</td>\n",
       "    </tr>\n",
       "    <tr>\n",
       "      <th>2002-09-13</th>\n",
       "      <td>31.656876</td>\n",
       "      <td>-9.167113</td>\n",
       "      <td>-29.451743</td>\n",
       "      <td>8.451516</td>\n",
       "    </tr>\n",
       "    <tr>\n",
       "      <th>2002-09-14</th>\n",
       "      <td>31.942690</td>\n",
       "      <td>-10.623661</td>\n",
       "      <td>-27.968422</td>\n",
       "      <td>8.923618</td>\n",
       "    </tr>\n",
       "    <tr>\n",
       "      <th>2002-09-15</th>\n",
       "      <td>33.033590</td>\n",
       "      <td>-9.735405</td>\n",
       "      <td>-28.920553</td>\n",
       "      <td>10.594682</td>\n",
       "    </tr>\n",
       "    <tr>\n",
       "      <th>2002-09-16</th>\n",
       "      <td>31.574584</td>\n",
       "      <td>-10.797543</td>\n",
       "      <td>-29.518042</td>\n",
       "      <td>11.729767</td>\n",
       "    </tr>\n",
       "    <tr>\n",
       "      <th>2002-09-17</th>\n",
       "      <td>32.938860</td>\n",
       "      <td>-11.472245</td>\n",
       "      <td>-31.158313</td>\n",
       "      <td>12.321781</td>\n",
       "    </tr>\n",
       "    <tr>\n",
       "      <th>2002-09-18</th>\n",
       "      <td>31.182802</td>\n",
       "      <td>-10.646324</td>\n",
       "      <td>-31.809567</td>\n",
       "      <td>12.531064</td>\n",
       "    </tr>\n",
       "    <tr>\n",
       "      <th>2002-09-19</th>\n",
       "      <td>31.217592</td>\n",
       "      <td>-11.405309</td>\n",
       "      <td>-31.786211</td>\n",
       "      <td>12.500206</td>\n",
       "    </tr>\n",
       "    <tr>\n",
       "      <th>2002-09-20</th>\n",
       "      <td>31.649611</td>\n",
       "      <td>-10.073848</td>\n",
       "      <td>-32.162808</td>\n",
       "      <td>12.207568</td>\n",
       "    </tr>\n",
       "    <tr>\n",
       "      <th>2002-09-21</th>\n",
       "      <td>32.900545</td>\n",
       "      <td>-10.566763</td>\n",
       "      <td>-33.089243</td>\n",
       "      <td>10.230841</td>\n",
       "    </tr>\n",
       "    <tr>\n",
       "      <th>2002-09-22</th>\n",
       "      <td>32.519120</td>\n",
       "      <td>-10.094086</td>\n",
       "      <td>-34.993753</td>\n",
       "      <td>11.007298</td>\n",
       "    </tr>\n",
       "    <tr>\n",
       "      <th>2002-09-23</th>\n",
       "      <td>33.037155</td>\n",
       "      <td>-9.379362</td>\n",
       "      <td>-35.660843</td>\n",
       "      <td>12.023367</td>\n",
       "    </tr>\n",
       "    <tr>\n",
       "      <th>2002-09-24</th>\n",
       "      <td>33.747429</td>\n",
       "      <td>-11.499276</td>\n",
       "      <td>-35.439368</td>\n",
       "      <td>11.706177</td>\n",
       "    </tr>\n",
       "    <tr>\n",
       "      <th>2002-09-25</th>\n",
       "      <td>34.228434</td>\n",
       "      <td>-10.590408</td>\n",
       "      <td>-33.972036</td>\n",
       "      <td>11.307590</td>\n",
       "    </tr>\n",
       "    <tr>\n",
       "      <th>2002-09-26</th>\n",
       "      <td>32.659536</td>\n",
       "      <td>-10.391983</td>\n",
       "      <td>-34.198746</td>\n",
       "      <td>11.258338</td>\n",
       "    </tr>\n",
       "  </tbody>\n",
       "</table>\n",
       "<p>1000 rows × 4 columns</p>\n",
       "</div>"
      ],
      "text/plain": [
       "                    A          B          C          D\n",
       "2000-01-01   1.430209   1.968558   0.059136   0.787193\n",
       "2000-01-02  -0.234998   3.073035   0.015335   0.830999\n",
       "2000-01-03  -0.241807   4.134931   0.385721   1.258130\n",
       "2000-01-04   1.464606   4.209923   0.230619   0.429119\n",
       "2000-01-05   0.367327   4.363223   0.672987   0.789575\n",
       "2000-01-06   1.268073   3.918725   1.255792   1.244330\n",
       "2000-01-07   2.387129   4.017914   0.079637   1.546735\n",
       "2000-01-08   1.106200   3.240994   0.373326  -0.349003\n",
       "2000-01-09   1.019777   2.466453  -2.243106  -1.864587\n",
       "2000-01-10  -1.542208   2.772979  -3.688410  -2.248906\n",
       "2000-01-11  -1.777438   3.625848  -5.821678  -1.532559\n",
       "2000-01-12  -2.005296   3.819033  -6.124295  -2.025544\n",
       "2000-01-13  -1.743464   3.844066  -6.554532  -2.354579\n",
       "2000-01-14  -2.958626   5.737469  -6.375542  -1.026260\n",
       "2000-01-15  -3.423093   7.367664  -6.908032  -0.200584\n",
       "2000-01-16  -3.493832   7.712164  -6.564161   0.602924\n",
       "2000-01-17  -3.271499   9.695876  -8.659906   0.428741\n",
       "2000-01-18  -1.715292   8.814352  -8.959866  -0.029788\n",
       "2000-01-19  -0.868376   9.159422  -9.896221  -0.841283\n",
       "2000-01-20  -1.891230   7.932375 -10.239585  -1.543620\n",
       "2000-01-21  -1.701002   8.920038  -9.866394  -2.599421\n",
       "2000-01-22  -0.750499   7.395939 -11.035529  -3.257941\n",
       "2000-01-23  -1.675414   7.002728 -11.297541  -2.168398\n",
       "2000-01-24  -1.413435   7.153812 -11.094758  -2.185382\n",
       "2000-01-25  -1.339756   8.303494  -9.624411  -1.495382\n",
       "2000-01-26  -0.576648   6.473003 -10.640022  -1.202992\n",
       "2000-01-27   0.902681   7.198763 -10.408833  -1.245150\n",
       "2000-01-28   0.048598   7.860930 -10.980234  -2.984969\n",
       "2000-01-29  -1.708985   8.720969 -12.209053  -3.301332\n",
       "2000-01-30  -1.857441   6.245830 -13.756448  -3.807146\n",
       "...               ...        ...        ...        ...\n",
       "2002-08-28  26.909691 -11.222177 -26.474312   6.464128\n",
       "2002-08-29  27.697148 -10.190033 -27.405842   6.040442\n",
       "2002-08-30  29.500508 -10.155576 -28.692270   6.135000\n",
       "2002-08-31  30.097692 -11.258332 -29.125165   4.606502\n",
       "2002-09-01  29.574533 -10.261531 -28.654821   6.243252\n",
       "2002-09-02  31.080110 -10.854543 -28.807624   7.473937\n",
       "2002-09-03  29.840474 -11.775722 -30.060115   7.767895\n",
       "2002-09-04  29.683715 -11.924253 -29.990618   7.284434\n",
       "2002-09-05  28.234791 -11.142662 -31.161872   8.198253\n",
       "2002-09-06  29.122652 -11.661814 -31.626705   7.521381\n",
       "2002-09-07  29.948245 -11.175054 -29.917765   6.843511\n",
       "2002-09-08  28.069265  -9.967188 -29.911047   7.638880\n",
       "2002-09-09  30.315918 -10.281409 -30.336236   6.768980\n",
       "2002-09-10  31.905618 -10.705449 -29.433225   7.229729\n",
       "2002-09-11  31.419635 -10.144939 -30.618762   8.298632\n",
       "2002-09-12  31.240468  -8.048688 -30.702998   7.429965\n",
       "2002-09-13  31.656876  -9.167113 -29.451743   8.451516\n",
       "2002-09-14  31.942690 -10.623661 -27.968422   8.923618\n",
       "2002-09-15  33.033590  -9.735405 -28.920553  10.594682\n",
       "2002-09-16  31.574584 -10.797543 -29.518042  11.729767\n",
       "2002-09-17  32.938860 -11.472245 -31.158313  12.321781\n",
       "2002-09-18  31.182802 -10.646324 -31.809567  12.531064\n",
       "2002-09-19  31.217592 -11.405309 -31.786211  12.500206\n",
       "2002-09-20  31.649611 -10.073848 -32.162808  12.207568\n",
       "2002-09-21  32.900545 -10.566763 -33.089243  10.230841\n",
       "2002-09-22  32.519120 -10.094086 -34.993753  11.007298\n",
       "2002-09-23  33.037155  -9.379362 -35.660843  12.023367\n",
       "2002-09-24  33.747429 -11.499276 -35.439368  11.706177\n",
       "2002-09-25  34.228434 -10.590408 -33.972036  11.307590\n",
       "2002-09-26  32.659536 -10.391983 -34.198746  11.258338\n",
       "\n",
       "[1000 rows x 4 columns]"
      ]
     },
     "execution_count": 168,
     "metadata": {},
     "output_type": "execute_result"
    }
   ],
   "source": [
    "pd.read_hdf('temp_file_foo.h5', key='df')"
   ]
  },
  {
   "cell_type": "markdown",
   "metadata": {},
   "source": [
    "## Excel"
   ]
  },
  {
   "cell_type": "markdown",
   "metadata": {},
   "source": [
    "### 写入 excel 文件:"
   ]
  },
  {
   "cell_type": "code",
   "execution_count": 161,
   "metadata": {},
   "outputs": [],
   "source": [
    "df.to_excel('temp_file_foo.xlsx', sheet_name='Sheet1')"
   ]
  },
  {
   "cell_type": "markdown",
   "metadata": {},
   "source": [
    "### 读取 excel 文件:"
   ]
  },
  {
   "cell_type": "code",
   "execution_count": 163,
   "metadata": {},
   "outputs": [
    {
     "data": {
      "text/html": [
       "<div>\n",
       "<style>\n",
       "    .dataframe thead tr:only-child th {\n",
       "        text-align: right;\n",
       "    }\n",
       "\n",
       "    .dataframe thead th {\n",
       "        text-align: left;\n",
       "    }\n",
       "\n",
       "    .dataframe tbody tr th {\n",
       "        vertical-align: top;\n",
       "    }\n",
       "</style>\n",
       "<table border=\"1\" class=\"dataframe\">\n",
       "  <thead>\n",
       "    <tr style=\"text-align: right;\">\n",
       "      <th></th>\n",
       "      <th>A</th>\n",
       "      <th>B</th>\n",
       "      <th>C</th>\n",
       "      <th>D</th>\n",
       "    </tr>\n",
       "  </thead>\n",
       "  <tbody>\n",
       "    <tr>\n",
       "      <th>2000-01-01</th>\n",
       "      <td>1.430209</td>\n",
       "      <td>1.968558</td>\n",
       "      <td>0.059136</td>\n",
       "      <td>0.787193</td>\n",
       "    </tr>\n",
       "    <tr>\n",
       "      <th>2000-01-02</th>\n",
       "      <td>-0.234998</td>\n",
       "      <td>3.073035</td>\n",
       "      <td>0.015335</td>\n",
       "      <td>0.830999</td>\n",
       "    </tr>\n",
       "    <tr>\n",
       "      <th>2000-01-03</th>\n",
       "      <td>-0.241807</td>\n",
       "      <td>4.134931</td>\n",
       "      <td>0.385721</td>\n",
       "      <td>1.258130</td>\n",
       "    </tr>\n",
       "    <tr>\n",
       "      <th>2000-01-04</th>\n",
       "      <td>1.464606</td>\n",
       "      <td>4.209923</td>\n",
       "      <td>0.230619</td>\n",
       "      <td>0.429119</td>\n",
       "    </tr>\n",
       "    <tr>\n",
       "      <th>2000-01-05</th>\n",
       "      <td>0.367327</td>\n",
       "      <td>4.363223</td>\n",
       "      <td>0.672987</td>\n",
       "      <td>0.789575</td>\n",
       "    </tr>\n",
       "    <tr>\n",
       "      <th>2000-01-06</th>\n",
       "      <td>1.268073</td>\n",
       "      <td>3.918725</td>\n",
       "      <td>1.255792</td>\n",
       "      <td>1.244330</td>\n",
       "    </tr>\n",
       "    <tr>\n",
       "      <th>2000-01-07</th>\n",
       "      <td>2.387129</td>\n",
       "      <td>4.017914</td>\n",
       "      <td>0.079637</td>\n",
       "      <td>1.546735</td>\n",
       "    </tr>\n",
       "    <tr>\n",
       "      <th>2000-01-08</th>\n",
       "      <td>1.106200</td>\n",
       "      <td>3.240994</td>\n",
       "      <td>0.373326</td>\n",
       "      <td>-0.349003</td>\n",
       "    </tr>\n",
       "    <tr>\n",
       "      <th>2000-01-09</th>\n",
       "      <td>1.019777</td>\n",
       "      <td>2.466453</td>\n",
       "      <td>-2.243106</td>\n",
       "      <td>-1.864587</td>\n",
       "    </tr>\n",
       "    <tr>\n",
       "      <th>2000-01-10</th>\n",
       "      <td>-1.542208</td>\n",
       "      <td>2.772979</td>\n",
       "      <td>-3.688410</td>\n",
       "      <td>-2.248906</td>\n",
       "    </tr>\n",
       "    <tr>\n",
       "      <th>2000-01-11</th>\n",
       "      <td>-1.777438</td>\n",
       "      <td>3.625848</td>\n",
       "      <td>-5.821678</td>\n",
       "      <td>-1.532559</td>\n",
       "    </tr>\n",
       "    <tr>\n",
       "      <th>2000-01-12</th>\n",
       "      <td>-2.005296</td>\n",
       "      <td>3.819033</td>\n",
       "      <td>-6.124295</td>\n",
       "      <td>-2.025544</td>\n",
       "    </tr>\n",
       "    <tr>\n",
       "      <th>2000-01-13</th>\n",
       "      <td>-1.743464</td>\n",
       "      <td>3.844066</td>\n",
       "      <td>-6.554532</td>\n",
       "      <td>-2.354579</td>\n",
       "    </tr>\n",
       "    <tr>\n",
       "      <th>2000-01-14</th>\n",
       "      <td>-2.958626</td>\n",
       "      <td>5.737469</td>\n",
       "      <td>-6.375542</td>\n",
       "      <td>-1.026260</td>\n",
       "    </tr>\n",
       "    <tr>\n",
       "      <th>2000-01-15</th>\n",
       "      <td>-3.423093</td>\n",
       "      <td>7.367664</td>\n",
       "      <td>-6.908032</td>\n",
       "      <td>-0.200584</td>\n",
       "    </tr>\n",
       "    <tr>\n",
       "      <th>2000-01-16</th>\n",
       "      <td>-3.493832</td>\n",
       "      <td>7.712164</td>\n",
       "      <td>-6.564161</td>\n",
       "      <td>0.602924</td>\n",
       "    </tr>\n",
       "    <tr>\n",
       "      <th>2000-01-17</th>\n",
       "      <td>-3.271499</td>\n",
       "      <td>9.695876</td>\n",
       "      <td>-8.659906</td>\n",
       "      <td>0.428741</td>\n",
       "    </tr>\n",
       "    <tr>\n",
       "      <th>2000-01-18</th>\n",
       "      <td>-1.715292</td>\n",
       "      <td>8.814352</td>\n",
       "      <td>-8.959866</td>\n",
       "      <td>-0.029788</td>\n",
       "    </tr>\n",
       "    <tr>\n",
       "      <th>2000-01-19</th>\n",
       "      <td>-0.868376</td>\n",
       "      <td>9.159422</td>\n",
       "      <td>-9.896221</td>\n",
       "      <td>-0.841283</td>\n",
       "    </tr>\n",
       "    <tr>\n",
       "      <th>2000-01-20</th>\n",
       "      <td>-1.891230</td>\n",
       "      <td>7.932375</td>\n",
       "      <td>-10.239585</td>\n",
       "      <td>-1.543620</td>\n",
       "    </tr>\n",
       "    <tr>\n",
       "      <th>2000-01-21</th>\n",
       "      <td>-1.701002</td>\n",
       "      <td>8.920038</td>\n",
       "      <td>-9.866394</td>\n",
       "      <td>-2.599421</td>\n",
       "    </tr>\n",
       "    <tr>\n",
       "      <th>2000-01-22</th>\n",
       "      <td>-0.750499</td>\n",
       "      <td>7.395939</td>\n",
       "      <td>-11.035529</td>\n",
       "      <td>-3.257941</td>\n",
       "    </tr>\n",
       "    <tr>\n",
       "      <th>2000-01-23</th>\n",
       "      <td>-1.675414</td>\n",
       "      <td>7.002728</td>\n",
       "      <td>-11.297541</td>\n",
       "      <td>-2.168398</td>\n",
       "    </tr>\n",
       "    <tr>\n",
       "      <th>2000-01-24</th>\n",
       "      <td>-1.413435</td>\n",
       "      <td>7.153812</td>\n",
       "      <td>-11.094758</td>\n",
       "      <td>-2.185382</td>\n",
       "    </tr>\n",
       "    <tr>\n",
       "      <th>2000-01-25</th>\n",
       "      <td>-1.339756</td>\n",
       "      <td>8.303494</td>\n",
       "      <td>-9.624411</td>\n",
       "      <td>-1.495382</td>\n",
       "    </tr>\n",
       "    <tr>\n",
       "      <th>2000-01-26</th>\n",
       "      <td>-0.576648</td>\n",
       "      <td>6.473003</td>\n",
       "      <td>-10.640022</td>\n",
       "      <td>-1.202992</td>\n",
       "    </tr>\n",
       "    <tr>\n",
       "      <th>2000-01-27</th>\n",
       "      <td>0.902681</td>\n",
       "      <td>7.198763</td>\n",
       "      <td>-10.408833</td>\n",
       "      <td>-1.245150</td>\n",
       "    </tr>\n",
       "    <tr>\n",
       "      <th>2000-01-28</th>\n",
       "      <td>0.048598</td>\n",
       "      <td>7.860930</td>\n",
       "      <td>-10.980234</td>\n",
       "      <td>-2.984969</td>\n",
       "    </tr>\n",
       "    <tr>\n",
       "      <th>2000-01-29</th>\n",
       "      <td>-1.708985</td>\n",
       "      <td>8.720969</td>\n",
       "      <td>-12.209053</td>\n",
       "      <td>-3.301332</td>\n",
       "    </tr>\n",
       "    <tr>\n",
       "      <th>2000-01-30</th>\n",
       "      <td>-1.857441</td>\n",
       "      <td>6.245830</td>\n",
       "      <td>-13.756448</td>\n",
       "      <td>-3.807146</td>\n",
       "    </tr>\n",
       "    <tr>\n",
       "      <th>...</th>\n",
       "      <td>...</td>\n",
       "      <td>...</td>\n",
       "      <td>...</td>\n",
       "      <td>...</td>\n",
       "    </tr>\n",
       "    <tr>\n",
       "      <th>2002-08-28</th>\n",
       "      <td>26.909691</td>\n",
       "      <td>-11.222177</td>\n",
       "      <td>-26.474312</td>\n",
       "      <td>6.464128</td>\n",
       "    </tr>\n",
       "    <tr>\n",
       "      <th>2002-08-29</th>\n",
       "      <td>27.697148</td>\n",
       "      <td>-10.190033</td>\n",
       "      <td>-27.405842</td>\n",
       "      <td>6.040442</td>\n",
       "    </tr>\n",
       "    <tr>\n",
       "      <th>2002-08-30</th>\n",
       "      <td>29.500508</td>\n",
       "      <td>-10.155576</td>\n",
       "      <td>-28.692270</td>\n",
       "      <td>6.135000</td>\n",
       "    </tr>\n",
       "    <tr>\n",
       "      <th>2002-08-31</th>\n",
       "      <td>30.097692</td>\n",
       "      <td>-11.258332</td>\n",
       "      <td>-29.125165</td>\n",
       "      <td>4.606502</td>\n",
       "    </tr>\n",
       "    <tr>\n",
       "      <th>2002-09-01</th>\n",
       "      <td>29.574533</td>\n",
       "      <td>-10.261531</td>\n",
       "      <td>-28.654821</td>\n",
       "      <td>6.243252</td>\n",
       "    </tr>\n",
       "    <tr>\n",
       "      <th>2002-09-02</th>\n",
       "      <td>31.080110</td>\n",
       "      <td>-10.854543</td>\n",
       "      <td>-28.807624</td>\n",
       "      <td>7.473937</td>\n",
       "    </tr>\n",
       "    <tr>\n",
       "      <th>2002-09-03</th>\n",
       "      <td>29.840474</td>\n",
       "      <td>-11.775722</td>\n",
       "      <td>-30.060115</td>\n",
       "      <td>7.767895</td>\n",
       "    </tr>\n",
       "    <tr>\n",
       "      <th>2002-09-04</th>\n",
       "      <td>29.683715</td>\n",
       "      <td>-11.924253</td>\n",
       "      <td>-29.990618</td>\n",
       "      <td>7.284434</td>\n",
       "    </tr>\n",
       "    <tr>\n",
       "      <th>2002-09-05</th>\n",
       "      <td>28.234791</td>\n",
       "      <td>-11.142662</td>\n",
       "      <td>-31.161872</td>\n",
       "      <td>8.198253</td>\n",
       "    </tr>\n",
       "    <tr>\n",
       "      <th>2002-09-06</th>\n",
       "      <td>29.122652</td>\n",
       "      <td>-11.661814</td>\n",
       "      <td>-31.626705</td>\n",
       "      <td>7.521381</td>\n",
       "    </tr>\n",
       "    <tr>\n",
       "      <th>2002-09-07</th>\n",
       "      <td>29.948245</td>\n",
       "      <td>-11.175054</td>\n",
       "      <td>-29.917765</td>\n",
       "      <td>6.843511</td>\n",
       "    </tr>\n",
       "    <tr>\n",
       "      <th>2002-09-08</th>\n",
       "      <td>28.069265</td>\n",
       "      <td>-9.967188</td>\n",
       "      <td>-29.911047</td>\n",
       "      <td>7.638880</td>\n",
       "    </tr>\n",
       "    <tr>\n",
       "      <th>2002-09-09</th>\n",
       "      <td>30.315918</td>\n",
       "      <td>-10.281409</td>\n",
       "      <td>-30.336236</td>\n",
       "      <td>6.768980</td>\n",
       "    </tr>\n",
       "    <tr>\n",
       "      <th>2002-09-10</th>\n",
       "      <td>31.905618</td>\n",
       "      <td>-10.705449</td>\n",
       "      <td>-29.433225</td>\n",
       "      <td>7.229729</td>\n",
       "    </tr>\n",
       "    <tr>\n",
       "      <th>2002-09-11</th>\n",
       "      <td>31.419635</td>\n",
       "      <td>-10.144939</td>\n",
       "      <td>-30.618762</td>\n",
       "      <td>8.298632</td>\n",
       "    </tr>\n",
       "    <tr>\n",
       "      <th>2002-09-12</th>\n",
       "      <td>31.240468</td>\n",
       "      <td>-8.048688</td>\n",
       "      <td>-30.702998</td>\n",
       "      <td>7.429965</td>\n",
       "    </tr>\n",
       "    <tr>\n",
       "      <th>2002-09-13</th>\n",
       "      <td>31.656876</td>\n",
       "      <td>-9.167113</td>\n",
       "      <td>-29.451743</td>\n",
       "      <td>8.451516</td>\n",
       "    </tr>\n",
       "    <tr>\n",
       "      <th>2002-09-14</th>\n",
       "      <td>31.942690</td>\n",
       "      <td>-10.623661</td>\n",
       "      <td>-27.968422</td>\n",
       "      <td>8.923618</td>\n",
       "    </tr>\n",
       "    <tr>\n",
       "      <th>2002-09-15</th>\n",
       "      <td>33.033590</td>\n",
       "      <td>-9.735405</td>\n",
       "      <td>-28.920553</td>\n",
       "      <td>10.594682</td>\n",
       "    </tr>\n",
       "    <tr>\n",
       "      <th>2002-09-16</th>\n",
       "      <td>31.574584</td>\n",
       "      <td>-10.797543</td>\n",
       "      <td>-29.518042</td>\n",
       "      <td>11.729767</td>\n",
       "    </tr>\n",
       "    <tr>\n",
       "      <th>2002-09-17</th>\n",
       "      <td>32.938860</td>\n",
       "      <td>-11.472245</td>\n",
       "      <td>-31.158313</td>\n",
       "      <td>12.321781</td>\n",
       "    </tr>\n",
       "    <tr>\n",
       "      <th>2002-09-18</th>\n",
       "      <td>31.182802</td>\n",
       "      <td>-10.646324</td>\n",
       "      <td>-31.809567</td>\n",
       "      <td>12.531064</td>\n",
       "    </tr>\n",
       "    <tr>\n",
       "      <th>2002-09-19</th>\n",
       "      <td>31.217592</td>\n",
       "      <td>-11.405309</td>\n",
       "      <td>-31.786211</td>\n",
       "      <td>12.500206</td>\n",
       "    </tr>\n",
       "    <tr>\n",
       "      <th>2002-09-20</th>\n",
       "      <td>31.649611</td>\n",
       "      <td>-10.073848</td>\n",
       "      <td>-32.162808</td>\n",
       "      <td>12.207568</td>\n",
       "    </tr>\n",
       "    <tr>\n",
       "      <th>2002-09-21</th>\n",
       "      <td>32.900545</td>\n",
       "      <td>-10.566763</td>\n",
       "      <td>-33.089243</td>\n",
       "      <td>10.230841</td>\n",
       "    </tr>\n",
       "    <tr>\n",
       "      <th>2002-09-22</th>\n",
       "      <td>32.519120</td>\n",
       "      <td>-10.094086</td>\n",
       "      <td>-34.993753</td>\n",
       "      <td>11.007298</td>\n",
       "    </tr>\n",
       "    <tr>\n",
       "      <th>2002-09-23</th>\n",
       "      <td>33.037155</td>\n",
       "      <td>-9.379362</td>\n",
       "      <td>-35.660843</td>\n",
       "      <td>12.023367</td>\n",
       "    </tr>\n",
       "    <tr>\n",
       "      <th>2002-09-24</th>\n",
       "      <td>33.747429</td>\n",
       "      <td>-11.499276</td>\n",
       "      <td>-35.439368</td>\n",
       "      <td>11.706177</td>\n",
       "    </tr>\n",
       "    <tr>\n",
       "      <th>2002-09-25</th>\n",
       "      <td>34.228434</td>\n",
       "      <td>-10.590408</td>\n",
       "      <td>-33.972036</td>\n",
       "      <td>11.307590</td>\n",
       "    </tr>\n",
       "    <tr>\n",
       "      <th>2002-09-26</th>\n",
       "      <td>32.659536</td>\n",
       "      <td>-10.391983</td>\n",
       "      <td>-34.198746</td>\n",
       "      <td>11.258338</td>\n",
       "    </tr>\n",
       "  </tbody>\n",
       "</table>\n",
       "<p>1000 rows × 4 columns</p>\n",
       "</div>"
      ],
      "text/plain": [
       "                    A          B          C          D\n",
       "2000-01-01   1.430209   1.968558   0.059136   0.787193\n",
       "2000-01-02  -0.234998   3.073035   0.015335   0.830999\n",
       "2000-01-03  -0.241807   4.134931   0.385721   1.258130\n",
       "2000-01-04   1.464606   4.209923   0.230619   0.429119\n",
       "2000-01-05   0.367327   4.363223   0.672987   0.789575\n",
       "2000-01-06   1.268073   3.918725   1.255792   1.244330\n",
       "2000-01-07   2.387129   4.017914   0.079637   1.546735\n",
       "2000-01-08   1.106200   3.240994   0.373326  -0.349003\n",
       "2000-01-09   1.019777   2.466453  -2.243106  -1.864587\n",
       "2000-01-10  -1.542208   2.772979  -3.688410  -2.248906\n",
       "2000-01-11  -1.777438   3.625848  -5.821678  -1.532559\n",
       "2000-01-12  -2.005296   3.819033  -6.124295  -2.025544\n",
       "2000-01-13  -1.743464   3.844066  -6.554532  -2.354579\n",
       "2000-01-14  -2.958626   5.737469  -6.375542  -1.026260\n",
       "2000-01-15  -3.423093   7.367664  -6.908032  -0.200584\n",
       "2000-01-16  -3.493832   7.712164  -6.564161   0.602924\n",
       "2000-01-17  -3.271499   9.695876  -8.659906   0.428741\n",
       "2000-01-18  -1.715292   8.814352  -8.959866  -0.029788\n",
       "2000-01-19  -0.868376   9.159422  -9.896221  -0.841283\n",
       "2000-01-20  -1.891230   7.932375 -10.239585  -1.543620\n",
       "2000-01-21  -1.701002   8.920038  -9.866394  -2.599421\n",
       "2000-01-22  -0.750499   7.395939 -11.035529  -3.257941\n",
       "2000-01-23  -1.675414   7.002728 -11.297541  -2.168398\n",
       "2000-01-24  -1.413435   7.153812 -11.094758  -2.185382\n",
       "2000-01-25  -1.339756   8.303494  -9.624411  -1.495382\n",
       "2000-01-26  -0.576648   6.473003 -10.640022  -1.202992\n",
       "2000-01-27   0.902681   7.198763 -10.408833  -1.245150\n",
       "2000-01-28   0.048598   7.860930 -10.980234  -2.984969\n",
       "2000-01-29  -1.708985   8.720969 -12.209053  -3.301332\n",
       "2000-01-30  -1.857441   6.245830 -13.756448  -3.807146\n",
       "...               ...        ...        ...        ...\n",
       "2002-08-28  26.909691 -11.222177 -26.474312   6.464128\n",
       "2002-08-29  27.697148 -10.190033 -27.405842   6.040442\n",
       "2002-08-30  29.500508 -10.155576 -28.692270   6.135000\n",
       "2002-08-31  30.097692 -11.258332 -29.125165   4.606502\n",
       "2002-09-01  29.574533 -10.261531 -28.654821   6.243252\n",
       "2002-09-02  31.080110 -10.854543 -28.807624   7.473937\n",
       "2002-09-03  29.840474 -11.775722 -30.060115   7.767895\n",
       "2002-09-04  29.683715 -11.924253 -29.990618   7.284434\n",
       "2002-09-05  28.234791 -11.142662 -31.161872   8.198253\n",
       "2002-09-06  29.122652 -11.661814 -31.626705   7.521381\n",
       "2002-09-07  29.948245 -11.175054 -29.917765   6.843511\n",
       "2002-09-08  28.069265  -9.967188 -29.911047   7.638880\n",
       "2002-09-09  30.315918 -10.281409 -30.336236   6.768980\n",
       "2002-09-10  31.905618 -10.705449 -29.433225   7.229729\n",
       "2002-09-11  31.419635 -10.144939 -30.618762   8.298632\n",
       "2002-09-12  31.240468  -8.048688 -30.702998   7.429965\n",
       "2002-09-13  31.656876  -9.167113 -29.451743   8.451516\n",
       "2002-09-14  31.942690 -10.623661 -27.968422   8.923618\n",
       "2002-09-15  33.033590  -9.735405 -28.920553  10.594682\n",
       "2002-09-16  31.574584 -10.797543 -29.518042  11.729767\n",
       "2002-09-17  32.938860 -11.472245 -31.158313  12.321781\n",
       "2002-09-18  31.182802 -10.646324 -31.809567  12.531064\n",
       "2002-09-19  31.217592 -11.405309 -31.786211  12.500206\n",
       "2002-09-20  31.649611 -10.073848 -32.162808  12.207568\n",
       "2002-09-21  32.900545 -10.566763 -33.089243  10.230841\n",
       "2002-09-22  32.519120 -10.094086 -34.993753  11.007298\n",
       "2002-09-23  33.037155  -9.379362 -35.660843  12.023367\n",
       "2002-09-24  33.747429 -11.499276 -35.439368  11.706177\n",
       "2002-09-25  34.228434 -10.590408 -33.972036  11.307590\n",
       "2002-09-26  32.659536 -10.391983 -34.198746  11.258338\n",
       "\n",
       "[1000 rows x 4 columns]"
      ]
     },
     "execution_count": 163,
     "metadata": {},
     "output_type": "execute_result"
    }
   ],
   "source": [
    "pd.read_excel('temp_file_foo.xlsx', sheetname='Sheet1', index_col=None, na_values=['NA'])"
   ]
  },
  {
   "cell_type": "code",
   "execution_count": null,
   "metadata": {
    "collapsed": true
   },
   "outputs": [],
   "source": []
  }
 ],
 "metadata": {
  "kernelspec": {
   "display_name": "Python 2",
   "language": "python",
   "name": "python2"
  },
  "language_info": {
   "codemirror_mode": {
    "name": "ipython",
    "version": 2
   },
   "file_extension": ".py",
   "mimetype": "text/x-python",
   "name": "python",
   "nbconvert_exporter": "python",
   "pygments_lexer": "ipython2",
   "version": "2.7.13"
  }
 },
 "nbformat": 4,
 "nbformat_minor": 2
}
